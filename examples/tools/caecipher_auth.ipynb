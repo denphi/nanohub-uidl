{
 "cells": [
  {
   "cell_type": "code",
   "execution_count": null,
   "metadata": {
    "ExecuteTime": {
     "end_time": "2022-03-25T21:32:28.873649Z",
     "start_time": "2022-03-25T21:32:27.021003Z"
    }
   },
   "outputs": [],
   "source": [
    "import sys\n",
    "import nanohubremote as nr\n",
    "import nanohubuidl\n",
    "import warnings\n",
    "warnings.filterwarnings(\"ignore\")\n",
    "import os\n",
    "auth_data = {\n",
    "    'grant_type' : 'tool',\n",
    "}\n",
    "with open(os.environ[\"SESSIONDIR\"]+\"/resources\") as file:\n",
    "    lines = [line.split(\" \", 1) for line in file.readlines()]\n",
    "    properties = {line[0].strip(): line[1].strip() for line in lines if len(line)==2}\n",
    "    auth_data[\"sessiontoken\"] = properties[\"session_token\"]\n",
    "    auth_data[\"sessionnum\"] = properties[\"sessionid\"] "
   ]
  },
  {
   "cell_type": "code",
   "execution_count": null,
   "metadata": {
    "ExecuteTime": {
     "end_time": "2022-03-25T21:32:29.049370Z",
     "start_time": "2022-03-25T21:32:28.876140Z"
    }
   },
   "outputs": [],
   "source": [
    "tool = nr.Sim2l(auth_data)"
   ]
  },
  {
   "cell_type": "code",
   "execution_count": null,
   "metadata": {
    "ExecuteTime": {
     "end_time": "2022-03-25T21:32:29.928835Z",
     "start_time": "2022-03-25T21:32:29.051628Z"
    },
    "scrolled": false
   },
   "outputs": [],
   "source": [
    "SIMTOOLNAME = \"caecipher\"\n",
    "schema = tool.getSchema(SIMTOOLNAME)\n",
    "params = tool.getToolParameters(SIMTOOLNAME)"
   ]
  },
  {
   "cell_type": "markdown",
   "metadata": {},
   "source": [
    "## Importing libraries"
   ]
  },
  {
   "cell_type": "code",
   "execution_count": null,
   "metadata": {
    "ExecuteTime": {
     "end_time": "2022-03-25T21:32:29.937841Z",
     "start_time": "2022-03-25T21:32:29.931544Z"
    }
   },
   "outputs": [],
   "source": [
    "import sys\n",
    "import json\n",
    "import nanohubuidl.teleport as t\n",
    "from nanohubuidl.simtool import SimtoolBuilder\n",
    "from nanohubuidl.material import MaterialBuilder\n",
    "from nanohubuidl.material import MaterialContent, MaterialLabContent\n",
    "from nanohubuidl.plotly import PlotlyBuilder\n",
    "from nanohubuidl.app import AppBuilder\n",
    "\n",
    "from nanohubuidl.nanohub import Auth\n",
    "TOOLNAME = schema[\"name\"]# \"st4pnjunction\"\n",
    "REVISION = schema[\"revision\"]# 6\n",
    "STATE_LOADER_STATUS = \"loader_status\"\n",
    "STATE_LOADER_OPEN = \"loader_open\"\n",
    "STATE_LOGIN_OPEN = \"login_open\"\n",
    "STATE_ERROR_STATUS = \"error_status\"\n",
    "STATE_ERROR_OPEN = \"error_open\"\n",
    "STATE_ALERT_STATUS = \"alert_status\"\n",
    "STATE_ALERT_OPEN = \"alert_open\""
   ]
  },
  {
   "cell_type": "markdown",
   "metadata": {},
   "source": [
    "## Creating the project and adding GUI variables "
   ]
  },
  {
   "cell_type": "code",
   "execution_count": null,
   "metadata": {
    "ExecuteTime": {
     "end_time": "2022-03-25T21:32:29.944975Z",
     "start_time": "2022-03-25T21:32:29.939332Z"
    }
   },
   "outputs": [],
   "source": [
    "Project = t.TeleportProject(\"PNToy Lab\")\n",
    "Component = Project.root\n"
   ]
  },
  {
   "cell_type": "code",
   "execution_count": null,
   "metadata": {
    "ExecuteTime": {
     "end_time": "2022-03-25T21:32:29.960475Z",
     "start_time": "2022-03-25T21:32:29.946642Z"
    }
   },
   "outputs": [],
   "source": [
    "Project.libraries['react'] = 'https://nanohub.org/js_apps/react.production.min'\n",
    "Project.libraries['react-dom'] = 'https://nanohub.org/js_apps/react-dom.production.min'\n",
    "Project.libraries['material-ui'] = 'https://nanohub.org/js_apps/material-ui.production.min'\n",
    "Project.libraries['materiallab-ui'] = 'https://nanohub.org/js_apps/material-ui-lab.production.min'\n",
    "Project.libraries['math'] = 'https://cdnjs.cloudflare.com/ajax/libs/mathjs/6.6.1/math.min'\n",
    "Project.libraries['axios'] = 'https://nanohub.org/js_apps/axios.min'\n",
    "Project.libraries['localforage'] = 'https://nanohub.org/js_apps/localforage.min'\n",
    "Project.libraries['prop-types'] = 'https://nanohub.org/js_apps/prop-types.min'"
   ]
  },
  {
   "cell_type": "markdown",
   "metadata": {},
   "source": [
    "## Creating Error"
   ]
  },
  {
   "cell_type": "code",
   "execution_count": null,
   "metadata": {
    "ExecuteTime": {
     "end_time": "2022-03-25T21:32:29.967932Z",
     "start_time": "2022-03-25T21:32:29.962323Z"
    }
   },
   "outputs": [],
   "source": [
    "ErrorMessage = SimtoolBuilder.Error( \n",
    "    Component, \n",
    "    error_status = STATE_ERROR_STATUS,\n",
    "    error_open = STATE_ERROR_OPEN,\n",
    "    is_open = False\n",
    ")"
   ]
  },
  {
   "cell_type": "markdown",
   "metadata": {
    "ExecuteTime": {
     "end_time": "2022-03-25T19:06:17.231289Z",
     "start_time": "2022-03-25T19:06:17.228981Z"
    }
   },
   "source": [
    "## Creating ALERT Mesage"
   ]
  },
  {
   "cell_type": "code",
   "execution_count": null,
   "metadata": {
    "ExecuteTime": {
     "end_time": "2022-03-25T21:32:29.975030Z",
     "start_time": "2022-03-25T21:32:29.970910Z"
    },
    "code_folding": []
   },
   "outputs": [],
   "source": [
    "AlertMessage = SimtoolBuilder.Error( \n",
    "    Component, \n",
    "    error_status = STATE_ALERT_STATUS,\n",
    "    error_open = STATE_ALERT_OPEN,\n",
    "    is_open = False,\n",
    "    title = \"Message\"\n",
    ")\n",
    "AlertMessage.content.children[0].content.style['backgroundColor'] = '#FFF380'"
   ]
  },
  {
   "cell_type": "markdown",
   "metadata": {},
   "source": [
    "## Creating loader"
   ]
  },
  {
   "cell_type": "code",
   "execution_count": null,
   "metadata": {
    "ExecuteTime": {
     "end_time": "2022-03-25T21:32:29.981144Z",
     "start_time": "2022-03-25T21:32:29.977950Z"
    }
   },
   "outputs": [],
   "source": [
    "Loader = SimtoolBuilder.Loader( \n",
    "    Component, \n",
    "    loader_status = STATE_LOADER_STATUS,\n",
    "    loader_open = STATE_LOADER_OPEN,\n",
    "    is_open = False\n",
    ")"
   ]
  },
  {
   "cell_type": "markdown",
   "metadata": {},
   "source": [
    "## Schema"
   ]
  },
  {
   "cell_type": "code",
   "execution_count": null,
   "metadata": {
    "ExecuteTime": {
     "end_time": "2022-03-25T21:32:29.989406Z",
     "start_time": "2022-03-25T21:32:29.982794Z"
    }
   },
   "outputs": [],
   "source": [
    "SimtoolBuilder.buildSchema(\n",
    "    Project,\n",
    "    Component,\n",
    "    url = \"https://nanohub.org/api/dbexplorer/simtools\",\n",
    "    toolname = TOOLNAME,\n",
    "    revision = REVISION\n",
    ")\n",
    "Component.addPropVariable(\n",
    "    \"onLoadSchema\", \n",
    "    {\n",
    "        \"type\" : \"func\", \n",
    "        'defaultValue' : \n",
    "        '(e)=>{e.setState({\"'+ STATE_LOADER_OPEN +'\":false})}'\n",
    "    }\n",
    ")    "
   ]
  },
  {
   "cell_type": "markdown",
   "metadata": {},
   "source": [
    "## Authentication"
   ]
  },
  {
   "cell_type": "code",
   "execution_count": null,
   "metadata": {
    "ExecuteTime": {
     "end_time": "2022-03-25T21:32:29.997827Z",
     "start_time": "2022-03-25T21:32:29.991298Z"
    }
   },
   "outputs": [],
   "source": [
    "from secrets import IDCLIENT, SECRET\n",
    "auth_data['client_id'] = IDCLIENT\n",
    "auth_data['client_secret'] = SECRET\n",
    "# to get client_id and client_secret, create a web application (https://nanohub.org/developer/api/applications/new), use \"https://127.0.0.1\" as Redirect URL   \n",
    "\n",
    "Login, CLogin = Auth.Login(\n",
    "    Project,\n",
    "    Component,\n",
    "    client_id = auth_data['client_id'],\n",
    "    client_secret = auth_data['client_secret'],\n",
    "    url = \"https://nanohub.org/api/developer/oauth/token\",   \n",
    "    open_state = STATE_LOGIN_OPEN\n",
    ") \n",
    "Login.content.events[\"onAuth\"] = [\n",
    "    { \"type\": \"stateChange\", \"modifies\": STATE_LOGIN_OPEN, \"newState\": False},\n",
    "    { \"type\": \"propCall2\", \"calls\": \"buildSchema\", \"args\": ['self'] }\n",
    "]"
   ]
  },
  {
   "cell_type": "code",
   "execution_count": null,
   "metadata": {},
   "outputs": [],
   "source": []
  },
  {
   "cell_type": "code",
   "execution_count": null,
   "metadata": {
    "ExecuteTime": {
     "end_time": "2022-03-25T21:32:30.007357Z",
     "start_time": "2022-03-25T21:32:29.999725Z"
    },
    "scrolled": false
   },
   "outputs": [],
   "source": [
    "SETTINGS = {\n",
    "    'values': {\n",
    "        'type': 'String',\n",
    "        'default_value': 'Animal Jumps Merrily',\n",
    "        'label': 'text',\n",
    "        'description': 'lowercase string that is going to be encoded'\n",
    "    }, 'shift_input': {\n",
    "        'type': 'Integer',\n",
    "        'default_value': 24,\n",
    "        'units': None,\n",
    "        'min': 1,\n",
    "        'max': 50,\n",
    "        'label': 'Shifting',\n",
    "        'description': 'integer that determines the shift amount for encoding'\n",
    "    }, 'cores' : {\n",
    "        \"type\": \"Integer\",\n",
    "        \"default_value\": 1,\n",
    "        \"min\" : 1, \n",
    "        \"max\" : 1,  \n",
    "        \"units\" : \"\", \n",
    "        \"description\" : \"Number of cores in in the venue\",\n",
    "        \"label\" : \"Number of cores\",\n",
    "    }, \"cutoff\" : {\n",
    "        \"type\": \"Integer\",\n",
    "        \"default_value\": 0,\n",
    "        \"units\" : \"mins\", \n",
    "        \"min\" : 0, \n",
    "        \"max\" : 0,     \n",
    "        \"description\" : \"Time cutoff\",\n",
    "        \"label\" : \"Time cutoff\",\n",
    "    }, \"venue\" : {\n",
    "        \"type\": \"String\",\n",
    "        \"default_value\": \"\",\n",
    "        \"description\" : \"Venue identifier\",\n",
    "        \"label\" : \"Venue identifier\",\n",
    "    }\n",
    "}\n"
   ]
  },
  {
   "cell_type": "markdown",
   "metadata": {},
   "source": [
    "## Defining Layout"
   ]
  },
  {
   "cell_type": "code",
   "execution_count": null,
   "metadata": {
    "ExecuteTime": {
     "end_time": "2022-03-25T21:32:30.015835Z",
     "start_time": "2022-03-25T21:32:30.008930Z"
    },
    "code_folding": []
   },
   "outputs": [],
   "source": [
    "LAYOUT = {\n",
    "    'input': {\n",
    "        'type': 'group',\n",
    "        'id': '',\n",
    "        'label': 'Inputs',\n",
    "        'enable': None,\n",
    "        'layout': 'vertical',\n",
    "        'children': [\n",
    "            {\n",
    "                'type': 'text',\n",
    "                'id': 'values',\n",
    "                'enable': None\n",
    "            },{\n",
    "                'type': 'number',\n",
    "                'id': 'shift_input',\n",
    "                'enable': None\n",
    "            }\n",
    "        ]\n",
    "   }          \n",
    "}\n"
   ]
  },
  {
   "cell_type": "markdown",
   "metadata": {},
   "source": [
    "## Creating the settings panel"
   ]
  },
  {
   "cell_type": "code",
   "execution_count": null,
   "metadata": {
    "ExecuteTime": {
     "end_time": "2022-03-25T21:32:30.036574Z",
     "start_time": "2022-03-25T21:32:30.017546Z"
    }
   },
   "outputs": [],
   "source": [
    "url_sim = \"https://nanohub.org/api/dbexplorer/simtools\"\n",
    "PNTOYSettings = AppBuilder.Settings(\n",
    "    Project,\n",
    "    Component, \n",
    "    SETTINGS,\n",
    "    url=url_sim,\n",
    "    toolname = TOOLNAME,\n",
    "    revision = REVISION,\n",
    "    layout = LAYOUT['input'],\n",
    "    outputs = ['Cipher', 'Repeated Chars', 'Repeated Chars Count'],\n",
    "    runSimulation = \"simtool\"\n",
    ")\n",
    "PNTOYSettings.content.events[\"onError\"]=[\n",
    "    { \"type\": \"stateChange\", \"modifies\": STATE_LOADER_OPEN,\"newState\": False},\n",
    "    { \"type\": \"stateChange\", \"modifies\": STATE_ERROR_OPEN, \"newState\": True},\n",
    "    { \"type\": \"stateChange\", \"modifies\": STATE_ERROR_STATUS, \"newState\": '$e'}\n",
    "]\n",
    "PNTOYSettings.content.events[\"click\"]=[\n",
    "    { \"type\": \"stateChange\", \"modifies\": STATE_LOADER_OPEN,\"newState\": True}\n",
    "]\n",
    "\n",
    "PNTOYSettings.content.events[\"submit\"] = [\n",
    "    { \"type\": \"stateChange\", \"modifies\": \"parameters\",\"newState\": '$e.target.value'}\n",
    "]\n",
    "\n",
    "PNTOYSettings.content.events[\"onStatusChange\"]=[\n",
    "    { \"type\": \"stateChange\", \"modifies\": STATE_LOADER_STATUS,\"newState\": \"$e.target.value\"}\n",
    "]\n",
    "\n",
    "\n",
    "eol = \"\\n\"\n",
    "js = \"\"\n",
    "js += \" (self, hashkey) => {\" + eol\n",
    "js += \"  CacheStore.getItem(hashkey).then((value)=>{\" + eol\n",
    "js += \"    var jsonOutput = JSON.parse(value);\" + eol\n",
    "js += \"    var message = 'Cypher phrase : ' + jsonOutput['Cipher'] + '\\\\n'\" + eol\n",
    "js += \"    message += 'Repeated Chars : ' + jsonOutput['Repeated Chars'] + '\\\\n'\" + eol\n",
    "js += \"    self.setState({'alert_status':message});\" + eol\n",
    "js += \"  });\" + eol\n",
    "js += \"}\" + eol\n",
    "Component.addPropVariable(\"loadBaseOutput\", {\"type\":\"func\", \"defaultValue\": js})\n",
    "\n",
    "\n",
    "PNTOYSettings.content.events[\"onSuccess\"]=[\n",
    "    { \"type\": \"stateChange\", \"modifies\": STATE_LOADER_OPEN,\"newState\": False },  \n",
    "    { \"type\": \"stateChange\", \"modifies\": STATE_ERROR_OPEN, \"newState\": False},\n",
    "    { \"type\": \"stateChange\", \"modifies\": STATE_ERROR_STATUS, \"newState\": ''},\n",
    "    { \n",
    "        \"type\": \"stateChange\", \n",
    "        \"modifies\": STATE_ALERT_OPEN, \n",
    "        \"newState\": True,\n",
    "        \"callbacks\" : [\n",
    "          {\n",
    "            \"type\": \"propCall2\",\n",
    "            \"calls\": \"loadBaseOutput\",\n",
    "            \"args\": ['self', 'arguments[1]']\n",
    "          }\n",
    "        ] \n",
    "    }\n",
    "]\n",
    "\n"
   ]
  },
  {
   "cell_type": "markdown",
   "metadata": {},
   "source": [
    "## Creating Colorschema and adding nanoHUB logo"
   ]
  },
  {
   "cell_type": "code",
   "execution_count": null,
   "metadata": {
    "ExecuteTime": {
     "end_time": "2022-03-25T21:32:30.045483Z",
     "start_time": "2022-03-25T21:32:30.038355Z"
    }
   },
   "outputs": [],
   "source": [
    "ThemeProvider = MaterialBuilder.ThemeProvider( Component, MaterialBuilder.DefaultTheme(\n",
    "    primary_color = '#699FBB',\n",
    "    secondary_color = '#f1f1f1',\n",
    "    primary_bg = '#FFFFFF',\n",
    "    secondary_bg = '#dbeaf0',\n",
    "    default_button = 'rgba(255, 255, 255, 0.87)',\n",
    "    primary_button = 'rgba(255, 255, 255, 0.87)',\n",
    "    secondary_button = 'rgba(0, 0, 0, 0.87)',\n",
    "    default_button_bg = 'rgb(63, 162, 192)',\n",
    "    primary_button_bg = 'rgba(0, 0, 0, 0.65)',\n",
    "    secondary_button_bg = 'rgba(0, 0, 0, 0.12)',\n",
    "))\n",
    "AppBar = MaterialBuilder.AppBar(\n",
    "    title=\"Caesar Cipher Tool\"\n",
    ")\n",
    "logo = t.TeleportElement(t.TeleportContent(elementType=\"img\"))\n",
    "logo.content.attrs[\"width\"] = \"120\"\n",
    "logo.content.attrs[\"src\"] = \"https://nanohub.org/app/site/media/images/PressKit/nanoHUB_logo_color.jpg\"\n",
    "AppBar.content.children[0].addContent(logo)\n"
   ]
  },
  {
   "cell_type": "markdown",
   "metadata": {},
   "source": [
    "## Assembling the app"
   ]
  },
  {
   "cell_type": "code",
   "execution_count": null,
   "metadata": {
    "ExecuteTime": {
     "end_time": "2022-03-25T21:32:30.061589Z",
     "start_time": "2022-03-25T21:32:30.047165Z"
    },
    "scrolled": false
   },
   "outputs": [],
   "source": [
    "Gridv = t.TeleportElement(MaterialContent(elementType=\"Grid\"))\n",
    "Gridv.content.attrs[\"container\"] = True\n",
    "Gridv.content.attrs[\"direction\"] = \"column\"\n",
    "Gridv.addContent(AppBar)\n",
    "Gridv.addContent(PNTOYSettings)\n",
    "\n",
    "ThemeProvider.addContent(Gridv)\n",
    "ThemeProvider.addContent(Loader)\n",
    "ThemeProvider.addContent(ErrorMessage)\n",
    "ThemeProvider.addContent(AlertMessage)\n",
    "ThemeProvider.addContent(Login)\n",
    "\n",
    "Component.addNode(ThemeProvider)\n",
    "Project.buildReact( TOOLNAME+\"PROD\"+\".html\");"
   ]
  },
  {
   "cell_type": "markdown",
   "metadata": {},
   "source": [
    "## Displaying the app in jupyter"
   ]
  },
  {
   "cell_type": "code",
   "execution_count": null,
   "metadata": {
    "ExecuteTime": {
     "end_time": "2022-03-25T21:32:30.075434Z",
     "start_time": "2022-03-25T21:32:30.063258Z"
    },
    "scrolled": false
   },
   "outputs": [],
   "source": [
    "from IPython.core.display import display\n",
    "from IPython.display import IFrame\n",
    "display(IFrame(src=TOOLNAME+\"PROD\"+\".html\", width=\"100%\", height=\"400\"))"
   ]
  },
  {
   "cell_type": "code",
   "execution_count": null,
   "metadata": {
    "ExecuteTime": {
     "end_time": "2022-03-25T22:16:09.608752Z",
     "start_time": "2022-03-25T22:16:09.504589Z"
    }
   },
   "outputs": [],
   "source": []
  },
  {
   "cell_type": "code",
   "execution_count": null,
   "metadata": {
    "ExecuteTime": {
     "end_time": "2022-03-25T22:17:13.146555Z",
     "start_time": "2022-03-25T22:17:12.258658Z"
    }
   },
   "outputs": [],
   "source": []
  },
  {
   "cell_type": "code",
   "execution_count": null,
   "metadata": {},
   "outputs": [],
   "source": []
  }
 ],
 "metadata": {
  "kernelspec": {
   "display_name": "Python 3",
   "language": "python",
   "name": "python3"
  },
  "language_info": {
   "codemirror_mode": {
    "name": "ipython",
    "version": 3
   },
   "file_extension": ".py",
   "mimetype": "text/x-python",
   "name": "python",
   "nbconvert_exporter": "python",
   "pygments_lexer": "ipython3",
   "version": "3.7.7"
  },
  "toc": {
   "base_numbering": 1,
   "nav_menu": {},
   "number_sections": true,
   "sideBar": true,
   "skip_h1_title": false,
   "title_cell": "Table of Contents",
   "title_sidebar": "Contents",
   "toc_cell": false,
   "toc_position": {},
   "toc_section_display": true,
   "toc_window_display": false
  },
  "varInspector": {
   "cols": {
    "lenName": 16,
    "lenType": 16,
    "lenVar": 40
   },
   "kernels_config": {
    "python": {
     "delete_cmd_postfix": "",
     "delete_cmd_prefix": "del ",
     "library": "var_list.py",
     "varRefreshCmd": "print(var_dic_list())"
    },
    "r": {
     "delete_cmd_postfix": ") ",
     "delete_cmd_prefix": "rm(",
     "library": "var_list.r",
     "varRefreshCmd": "cat(var_dic_list()) "
    }
   },
   "types_to_exclude": [
    "module",
    "function",
    "builtin_function_or_method",
    "instance",
    "_Feature"
   ],
   "window_display": false
  }
 },
 "nbformat": 4,
 "nbformat_minor": 2
}
