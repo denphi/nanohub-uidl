{
 "cells": [
  {
   "cell_type": "code",
   "execution_count": null,
   "metadata": {
    "ExecuteTime": {
     "end_time": "2022-04-12T16:08:41.509640Z",
     "start_time": "2022-04-12T16:08:41.485791Z"
    }
   },
   "outputs": [],
   "source": []
  },
  {
   "cell_type": "code",
   "execution_count": null,
   "metadata": {
    "ExecuteTime": {
     "end_time": "2022-04-13T14:10:35.098403Z",
     "start_time": "2022-04-13T14:10:33.522993Z"
    }
   },
   "outputs": [],
   "source": [
    "import sys\n",
    "import nanohubremote as nr\n",
    "import nanohubuidl\n",
    "import warnings\n",
    "warnings.filterwarnings(\"ignore\")\n",
    "import os\n",
    "auth_data = {\n",
    "    'grant_type' : 'tool',\n",
    "}\n",
    "with open(os.environ[\"SESSIONDIR\"]+\"/resources\") as file:\n",
    "    lines = [line.split(\" \", 1) for line in file.readlines()]\n",
    "    properties = {line[0].strip(): line[1].strip() for line in lines if len(line)==2}\n",
    "    auth_data[\"sessiontoken\"] = properties[\"session_token\"]\n",
    "    auth_data[\"sessionnum\"] = properties[\"sessionid\"] "
   ]
  },
  {
   "cell_type": "code",
   "execution_count": null,
   "metadata": {
    "ExecuteTime": {
     "end_time": "2022-04-13T14:10:35.242662Z",
     "start_time": "2022-04-13T14:10:35.101069Z"
    }
   },
   "outputs": [],
   "source": [
    "tool = nr.Sim2l(auth_data)"
   ]
  },
  {
   "cell_type": "code",
   "execution_count": null,
   "metadata": {
    "ExecuteTime": {
     "end_time": "2022-04-13T14:10:36.073915Z",
     "start_time": "2022-04-13T14:10:35.245023Z"
    },
    "scrolled": false
   },
   "outputs": [],
   "source": [
    "SIMTOOLNAME = \"st4pnjunction\"\n",
    "schema = tool.getSchema(SIMTOOLNAME)\n",
    "params = tool.getToolParameters(SIMTOOLNAME)\n",
    "#schema"
   ]
  },
  {
   "cell_type": "markdown",
   "metadata": {},
   "source": [
    "## Importing libraries"
   ]
  },
  {
   "cell_type": "code",
   "execution_count": null,
   "metadata": {
    "ExecuteTime": {
     "end_time": "2022-04-13T14:10:36.083023Z",
     "start_time": "2022-04-13T14:10:36.077039Z"
    }
   },
   "outputs": [],
   "source": [
    "import sys\n",
    "import json\n",
    "import nanohub.uidl.teleport as t\n",
    "from nanohub.uidl.simtool import SimtoolBuilder\n",
    "from nanohub.uidl.material import MaterialBuilder\n",
    "from nanohub.uidl.material import MaterialContent, MaterialLabContent\n",
    "from nanohub.uidl.plotly import PlotlyBuilder\n",
    "from nanohub.uidl.app import AppBuilder\n",
    "\n",
    "from nanohub.uidl.nanohub import Auth\n",
    "TOOLNAME = schema[\"name\"]# \"st4pnjunction\"\n",
    "REVISION = 12 #schema[\"revision\"]\n",
    "STATE_LOADER_STATUS = \"loader_status\"\n",
    "STATE_LOADER_OPEN = \"loader_open\"\n",
    "STATE_LOGIN_OPEN = \"login_open\"\n",
    "STATE_ERROR_STATUS = \"error_status\"\n",
    "STATE_ERROR_OPEN = \"error_open\""
   ]
  },
  {
   "cell_type": "markdown",
   "metadata": {},
   "source": [
    "## Creating the project and adding GUI variables "
   ]
  },
  {
   "cell_type": "code",
   "execution_count": null,
   "metadata": {
    "ExecuteTime": {
     "end_time": "2022-04-13T14:10:36.092658Z",
     "start_time": "2022-04-13T14:10:36.086337Z"
    }
   },
   "outputs": [],
   "source": [
    "Project = t.TeleportProject(\"PNToyLab\")\n",
    "Component = Project.root\n",
    "Component.addStateVariable(\"DrawerIsVisible\", {\"type\":\"boolean\", \"defaultValue\": True})\n",
    "Component.addStateVariable(\"AppBarStyle\", {\"type\":\"string\", \"defaultValue\": \"bar_shifted\"})\n",
    "Component.addStateVariable(\"open_results\", {\"type\":\"boolean\", \"defaultValue\": False})\n",
    "Component.addStateVariable(\"open_params\", {\"type\":\"boolean\", \"defaultValue\": True})\n",
    "Component.addStateVariable(\"plotly_shift\", {\"type\":\"object\", \"defaultValue\": {\n",
    "  \"height\": \"calc(-80px + 100vh)\",\n",
    "  \"width\": \"calc(-350px + 100vw)\",\n",
    "  \"right\": \"0px\",\n",
    "  \"position\":\"absolute\"\n",
    "}})\n"
   ]
  },
  {
   "cell_type": "code",
   "execution_count": null,
   "metadata": {
    "ExecuteTime": {
     "end_time": "2022-04-13T14:10:36.103592Z",
     "start_time": "2022-04-13T14:10:36.094638Z"
    }
   },
   "outputs": [],
   "source": [
    "Project.libraries['react'] = 'https://nanohub.org/js_apps/react.production.min'\n",
    "Project.libraries['react-dom'] = 'https://nanohub.org/js_apps/react-dom.production.min'\n",
    "Project.libraries['material-ui'] = 'https://nanohub.org/js_apps/material-ui.production.min'\n",
    "Project.libraries['materiallab-ui'] = 'https://nanohub.org/js_apps/material-ui-lab.production.min'\n",
    "Project.libraries['plotlycomponent'] = 'https://nanohub.org/js_apps/create-plotly-component'\n",
    "Project.libraries['plotly'] = 'https://nanohub.org/js_apps/plotly-latest.min'\n",
    "Project.libraries['math'] = 'https://cdnjs.cloudflare.com/ajax/libs/mathjs/6.6.1/math.min'\n",
    "Project.libraries['axios'] = 'https://nanohub.org/js_apps/axios.min'\n",
    "Project.libraries['localforage'] = 'https://nanohub.org/js_apps/localforage.min'\n",
    "#Project.libraries['number-format'] = 'https://nanohub.org/js_apps/react-number-format'\n",
    "Project.libraries['prop-types'] = 'https://nanohub.org/js_apps/prop-types.min'"
   ]
  },
  {
   "cell_type": "markdown",
   "metadata": {},
   "source": [
    "## Creating Error"
   ]
  },
  {
   "cell_type": "code",
   "execution_count": null,
   "metadata": {
    "ExecuteTime": {
     "end_time": "2022-04-13T14:10:36.109986Z",
     "start_time": "2022-04-13T14:10:36.105754Z"
    }
   },
   "outputs": [],
   "source": [
    "ErrorMessage = SimtoolBuilder.Error( \n",
    "    Component, \n",
    "    error_status = STATE_ERROR_STATUS,\n",
    "    error_open = STATE_ERROR_OPEN,\n",
    "    is_open = False\n",
    ")"
   ]
  },
  {
   "cell_type": "markdown",
   "metadata": {},
   "source": [
    "## Creating loader"
   ]
  },
  {
   "cell_type": "code",
   "execution_count": null,
   "metadata": {
    "ExecuteTime": {
     "end_time": "2022-04-13T14:10:36.118013Z",
     "start_time": "2022-04-13T14:10:36.112108Z"
    }
   },
   "outputs": [],
   "source": [
    "Loader = SimtoolBuilder.Loader( \n",
    "    Component, \n",
    "    loader_status = STATE_LOADER_STATUS,\n",
    "    loader_open = STATE_LOADER_OPEN,\n",
    "    is_open = False\n",
    ")"
   ]
  },
  {
   "cell_type": "markdown",
   "metadata": {},
   "source": [
    "## Schema"
   ]
  },
  {
   "cell_type": "code",
   "execution_count": null,
   "metadata": {
    "ExecuteTime": {
     "end_time": "2022-04-13T14:10:36.124276Z",
     "start_time": "2022-04-13T14:10:36.120181Z"
    }
   },
   "outputs": [],
   "source": [
    "#SimtoolBuilder.buildSchema(\n",
    "#    Project,\n",
    "#    Component,\n",
    "#    url = \"https://nanohub.org/api/dbexplorer/simtools\",\n",
    "#    toolname = TOOLNAME,\n",
    "#    revision = REVISION\n",
    "#)\n",
    "#Component.addPropVariable(\n",
    "#    \"onLoadSchema\", \n",
    "#    {\n",
    "#        \"type\" : \"func\", \n",
    "#        'defaultValue' : \n",
    "#        '(e)=>{e.setState({\"'+ STATE_LOADER_OPEN +'\":false})}'\n",
    "#    }\n",
    "#)    "
   ]
  },
  {
   "cell_type": "markdown",
   "metadata": {},
   "source": [
    "## Authentication"
   ]
  },
  {
   "cell_type": "code",
   "execution_count": null,
   "metadata": {
    "ExecuteTime": {
     "end_time": "2022-04-13T14:10:36.135997Z",
     "start_time": "2022-04-13T14:10:36.126336Z"
    }
   },
   "outputs": [],
   "source": [
    "from secrets import IDCLIENT, SECRET\n",
    "auth_data['client_id'] = IDCLIENT\n",
    "auth_data['client_secret'] = SECRET\n",
    "# to get client_id and client_secret, create a web application (https://nanohub.org/developer/api/applications/new), use \"https://127.0.0.1\" as Redirect URL   \n",
    "Login, CLogin = Auth.Login(\n",
    "    Project,\n",
    "    Component,\n",
    "    client_id = auth_data['client_id'],\n",
    "    client_secret = auth_data['client_secret'],\n",
    "    url = \"https://nanohub.org/api/developer/oauth/token\",   \n",
    "    open_state = STATE_LOGIN_OPEN\n",
    ")\n",
    "onRefreshViews = SimtoolBuilder.refreshViews(\n",
    "   Project, \n",
    "   Component \n",
    ")   \n",
    "Login.content.events[\"onAuth\"] = [\n",
    "    { \"type\": \"stateChange\", \"modifies\": STATE_LOGIN_OPEN, \"newState\": False},\n",
    "    #{ \"type\": \"propCall2\", \"calls\": \"buildSchema\", \"args\": ['self'] },\n",
    "    onRefreshViews[0],\n",
    "]"
   ]
  },
  {
   "cell_type": "code",
   "execution_count": null,
   "metadata": {
    "ExecuteTime": {
     "end_time": "2022-04-13T14:10:36.143593Z",
     "start_time": "2022-04-13T14:10:36.138192Z"
    }
   },
   "outputs": [],
   "source": [
    "Drawer = MaterialBuilder.Drawer(Project, state=\"DrawerIsVisible\", variant=\"persistent\" )\n",
    "Drawer = t.TeleportElement(MaterialContent(elementType=\"Drawer\"))\n",
    "Drawer.content.attrs[\"variant\"] = \"persistent\"\n",
    "Drawer.content.attrs[\"anchor\"] = \"left\"\n",
    "Drawer.content.attrs[\"open\"] = {\n",
    "    \"type\": \"dynamic\",\n",
    "    \"content\": {\n",
    "      \"referenceType\": \"state\",\n",
    "      \"id\": \"DrawerIsVisible\"\n",
    "    }    \n",
    "}\n"
   ]
  },
  {
   "cell_type": "code",
   "execution_count": null,
   "metadata": {},
   "outputs": [],
   "source": []
  },
  {
   "cell_type": "code",
   "execution_count": null,
   "metadata": {
    "ExecuteTime": {
     "end_time": "2022-04-13T14:10:36.973814Z",
     "start_time": "2022-04-13T14:10:36.145815Z"
    },
    "scrolled": false
   },
   "outputs": [],
   "source": [
    "import nanohub.remote as nr\n",
    "tool = nr.Sim2l(auth_data, url=\"https://nanohub.org/api/\")\n",
    "params = tool.getToolParameters(TOOLNAME)\n",
    "SETTINGS = {}\n",
    "for option, value in params.items():\n",
    "    if isinstance(value,nr.params.Number):\n",
    "        SETTINGS[option] = {\n",
    "            \"type\": \"Number\",\n",
    "            \"default_value\": value.default, \n",
    "            \"units\" : value.units, \n",
    "            \"min\" : value.min, \n",
    "            \"max\" : value.max, \n",
    "            \"label\" : value.label,\n",
    "            \"description\" : value.description,\n",
    "        }   \n",
    "    elif isinstance(value,nr.params.Integer):\n",
    "        SETTINGS[option] = {\n",
    "            \"type\": \"Integer\",\n",
    "            \"default_value\": value.default, \n",
    "            \"units\" : value.units, \n",
    "            \"min\" : value.min, \n",
    "            \"max\" : value.max, \n",
    "            \"label\" : value.label,\n",
    "            \"description\" : value.description,\n",
    "        }   \n",
    "    elif isinstance(value,nr.params.String):\n",
    "        SETTINGS[option] = {\n",
    "            \"type\": \"String\",\n",
    "            \"default_value\": value.default, \n",
    "            \"label\" : value.label,\n",
    "            \"description\" : value.description,\n",
    "        }   \n",
    "    elif isinstance(value,nr.params.Choice):\n",
    "        SETTINGS[option] = {\n",
    "            \"type\": \"Select\",\n",
    "            \"default_value\": value.default, \n",
    "            \"options\": {k : k for k in value.options}, \n",
    "            \"units\" : value.units, \n",
    "            \"label\" : value.label,\n",
    "            \"description\" : value.description,\n",
    "        }\n",
    "    elif isinstance(value,nr.params.Boolean):\n",
    "        SETTINGS[option] = {\n",
    "            \"type\": \"Boolean\",\n",
    "            \"default_value\": (value.default == \"yes\"),\n",
    "            \"description\" : value.description,\n",
    "            \"label\" : value.label,\n",
    "        }\n",
    "        \n",
    "SETTINGS[\"cores\"]  = {\n",
    "    \"type\": \"Integer\",\n",
    "    \"default_value\": 1,\n",
    "    \"units\" : \"\", \n",
    "    \"min\" : 1, \n",
    "    \"max\" : 8,     \n",
    "    \"description\" : \"Number of cores in in the venue\",\n",
    "    \"label\" : \"Number of cores\",\n",
    "}\n",
    "SETTINGS[\"cutoff\"] = {\n",
    "    \"type\": \"Integer\",\n",
    "    \"default_value\": 15,\n",
    "    \"units\" : \"mins\", \n",
    "    \"min\" : 1, \n",
    "    \"max\" : 200,     \n",
    "    \"description\" : \"Time cutoff\",\n",
    "    \"label\" : \"Time cutoff\",\n",
    "}\n",
    "SETTINGS[\"venue\"] = {\n",
    "    \"type\": \"String\",\n",
    "    \"default_value\": \"headnode@brown_tapis_split\",\n",
    "    \"description\" : \"Venue identifier\",\n",
    "    \"label\" : \"Venue identifier\",\n",
    "}\n",
    "#SETTINGS     \n"
   ]
  },
  {
   "cell_type": "markdown",
   "metadata": {},
   "source": [
    "## Defining Layout"
   ]
  },
  {
   "cell_type": "code",
   "execution_count": null,
   "metadata": {
    "ExecuteTime": {
     "end_time": "2022-04-13T14:10:36.996847Z",
     "start_time": "2022-04-13T14:10:36.975975Z"
    }
   },
   "outputs": [],
   "source": [
    "LAYOUT = {'input': {'type': 'tab',\n",
    "  'id': '',\n",
    "  'label': '',\n",
    "  'layout': 'horizontal',\n",
    "  'children': [{'type': 'group',\n",
    "    'label': 'Structure',\n",
    "    'enable': None,\n",
    "    'layout': 'horizontal',\n",
    "    'children': [{'type': 'number',\n",
    "      'id': 'p_len',\n",
    "      'label': 'P-type length',\n",
    "      'enable': None},\n",
    "     {'type': 'integer',\n",
    "      'id': 'p_node',\n",
    "      'label': 'P-type Nodes',\n",
    "      'enable': None},\n",
    "     {'type': 'number',\n",
    "      'id': 'i_len',\n",
    "      'label': 'Intrinsic Region length',\n",
    "      'enable': None},\n",
    "     {'type': 'integer',\n",
    "      'id': 'i_node',\n",
    "      'label': 'Intrinsic Nodes',\n",
    "      'enable': None},\n",
    "     {'type': 'number',\n",
    "      'id': 'n_len',\n",
    "      'label': 'N-type length',\n",
    "      'enable': None},\n",
    "     {'type': 'integer',\n",
    "      'id': 'n_node',\n",
    "      'label': 'N-type Nodes',\n",
    "      'enable': None},\n",
    "     {'type': 'number',\n",
    "      'id': 'Na',\n",
    "      'label': 'Acceptor concentration (Na-)',\n",
    "      'enable': None},\n",
    "     {'type': 'number',\n",
    "      'id': 'Nd',\n",
    "      'label': 'Donor concentration (Nd+)',\n",
    "      'enable': None}\n",
    "   ]},           \n",
    "   {'type': 'group',\n",
    "    'label': 'Materials',\n",
    "    'enable': None,\n",
    "    'layout': 'horizontal',\n",
    "    'children': [{'type': 'choice',\n",
    "      'id': 'materialp',\n",
    "      'label': 'Material',\n",
    "      'enable': None},\n",
    "     {'type': 'group',\n",
    "      'label': 'Minority carrier lifetimes',\n",
    "      'enable': None,\n",
    "      'layout': 'horizontal',\n",
    "      'children': [{'type': 'number',\n",
    "        'id': 'taun',\n",
    "        'label': 'For electrons',\n",
    "        'enable': None},\n",
    "       {'type': 'number',\n",
    "        'id': 'taup',\n",
    "        'label': 'For holes',\n",
    "        'enable': None}]},\n",
    "     {'type': 'boolean',\n",
    "      'id': 'impurity',\n",
    "      'label': 'Impurity doping in Intrinsic region.',\n",
    "      'enable': None},\n",
    "     {'type': 'choice',\n",
    "      'id': 'impuritydoping',\n",
    "      'label': 'Type of doping',\n",
    "      'enable': [{'operand': 'impurity',\n",
    "        'operator': '==',\n",
    "        'value': True,\n",
    "        'condition': ''}]},\n",
    "     {'type': 'number',\n",
    "      'id': 'impuritylevel',\n",
    "      'label': 'Doping level',\n",
    "      'enable': [{'operand': 'impurity',\n",
    "        'operator': '==',\n",
    "        'value': True,\n",
    "        'condition': ''}]}]},\n",
    "   {'type': 'group',\n",
    "    'label': 'Environment',\n",
    "    'enable': None,\n",
    "    'layout': 'horizontal',\n",
    "    'children': [{'type': 'number',\n",
    "      'id': 'temperature',\n",
    "      'label': 'Ambient temperature',\n",
    "      'enable': None},\n",
    "     {'type': 'number',\n",
    "      'id': 'vsweep_high',\n",
    "      'label': 'Applied Voltage',\n",
    "      'enable': None},\n",
    "     {'type': 'integer',\n",
    "      'id': 'vn_step',\n",
    "      'label': 'Number of points',\n",
    "      'enable': None}]},\n",
    "    {'type': 'group',\n",
    "    'label': 'Advanced',\n",
    "    'enable': None,\n",
    "    'layout': 'horizontal',\n",
    "    'children': [{'type': 'number',\n",
    "      'id': 'cores',\n",
    "      'label': 'Number of cores',\n",
    "      'enable': None},\n",
    "     {'type': 'number',\n",
    "      'id': 'cutoff',\n",
    "      'label': 'Time Cutoff',\n",
    "      'enable': None},\n",
    "     {'type': 'x',\n",
    "      'id': 'venue',\n",
    "      'label': 'Venue ID',\n",
    "      'enable': None}]}]}}"
   ]
  },
  {
   "cell_type": "markdown",
   "metadata": {},
   "source": [
    "## Creating the settings panel"
   ]
  },
  {
   "cell_type": "code",
   "execution_count": null,
   "metadata": {
    "ExecuteTime": {
     "end_time": "2022-04-13T14:10:37.014857Z",
     "start_time": "2022-04-13T14:10:36.998973Z"
    }
   },
   "outputs": [],
   "source": [
    "url_sim = \"https://nanohub.org/api/dbexplorer/simtools\"\n",
    "PNTOYSettings = AppBuilder.Settings(\n",
    "    Project,\n",
    "    Component, \n",
    "    SETTINGS,\n",
    "    url=url_sim,\n",
    "    toolname = TOOLNAME,\n",
    "    revision = REVISION,\n",
    "    layout = LAYOUT['input'],\n",
    "    outputs = ['Ec', 'Ev', 'Ei', 'Efn', 'Efp', \n",
    "               'Total Current Holes', 'Total Current Electrons', 'Total Current',\n",
    "               'Hole Density', 'Electron Density', 'Charge Density',\n",
    "               'Net Charge Density',\n",
    "               'Electrostatic Potential',\n",
    "               'Electric Field',\n",
    "               'Recombination Rate',\n",
    "               'Excess Electron Density', 'Excess Hole Density',\n",
    "               'CV Characteristic', 'IV Characteristic'\n",
    "    ],\n",
    "    runSimulation = \"simtool\"\n",
    ")\n",
    "PNTOYSettings.content.events[\"onError\"]=[\n",
    "    { \"type\": \"stateChange\", \"modifies\": STATE_LOADER_OPEN,\"newState\": False},\n",
    "    { \"type\": \"stateChange\", \"modifies\": STATE_ERROR_OPEN, \"newState\": True},\n",
    "    { \"type\": \"stateChange\", \"modifies\": STATE_ERROR_STATUS, \"newState\": '$e'}\n",
    "]\n",
    "PNTOYSettings.content.events[\"click\"]=[\n",
    "    { \"type\": \"stateChange\", \"modifies\": STATE_LOADER_OPEN,\"newState\": True}\n",
    "]\n",
    "\n",
    "loadDefaultSimulation = SimtoolBuilder.loadDefaultSimulation(Project, Component);\n",
    "PNTOYSettings.content.events[\"onLoad\"]=[\n",
    "    loadDefaultSimulation\n",
    "]\n",
    "\n",
    "PNTOYSettings.content.events[\"submit\"] = [\n",
    "    { \"type\": \"stateChange\", \"modifies\": \"parameters\",\"newState\": '$e.target.value'}\n",
    "]\n",
    "\n",
    "PNTOYSettings.content.events[\"onStatusChange\"]=[\n",
    "    { \"type\": \"stateChange\", \"modifies\": STATE_LOADER_STATUS,\"newState\": \"$e.target.value\"}\n",
    "]\n",
    "PNTOYSettings.content.events[\"onSuccess\"]=[\n",
    "  { \"type\": \"stateChange\", \"modifies\": \"open_plot\",\"newState\":'$self.state.open_plot'},\n",
    "  { \"type\": \"stateChange\", \"modifies\": STATE_LOADER_OPEN,\"newState\": False },  \n",
    "  { \"type\": \"stateChange\", \"modifies\": \"open_results\",\"newState\": True},\n",
    "  { \"type\": \"stateChange\", \"modifies\": \"open_params\",\"newState\": False},\n",
    "  { \"type\": \"stateChange\", \"modifies\": \"active_cache\" , \n",
    "   \"newState\": \"$self.state.active_cache.filter(f => f !== arguments[1]).concat(arguments[1])\" },\n",
    "  onRefreshViews[0],\n",
    "]"
   ]
  },
  {
   "cell_type": "markdown",
   "metadata": {},
   "source": [
    "## Creating the output options"
   ]
  },
  {
   "cell_type": "code",
   "execution_count": null,
   "metadata": {
    "ExecuteTime": {
     "end_time": "2022-04-13T14:10:37.052652Z",
     "start_time": "2022-04-13T14:10:37.016907Z"
    }
   },
   "outputs": [],
   "source": [
    "SimtoolBuilder.loadXY(Project, Component)\n",
    "SimtoolBuilder.loadSequence(Project, Component)\n",
    "\n",
    "Project.root.addStateVariable(\"visualization\", {\"type\":\"object\", \"defaultValue\": {\n",
    "    'function':'loadSequence', \n",
    "    'dataset' : ['Ec', 'Ev', 'Ei'],\n",
    "    'layout' : {},\n",
    "    'parameters' : {'position':'position','function':'function'}\n",
    "}})\n",
    "\n",
    "RESULTS = {\n",
    "    \"bands\" : {\n",
    "        'title' : 'Energy Band Diagram',\n",
    "        'action' : { \"type\": \"stateChange\", \"modifies\": \"visualization\",\"newState\": {\n",
    "            'function':'loadSequence', \n",
    "            'dataset' : ['Ec', 'Ev', 'Ei'],\n",
    "            'layout' : {'title':'Energy Band Diagram', 'yaxis': { 'title' : 'Energy (eV)', 'exponentformat':'e' } , 'xaxis': { 'title' : 'Position(um)' } },\n",
    "            'parameters' : {'position':'position','function':'function'},\n",
    "            'normalize' : True,\n",
    "            'start_trace' : 0\n",
    "        },\n",
    "            \"callbacks\" : onRefreshViews\n",
    "        }\n",
    "    },\n",
    "    \"cv\" : {\n",
    "        'title' : 'C-V Characteristics',\n",
    "        'action' : { \"type\": \"stateChange\", \"modifies\": \"visualization\",\"newState\": {\n",
    "            'function':'loadXY', \n",
    "            'dataset' : ['CV Characteristic'],\n",
    "            'layout' : {'title':'CV Characteristics', 'yaxis': { 'type' : 'log', 'title' : 'Capacitance(F/cm^2)', 'exponentformat':'e' }, 'xaxis': { 'title' : 'Gate Voltage (V)' }  },\n",
    "            'parameters' : {'position':'voltage','function':'function'}\n",
    "        },\n",
    "            \"callbacks\" : onRefreshViews\n",
    "        }\n",
    "    },\n",
    "    \"iv\" : {\n",
    "        'title' : 'I-V Characteristics',\n",
    "        'action' : { \"type\": \"stateChange\", \"modifies\": \"visualization\",\"newState\": {\n",
    "            'function':'loadXY', \n",
    "            'dataset' : ['IV Characteristic'],\n",
    "            'layout' : {'title':'IV Characteristics', 'yaxis': {'title' : 'Current(A/cm^2)', 'exponentformat':'e' }, 'xaxis': { 'title' : 'Gate Voltage (V)' }  },\n",
    "            'parameters' : {'position':'voltage','function':'function'}\n",
    "        },\n",
    "            \"callbacks\" : onRefreshViews\n",
    "        }\n",
    "    },\n",
    "    \"current\" : {\n",
    "        'title' : 'Electron and Hole Current',\n",
    "        'action' : { \"type\": \"stateChange\", \"modifies\": \"visualization\",\"newState\": {\n",
    "            'function':'loadSequence', \n",
    "            'dataset' : ['Total Current Holes', 'Total Current Electrons', 'Total Current'],\n",
    "            'layout' : {'title':'Total, Electron and Hole Current', 'yaxis': { 'type' : 'log', 'title' : 'Current Density (\\cm3)' , 'exponentformat':'e'} , 'xaxis': { 'title' : 'Position(um)' } },\n",
    "            'parameters' : {'position':'position','function':'function'},\n",
    "            'normalize' : True,\n",
    "            'start_trace' : 1\n",
    "        },\n",
    "            \"callbacks\" : onRefreshViews\n",
    "        }\n",
    "    },\n",
    "    \"density\" : {\n",
    "        'title' : 'Electron and Hole Density',\n",
    "        'action' : { \"type\": \"stateChange\", \"modifies\": \"visualization\",\"newState\": {\n",
    "            'function':'loadSequence', \n",
    "            'dataset' : ['Hole Density', 'Electron Density', 'Charge Density'],\n",
    "            'layout' : {'title':'Doping, Electron and Hole Density', 'yaxis': { 'type':'log' ,'title' : 'Charge Density (\\cm3)', 'exponentformat':'e' } , 'xaxis': { 'title' : 'Position(um)' } },\n",
    "            'parameters' : {'position':'position','function':'function'},\n",
    "            'normalize' : True,\n",
    "            'start_trace' : 0\n",
    "        },\n",
    "            \"callbacks\" : onRefreshViews\n",
    "        }\n",
    "    },\n",
    "    \"net\" : {\n",
    "        'title' : 'Net Charge Density',\n",
    "        'action' : { \"type\": \"stateChange\", \"modifies\": \"visualization\",\"newState\": {\n",
    "            'function':'loadSequence', \n",
    "            'dataset' : ['Net Charge Density'],\n",
    "            'layout' : {'title':'Net Charge Density', 'yaxis': { 'title' : 'Charge Density (C\\cm3)', 'exponentformat':'e' } , 'xaxis': { 'title' : 'Position(um)' } },\n",
    "            'parameters' : {'position':'position','function':'function'},\n",
    "            'normalize' : True,\n",
    "            'start_trace' : 0\n",
    "        },\n",
    "            \"callbacks\" : onRefreshViews\n",
    "        }\n",
    "    },\n",
    "    \"potential\" : {\n",
    "        'title' : 'Electrostatic Potential',\n",
    "        'action' : { \"type\": \"stateChange\", \"modifies\": \"visualization\",\"newState\": {\n",
    "            'function':'loadSequence', \n",
    "            'dataset' : ['Electrostatic Potential'],\n",
    "            'layout' : {'title':'Electrostatic Potential', 'yaxis': { 'title' : 'Potential (V)', 'exponentformat':'e' } , 'xaxis': { 'title' : 'Position(um)' } },\n",
    "            'parameters' : {'position':'position','function':'delta'},\n",
    "            'normalize' : True,\n",
    "            'start_trace' : 0\n",
    "        },\n",
    "            \"callbacks\" : onRefreshViews\n",
    "        }\n",
    "    },\n",
    "    \"field\" : {\n",
    "        'title' : 'Electric Field',\n",
    "        'action' : { \"type\": \"stateChange\", \"modifies\": \"visualization\",\"newState\": {\n",
    "            'function':'loadSequence', \n",
    "            'dataset' : ['Electric Field'],\n",
    "            'layout' : {'title':'Electrostatic Field', 'yaxis': { 'title' : 'Electric Fiueld (V/cm)', 'exponentformat':'e' } , 'xaxis': { 'title' : 'Position(um)' } },\n",
    "            'parameters' : {'position':'position','function':'function'},\n",
    "            'normalize' : True,\n",
    "            'start_trace' : 0\n",
    "        },\n",
    "            \"callbacks\" : onRefreshViews\n",
    "        }\n",
    "    },\n",
    "    \"recombination\" : {\n",
    "        'title' : 'Recombination Rate',\n",
    "        'action' : { \"type\": \"stateChange\", \"modifies\": \"visualization\",\"newState\": {\n",
    "            'function':'loadSequence', \n",
    "            'dataset' : ['Recombination Rate'],\n",
    "            'layout' : {'title':'Recombination Rate', 'yaxis': { 'title' : 'Recombination Rate (/cm^3s)', 'exponentformat':'e' } , 'xaxis': { 'title' : 'Position(um)' } },\n",
    "            'parameters' : {'position':'position','function':'function'},\n",
    "            'normalize' : True,\n",
    "            'start_trace' : 0\n",
    "        },\n",
    "            \"callbacks\" : onRefreshViews\n",
    "        }\n",
    "    },\n",
    "    \"carrier\" : {\n",
    "        'title' : 'Excess Carrier Density',\n",
    "        'action' : { \n",
    "            \"type\": \"stateChange\", \n",
    "            \"modifies\": \"visualization\",\n",
    "            \"newState\": {\n",
    "                'function':'loadSequence', \n",
    "                'dataset' : ['Excess Electron Density', 'Excess Hole Density'],\n",
    "                'layout' : {'title':'Excess Carrier Density', 'yaxis': { 'type' : 'log', 'title' : 'Carrier Density (/cm^3)', 'exponentformat':'e' } , 'xaxis': { 'title' : 'Position(um)' } },\n",
    "                'parameters' : {'position':'position','function':'function'},\n",
    "                'normalize' : True,\n",
    "                'start_trace' : 1\n",
    "            },\n",
    "            \"callbacks\" : onRefreshViews\n",
    "        }\n",
    "    },\n",
    "}\n",
    "\n"
   ]
  },
  {
   "cell_type": "code",
   "execution_count": null,
   "metadata": {
    "ExecuteTime": {
     "end_time": "2022-04-13T14:10:37.060526Z",
     "start_time": "2022-04-13T14:10:37.054766Z"
    }
   },
   "outputs": [],
   "source": [
    "PNTOYResults = AppBuilder.Results( \n",
    "    Component,\n",
    "    results = RESULTS,\n",
    "    onClick = [{ \"type\": \"stateChange\", \"modifies\": STATE_LOADER_OPEN,\"newState\": True }],\n",
    "    onLoad = [\n",
    "        { \"type\": \"stateChange\", \"modifies\": STATE_LOADER_OPEN,\"newState\": False }\n",
    "    ],\n",
    ")"
   ]
  },
  {
   "cell_type": "markdown",
   "metadata": {},
   "source": [
    "## Creating Colorschema and adding nanoHUB logo"
   ]
  },
  {
   "cell_type": "code",
   "execution_count": null,
   "metadata": {
    "ExecuteTime": {
     "end_time": "2022-04-13T14:10:37.071471Z",
     "start_time": "2022-04-13T14:10:37.062682Z"
    }
   },
   "outputs": [],
   "source": [
    "ThemeProvider = MaterialBuilder.ThemeProvider( Component, MaterialBuilder.DefaultTheme(\n",
    "    primary_color = '#699FBB',\n",
    "    secondary_color = '#f1f1f1',\n",
    "    primary_bg = '#FFFFFF',\n",
    "    secondary_bg = '#dbeaf0',\n",
    "    default_button = 'rgba(255, 255, 255, 0.87)',\n",
    "    primary_button = 'rgba(255, 255, 255, 0.87)',\n",
    "    secondary_button = 'rgba(0, 0, 0, 0.87)',\n",
    "    default_button_bg = 'rgb(63, 162, 192)',\n",
    "    primary_button_bg = 'rgba(0, 0, 0, 0.65)',\n",
    "    secondary_button_bg = 'rgba(0, 0, 0, 0.12)',\n",
    "))\n",
    "AppBar = MaterialBuilder.AppBar(\n",
    "    state=\"DrawerIsVisible\", \n",
    "    styles=(\"plotly_shift\", [\n",
    "        {\n",
    "          \"height\": \"calc(-80px + 100vh)\",\n",
    "          \"width\": \"calc(-350px + 100vw)\",\n",
    "          \"right\": \"0px\",\n",
    "          \"position\":\"absolute\"\n",
    "        },\n",
    "        {\n",
    "          \"height\": \"calc(-80px + 100vh)\",\n",
    "          \"width\": \"calc(0px + 100vw)\",\n",
    "          \"right\": \"0px\",\n",
    "        } \n",
    "    ]), \n",
    "    title=\"PNToy lab\",\n",
    "    callbacks = onRefreshViews\n",
    ")\n",
    "logo = t.TeleportElement(t.TeleportContent(elementType=\"img\"))\n",
    "logo.content.attrs[\"width\"] = \"120\"\n",
    "logo.content.attrs[\"src\"] = \"https://nanohub.org/app/site/media/images/PressKit/nanoHUB_logo_color.jpg\"\n",
    "AppBar.content.children[0].addContent(logo)\n"
   ]
  },
  {
   "cell_type": "markdown",
   "metadata": {},
   "source": [
    "## Creating Expansion panels"
   ]
  },
  {
   "cell_type": "code",
   "execution_count": null,
   "metadata": {
    "ExecuteTime": {
     "end_time": "2022-04-13T14:10:37.087503Z",
     "start_time": "2022-04-13T14:10:37.078162Z"
    }
   },
   "outputs": [],
   "source": [
    "#Project.globals.assets.append({\"type\": \"style\", \"content\": \".bar_shifted {margin-left:350px; width: calc(100% - 350px);}\"})\n",
    "Project.globals.assets.append({\"type\": \"style\", \"content\": \".bar_shifted {margin-left:0px;}\"})\n",
    "Project.globals.assets.append({ \"type\": \"style\", \"content\": \".bar_normal {margin-left:0px}\"})\n",
    "ExpansionPanel = MaterialBuilder.ExpansionPanel(\n",
    "    title=\"Results\", \n",
    "    disabled=False,\n",
    "    content=[PNTOYResults],\n",
    "    expanded={\n",
    "      \"type\": \"dynamic\",\n",
    "      \"content\": {\n",
    "        \"referenceType\": \"state\",\n",
    "        \"id\": \"open_results\"\n",
    "      }    \n",
    "    },     \n",
    ")\n",
    "ExpansionPanel.content.events['change'] = [{ \"type\": \"stateChange\", \"modifies\": \"open_results\",\"newState\": \"$toggle\"}]\n",
    "Drawer.addContent(ExpansionPanel)\n",
    "\n",
    "ParametersPanel = MaterialBuilder.ExpansionPanel(\n",
    "    title=\"Parameters\", \n",
    "    disabled=False, \n",
    "    expanded={\n",
    "      \"type\": \"dynamic\",\n",
    "      \"content\": {\n",
    "        \"referenceType\": \"state\",\n",
    "        \"id\": \"open_params\"\n",
    "      }    \n",
    "    }, \n",
    "    content=[PNTOYSettings]\n",
    ")\n",
    "ParametersPanel.content.events['change'] = [{ \"type\": \"stateChange\", \"modifies\": \"open_params\",\"newState\": \"$toggle\"}]\n",
    "Drawer.addContent(ParametersPanel)\n"
   ]
  },
  {
   "cell_type": "markdown",
   "metadata": {},
   "source": [
    "## Creating reset button"
   ]
  },
  {
   "cell_type": "code",
   "execution_count": null,
   "metadata": {
    "ExecuteTime": {
     "end_time": "2022-04-13T14:10:37.101909Z",
     "start_time": "2022-04-13T14:10:37.093729Z"
    }
   },
   "outputs": [],
   "source": [
    "Gridt = t.TeleportElement(MaterialContent(elementType=\"Grid\"))\n",
    "Gridt.content.attrs[\"color\"] = \"secondary\"\n",
    "Gridt.content.attrs[\"container\"] = True\n",
    "Gridt.content.attrs[\"direction\"] = \"column\"\n",
    "resetSettings = {}\n",
    "for k,v in SETTINGS.items():\n",
    "    resetSettings[k] = v[\"default_value\"]\n",
    "Buttontt= MaterialBuilder.Button(\n",
    "    title = \"Reset Setting\", \n",
    "    variant = \"text\", \n",
    "    style = {'backgroundColor':'#999999', 'borderRadius' : '0px', 'minHeight':'40px', 'color':'rgba(255, 255, 255, 0.87)'}, \n",
    "    onClickButton=[{ \"type\": \"stateChange\", \"modifies\": k,\"newState\": v[\"default_value\"]}\n",
    "        for k,v in SETTINGS.items()          \n",
    "    ]\n",
    "  )\n",
    "Gridt.addContent(Buttontt)\n",
    "Project.components['AppSettingsComponent'].node.addContent(Gridt)"
   ]
  },
  {
   "cell_type": "markdown",
   "metadata": {},
   "source": [
    "## Creationg ploting component"
   ]
  },
  {
   "cell_type": "code",
   "execution_count": null,
   "metadata": {
    "ExecuteTime": {
     "end_time": "2022-04-13T14:10:37.108606Z",
     "start_time": "2022-04-13T14:10:37.104183Z"
    }
   },
   "outputs": [],
   "source": [
    "BasePlot = PlotlyBuilder.BasePlot( Project, Component, style_state=\"AppBarStyle\")\n",
    "BasePlot.content.style = \"$self.state.plotly_shift\"\n"
   ]
  },
  {
   "cell_type": "code",
   "execution_count": null,
   "metadata": {
    "ExecuteTime": {
     "end_time": "2022-04-13T14:10:37.158794Z",
     "start_time": "2022-04-13T14:10:37.110817Z"
    },
    "scrolled": false
   },
   "outputs": [],
   "source": [
    "IconText = t.TeleportStatic()\n",
    "IconText.content = \"$local.icon\"\n",
    "\n",
    "Icon = t.TeleportElement(MaterialContent(elementType=\"Icon\"))\n",
    "Icon.content.style = \"$local.style\"\n",
    "Icon.addContent(IconText)   \n",
    "\n",
    "ToggleButton = t.TeleportElement(MaterialLabContent(elementType=\"ToggleButton\"))\n",
    "ToggleButton.content.attrs['value'] = \"$local.id\"\n",
    "ToggleButton.addContent(Icon)\n",
    "ToggleButton.content.events['mouseenter'] = [\n",
    "    { \"type\": \"stateChange\", \"modifies\": \"anchorEl\" ,\"newState\": \"$e.currentTarget\" },\n",
    "    { \"type\": \"stateChange\", \"modifies\": \"anchorOpen\" ,\"newState\": True },\n",
    "    { \"type\": \"stateChange\", \"modifies\": \"lastSelected\" ,\"newState\": \"$[local.id]\" },\n",
    "    { \"type\": \"stateChange\", \"modifies\": \"lastColor\" ,\"newState\": \"$local.style\" },\n",
    "    { \"type\": \"stateChange\", \"modifies\": \"lastDescription\" ,\"newState\": \"$local.description\" },\n",
    "]\n",
    "ToggleButton.content.events['click'] = [\n",
    "    { \"type\": \"stateChange\", \"modifies\": \"anchorOpen\" ,\"newState\": False, \"callbacks\" : onRefreshViews}\n",
    "]\n",
    "\n",
    "RepeatIcons = t.TeleportRepeat(ToggleButton)\n",
    "RepeatIcons.iteratorName = \"local\"\n",
    "RepeatIcons.dataSource = {\n",
    "    \"type\": \"dynamic\",\n",
    "    \"content\": {\n",
    "      \"referenceType\": \"state\",\n",
    "      \"id\": \"cached_results\"\n",
    "    }    \n",
    "}\n",
    "\n",
    "ToggleButtonGroup = t.TeleportElement(MaterialLabContent(elementType=\"ToggleButtonGroup\"))\n",
    "ToggleButtonGroup.addContent(RepeatIcons)\n",
    "#ToggleButtonGroup.content.attrs['size'] = \"large\"\n",
    "ToggleButtonGroup.content.attrs['value'] = {\n",
    "  \"type\": \"dynamic\",\n",
    "  \"content\": {\n",
    "    \"referenceType\": \"state\",\n",
    "    \"id\": 'active_cache'\n",
    "  }\n",
    "}\n",
    "ToggleButtonGroup.content.events[\"change\"] = [\n",
    "    { \"type\": \"stateChange\", \"modifies\": \"active_cache\" ,\"newState\": \"$arguments[1]\" },\n",
    "    { \"type\": \"stateChange\", \"modifies\": \"anchorEl\" ,\"newState\": \"$e.currentTarget\" },\n",
    "    { \"type\": \"stateChange\", \"modifies\": \"anchorOpen\" ,\"newState\": True },\n",
    "]\n",
    "\n",
    "Paper = t.TeleportElement(MaterialContent(elementType=\"Paper\"))\n",
    "\n",
    "Project.root.addStateVariable(\"cached_results\", {\"type\":\"array\", \"defaultValue\": []})\n",
    "Project.root.addStateVariable(\"active_cache\", {\"type\":\"array\", \"defaultValue\": []})\n",
    "Project.root.addStateVariable(\"anchorEl\", {\"type\":\"object\", \"defaultValue\": {}})\n",
    "Project.root.addStateVariable(\"anchorOpen\", {\"type\":\"boolean\", \"defaultValue\": False})\n",
    "Project.root.addStateVariable(\"lastSelected\", {\"type\":\"array\", \"defaultValue\": []})\n",
    "Project.root.addStateVariable(\"lastColor\", {\"type\":\"object\", \"defaultValue\": {'color':'#f00'}})\n",
    "Project.root.addStateVariable(\"lastDescription\", {\"type\":\"string\", \"defaultValue\": \"\"})\n",
    "\n",
    "\n",
    "Popper = t.TeleportElement(MaterialContent(elementType=\"Popper\"))\n",
    "Popper.content.attrs['anchorEl'] = {\n",
    "  \"type\": \"dynamic\",\n",
    "  \"content\": {\n",
    "    \"referenceType\": \"state\",\n",
    "    \"id\": 'anchorEl'\n",
    "  }\n",
    "}\n",
    "Popper.content.attrs['open'] = {\n",
    "  \"type\": \"dynamic\",\n",
    "  \"content\": {\n",
    "    \"referenceType\": \"state\",\n",
    "    \"id\": 'anchorOpen'\n",
    "  }\n",
    "}\n",
    "\n",
    "Icon1 = t.TeleportElement(MaterialContent(elementType=\"Icon\"))\n",
    "Icon1.addContent(t.TeleportStatic(content = \"delete\"))   \n",
    "Icon1.content.attrs['style'] = \"$self.state.lastColor\"\n",
    "\n",
    "\n",
    "onRemoveCache = SimtoolBuilder.removeCacheRecord(\n",
    "   Project, \n",
    "   Component \n",
    ")  \n",
    "\n",
    "\n",
    "Fab1 = t.TeleportElement(MaterialContent(elementType=\"IconButton\"))\n",
    "Fab1.content.attrs['size'] = \"small\"\n",
    "Fab1.addContent(Icon1)\n",
    "Fab1.content.events['click'] = [\n",
    "    { \"type\": \"stateChange\", \"modifies\": \"anchorOpen\" ,\"newState\": False },\n",
    "    onRemoveCache[0],\n",
    "]\n",
    "\n",
    "Icon2 = t.TeleportElement(MaterialContent(elementType=\"Icon\"))\n",
    "Icon2.addContent(t.TeleportStatic(content = \"visibility\"))   \n",
    "Icon2.content.attrs['style'] = \"$self.state.lastColor\"\n",
    "\n",
    "Fab2 = t.TeleportElement(MaterialContent(elementType=\"IconButton\"))\n",
    "Fab2.content.attrs['size'] = \"small\"\n",
    "Fab2.addContent(Icon2)\n",
    "Fab2.content.events['click'] = [\n",
    "    { \"type\": \"stateChange\", \"modifies\": \"anchorOpen\" ,\"newState\": False },\n",
    "    { \n",
    "        \"type\": \"stateChange\", \n",
    "        \"modifies\": \"active_cache\",\n",
    "        \"newState\": \"$self.state.active_cache.filter(f => f !== self.state.lastSelected[0]).concat(self.state.lastSelected)\",\n",
    "        \"callbacks\" : onRefreshViews\n",
    "    }\n",
    "]\n",
    "\n",
    "Icon3 = t.TeleportElement(MaterialContent(elementType=\"Icon\"))\n",
    "Icon3.addContent(t.TeleportStatic(content = \"visibility_off\"))   \n",
    "Icon3.content.attrs['style'] = \"$self.state.lastColor\"\n",
    "\n",
    "Fab3 = t.TeleportElement(MaterialContent(elementType=\"IconButton\"))\n",
    "Fab3.content.attrs['size'] = \"small\"\n",
    "Fab3.addContent(Icon3)\n",
    "Fab3.content.events['click'] = [\n",
    "    { \"type\": \"stateChange\", \"modifies\": \"anchorOpen\" ,\"newState\": False },\n",
    "    { \n",
    "        \"type\": \"stateChange\", \n",
    "        \"modifies\": \"active_cache\",\n",
    "        \"newState\": \"$self.state.active_cache.filter(f => f !== self.state.lastSelected[0])\",\n",
    "        \"callbacks\" : onRefreshViews\n",
    "    },\n",
    "]\n",
    "\n",
    "Gridcontainer = t.TeleportElement(MaterialContent(elementType=\"Grid\"))\n",
    "Gridcontainer.content.attrs['container'] = True\n",
    "\n",
    "Griditem1 = t.TeleportElement(MaterialContent(elementType=\"Grid\"))\n",
    "Griditem1.content.attrs['item'] = True\n",
    "Griditem1.addContent(Fab1)\n",
    "\n",
    "Griditem2 = t.TeleportElement(MaterialContent(elementType=\"Grid\"))\n",
    "Griditem2.content.attrs['item'] = True\n",
    "Griditem2.addContent(Fab2)\n",
    "\n",
    "Griditem3 = t.TeleportElement(MaterialContent(elementType=\"Grid\"))\n",
    "Griditem3.content.attrs['item'] = True\n",
    "Griditem3.addContent(Fab3)\n",
    "\n",
    "Gridcontainer.addContent(Griditem1)\n",
    "Gridcontainer.addContent(Griditem2)\n",
    "Gridcontainer.addContent(Griditem3)\n",
    "\n",
    "Typography = t.TeleportElement(MaterialContent(elementType=\"Typography\"))\n",
    "Typography.content.attrs[\"variant\"] = \"inherit\"\n",
    "TypographyText = t.TeleportDynamic(content={\"referenceType\": \"state\",\"id\": \"lastDescription\"})\n",
    "Typography.addContent(TypographyText)\n",
    "Typography.content.style = \"${'whiteSpace':'pre-line'}\"\n",
    "\n",
    "CardContent = t.TeleportElement(MaterialContent(elementType=\"CardContent\"))\n",
    "CardContent.addContent(Typography)\n",
    "\n",
    "\n",
    "CardActions = t.TeleportElement(MaterialContent(elementType=\"CardActions\"))\n",
    "CardActions.addContent(Gridcontainer)\n",
    "\n",
    "\n",
    "Card = t.TeleportElement(MaterialContent(elementType=\"Card\"))\n",
    "Card.addContent(CardActions)\n",
    "Card.addContent(CardContent)\n",
    "\n",
    "Popper.addContent(Card)\n",
    "\n",
    "Card.content.events[\"mouseleave\"] = [\n",
    "    { \"type\": \"stateChange\", \"modifies\": \"anchorOpen\" ,\"newState\": False },\n",
    "]\n",
    "\n",
    "#Project.root.addNode(Popper)\n",
    "LAppBar = t.TeleportElement(MaterialContent(elementType=\"AppBar\"))\n",
    "LAppBar.content.attrs[\"position\"] = \"fixed\"\n",
    "LAppBar.content.attrs[\"color\"] = \"transparent\"\n",
    "LAppBar.content.style = {'top': 'auto', 'bottom': '0','width': 'inherit'}\n",
    "\n",
    "LAppBar.addContent(ToggleButtonGroup)\n",
    "Paper.addContent(LAppBar)"
   ]
  },
  {
   "cell_type": "markdown",
   "metadata": {},
   "source": [
    "## Assembling the app"
   ]
  },
  {
   "cell_type": "code",
   "execution_count": null,
   "metadata": {
    "ExecuteTime": {
     "end_time": "2022-04-13T14:10:37.168755Z",
     "start_time": "2022-04-13T14:10:37.160981Z"
    },
    "scrolled": false
   },
   "outputs": [],
   "source": [
    "Gridh = t.TeleportElement(MaterialContent(elementType=\"Grid\"))\n",
    "Gridh.content.attrs[\"container\"] = True\n",
    "Gridh.content.attrs[\"direction\"] = \"row\" \n",
    "Gridh.addContent(Drawer)\n",
    "Gridh.addContent(BasePlot)  \n",
    "\n",
    "Gridv = t.TeleportElement(MaterialContent(elementType=\"Grid\"))\n",
    "Gridv.content.attrs[\"container\"] = True\n",
    "Gridv.content.attrs[\"direction\"] = \"column\"\n",
    "Gridv.addContent(AppBar)\n",
    "Gridv.addContent(Paper)  \n",
    "Gridv.addContent(Gridh)\n",
    "\n",
    "\n",
    "ThemeProvider.addContent(Gridv)\n",
    "ThemeProvider.addContent(Loader)\n",
    "ThemeProvider.addContent(ErrorMessage)\n",
    "ThemeProvider.addContent(Login)\n",
    "ThemeProvider.addContent(Popper)  \n",
    "\n",
    "Component.addNode(ThemeProvider)\n",
    "#Project.buildReact( TOOLNAME+\"PROD\"+\".html\");"
   ]
  },
  {
   "cell_type": "markdown",
   "metadata": {},
   "source": [
    "## Displaying the app in jupyter"
   ]
  },
  {
   "cell_type": "code",
   "execution_count": null,
   "metadata": {
    "ExecuteTime": {
     "end_time": "2022-04-13T14:10:37.184796Z",
     "start_time": "2022-04-13T14:10:37.170647Z"
    },
    "scrolled": false
   },
   "outputs": [],
   "source": [
    "#Project.buildReact( TOOLNAME+\"PROD\"+\".html\");\n",
    "from IPython.core.display import display\n",
    "from IPython.display import IFrame\n",
    "display(IFrame(src=TOOLNAME+\"PROD\"+\".html\", width=\"100%\", height=\"800\"))"
   ]
  },
  {
   "cell_type": "code",
   "execution_count": null,
   "metadata": {
    "ExecuteTime": {
     "end_time": "2022-04-13T14:03:45.144714Z",
     "start_time": "2022-04-13T14:03:45.104522Z"
    },
    "scrolled": true
   },
   "outputs": [],
   "source": []
  },
  {
   "cell_type": "code",
   "execution_count": null,
   "metadata": {
    "ExecuteTime": {
     "end_time": "2022-04-13T14:03:45.174440Z",
     "start_time": "2022-04-13T14:03:45.146651Z"
    }
   },
   "outputs": [],
   "source": []
  },
  {
   "cell_type": "code",
   "execution_count": null,
   "metadata": {
    "ExecuteTime": {
     "end_time": "2022-04-13T14:03:45.180461Z",
     "start_time": "2022-04-13T14:03:45.176437Z"
    }
   },
   "outputs": [],
   "source": [
    "\n",
    "\n"
   ]
  },
  {
   "cell_type": "code",
   "execution_count": null,
   "metadata": {},
   "outputs": [],
   "source": []
  },
  {
   "cell_type": "code",
   "execution_count": null,
   "metadata": {},
   "outputs": [],
   "source": []
  }
 ],
 "metadata": {
  "kernelspec": {
   "display_name": "Python 3",
   "language": "python",
   "name": "python3"
  },
  "language_info": {
   "codemirror_mode": {
    "name": "ipython",
    "version": 3
   },
   "file_extension": ".py",
   "mimetype": "text/x-python",
   "name": "python",
   "nbconvert_exporter": "python",
   "pygments_lexer": "ipython3",
   "version": "3.7.7"
  },
  "toc": {
   "base_numbering": 1,
   "nav_menu": {},
   "number_sections": true,
   "sideBar": true,
   "skip_h1_title": false,
   "title_cell": "Table of Contents",
   "title_sidebar": "Contents",
   "toc_cell": false,
   "toc_position": {},
   "toc_section_display": true,
   "toc_window_display": false
  },
  "varInspector": {
   "cols": {
    "lenName": 16,
    "lenType": 16,
    "lenVar": 40
   },
   "kernels_config": {
    "python": {
     "delete_cmd_postfix": "",
     "delete_cmd_prefix": "del ",
     "library": "var_list.py",
     "varRefreshCmd": "print(var_dic_list())"
    },
    "r": {
     "delete_cmd_postfix": ") ",
     "delete_cmd_prefix": "rm(",
     "library": "var_list.r",
     "varRefreshCmd": "cat(var_dic_list()) "
    }
   },
   "types_to_exclude": [
    "module",
    "function",
    "builtin_function_or_method",
    "instance",
    "_Feature"
   ],
   "window_display": false
  }
 },
 "nbformat": 4,
 "nbformat_minor": 2
}
