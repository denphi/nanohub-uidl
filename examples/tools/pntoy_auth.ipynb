{
 "cells": [
  {
   "cell_type": "markdown",
   "metadata": {},
   "source": [
    "## Importing libraries"
   ]
  },
  {
   "cell_type": "code",
   "execution_count": 1,
   "metadata": {},
   "outputs": [],
   "source": [
    "import sys\n",
    "import json\n",
    "sys.path.insert(0, \"./nanohubtools\") ## Under develpoment branch\n",
    "#from nanohubtools import *\n",
    "import nanohub.uidl.teleport as t\n",
    "from nanohub.uidl.rappture import RapptureBuilder\n",
    "from nanohub.uidl.material import MaterialBuilder\n",
    "from nanohub.uidl.material import MaterialContent\n",
    "from nanohub.uidl.plotly import PlotlyBuilder\n",
    "from nanohub.uidl.app import AppBuilder\n",
    "\n",
    "from nanohub.uidl.nanohub import Auth\n",
    "TOOLNAME=\"pntoy\"\n",
    "STATE_LOADER_STATUS = \"loader_status\"\n",
    "STATE_LOADER_OPEN = \"loader_open\"\n",
    "STATE_LOGIN_OPEN = \"login_open\"\n",
    "STATE_ERROR_STATUS = \"error_status\"\n",
    "STATE_ERROR_OPEN = \"error_open\""
   ]
  },
  {
   "cell_type": "markdown",
   "metadata": {},
   "source": [
    "## Creating the project and adding GUI variables "
   ]
  },
  {
   "cell_type": "code",
   "execution_count": 2,
   "metadata": {},
   "outputs": [],
   "source": [
    "Project = t.TeleportProject(\"PNToy Lab\")\n",
    "Component = Project.root\n",
    "Component.addStateVariable(\"DrawerIsVisible\", {\"type\":\"boolean\", \"defaultValue\": True})\n",
    "Component.addStateVariable(\"AppBarStyle\", {\"type\":\"string\", \"defaultValue\": \"bar_shifted\"})\n",
    "Component.addStateVariable(\"open_results\", {\"type\":\"boolean\", \"defaultValue\": False})\n",
    "Component.addStateVariable(\"open_params\", {\"type\":\"boolean\", \"defaultValue\": True})"
   ]
  },
  {
   "cell_type": "markdown",
   "metadata": {},
   "source": [
    "## Getting session information to request data from webservices"
   ]
  },
  {
   "cell_type": "code",
   "execution_count": 3,
   "metadata": {},
   "outputs": [],
   "source": [
    "import os\n",
    "auth_data = {\n",
    "    'grant_type' : 'tool',\n",
    "}\n",
    "with open(os.environ[\"SESSIONDIR\"]+\"/resources\") as file:\n",
    "    lines = [line.split(\" \", 1) for line in file.readlines()]\n",
    "    properties = {line[0].strip(): line[1].strip() for line in lines if len(line)==2}\n",
    "    auth_data[\"sessiontoken\"] = properties[\"session_token\"]\n",
    "    auth_data[\"sessionnum\"] = properties[\"sessionid\"] "
   ]
  },
  {
   "cell_type": "markdown",
   "metadata": {},
   "source": [
    "## Creating Error"
   ]
  },
  {
   "cell_type": "code",
   "execution_count": 4,
   "metadata": {},
   "outputs": [],
   "source": [
    "ErrorMessage = RapptureBuilder.Error( \n",
    "    Component, \n",
    "    error_status = STATE_ERROR_STATUS,\n",
    "    error_open = STATE_ERROR_OPEN,\n",
    "    is_open = False\n",
    ")"
   ]
  },
  {
   "cell_type": "markdown",
   "metadata": {},
   "source": [
    "## Creating loader"
   ]
  },
  {
   "cell_type": "code",
   "execution_count": 5,
   "metadata": {},
   "outputs": [],
   "source": [
    "Loader = RapptureBuilder.Loader( \n",
    "    Component, \n",
    "    loader_status = STATE_LOADER_STATUS,\n",
    "    loader_open = STATE_LOADER_OPEN,\n",
    "    is_open = False\n",
    ")"
   ]
  },
  {
   "cell_type": "markdown",
   "metadata": {},
   "source": [
    "## Schema"
   ]
  },
  {
   "cell_type": "code",
   "execution_count": 6,
   "metadata": {},
   "outputs": [],
   "source": [
    "RapptureBuilder.buildSchema(\n",
    "    Project,\n",
    "    Component,\n",
    "    url = \"https://nanohub.org/api/tools\",\n",
    "    toolname = TOOLNAME\n",
    ")\n",
    "Component.addPropVariable(\"onLoadSchema\", {\"type\":\"func\", 'defaultValue' : '(e)=>{e.setState({\"'+ STATE_LOADER_OPEN +'\":false})}'})    "
   ]
  },
  {
   "cell_type": "markdown",
   "metadata": {},
   "source": [
    "## Authentication"
   ]
  },
  {
   "cell_type": "code",
   "execution_count": 7,
   "metadata": {},
   "outputs": [],
   "source": [
    "Login, CLogin = Auth.Login(\n",
    "    Project,\n",
    "    Component,\n",
    "    client_id = \"4135f6de1fad82002813c7a796ff983e\",\n",
    "    client_secret = \"286a25a4f3346243d3d3df265945302b7095f473\",\n",
    "    #url = \"https://dev.nanohub.org/api/querycache/squidlog/proxy?url=https://nanohub.org/api/developer/oauth/token\",   \n",
    "    url = \"https://nanohub.org/api/developer/oauth/token\",   \n",
    "    open_state = STATE_LOGIN_OPEN\n",
    ")\n",
    "#Login.content.events[\"onError\"]=[\n",
    "#    { \"type\": \"stateChange\", \"modifies\": STATE_ERROR_OPEN, \"newState\": True},\n",
    "#    { \"type\": \"stateChange\", \"modifies\": STATE_ERROR_STATUS, \"newState\": '$e'},\n",
    "#]\n",
    "Login.content.events[\"onAuth\"] = [\n",
    "    { \"type\": \"stateChange\", \"modifies\": STATE_LOGIN_OPEN, \"newState\": False},\n",
    "    { \"type\": \"propCall2\", \"calls\": \"buildSchema\", \"args\": ['self'] }\n",
    "]"
   ]
  },
  {
   "cell_type": "code",
   "execution_count": 8,
   "metadata": {},
   "outputs": [],
   "source": [
    "Drawer = MaterialBuilder.Drawer(Project, state=\"DrawerIsVisible\", variant=\"persistent\" )"
   ]
  },
  {
   "cell_type": "code",
   "execution_count": 9,
   "metadata": {
    "scrolled": false
   },
   "outputs": [],
   "source": [
    "import nanohub.remote as nr\n",
    "tool = nr.Tools(auth_data)\n",
    "params = tool.getToolParameters(TOOLNAME)\n",
    "SETTINGS = {}\n",
    "for option, value in params.items():\n",
    "    if isinstance(value,nr.params.Number):\n",
    "        SETTINGS[option] = {\n",
    "            \"type\": \"Number\",\n",
    "            \"default_value\": value.default, \n",
    "            \"units\" : value.units, \n",
    "            \"min\" : value.min, \n",
    "            \"max\" : value.max, \n",
    "            \"label\" : value.label,\n",
    "            \"description\" : value.description,\n",
    "        }   \n",
    "    elif isinstance(value,nr.params.Integer):\n",
    "        SETTINGS[option] = {\n",
    "            \"type\": \"Integer\",\n",
    "            \"default_value\": value.default, \n",
    "            \"units\" : value.units, \n",
    "            \"min\" : value.min, \n",
    "            \"max\" : value.max, \n",
    "            \"label\" : value.label,\n",
    "            \"description\" : value.description,\n",
    "        }   \n",
    "    elif isinstance(value,nr.params.String):\n",
    "        SETTINGS[option] = {\n",
    "            \"type\": \"String\",\n",
    "            \"default_value\": value.default, \n",
    "            \"label\" : value.label,\n",
    "            \"description\" : value.description,\n",
    "        }   \n",
    "    elif isinstance(value,nr.params.Choice):\n",
    "        SETTINGS[option] = {\n",
    "            \"type\": \"Select\",\n",
    "            \"default_value\": value.default, \n",
    "            \"options\": {k[1] : k[0] for k in value.options}, \n",
    "            \"units\" : value.units, \n",
    "            \"label\" : value.label,\n",
    "            \"description\" : value.description,\n",
    "        }\n",
    "    elif isinstance(value,nr.params.Boolean):\n",
    "        SETTINGS[option] = {\n",
    "            \"type\": \"Boolean\",\n",
    "            \"default_value\": (value.default == \"yes\"),\n",
    "            \"description\" : value.description,\n",
    "            \"label\" : value.label,\n",
    "        }\n",
    "#SETTINGS        "
   ]
  },
  {
   "cell_type": "markdown",
   "metadata": {},
   "source": [
    "## Defining Layout"
   ]
  },
  {
   "cell_type": "code",
   "execution_count": 10,
   "metadata": {},
   "outputs": [],
   "source": [
    "LAYOUT = tool.getToolLayout(TOOLNAME)\n",
    "#LAYOUT"
   ]
  },
  {
   "cell_type": "markdown",
   "metadata": {},
   "source": [
    "## Creating the settings panel"
   ]
  },
  {
   "cell_type": "code",
   "execution_count": 11,
   "metadata": {},
   "outputs": [],
   "source": [
    "#url_sim = \"https://dev.nanohub.org/api/querycache/squidlog/proxy?url=https://nanohub.org/api/tools\"\n",
    "url_sim = \"https://nanohub.org/api/tools\"\n",
    "PNTOYSettings = AppBuilder.Settings(\n",
    "    Project,\n",
    "    Component, \n",
    "    SETTINGS,\n",
    "    url=url_sim,\n",
    "    toolname = TOOLNAME,\n",
    "    layout = LAYOUT['input']\n",
    ")\n",
    "PNTOYSettings.content.events[\"onError\"]=[\n",
    "    { \"type\": \"stateChange\", \"modifies\": STATE_LOADER_OPEN,\"newState\": False}\n",
    "]\n",
    "PNTOYSettings.content.events[\"click\"]=[\n",
    "    { \"type\": \"stateChange\", \"modifies\": STATE_LOADER_OPEN,\"newState\": True}\n",
    "]\n",
    "PNTOYSettings.content.events[\"change\"]=[]\n",
    "\n",
    "PNTOYSettings.content.events[\"submit\"] = [\n",
    "    { \"type\": \"stateChange\", \"modifies\": \"parameters\",\"newState\": '$e.target.value'}\n",
    "]\n",
    "\n",
    "PNTOYSettings.content.events[\"onStatusChange\"]=[\n",
    "    { \"type\": \"stateChange\", \"modifies\": STATE_LOADER_STATUS,\"newState\": \"$e.target.value\"}\n",
    "]\n",
    "PNTOYSettings.content.events[\"onSuccess\"]=[\n",
    "  { \"type\": \"stateChange\", \"modifies\": \"open_plot\",\"newState\":{'s1':'primary'} },\n",
    "  { \"type\": \"propCall2\", \"calls\": \"loadSequence\",\"args\": [\"self\", \"['s1']\"]},\n",
    "  { \"type\": \"stateChange\", \"modifies\": STATE_LOADER_OPEN,\"newState\": False },  \n",
    "  { \"type\": \"stateChange\", \"modifies\": \"open_results\",\"newState\": True},\n",
    "  { \"type\": \"stateChange\", \"modifies\": \"open_params\",\"newState\": False},\n",
    "]"
   ]
  },
  {
   "cell_type": "markdown",
   "metadata": {},
   "source": [
    "## Creating the output options"
   ]
  },
  {
   "cell_type": "code",
   "execution_count": 12,
   "metadata": {},
   "outputs": [],
   "source": [
    "RapptureBuilder.loadXY(Project, Component)\n",
    "RapptureBuilder.loadSequence(Project, Component)\n",
    "RESULTS = {\n",
    "    \"bands\" : {\n",
    "        'title' : 'Energy Band Diagram',\n",
    "        'action' : { \"type\": \"propCall2\", \"calls\": \"loadSequence\",\"args\": [\"self\", \"['s1']\" ] },\n",
    "    },\n",
    "    \"cv\" : {\n",
    "        'title' : 'C-V Characteristics',\n",
    "        'action' : { \"type\": \"propCall2\", \"calls\": \"loadXY\",\"args\": [\"self\", \"['cap']\" ] },\n",
    "    },\n",
    "    \"iv\" : {\n",
    "        'title' : 'I-V Characteristics',\n",
    "        'action' : { \"type\": \"propCall2\", \"calls\": \"loadXY\",\"args\": [\"self\", \"['iv']\" ] },\n",
    "    },\n",
    "    \"current\" : {\n",
    "        'title' : 'Electron and Hole Current',\n",
    "        'action' : { \"type\": \"propCall2\", \"calls\": \"loadSequence\",\"args\": [\"self\", \"['s0']\" ] },\n",
    "    },\n",
    "    \"density\" : {\n",
    "        'title' : 'Electron and Hole Density',\n",
    "        'action' : { \"type\": \"propCall2\", \"calls\": \"loadSequence\",\"args\": [\"self\", \"['s2']\" ] },\n",
    "    },\n",
    "    \"net\" : {\n",
    "        'title' : 'Net Charge Density',\n",
    "        'action' : { \"type\": \"propCall2\", \"calls\": \"loadSequence\",\"args\": [\"self\", \"['s4']\" ] },\n",
    "    },\n",
    "    \"potential\" : {\n",
    "        'title' : 'Electrostatic Potential',\n",
    "        'action' : { \"type\": \"propCall2\", \"calls\": \"loadSequence\",\"args\": [\"self\", \"['s5']\" ] },\n",
    "    },\n",
    "    \"field\" : {\n",
    "        'title' : 'Electric Field',\n",
    "        'action' : { \"type\": \"propCall2\", \"calls\": \"loadSequence\",\"args\": [\"self\", \"['s6']\" ] },\n",
    "    },\n",
    "    \"recombination\" : {\n",
    "        'title' : 'Recombination Rate',\n",
    "        'action' : { \"type\": \"propCall2\", \"calls\": \"loadSequence\",\"args\": [\"self\", \"['s7']\" ] },\n",
    "    },\n",
    "    \"carrier\" : {\n",
    "        'title' : 'Excess Carrier Density',\n",
    "        'action' : { \"type\": \"propCall2\", \"calls\": \"loadSequence\",\"args\": [\"self\", \"['s3']\" ] },\n",
    "    },\n",
    "}\n",
    "\n",
    "PNTOYResults = AppBuilder.Results( \n",
    "    Component,\n",
    "    results = RESULTS,\n",
    "    onClick = [{ \"type\": \"stateChange\", \"modifies\": STATE_LOADER_OPEN,\"newState\": True }],\n",
    "    onLoad = [{ \"type\": \"stateChange\", \"modifies\": STATE_LOADER_OPEN,\"newState\": False }],\n",
    ")\n"
   ]
  },
  {
   "cell_type": "markdown",
   "metadata": {},
   "source": [
    "## Creating Colorschema and adding nanoHUB logo"
   ]
  },
  {
   "cell_type": "code",
   "execution_count": 13,
   "metadata": {},
   "outputs": [],
   "source": [
    "ThemeProvider = MaterialBuilder.ThemeProvider( Component, MaterialBuilder.DefaultTheme(\n",
    "    primary_color = '#699FBB',\n",
    "    secondary_color = '#f1f1f1',\n",
    "    primary_bg = '#FFFFFF',\n",
    "    secondary_bg = '#dbeaf0',\n",
    "    default_button = 'rgba(255, 255, 255, 0.87)',\n",
    "    primary_button = 'rgba(255, 255, 255, 0.87)',\n",
    "    secondary_button = 'rgba(0, 0, 0, 0.87)',\n",
    "    default_button_bg = 'rgb(63, 162, 192)',\n",
    "    primary_button_bg = 'rgba(0, 0, 0, 0.65)',\n",
    "    secondary_button_bg = 'rgba(0, 0, 0, 0.12)',\n",
    "))\n",
    "AppBar = MaterialBuilder.AppBar(state=\"DrawerIsVisible\", styles=(\"AppBarStyle\", [\"bar_shifted\", \"bar_normal\"]), title=\"PNToy lab\")\n",
    "logo = t.TeleportElement(t.TeleportContent(elementType=\"img\"))\n",
    "logo.content.attrs[\"width\"] = \"120\"\n",
    "logo.content.attrs[\"src\"] = \"https://nanohub.org/app/site/media/images/PressKit/nanoHUB_logo_color.jpg\"\n",
    "AppBar.content.children[0].addContent(logo)\n"
   ]
  },
  {
   "cell_type": "markdown",
   "metadata": {},
   "source": [
    "## Creating Expansion panels"
   ]
  },
  {
   "cell_type": "code",
   "execution_count": 14,
   "metadata": {},
   "outputs": [],
   "source": [
    "#Project.globals.assets.append({\"type\": \"style\", \"content\": \".bar_shifted {margin-left:350px; width: calc(100% - 350px);}\"})\n",
    "Project.globals.assets.append({\"type\": \"style\", \"content\": \".bar_shifted {margin-left:0px;}\"})\n",
    "Project.globals.assets.append({ \"type\": \"style\", \"content\": \".bar_normal {margin-left:0px}\"})\n",
    "ExpansionPanel = MaterialBuilder.ExpansionPanel(\n",
    "    title=\"Results\", \n",
    "    disabled=False,\n",
    "    content=[PNTOYResults],\n",
    "    expanded={\n",
    "      \"type\": \"dynamic\",\n",
    "      \"content\": {\n",
    "        \"referenceType\": \"state\",\n",
    "        \"id\": \"open_results\"\n",
    "      }    \n",
    "    },     \n",
    ")\n",
    "ExpansionPanel.content.events['change'] = [{ \"type\": \"stateChange\", \"modifies\": \"open_results\",\"newState\": \"$toggle\"}]\n",
    "Drawer.addContent(ExpansionPanel)\n",
    "\n",
    "ParametersPanel = MaterialBuilder.ExpansionPanel(\n",
    "    title=\"Parameters\", \n",
    "    disabled=False, \n",
    "    expanded={\n",
    "      \"type\": \"dynamic\",\n",
    "      \"content\": {\n",
    "        \"referenceType\": \"state\",\n",
    "        \"id\": \"open_params\"\n",
    "      }    \n",
    "    }, \n",
    "    content=[PNTOYSettings]\n",
    ")\n",
    "ParametersPanel.content.events['change'] = [{ \"type\": \"stateChange\", \"modifies\": \"open_params\",\"newState\": \"$toggle\"}]\n",
    "Drawer.addContent(ParametersPanel)\n"
   ]
  },
  {
   "cell_type": "markdown",
   "metadata": {},
   "source": [
    "## Creating reset button"
   ]
  },
  {
   "cell_type": "code",
   "execution_count": 15,
   "metadata": {},
   "outputs": [],
   "source": [
    "Gridt = t.TeleportElement(MaterialContent(elementType=\"Grid\"))\n",
    "Gridt.content.attrs[\"color\"] = \"secondary\"\n",
    "Gridt.content.attrs[\"container\"] = True\n",
    "Gridt.content.attrs[\"direction\"] = \"column\"\n",
    "resetSettings = {}\n",
    "for k,v in SETTINGS.items():\n",
    "    resetSettings[k] = v[\"default_value\"]\n",
    "Buttontt= MaterialBuilder.Button(\n",
    "      title = \"Reset Setting\", \n",
    "      variant = \"text\", \n",
    "      style = {'backgroundColor':'#999999', 'borderRadius' : '0px', 'minHeight':'40px', 'color':'rgba(255, 255, 255, 0.87)'}, \n",
    "      onClickButton=[{ \"type\": \"stateChange\", \"modifies\": \"parameters\",\"newState\": resetSettings}]\n",
    "  )\n",
    "Gridt.addContent(Buttontt)\n",
    "Drawer.addContent(Gridt)"
   ]
  },
  {
   "cell_type": "markdown",
   "metadata": {},
   "source": [
    "## Creationg ploting component"
   ]
  },
  {
   "cell_type": "code",
   "execution_count": 16,
   "metadata": {},
   "outputs": [],
   "source": [
    "BasePlot = PlotlyBuilder.BasePlot( Project, Component, style_state=\"AppBarStyle\")\n",
    "BasePlot.content.style = {\n",
    "  \"height\": \"calc(100vh - 80px)\",\n",
    "  \"width\": \"100%\",\n",
    "}"
   ]
  },
  {
   "cell_type": "markdown",
   "metadata": {},
   "source": [
    "## Assembling the app"
   ]
  },
  {
   "cell_type": "code",
   "execution_count": 17,
   "metadata": {
    "scrolled": false
   },
   "outputs": [],
   "source": [
    "Gridh = t.TeleportElement(MaterialContent(elementType=\"Grid\"))\n",
    "Gridh.content.attrs[\"container\"] = True\n",
    "Gridh.content.attrs[\"direction\"] = \"row\" \n",
    "Gridh.addContent(Drawer)\n",
    "Gridh.addContent(BasePlot)  \n",
    "\n",
    "Gridv = t.TeleportElement(MaterialContent(elementType=\"Grid\"))\n",
    "Gridv.content.attrs[\"container\"] = True\n",
    "Gridv.content.attrs[\"direction\"] = \"column\"\n",
    "Gridv.addContent(AppBar)\n",
    "Gridv.addContent(Gridh)\n",
    "\n",
    "\n",
    "ThemeProvider.addContent(Gridv)\n",
    "ThemeProvider.addContent(Loader)\n",
    "ThemeProvider.addContent(Login)\n",
    "\n",
    "Component.addNode(ThemeProvider)\n",
    "Project.buildReact( TOOLNAME+auth_data[\"sessiontoken\"]+\".html\");"
   ]
  },
  {
   "cell_type": "markdown",
   "metadata": {},
   "source": [
    "## Displaying the app in jupyter"
   ]
  },
  {
   "cell_type": "code",
   "execution_count": 18,
   "metadata": {
    "scrolled": false
   },
   "outputs": [
    {
     "data": {
      "text/html": [
       "\n",
       "        <iframe\n",
       "            width=\"100%\"\n",
       "            height=\"800\"\n",
       "            src=\"pntoygV05aWs2eimrCnD7EIyxiXb4NNW5cBiT.html\"\n",
       "            frameborder=\"0\"\n",
       "            allowfullscreen\n",
       "        ></iframe>\n",
       "        "
      ],
      "text/plain": [
       "<IPython.lib.display.IFrame at 0x7f54bf1eca90>"
      ]
     },
     "metadata": {},
     "output_type": "display_data"
    }
   ],
   "source": [
    "from IPython.core.display import display\n",
    "from IPython.display import IFrame\n",
    "display(IFrame(src=TOOLNAME+auth_data[\"sessiontoken\"]+\".html\", width=\"100%\", height=\"800\"))"
   ]
  },
  {
   "cell_type": "code",
   "execution_count": null,
   "metadata": {},
   "outputs": [],
   "source": []
  },
  {
   "cell_type": "code",
   "execution_count": null,
   "metadata": {},
   "outputs": [],
   "source": []
  }
 ],
 "metadata": {
  "kernelspec": {
   "display_name": "Python 3",
   "language": "python",
   "name": "python3"
  },
  "language_info": {
   "codemirror_mode": {
    "name": "ipython",
    "version": 3
   },
   "file_extension": ".py",
   "mimetype": "text/x-python",
   "name": "python",
   "nbconvert_exporter": "python",
   "pygments_lexer": "ipython3",
   "version": "3.7.7"
  }
 },
 "nbformat": 4,
 "nbformat_minor": 2
}
