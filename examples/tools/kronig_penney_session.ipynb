{
 "cells": [
  {
   "cell_type": "markdown",
   "metadata": {},
   "source": [
    "## Importing libraries"
   ]
  },
  {
   "cell_type": "code",
   "execution_count": null,
   "metadata": {},
   "outputs": [],
   "source": [
    "import sys\n",
    "import json\n",
    "sys.path.insert(0, \"./nanohubtools\") ## Under develpoment branch\n",
    "#from nanohubtools import *\n",
    "import nanohub.uidl.teleport as t\n",
    "from nanohub.uidl.rappture import RapptureBuilder\n",
    "from nanohub.uidl.material import MaterialBuilder\n",
    "from nanohub.uidl.plotly import PlotlyBuilder\n",
    "from nanohub.uidl.material import MaterialContent\n",
    "from nanohub.uidl.teleport import TeleportElement, TeleportContent\n",
    "from nanohub.uidl.app import AppBuilder\n",
    "\n",
    "from nanohub.uidl.nanohub import Auth\n",
    "TOOLNAME=\"kronig_penney\"\n",
    "STATE_LOADER_STATUS = \"loader_status\"\n",
    "STATE_LOADER_OPEN = \"loader_open\"\n",
    "STATE_ERROR_STATUS = \"error_status\"\n",
    "STATE_ERROR_OPEN = \"error_open\"\n"
   ]
  },
  {
   "cell_type": "markdown",
   "metadata": {},
   "source": [
    "## Creating the project and adding GUI variables "
   ]
  },
  {
   "cell_type": "code",
   "execution_count": null,
   "metadata": {},
   "outputs": [],
   "source": [
    "Project = t.TeleportProject(\"Periodic Potential Lab\")\n",
    "Component = Project.root\n",
    "Component.addStateVariable(\"DrawerIsVisible\", {\"type\":\"boolean\", \"defaultValue\": True})\n",
    "Component.addStateVariable(\"AppBarStyle\", {\"type\":\"string\", \"defaultValue\": \"bar_shifted\"})\n",
    "Component.addStateVariable(\"open_results\", {\"type\":\"boolean\", \"defaultValue\": False})\n",
    "Component.addStateVariable(\"open_params\", {\"type\":\"boolean\", \"defaultValue\": True})"
   ]
  },
  {
   "cell_type": "markdown",
   "metadata": {},
   "source": [
    "## Getting session information"
   ]
  },
  {
   "cell_type": "code",
   "execution_count": null,
   "metadata": {},
   "outputs": [],
   "source": [
    "import os\n",
    "auth_data = {\n",
    "    'grant_type' : 'tool',\n",
    "}\n",
    "with open(os.environ[\"SESSIONDIR\"]+\"/resources\") as file:\n",
    "    lines = [line.split(\" \", 1) for line in file.readlines()]\n",
    "    properties = {line[0].strip(): line[1].strip() for line in lines if len(line)==2}\n",
    "    auth_data[\"sessiontoken\"] = properties[\"session_token\"]\n",
    "    auth_data[\"sessionnum\"] = properties[\"sessionid\"]"
   ]
  },
  {
   "cell_type": "markdown",
   "metadata": {},
   "source": [
    "## Creating Error"
   ]
  },
  {
   "cell_type": "code",
   "execution_count": null,
   "metadata": {},
   "outputs": [],
   "source": [
    "ErrorMessage = RapptureBuilder.Error( \n",
    "    Component, \n",
    "    error_status = STATE_ERROR_STATUS,\n",
    "    error_open = STATE_ERROR_OPEN,\n",
    ")"
   ]
  },
  {
   "cell_type": "markdown",
   "metadata": {},
   "source": [
    "## Creating Loader"
   ]
  },
  {
   "cell_type": "code",
   "execution_count": null,
   "metadata": {},
   "outputs": [],
   "source": [
    "Loader = RapptureBuilder.Loader( \n",
    "    Component, \n",
    "    loader_status = STATE_LOADER_STATUS,\n",
    "    loader_open = STATE_LOADER_OPEN,\n",
    ")"
   ]
  },
  {
   "cell_type": "markdown",
   "metadata": {},
   "source": [
    "## Schema"
   ]
  },
  {
   "cell_type": "code",
   "execution_count": null,
   "metadata": {},
   "outputs": [],
   "source": [
    "RapptureBuilder.buildSchema(\n",
    "    Project,\n",
    "    Component,\n",
    "    url = \"https://nanohub.org/api/tools\",\n",
    "    toolname = TOOLNAME\n",
    ")\n",
    "Component.addPropVariable(\"onLoadSchema\", {\"type\":\"func\", 'defaultValue' : '(e)=>{e.setState({\"'+ STATE_LOADER_OPEN +'\":false})}'})    "
   ]
  },
  {
   "cell_type": "markdown",
   "metadata": {},
   "source": [
    "## Authentication"
   ]
  },
  {
   "cell_type": "code",
   "execution_count": null,
   "metadata": {},
   "outputs": [],
   "source": [
    "Login, CLogin = Auth.Session(\n",
    "    Project,\n",
    "    Component,\n",
    "    sessiontoken = auth_data[\"sessiontoken\"],\n",
    "    sessionnum = auth_data[\"sessionnum\"],\n",
    "    url = \"https://dev.nanohub.org/api/querycache/squidlog/proxy?url=https://nanohub.org/api/developer/oauth/token\",   \n",
    ")\n",
    "Login.content.events[\"onError\"]=[\n",
    "    { \"type\": \"stateChange\", \"modifies\": STATE_ERROR_OPEN, \"newState\": True},\n",
    "    { \"type\": \"stateChange\", \"modifies\": STATE_ERROR_STATUS, \"newState\": '$e'},\n",
    "]\n",
    "Login.content.events[\"onAuth\"] = [\n",
    "    { \"type\": \"propCall2\", \"calls\": \"buildSchema\", \"args\": ['self'] }            \n",
    "]\n"
   ]
  },
  {
   "cell_type": "code",
   "execution_count": null,
   "metadata": {},
   "outputs": [],
   "source": [
    "Drawer = MaterialBuilder.Drawer(Project, state=\"DrawerIsVisible\", variant=\"persistent\" )"
   ]
  },
  {
   "cell_type": "code",
   "execution_count": null,
   "metadata": {},
   "outputs": [],
   "source": [
    "def StepIcon():\n",
    "    return \"M 0 22 h 5 v -20 h 5 v 20 h 5 v -20 h5 v 20 h 5\"\n",
    "\n",
    "def SinosoidIcon():\n",
    "    return \"M 0 12 q 6 -15 12 0 q 6 15 12 0\"\n",
    "\n",
    "def TriangularIcon():\n",
    "    return \"M0 22 h 7 l 5 -20 l 6 20 h 7\"\n",
    "\n",
    "def ParabolicIcon():\n",
    "    return \"M 0 5 q 12 36 24 0\"\n",
    "\n",
    "def CoulombIcon():\n",
    "    return \"M 0 2 q 2 10 3 20 c 0 -25 16 -25 16 0 q 0 -10 3 -20\"\n",
    "\n",
    "def ExponentialIcon():\n",
    "    return \"M 0 22 q 8 0 11 -20 q 7 20 11 20\"\n",
    "\n",
    "def GaussianIcon():\n",
    "    return \"M 0 5 q 13 -12 22 17\"\n",
    "\n",
    "def PolynomialIcon():\n",
    "    return \"M 0 18 q 8 10 22 -17\"\n",
    "    "
   ]
  },
  {
   "cell_type": "code",
   "execution_count": null,
   "metadata": {
    "scrolled": false
   },
   "outputs": [],
   "source": [
    "SETTINGS = {\n",
    "    'pot_type': { \n",
    "        'type': 'IconList','default_value': 'KP', 'units': None, 'label': 'Type of periodic potential',  \n",
    "        'description': 'Periodic potential assumed in the infinite lattice.', \n",
    "        'options': {\n",
    "            'KP': { 'name':'Step Well', \"icon\": StepIcon()},\n",
    "            'Sine': { 'name':'Sinosoidal Potential', \"icon\": SinosoidIcon()},\n",
    "            'Tri': { 'name':'Triangular Well', \"icon\": TriangularIcon()},\n",
    "            'para': { 'name':'Parabolic Potential',\"icon\": ParabolicIcon()},\n",
    "            'cola': { 'name':'Coulombic Potential',\"icon\": CoulombIcon()},\n",
    "            'expo': { 'name':'Exponential Potential',\"icon\": ExponentialIcon()},\n",
    "            'gaus': { 'name':'Gaussian Potential',\"icon\": GaussianIcon()},\n",
    "            'poly': { 'name':'Polynomial Potential',\"icon\": PolynomialIcon()}\n",
    "        },\n",
    "    },\n",
    "    'degree': {\n",
    "        'type': 'Number', 'default_value': '1', 'units': None, 'min': 1.0, 'max': 4.0, 'label': 'Enter degree of order:',\n",
    "        'description': 'Degree of the polynomial function can only be 1,2,3,4'\n",
    "    },\n",
    "    'vmax': {\n",
    "        'type': 'Number','default_value': 3,'units': 'eV','min': 0.1,'max': 40.0,'label': 'Maximum Barrier Height(Vmax)',\n",
    "        'description': 'Maximum height a barrier can have in the well in eV.'\n",
    "    },\n",
    "    'vmin': {\n",
    "        'type': 'Number','default_value': 0,'units': 'eV','min': -5.0,'max': 20.0,'label': 'Minimum Barrier Height(Vmin)',\n",
    "         'description': 'Minimum height a barrier can have in the well in eV.'\n",
    "    },\n",
    "    'emax': {\n",
    "        'type': 'Number','default_value': 5,'units': 'eV','min': 0.0,'max': 10.0,'label': 'Energy of particle',\n",
    "        'description': 'Maximum energy carried by the particle over the barrier height.'\n",
    "    },\n",
    "    'vdepth': {\n",
    "        'type': 'Number','default_value': 10,'units': 'eV','min': 0.0,'max': 40.0,'label': 'Coloumbic Well (-Vmax)',\n",
    "        'description': 'Maximum depth of coulombic well'\n",
    "    },\n",
    "    'emin_c': {\n",
    "        'type': 'Number','default_value': -10,'units': 'eV','min': -40.0,'max': 0.0,'label': 'Minimum Energy (Emin)',\n",
    "        'description': 'Minimum energy of the particle in the well in eV.'\n",
    "    },\n",
    "    'emax_c': {\n",
    "        'type': 'Number','default_value': 1,'units': 'eV','min': 0.0,'max': 20.0,'label': 'Particle energy',\n",
    "        'description': 'Maximum energy carried by the particle Above the barrie'\n",
    "    },\n",
    "    'well_width': {\n",
    "        'type': 'Number','default_value': 12,'units': 'A','min': 1.0,'max': 100.0,'label': 'Periodic cell Width(A)',\n",
    "        'description': 'Periodicity of a single periodic cell in the well, distance from one atom to the next atom.'\n",
    "    },\n",
    "    'a': {\n",
    "        'type': 'Number','default_value': 6,'units': 'A','min': 0.1,'max': 95.0,'label': 'Enter the a (A):',\n",
    "        'description': 'Width in which the potential is maximum/minimum or changes from one extremal energy to another.'\n",
    "    },\n",
    "    'nodes': {\n",
    "        'type': 'Number','default_value': '3','units': None,'min': 2.0,'max': 6.0,'label': 'Enter the number of nodes:',\n",
    "        'description': 'Number of nodes in the sinosoidal well, i.e, number of times the wave intersects with x axis'\n",
    "    },\n",
    "    'mass': {\n",
    "        'type': 'Number','default_value': '1.0','units': None,'min': 0.02,'max': 5.0,'label': 'Effective mass (m0)',\n",
    "        'description': 'Effective mass describes the influence of the underlying crystal on the ability of an electron to propagate inside the parabolic conduction band. This is a relative number normalized against the free electron mass. Typical values are 0.067 for GaAs and 0.024 for InAs.  A completely free electron in space would take on the value of 1.0'\n",
    "    },\n",
    "    'b_expo': {\n",
    "        'type': 'Number','default_value': '1','units': None,'min': -50.0,'max': 50.0,'label': 'b',\n",
    "        'description': \"Coefficient 'b' for exponential function.\\n        Enter a number between -50 to 50\"\n",
    "    },\n",
    "    'exp_shift': {\n",
    "        'type': 'Number','default_value': '0','units': None,'min': 0.0,'max': 100.0,'label': 'shift(%)',\n",
    "        'description': 'Percentage you want to shift the function within the well'\n",
    "    },\n",
    "    'c_gaus': {\n",
    "        'type': 'Number','default_value': '1','units': None,'min': -50.0,'max': 50.0,'label': 'c',\n",
    "        'description': \"Coefficient 'c' for Gaussian function. Enter a number between -50 to 50\"\n",
    "    },\n",
    "    'gaus_shift': {\n",
    "        'type': 'Number','default_value': '0','units': None,'min': 0.0,'max': 100.0,'label': 'shift(%)',\n",
    "        'description': 'Percentage you want to shift the function within the well'\n",
    "    },\n",
    "    'a_poly2': {\n",
    "        'type': 'Number','default_value': '1','units': None,'min': -10000.0,'max': 10000.0,'label': 'a',\n",
    "        'description': \"Coefficient 'a' for second order polynomial function. Enter a number between -10000 to 10000\"\n",
    "    },\n",
    "    'b_poly2': {\n",
    "        'type': 'Number','default_value': '1','units': None,'min': None,'max': None,'label': 'b',\n",
    "        'description': \"Coefficient 'b' for second order polynomial function\"\n",
    "    },\n",
    "    'poly2_shift': {\n",
    "        'type': 'Number','default_value': '0','units': None,'min': 0.0,'max': 100.0,'label': 'shift(%)',\n",
    "        'description': 'enter the percentage you want to shift the function within the well'\n",
    "    },\n",
    "    'a_poly3': {\n",
    "        'type': 'Number','default_value': '1','units': None,'min': None,'max': None,'label': 'a',\n",
    "        'description': \"Coefficient 'a' for third order polynomial function\"\n",
    "    },\n",
    "    'b_poly3': {\n",
    "        'type': 'Number','default_value': '1','units': None,'min': None,'max': None,'label': 'b',\n",
    "        'description': \"Coefficient 'b' for third order polynomial function\"\n",
    "    },\n",
    "    'c_poly3': {\n",
    "        'type': 'Number','default_value': '1','units': None,'min': None,'max': None,'label': 'c',\n",
    "        'description': \"Coefficient 'c' for third order polynomial function\"\n",
    "    },\n",
    "    'poly3_shift': {\n",
    "        'type': 'Number','default_value': '0','units': None,'min': 0.0,'max': 100.0,'label': 'shift(%)',\n",
    "        'description': 'Percentage you want to shift the function within the well'\n",
    "    },\n",
    "    'a_poly4': {\n",
    "        'type': 'Number','default_value': '1','units': None,'min': None,'max': None,'label': 'a',\n",
    "        'description': \"Coefficient 'a' for fourth order polynomial function\"\n",
    "    },\n",
    "    'b_poly4': {\n",
    "        'type': 'Number','default_value': '1','units': None,'min': None,'max': None,'label': 'b',\n",
    "        'description': \"Coefficient 'b' for fourth order polynomial function\"\n",
    "    },\n",
    "    'c_poly4': {\n",
    "        'type': 'Number','default_value': '1','units': None,'min': None,'max': None,'label': 'c',\n",
    "        'description': \"Coefficient 'c' for fourth order polynomial function\"\n",
    "    },\n",
    "    'd_poly4': {\n",
    "        'type': 'Number','default_value': '1','units': None,'min': None,'max': None,'label': 'd',\n",
    "        'description': \"Coefficient 'd' for fourth order polynomial function\"\n",
    "    },\n",
    "    'poly4_shift': {\n",
    "        'type': 'Number','default_value': '0','units': None,'min': 0.0,'max': 100.0,'label': 'shift(%)',\n",
    "        'description': 'Percentage you want to shift the function within the well'\n",
    "    }\n",
    "} "
   ]
  },
  {
   "cell_type": "markdown",
   "metadata": {},
   "source": [
    "## Defining Layout"
   ]
  },
  {
   "cell_type": "code",
   "execution_count": null,
   "metadata": {
    "scrolled": false
   },
   "outputs": [],
   "source": [
    "LAYOUT = { 'input': \n",
    "  { 'type': 'group','label': 'Periodic Potential Details','enable': None, 'layout': 'horizontal','children': [\n",
    "    { 'type': 'choice', 'id': 'pot_type', 'label': 'Select the type of periodic potential', 'enable': None},\n",
    "    { 'type': 'number', 'id': 'degree', 'label': 'Enter degree of order:', 'enable': [\n",
    "        {'operand': 'pot_type','operator': '==','value': 'poly','condition': ''}\n",
    "    ]},\n",
    "    { 'type': 'tab', 'label': 'Well Details', 'enable': None, 'layout': 'horizontal', 'children': [\n",
    "        { 'type': 'group', 'label': 'Energy Details', 'enable': None, 'layout': 'horizontal', 'children': [\n",
    "          {'type': 'number','id': 'vmax','label': 'Maximum Barrier Height(Vmax)','enable': [\n",
    "            {'operand': 'pot_type','operator': 'in','value': 'KP,Tri,para,Sine,expo,gaus,poly','condition': ''}\n",
    "          ]}, \n",
    "          {'type': 'number', 'id': 'vmin', 'label': 'Minimum Barrier Height(Vmin)', 'enable': [\n",
    "            {'operand': 'pot_type','operator': 'in','value': 'KP,Tri,para,Sine,expo,gaus,poly','condition': ''}\n",
    "\n",
    "          ]}, \n",
    "          { 'type': 'number', 'id': 'emax', 'label': 'Energy of  particle over the barrier:', 'enable': [\n",
    "            {'operand': 'pot_type','operator': 'in','value': 'KP,Tri,para,Sine,expo,gaus,poly','condition': ''}\n",
    "          ]}, \n",
    "          { 'type': 'number', 'id': 'vdepth', 'label': 'Depth of Coloumbic Well (-Vmax)', 'enable': [\n",
    "            { 'operand': 'pot_type', 'operator': '==', 'value': 'cola', 'condition': '' }\n",
    "          ]}, \n",
    "          { 'type': 'number', 'id': 'emin_c', 'label': 'Minimum Carrier Energy (Emin)', 'enable': [\n",
    "            { 'operand': 'pot_type', 'operator': '==', 'value': 'cola', 'condition': '' }\n",
    "          ]}, \n",
    "          { 'type': 'number', 'id': 'emax_c', 'label': 'Particle energy above the barrier', 'enable': [\n",
    "            { 'operand': 'pot_type', 'operator': '==', 'value': 'cola', 'condition': '' }\n",
    "          ]}\n",
    "        ]}, \n",
    "        { 'type': 'group', 'label': 'Well Geometry', 'enable': None, 'layout': 'horizontal', 'children': [\n",
    "          { 'type': 'number', 'id': 'well_width', 'label': 'Width of single periodic cell (A)', 'enable': [\n",
    "            {'operand': 'pot_type','operator': 'in','value': 'KP,Tri,para,Sine,expo,gaus,poly,cola','condition': ''}\n",
    "          ]}, \n",
    "          { 'type': 'number', 'id': 'a', 'label': 'Enter the a (A):', 'enable': [\n",
    "            { 'operand': 'pot_type', 'operator': 'in', 'value': 'KP,Tri,cola', 'condition': '||' }, \n",
    "          ]}, \n",
    "          { 'type': 'number', 'id': 'nodes', 'label': 'Enter the number of nodes:', 'enable': [\n",
    "            { 'operand': 'pot_type', 'operator': '==', 'value': 'Sine', 'condition': '' }\n",
    "          ]}, \n",
    "          { 'type': 'number', 'id': 'mass', 'label': 'Effective mass of the particle (m0)', 'layout': 'horizontal', 'enable': None }, \n",
    "          { 'type': 'group', 'label': 'exponential coefficients', 'enable': \n",
    "            [\n",
    "              { 'operand': 'pot_type', 'operator': '==', 'value': 'expo'}\n",
    "            ], 'children':         \n",
    "            [\n",
    "              { 'type': 'number', 'id': 'b_expo', 'label': 'b', 'enable': None },\n",
    "              { 'type': 'number', 'id': 'exp_shift', 'label': 'shift(%)', 'enable': None }\n",
    "            ]\n",
    "          }, \n",
    "          { 'type': 'group', 'label': 'Gaussian coefficients', 'enable': \n",
    "            [\n",
    "              { 'operand': 'pot_type', 'operator': '==', 'value': 'gaus'}\n",
    "            ], 'layout': 'horizontal', 'children': \n",
    "            [\n",
    "              { 'type': 'number', 'id': 'c_gaus', 'label': 'c', 'enable': None }, \n",
    "              { 'type': 'number', 'id': 'gaus_shift', 'label': 'shift(%)', 'enable': None } \n",
    "            ]\n",
    "          }, \n",
    "          { 'type': 'group', 'label': 'second order polynomial coefficients', 'enable': \n",
    "            [\n",
    "              { 'operand': 'pot_type', 'operator': '==', 'value': 'poly'},\n",
    "              { 'operand': 'degree', 'operator': '==', 'value': 2}\n",
    "            ], 'layout': 'horizontal', 'children': [\n",
    "              { 'type': 'number', 'id': 'a_poly2', 'label': 'a', 'enable': None }, \n",
    "              { 'type': 'number', 'id': 'b_poly2', 'label': 'b', 'enable': None }, \n",
    "              { 'type': 'number', 'id': 'poly2_shift', 'label': 'shift(%)', 'enable': None } \n",
    "            ]\n",
    "          }, \n",
    "          { 'type': 'group', 'label': 'third order polynomial coefficients', 'enable': \n",
    "            [\n",
    "              { 'operand': 'pot_type', 'operator': '==', 'value': 'poly'},\n",
    "              { 'operand': 'degree', 'operator': '==', 'value': 3}\n",
    "            ], 'layout': 'horizontal', 'children': \n",
    "            [\n",
    "              { 'type': 'number', 'id': 'a_poly3', 'label': 'a', 'enable': None }, \n",
    "              { 'type': 'number', 'id': 'b_poly3', 'label': 'b', 'enable': None }, \n",
    "              { 'type': 'number', 'id': 'c_poly3', 'label': 'c', 'enable': None }, \n",
    "              { 'type': 'number', 'id': 'poly3_shift', 'label': 'shift(%)', 'enable': None } \n",
    "            ]\n",
    "          }, \n",
    "          { 'type': 'group', 'label': 'fourth order polynomial coefficients', 'enable': \n",
    "            [\n",
    "              { 'operand': 'pot_type', 'operator': '==', 'value': 'poly'},\n",
    "              { 'operand': 'degree', 'operator': '==', 'value': 4}\n",
    "            ], 'layout': 'horizontal', 'children': [\n",
    "              { 'type': 'number', 'id': 'a_poly4', 'label': 'a', 'enable': None }, \n",
    "              { 'type': 'number', 'id': 'b_poly4', 'label': 'b', 'enable': None }, \n",
    "              { 'type': 'number', 'id': 'c_poly4', 'label': 'c', 'enable': None }, \n",
    "              { 'type': 'number', 'id': 'd_poly4', 'label': 'd', 'enable': None }, \n",
    "              { 'type': 'number', 'id': 'poly4_shift', 'label': 'shift(%)', 'enable': None } \n",
    "            ]\n",
    "          } \n",
    "        ]}\n",
    "    ]}\n",
    "  ]}\n",
    "}\n",
    "#LAYOUT"
   ]
  },
  {
   "cell_type": "markdown",
   "metadata": {},
   "source": [
    "## Creating the settings panel"
   ]
  },
  {
   "cell_type": "code",
   "execution_count": null,
   "metadata": {},
   "outputs": [],
   "source": [
    "url_sim = \"https://dev.nanohub.org/api/querycache/squidlog/proxy?url=https://nanohub.org/api/tools\"\n",
    "Settings = AppBuilder.Settings(\n",
    "    Project,\n",
    "    Component, \n",
    "    SETTINGS,\n",
    "    url=url_sim,\n",
    "    toolname = TOOLNAME,\n",
    "    layout = LAYOUT['input']\n",
    ")\n",
    "Settings.content.events[\"onError\"]=[\n",
    "    { \"type\": \"stateChange\", \"modifies\": STATE_LOADER_OPEN,\"newState\": False},\n",
    "    { \"type\": \"stateChange\", \"modifies\": STATE_ERROR_OPEN,\"newState\": True},\n",
    "    { \"type\": \"stateChange\", \"modifies\": STATE_ERROR_STATUS,\"newState\": '$e'},\n",
    "]\n",
    "Settings.content.events[\"click\"]=[\n",
    "    { \"type\": \"stateChange\", \"modifies\": STATE_LOADER_OPEN,\"newState\": True}\n",
    "]\n",
    "Settings.content.events[\"submit\"] = [\n",
    "    { \"type\": \"stateChange\", \"modifies\": \"parameters\",\"newState\": '$e.target.value'}\n",
    "]\n",
    "Settings.content.events[\"onStatusChange\"]=[\n",
    "    { \"type\": \"stateChange\", \"modifies\": STATE_LOADER_STATUS,\"newState\": \"$e.target.value\"}\n",
    "]\n",
    "Settings.content.events[\"onSuccess\"]=[\n",
    "  { \"type\": \"stateChange\", \"modifies\": \"open_plot\",\"newState\":{'option8a':'primary'} },\n",
    "  { \"type\": \"propCall2\", \"calls\": \"loadXYDual\",\"args\": [\"self\", \"['^EK([1-9]|10)$']\", \"['^eig_energy_min','^potential','norm_wave_fcn_min']\"] },\n",
    "  { \"type\": \"stateChange\", \"modifies\": STATE_LOADER_OPEN,\"newState\": False },  \n",
    "  { \"type\": \"stateChange\", \"modifies\": \"open_results\",\"newState\": True},\n",
    "  { \"type\": \"stateChange\", \"modifies\": \"open_params\",\"newState\": False},\n",
    "]"
   ]
  },
  {
   "cell_type": "markdown",
   "metadata": {},
   "source": [
    "## Creating the output options"
   ]
  },
  {
   "cell_type": "code",
   "execution_count": null,
   "metadata": {},
   "outputs": [],
   "source": [
    "RapptureBuilder.loadXY(Project, Component)\n",
    "RapptureBuilder.loadXYDual(Project, Component)\n",
    "RapptureBuilder.loadSequence(Project, Component)\n",
    "RESULTS = {\n",
    "    \"option8a\" : {\n",
    "        'title' : 'Dispersion & Wavefunction (Min)',\n",
    "        'action' : { \"type\": \"propCall2\", \"calls\": \"loadXYDual\",\"args\": [\"self\", \"['^EK([1-9]|10)$']\", \"['^eig_energy_min','^potential','norm_wave_fcn_min']\", \"{'showlegend':false}\"] },\n",
    "    },    \n",
    "    \"option8b\" : {\n",
    "        'title' : 'Dispersion & Wavefunction (Max)',\n",
    "        'action' : { \"type\": \"propCall2\", \"calls\": \"loadXYDual\",\"args\": [\"self\", \"['^EK([1-9]|10)$']\", \"['^eig_energy_max','^potential','norm_wave_fcn_max']\", \"{'showlegend':false}\"] },\n",
    "    },      \n",
    "    #\"option7a\" : {\n",
    "    #    'title' : 'Eigen Energy and Wave function (Min)',\n",
    "    #    'action' : { \"type\": \"propCall2\", \"calls\": \"loadXY\",\"args\": [\"self\", \"['^eig_energy_min','wave_fcn_min','pot']\", \"{'showlegend':false}\"] },\n",
    "    #},\n",
    "    #\"option7b\" : {\n",
    "    #    'title' : 'Eigen Energy and Wave function (Max)',\n",
    "    #    'action' : { \"type\": \"propCall2\", \"calls\": \"loadXY\",\"args\": [\"self\", \"['^eig_energy_max','wave_fcn_max','pot']\", \"{'showlegend':false}\"] },\n",
    "    #},\n",
    "    \"option3\" : {\n",
    "        'title' : 'Reduced Dispersion Relation',\n",
    "        'action' : { \"type\": \"propCall2\", \"calls\": \"loadXY\",\"args\": [\"self\", \"['^EK([1-9]|10)$']\"] },\n",
    "    },\n",
    "    \"option4\" : {\n",
    "        'title' : 'Expanded Dispertion Relation',\n",
    "        'action' : { \"type\": \"propCall2\", \"calls\": \"loadXY\",\"args\": [\"self\", \"['^EK1([1-9]|10)$']\"] },\n",
    "    },\n",
    "    \"option6\" : {\n",
    "        'title' : 'Reduced Dispersion with Eff. Masses',\n",
    "        'action' : { \"type\": \"propCall2\", \"calls\": \"loadXY\",\"args\": [\"self\", \"['^EKeff','^EK_pp']\", \"{'showlegend':false}\"] },\n",
    "    },\n",
    "    \"option9\" : {\n",
    "        'title' : 'Density of States',\n",
    "        'action' : { \n",
    "            \"type\": \"propCall2\", \n",
    "            \"calls\": \"loadXYDual\",\n",
    "            \"args\": [\"self\", \"['^EK([1-9]|10)$']\", \"['^DOS_1D$', '^EK_dos']\", \"{'xaxis':{'type':'log'},'showlegend':false}\"]\n",
    "        },\n",
    "    },    \n",
    "    \"option5\" : {\n",
    "        'title' : 'Expanded Dispersion vs Free Dispersion',\n",
    "        'action' : { \"type\": \"propCall2\", \"calls\": \"loadXY\",\"args\": [\"self\", \"['^EKcomp','^EKfree']\", \"{'showlegend':false}\"] },\n",
    "    },\n",
    "    \"option2\" : {\n",
    "        'title' : 'Allowed Bands',\n",
    "        'action' : { \"type\": \"propCall2\", \"calls\": \"loadXY\",\"args\": [\"self\", \"['^Band limit', '^FE limit','^Ebands']\", \"{'showlegend':false}\"] },\n",
    "    },\n",
    "\n",
    "    \"option1\" : {\n",
    "        'title' : 'Energy functional vs Energy',\n",
    "        'action' : { \"type\": \"propCall2\", \"calls\": \"loadXY\",\"args\": [\"self\", \"['^TvsE']\"] },\n",
    "    },\n",
    "}\n",
    "    \n",
    "'''\n",
    "    \"option4\":{\n",
    "        \"alt\" : \"Expanded Dispertion Relation\",\n",
    "        \"label\" : \"Expanded Dispertion\",\n",
    "        \"action\" : function(){ self.displayParameter('option4') },\n",
    "    },\n",
    "\n",
    "'''    \n",
    "\n",
    "Results = AppBuilder.Results( \n",
    "    Component,\n",
    "    results = RESULTS,\n",
    "    onClick = [{ \"type\": \"stateChange\", \"modifies\": STATE_LOADER_OPEN,\"newState\": True }],\n",
    "    onLoad = [{ \"type\": \"stateChange\", \"modifies\": STATE_LOADER_OPEN,\"newState\": False }],\n",
    ")\n"
   ]
  },
  {
   "cell_type": "markdown",
   "metadata": {},
   "source": [
    "## Creating Colorschema and adding nanoHUB logo"
   ]
  },
  {
   "cell_type": "code",
   "execution_count": null,
   "metadata": {},
   "outputs": [],
   "source": [
    "ThemeProvider = MaterialBuilder.ThemeProvider( Component, MaterialBuilder.DefaultTheme(\n",
    "    primary_color = '#699FBB',\n",
    "    secondary_color = '#f1f1f1',\n",
    "    primary_bg = '#FFFFFF',\n",
    "    secondary_bg = '#dbeaf0',\n",
    "    default_button = 'rgba(255, 255, 255, 0.87)',\n",
    "    primary_button = 'rgba(255, 255, 255, 0.87)',\n",
    "    secondary_button = 'rgba(0, 0, 0, 0.87)',\n",
    "    default_button_bg = 'rgb(63, 162, 192)',\n",
    "    primary_button_bg = 'rgba(0, 0, 0, 0.65)',\n",
    "    secondary_button_bg = 'rgba(0, 0, 0, 0.12)',    \n",
    "))\n",
    "\n",
    "AppBar = MaterialBuilder.AppBar(\n",
    "    state=\"DrawerIsVisible\", \n",
    "    styles=(\"AppBarStyle\", [\"bar_shifted\", \"bar_normal\"]),\n",
    "    title=\"Kronig Penney Lab\"\n",
    ")\n",
    "\n",
    "logo = t.TeleportElement(t.TeleportContent(elementType=\"img\"))\n",
    "logo.content.attrs[\"width\"] = \"120\"\n",
    "logo.content.attrs[\"src\"] = \"https://nanohub.org/app/site/media/images/PressKit/nanoHUB_logo_color.jpg\"\n",
    "AppBar.content.children[0].addContent(logo)"
   ]
  },
  {
   "cell_type": "markdown",
   "metadata": {},
   "source": [
    "## Creating Expansion panels"
   ]
  },
  {
   "cell_type": "code",
   "execution_count": null,
   "metadata": {},
   "outputs": [],
   "source": [
    "Project.globals.assets.append({\"type\": \"style\", \"content\": \".bar_shifted {margin-left:350px;}\"})\n",
    "Project.globals.assets.append({ \"type\": \"style\", \"content\": \".bar_normal {margin-left:0px}\"})\n",
    "ExpansionPanel = MaterialBuilder.ExpansionPanel(\n",
    "    title=\"Results\", \n",
    "    content=[Results],\n",
    "    expanded={\n",
    "      \"type\": \"dynamic\",\n",
    "      \"content\": {\n",
    "        \"referenceType\": \"state\",\n",
    "        \"id\": \"open_results\"\n",
    "      }    \n",
    "    },     \n",
    ")\n",
    "ExpansionPanel.content.events['change'] = [{ \"type\": \"stateChange\", \"modifies\": \"open_results\",\"newState\": \"$toggle\"}]\n",
    "Drawer.addContent(ExpansionPanel)\n",
    "\n",
    "ParametersPanel = MaterialBuilder.ExpansionPanel(\n",
    "    title=\"Parameters\", \n",
    "    expanded={\n",
    "      \"type\": \"dynamic\",\n",
    "      \"content\": {\n",
    "        \"referenceType\": \"state\",\n",
    "        \"id\": \"open_params\"\n",
    "      }    \n",
    "    }, \n",
    "    content=[Settings]\n",
    ")\n",
    "ParametersPanel.content.events['change'] = [{ \"type\": \"stateChange\", \"modifies\": \"open_params\",\"newState\": \"$toggle\"}]\n",
    "Drawer.addContent(ParametersPanel)\n"
   ]
  },
  {
   "cell_type": "markdown",
   "metadata": {},
   "source": [
    "## Creating reset button"
   ]
  },
  {
   "cell_type": "code",
   "execution_count": null,
   "metadata": {},
   "outputs": [],
   "source": [
    "Gridt = t.TeleportElement(MaterialContent(elementType=\"Grid\"))\n",
    "Gridt.content.attrs[\"color\"] = \"secondary\"\n",
    "Gridt.content.attrs[\"container\"] = True\n",
    "Gridt.content.attrs[\"direction\"] = \"column\"\n",
    "resetSettings = {}\n",
    "for k,v in SETTINGS.items():\n",
    "    resetSettings[k] = v[\"default_value\"]\n",
    "\n",
    "Buttontt= MaterialBuilder.Button(\n",
    "      title = \"Reset Setting\", \n",
    "      variant = \"text\", \n",
    "      style = {'backgroundColor':'#999999', 'borderRadius' : '0px', 'minHeight':'40px', 'color':'rgba(255, 255, 255, 0.87)'}, \n",
    "      onClickButton=[{ \"type\": \"stateChange\", \"modifies\": \"parameters\",\"newState\": resetSettings}]\n",
    ")\n",
    "Gridt.addContent(Buttontt)\n",
    "Drawer.addContent(Gridt)"
   ]
  },
  {
   "cell_type": "markdown",
   "metadata": {},
   "source": [
    "## Creating ploting component"
   ]
  },
  {
   "cell_type": "code",
   "execution_count": null,
   "metadata": {},
   "outputs": [],
   "source": [
    "BasePlot = PlotlyBuilder.BasePlot( Project, Component, style_state=\"AppBarStyle\")\n"
   ]
  },
  {
   "cell_type": "code",
   "execution_count": null,
   "metadata": {},
   "outputs": [],
   "source": [
    "ThemeProvider.addContent(Login)\n"
   ]
  },
  {
   "cell_type": "markdown",
   "metadata": {},
   "source": [
    "## Assembling the app"
   ]
  },
  {
   "cell_type": "code",
   "execution_count": null,
   "metadata": {
    "scrolled": false
   },
   "outputs": [],
   "source": [
    "Gridh = t.TeleportElement(MaterialContent(elementType=\"Grid\"))\n",
    "Gridh.content.attrs[\"container\"] = True\n",
    "Gridh.content.attrs[\"direction\"] = \"row\" \n",
    "Gridh.addContent(Drawer)\n",
    "Gridh.addContent(BasePlot)  \n",
    "\n",
    "Gridv = t.TeleportElement(MaterialContent(elementType=\"Grid\"))\n",
    "Gridv.content.attrs[\"container\"] = True\n",
    "Gridv.content.attrs[\"direction\"] = \"column\"\n",
    "Gridv.addContent(AppBar)\n",
    "Gridv.addContent(Gridh)\n",
    "\n",
    "\n",
    "ThemeProvider.addContent(Gridv)\n",
    "ThemeProvider.addContent(Loader)\n",
    "ThemeProvider.addContent(ErrorMessage)\n",
    "\n",
    "Component.addNode(ThemeProvider)\n",
    "Project.buildReact( TOOLNAME+auth_data[\"sessiontoken\"]+\".html\");"
   ]
  },
  {
   "cell_type": "markdown",
   "metadata": {},
   "source": [
    "## Displaying the app in jupyter"
   ]
  },
  {
   "cell_type": "code",
   "execution_count": null,
   "metadata": {
    "scrolled": false
   },
   "outputs": [],
   "source": [
    "from IPython.core.display import display\n",
    "from IPython.display import IFrame\n",
    "display(IFrame(src=TOOLNAME+auth_data[\"sessiontoken\"]+\".html\", width=\"100%\", height=\"800\"))"
   ]
  },
  {
   "cell_type": "code",
   "execution_count": null,
   "metadata": {},
   "outputs": [],
   "source": []
  },
  {
   "cell_type": "code",
   "execution_count": null,
   "metadata": {},
   "outputs": [],
   "source": []
  },
  {
   "cell_type": "code",
   "execution_count": null,
   "metadata": {},
   "outputs": [],
   "source": []
  }
 ],
 "metadata": {
  "kernelspec": {
   "display_name": "Python 3",
   "language": "python",
   "name": "python3"
  },
  "language_info": {
   "codemirror_mode": {
    "name": "ipython",
    "version": 3
   },
   "file_extension": ".py",
   "mimetype": "text/x-python",
   "name": "python",
   "nbconvert_exporter": "python",
   "pygments_lexer": "ipython3",
   "version": "3.7.3"
  }
 },
 "nbformat": 4,
 "nbformat_minor": 2
}
