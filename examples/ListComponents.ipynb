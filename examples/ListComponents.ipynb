{
 "cells": [
  {
   "cell_type": "code",
   "execution_count": null,
   "id": "53d8f691",
   "metadata": {
    "ExecuteTime": {
     "end_time": "2022-03-30T19:51:44.197039Z",
     "start_time": "2022-03-30T19:51:43.947512Z"
    }
   },
   "outputs": [],
   "source": [
    "import ipywidgets as widgets\n",
    "from traitlets import Unicode, Integer, validate, TraitError\n",
    "import sys\n",
    "from IPython.display import HTML, Javascript, display\n",
    "import nanohubuidl\n",
    "import nanohubuidl.teleport as t\n",
    "from nanohubuidl.rappture import RapptureBuilder\n",
    "from nanohubuidl.material import MaterialBuilder\n",
    "from nanohubuidl.material import MaterialContent, MaterialComponents\n",
    "from nanohubuidl.plotly import PlotlyBuilder\n",
    "from nanohubuidl.teleport import TeleportElement, TeleportContent, TeleportComponent\n",
    "from nanohubuidl.app import AppBuilder, FormHelper\n",
    "from nanohubuidl.ipywidgets import buildWidget\n",
    "\n",
    "component = \"MyComponent\"\n",
    "Project = t.TeleportProject(component)\n",
    "Component = Project.root\n",
    "Component.addPropVariable(\"onChange\", {\"type\":\"func\", \"defaultValue\": \"(e)=>{return e; }\"})\n",
    "\n",
    "SETTINGS = {}\n",
    "\n",
    "SETTINGS[\"i1\"]  = {\n",
    "    \"type\": \"IntListAsString\",\n",
    "    \"default_value\": [2],\n",
    "    \"description\" : \"d1\",\n",
    "    \"label\" : \"l1\",\n",
    "}\n",
    "SETTINGS[\"i2\"] = {\n",
    "    \"type\": \"NumberListAsString\",\n",
    "    \"default_value\": [2],\n",
    "    \"description\" : \"d2\",\n",
    "    \"label\" : \"l2\",\n",
    "}\n",
    "SETTINGS[\"i3\"] = {\n",
    "    \"type\": \"StringListAsString\",\n",
    "    \"default_value\": ['2'],\n",
    "    \"description\" : \"d3\",\n",
    "    \"label\" : \"l3\",\n",
    "}\n",
    "SETTINGS[\"i4\"] = {\n",
    "    \"type\": \"DictionaryAsString\",\n",
    "    \"default_value\": {\"2\":2},\n",
    "    \"description\" : \"d4\",\n",
    "    \"label\" : \"l4\",\n",
    "}\n",
    "LAYOUT = {\n",
    "    'input': {\n",
    "        'type': 'group',\n",
    "        'id': '',\n",
    "        'label': 'Inputs',\n",
    "        'enable': None,\n",
    "        'layout': 'vertical',\n",
    "        'children': [\n",
    "            {\n",
    "                'type': 'list',\n",
    "                'id': 'i1',\n",
    "                'enable': None\n",
    "            },{\n",
    "                'type': 'list',\n",
    "                'id': 'i2',\n",
    "                'enable': None\n",
    "            },{\n",
    "                'type': 'list',\n",
    "                'id': 'i3',\n",
    "                'enable': None\n",
    "            },{\n",
    "                'type': 'dict',\n",
    "                'id': 'i4',\n",
    "                'enable': None\n",
    "            }\n",
    "        ]\n",
    "   }          \n",
    "}\n",
    "\n",
    "url_sim = \"https://nanohub.org/api/dbexplorer/simtools\"\n",
    "TOOLNAME = \"st4pnjunction\"\n",
    "REVISION = 6\n",
    "PNTOYSettings = AppBuilder.Settings(\n",
    "    Project,\n",
    "    Component, \n",
    "    SETTINGS,\n",
    "    url=url_sim,\n",
    "    toolname = TOOLNAME,\n",
    "    revision = REVISION,\n",
    "    layout = LAYOUT['input'],\n",
    "    outputs = [],\n",
    "    runSimulation = \"simtool\"\n",
    ")\n",
    "\n",
    "\n",
    "Component.addNode(PNTOYSettings)\n",
    "Project.buildReact( \"test.html\");"
   ]
  },
  {
   "cell_type": "code",
   "execution_count": null,
   "id": "ed0a2ce0",
   "metadata": {
    "ExecuteTime": {
     "end_time": "2022-03-30T19:51:45.152468Z",
     "start_time": "2022-03-30T19:51:45.140715Z"
    }
   },
   "outputs": [],
   "source": [
    "from IPython.core.display import display\n",
    "from IPython.display import IFrame\n",
    "display(IFrame(src=\"test.html\", width=\"100%\", height=\"800\"))\n"
   ]
  },
  {
   "cell_type": "code",
   "execution_count": null,
   "id": "51dbd212",
   "metadata": {
    "ExecuteTime": {
     "end_time": "2022-03-30T19:54:06.681627Z",
     "start_time": "2022-03-30T19:54:06.677034Z"
    }
   },
   "outputs": [],
   "source": [
    "MyComponentWidget = buildWidget(Project);"
   ]
  },
  {
   "cell_type": "code",
   "execution_count": null,
   "id": "bf1bdb21",
   "metadata": {
    "ExecuteTime": {
     "end_time": "2022-03-30T19:54:13.584278Z",
     "start_time": "2022-03-30T19:54:13.562575Z"
    }
   },
   "outputs": [],
   "source": [
    "v=MyComponentWidget()\n",
    "v"
   ]
  },
  {
   "cell_type": "code",
   "execution_count": null,
   "id": "ba546457",
   "metadata": {
    "ExecuteTime": {
     "end_time": "2022-03-30T19:56:49.319960Z",
     "start_time": "2022-03-30T19:56:49.315937Z"
    }
   },
   "outputs": [],
   "source": [
    "v.parameters = {'i1': [10], 'i2': [20], 'i3': ['30'], 'i4': {'40': 40}}"
   ]
  },
  {
   "cell_type": "code",
   "execution_count": null,
   "id": "bdaf0ec3",
   "metadata": {},
   "outputs": [],
   "source": [
    "v.parameters"
   ]
  },
  {
   "cell_type": "code",
   "execution_count": null,
   "id": "56dc4c3f",
   "metadata": {},
   "outputs": [],
   "source": []
  }
 ],
 "metadata": {
  "kernelspec": {
   "display_name": "Python 3 (ipykernel)",
   "language": "python",
   "name": "python3"
  },
  "language_info": {
   "codemirror_mode": {
    "name": "ipython",
    "version": 3
   },
   "file_extension": ".py",
   "mimetype": "text/x-python",
   "name": "python",
   "nbconvert_exporter": "python",
   "pygments_lexer": "ipython3",
   "version": "3.9.7"
  },
  "toc": {
   "base_numbering": 1,
   "nav_menu": {},
   "number_sections": true,
   "sideBar": true,
   "skip_h1_title": false,
   "title_cell": "Table of Contents",
   "title_sidebar": "Contents",
   "toc_cell": false,
   "toc_position": {},
   "toc_section_display": true,
   "toc_window_display": false
  },
  "varInspector": {
   "cols": {
    "lenName": 16,
    "lenType": 16,
    "lenVar": 40
   },
   "kernels_config": {
    "python": {
     "delete_cmd_postfix": "",
     "delete_cmd_prefix": "del ",
     "library": "var_list.py",
     "varRefreshCmd": "print(var_dic_list())"
    },
    "r": {
     "delete_cmd_postfix": ") ",
     "delete_cmd_prefix": "rm(",
     "library": "var_list.r",
     "varRefreshCmd": "cat(var_dic_list()) "
    }
   },
   "types_to_exclude": [
    "module",
    "function",
    "builtin_function_or_method",
    "instance",
    "_Feature"
   ],
   "window_display": false
  },
  "vscode": {
   "interpreter": {
    "hash": "aee8b7b246df8f9039afb4144a1f6fd8d2ca17a180786b69acc140d282b71a49"
   }
  }
 },
 "nbformat": 4,
 "nbformat_minor": 5
}
