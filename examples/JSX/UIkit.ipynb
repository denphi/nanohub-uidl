{
 "cells": [
  {
   "cell_type": "code",
   "execution_count": null,
   "metadata": {},
   "outputs": [],
   "source": [
    "from nanohubuidl.ipywidgets import buildJSX\n",
    "import ipywidgets as w"
   ]
  },
  {
   "cell_type": "code",
   "execution_count": null,
   "metadata": {},
   "outputs": [],
   "source": [
    "UIKIT = buildJSX('''\n",
    "<div class=\"uk-child-width-expand@s uk-text-center uk-grid\">\n",
    "    <div>\n",
    "        <div class=\"uk-card uk-card-default uk-card-body\">\n",
    "            <button class=\"uk-button uk-button-default\" type=\"button\">Click1</button>\n",
    "        </div>    </div>\n",
    "    <div>\n",
    "        <div class=\"uk-card uk-card-default uk-card-body\">\n",
    "            <button class=\"uk-button uk-button-default\" type=\"button\">Click2</button>\n",
    "        </div>  \n",
    "    </div>\n",
    "\n",
    "</div>\n",
    "<div class=\"uk-child-width-expand@s uk-text-center uk-grid\">\n",
    "    <div>\n",
    "        <div class=\"uk-card uk-card-default uk-card-body\">\n",
    "            <button class=\"uk-button uk-button-default\" type=\"button\">Click3</button>\n",
    "        </div>\n",
    "    </div>    \n",
    "    <div>\n",
    "        <div class=\"uk-card uk-card-default uk-card-body\">\n",
    "            <button class=\"uk-button uk-button-default\" type=\"button\">Click4</button>\n",
    "        </div>\n",
    "    </div>\n",
    "</div>\n",
    "''', styles='''\n",
    "<link rel=\"stylesheet\" href=\"https://cdn.jsdelivr.net/npm/uikit@3.4.0/dist/css/uikit.min.css\" />\n",
    "''');"
   ]
  },
  {
   "cell_type": "code",
   "execution_count": null,
   "metadata": {},
   "outputs": [],
   "source": [
    "tabs = UIKIT()"
   ]
  },
  {
   "cell_type": "code",
   "execution_count": null,
   "metadata": {
    "scrolled": false
   },
   "outputs": [],
   "source": [
    "w.VBox([tabs])"
   ]
  },
  {
   "cell_type": "code",
   "execution_count": null,
   "metadata": {},
   "outputs": [],
   "source": []
  },
  {
   "cell_type": "code",
   "execution_count": null,
   "metadata": {},
   "outputs": [],
   "source": []
  },
  {
   "cell_type": "code",
   "execution_count": null,
   "metadata": {},
   "outputs": [],
   "source": []
  }
 ],
 "metadata": {
  "kernelspec": {
   "display_name": "Python 3 (ipykernel)",
   "language": "python",
   "name": "python3"
  },
  "language_info": {
   "codemirror_mode": {
    "name": "ipython",
    "version": 3
   },
   "file_extension": ".py",
   "mimetype": "text/x-python",
   "name": "python",
   "nbconvert_exporter": "python",
   "pygments_lexer": "ipython3",
   "version": "3.8.10"
  },
  "widgets": {
   "application/vnd.jupyter.widget-state+json": {
    "state": {
     "068a358be5fa48a8aace97e563f7e952": {
      "model_module": "@jupyter-widgets/controls",
      "model_module_version": "1.4.0",
      "model_name": "SliderStyleModel",
      "state": {
       "description_width": ""
      }
     },
     "0b2d90614db949ea800fb8689194d091": {
      "model_module": "UIDLa34119f906164df4be871f283816039f",
      "model_module_version": "1.1.0",
      "model_name": "UIDLa34119f906164df4be871f283816039fModel",
      "state": {
       "_dom_classes": [],
       "_model_module": "UIDLa34119f906164df4be871f283816039f",
       "_model_name": "UIDLa34119f906164df4be871f283816039fModel",
       "_view_module": "UIDLa34119f906164df4be871f283816039f",
       "_view_module_version": "0.1.0",
       "_view_name": "UIDLa34119f906164df4be871f283816039fView",
       "children": [
        "IPY_MODEL_0cc2dd0379564315a8e039132701eea2"
       ],
       "class1": "ui bottom attached tab segment",
       "class2": "ui bottom attached tab segment",
       "class3": "ui bottom attached tab segment active",
       "first": "item",
       "layout": "IPY_MODEL_4be2a5920a1049089ae2a8fadd654f66",
       "second": "item",
       "tab": "first",
       "third": "item active",
       "value": 10
      }
     },
     "0b7328af23df4b55a13e21bc55b6ebab": {
      "model_module": "@jupyter-widgets/base",
      "model_module_version": "1.1.0",
      "model_name": "LayoutModel",
      "state": {}
     },
     "0b751f67cb73492cabe3137a661969ab": {
      "model_module": "@jupyter-widgets/base",
      "model_module_version": "1.1.0",
      "model_name": "LayoutModel",
      "state": {}
     },
     "0cc2dd0379564315a8e039132701eea2": {
      "model_module": "@jupyter-widgets/controls",
      "model_module_version": "1.4.0",
      "model_name": "IntSliderModel",
      "state": {
       "layout": "IPY_MODEL_f4853ab8cd9745bbbfee2b3c3802427a",
       "style": "IPY_MODEL_c2c5b6f80c9d4c5c83f095bf24deb21c",
       "value": 83
      }
     },
     "0d51f042c4b84e5983a2a0879eed32d9": {
      "model_module": "@jupyter-widgets/base",
      "model_module_version": "1.1.0",
      "model_name": "LayoutModel",
      "state": {}
     },
     "14bbe69db53f4c4abe1fed3cef646edc": {
      "model_module": "@jupyter-widgets/controls",
      "model_module_version": "1.4.0",
      "model_name": "VBoxModel",
      "state": {
       "children": [
        "IPY_MODEL_3e88a2eb9dc841ffa52fa70f9eed2b83"
       ],
       "layout": "IPY_MODEL_71d0b888e6674dff92da7442fbc9fe2c"
      }
     },
     "14c532b9a37e4b4db228ca3e9b91e467": {
      "model_module": "@jupyter-widgets/output",
      "model_module_version": "1.0.0",
      "model_name": "OutputModel",
      "state": {
       "layout": "IPY_MODEL_82141e96b1ad4e608bae9f7ee331c473",
       "outputs": [
        {
         "name": "stdout",
         "output_type": "stream",
         "text": "DEBUG\n"
        }
       ]
      }
     },
     "1b49266207c249ed9166a6726293c040": {
      "model_module": "@jupyter-widgets/controls",
      "model_module_version": "1.4.0",
      "model_name": "SliderStyleModel",
      "state": {
       "description_width": ""
      }
     },
     "1b76d0b1aa614c07a72cedb7c422ceae": {
      "model_module": "@jupyter-widgets/controls",
      "model_module_version": "1.4.0",
      "model_name": "SliderStyleModel",
      "state": {
       "description_width": ""
      }
     },
     "2ba9699296334748956347ba7132925b": {
      "model_module": "@jupyter-widgets/controls",
      "model_module_version": "1.4.0",
      "model_name": "VBoxModel",
      "state": {
       "children": [
        "IPY_MODEL_a9306f544c4340d38855d5afcc455a19"
       ],
       "layout": "IPY_MODEL_c8de7a581831471eaaae671d3844473d"
      }
     },
     "3138d5e4e3784ffaa931ebe9f0a4bb3f": {
      "model_module": "@jupyter-widgets/base",
      "model_module_version": "1.1.0",
      "model_name": "LayoutModel",
      "state": {}
     },
     "32e4bb5fc439407f986f21a2b2ebc2f9": {
      "model_module": "@jupyter-widgets/base",
      "model_module_version": "1.1.0",
      "model_name": "LayoutModel",
      "state": {}
     },
     "3a6803e1db434cd3ae76de9875332950": {
      "model_module": "@jupyter-widgets/base",
      "model_module_version": "1.1.0",
      "model_name": "LayoutModel",
      "state": {}
     },
     "3e85c49e11a44e819b200a14d4e38488": {
      "model_module": "UIDLed1e2c9502cd4f6bb4c0641862aba7cf",
      "model_module_version": "1.1.0",
      "model_name": "UIDLed1e2c9502cd4f6bb4c0641862aba7cfModel",
      "state": {
       "_dom_classes": [],
       "_model_module": "UIDLed1e2c9502cd4f6bb4c0641862aba7cf",
       "_model_name": "UIDLed1e2c9502cd4f6bb4c0641862aba7cfModel",
       "_view_module": "UIDLed1e2c9502cd4f6bb4c0641862aba7cf",
       "_view_module_version": "0.1.0",
       "_view_name": "UIDLed1e2c9502cd4f6bb4c0641862aba7cfView",
       "children": [
        "IPY_MODEL_c1749abf0f2a40819b9ea0916d369c4c"
       ],
       "class1": "ui bottom attached tab segment",
       "class2": "ui bottom attached tab segment",
       "class3": "ui bottom attached tab segment active",
       "first": "item",
       "layout": "IPY_MODEL_69d616442fe4493fbea5edf7fc2917b1",
       "second": "item",
       "tab": "first",
       "third": "item active",
       "value": 10
      }
     },
     "3e88a2eb9dc841ffa52fa70f9eed2b83": {
      "model_module": "UIDLa34119f906164df4be871f283816039f",
      "model_module_version": "1.1.0",
      "model_name": "UIDLa34119f906164df4be871f283816039fModel",
      "state": {
       "_dom_classes": [],
       "_model_module": "UIDLa34119f906164df4be871f283816039f",
       "_model_name": "UIDLa34119f906164df4be871f283816039fModel",
       "_view_module": "UIDLa34119f906164df4be871f283816039f",
       "_view_module_version": "0.1.0",
       "_view_name": "UIDLa34119f906164df4be871f283816039fView",
       "children": [
        "IPY_MODEL_b74823f6bed54a888ab65a5770bdea25"
       ],
       "class1": "ui bottom attached tab segment active",
       "class2": "ui bottom attached tab segment",
       "class3": "ui bottom attached tab segment",
       "first": "item active",
       "layout": "IPY_MODEL_3138d5e4e3784ffaa931ebe9f0a4bb3f",
       "second": "item",
       "tab": "first",
       "third": "item",
       "value": 10
      }
     },
     "4be2a5920a1049089ae2a8fadd654f66": {
      "model_module": "@jupyter-widgets/base",
      "model_module_version": "1.1.0",
      "model_name": "LayoutModel",
      "state": {}
     },
     "4f259ea0bb204bb68e614359afa65c20": {
      "model_module": "@jupyter-widgets/controls",
      "model_module_version": "1.4.0",
      "model_name": "VBoxModel",
      "state": {
       "children": [
        "IPY_MODEL_7e2de0a2f55348d7a9ae3e47921928f4"
       ],
       "layout": "IPY_MODEL_84394740da3d49108b123cf50c607254"
      }
     },
     "4fb92779858040d4ac92a8d9c1b77da8": {
      "model_module": "@jupyter-widgets/base",
      "model_module_version": "1.1.0",
      "model_name": "LayoutModel",
      "state": {}
     },
     "56a39612b984424eacb5021d17c015e4": {
      "model_module": "@jupyter-widgets/controls",
      "model_module_version": "1.4.0",
      "model_name": "IntSliderModel",
      "state": {
       "layout": "IPY_MODEL_cb597b4b2dfa43bca6ea6cd19fbff26d",
       "style": "IPY_MODEL_e2f844c834c3419ebfa31b712bd8316c"
      }
     },
     "592602ec6be64d10aed1c10c70285ca0": {
      "model_module": "@jupyter-widgets/controls",
      "model_module_version": "1.4.0",
      "model_name": "SliderStyleModel",
      "state": {
       "description_width": ""
      }
     },
     "5e11ed44804840a2be5e6c739fc703b1": {
      "model_module": "@jupyter-widgets/controls",
      "model_module_version": "1.4.0",
      "model_name": "VBoxModel",
      "state": {
       "children": [
        "IPY_MODEL_0b2d90614db949ea800fb8689194d091"
       ],
       "layout": "IPY_MODEL_68e2a4d606a941a1bd4ee7159e99e18a"
      }
     },
     "60cf4a8eed564f1f90a335ea946f9343": {
      "model_module": "UIDL9b8be2843344487e836bdd05df71a6d2",
      "model_module_version": "1.1.0",
      "model_name": "UIDL9b8be2843344487e836bdd05df71a6d2Model",
      "state": {
       "_dom_classes": [],
       "_model_module": "UIDL9b8be2843344487e836bdd05df71a6d2",
       "_model_name": "UIDL9b8be2843344487e836bdd05df71a6d2Model",
       "_view_module": "UIDL9b8be2843344487e836bdd05df71a6d2",
       "_view_module_version": "0.1.0",
       "_view_name": "UIDL9b8be2843344487e836bdd05df71a6d2View",
       "children": [
        "IPY_MODEL_c562356e50014c61bfbcaad99884c409"
       ],
       "class1": "ui bottom attached tab segment active",
       "class2": "ui bottom attached tab segment",
       "class3": "ui bottom attached tab segment",
       "first": "item active",
       "layout": "IPY_MODEL_cfa78379bb424c8e926db78041c4b666",
       "second": "item",
       "tab": "third",
       "third": "item",
       "value": 10
      }
     },
     "67c2b50afa7349e0994c3eb52e3878ce": {
      "model_module": "@jupyter-widgets/base",
      "model_module_version": "1.1.0",
      "model_name": "LayoutModel",
      "state": {}
     },
     "67dd294d784a45ed9a235b9f09f26140": {
      "model_module": "@jupyter-widgets/controls",
      "model_module_version": "1.4.0",
      "model_name": "VBoxModel",
      "state": {
       "children": [
        "IPY_MODEL_60cf4a8eed564f1f90a335ea946f9343"
       ],
       "layout": "IPY_MODEL_3a6803e1db434cd3ae76de9875332950"
      }
     },
     "68e2a4d606a941a1bd4ee7159e99e18a": {
      "model_module": "@jupyter-widgets/base",
      "model_module_version": "1.1.0",
      "model_name": "LayoutModel",
      "state": {}
     },
     "69d616442fe4493fbea5edf7fc2917b1": {
      "model_module": "@jupyter-widgets/base",
      "model_module_version": "1.1.0",
      "model_name": "LayoutModel",
      "state": {}
     },
     "70c120d419c4473cab8c97611693d467": {
      "model_module": "@jupyter-widgets/base",
      "model_module_version": "1.1.0",
      "model_name": "LayoutModel",
      "state": {}
     },
     "71d0b888e6674dff92da7442fbc9fe2c": {
      "model_module": "@jupyter-widgets/base",
      "model_module_version": "1.1.0",
      "model_name": "LayoutModel",
      "state": {}
     },
     "74e8c2af0eb34024b70613a08cadf64a": {
      "model_module": "@jupyter-widgets/base",
      "model_module_version": "1.1.0",
      "model_name": "LayoutModel",
      "state": {}
     },
     "7e2de0a2f55348d7a9ae3e47921928f4": {
      "model_module": "UIDL0efa75ad218447c5b0999e620ab788bf",
      "model_module_version": "1.1.0",
      "model_name": "UIDL0efa75ad218447c5b0999e620ab788bfModel",
      "state": {
       "_dom_classes": [],
       "_model_module": "UIDL0efa75ad218447c5b0999e620ab788bf",
       "_model_name": "UIDL0efa75ad218447c5b0999e620ab788bfModel",
       "_view_module": "UIDL0efa75ad218447c5b0999e620ab788bf",
       "_view_module_version": "0.1.0",
       "_view_name": "UIDL0efa75ad218447c5b0999e620ab788bfView",
       "children": [
        "IPY_MODEL_8032d95747b94204b1cc236dae2797ce"
       ],
       "class1": "ui bottom attached tab segment",
       "class2": "ui bottom attached tab segment",
       "class3": "ui bottom attached tab segment active",
       "first": "item",
       "layout": "IPY_MODEL_67c2b50afa7349e0994c3eb52e3878ce",
       "second": "item",
       "tab": "third",
       "third": "item active",
       "value": 2323
      }
     },
     "8032d95747b94204b1cc236dae2797ce": {
      "model_module": "@jupyter-widgets/controls",
      "model_module_version": "1.4.0",
      "model_name": "IntSliderModel",
      "state": {
       "layout": "IPY_MODEL_f4e412d84dca482e8322fe0baa8aa903",
       "style": "IPY_MODEL_80c118197c434e3eaeef5ceb04fa6282",
       "value": 41
      }
     },
     "80c118197c434e3eaeef5ceb04fa6282": {
      "model_module": "@jupyter-widgets/controls",
      "model_module_version": "1.4.0",
      "model_name": "SliderStyleModel",
      "state": {
       "description_width": ""
      }
     },
     "819b055afdb84380ae492ceb46e5e69a": {
      "model_module": "@jupyter-widgets/base",
      "model_module_version": "1.1.0",
      "model_name": "LayoutModel",
      "state": {}
     },
     "82141e96b1ad4e608bae9f7ee331c473": {
      "model_module": "@jupyter-widgets/base",
      "model_module_version": "1.1.0",
      "model_name": "LayoutModel",
      "state": {}
     },
     "84394740da3d49108b123cf50c607254": {
      "model_module": "@jupyter-widgets/base",
      "model_module_version": "1.1.0",
      "model_name": "LayoutModel",
      "state": {}
     },
     "90da4ca4d95a4fa7a6fbbcb3eff82b7a": {
      "model_module": "UIDLd7b031efe5544781ba4a75046987e545",
      "model_module_version": "1.1.0",
      "model_name": "UIDLd7b031efe5544781ba4a75046987e545Model",
      "state": {
       "_dom_classes": [],
       "_model_module": "UIDLd7b031efe5544781ba4a75046987e545",
       "_model_name": "UIDLd7b031efe5544781ba4a75046987e545Model",
       "_view_module": "UIDLd7b031efe5544781ba4a75046987e545",
       "_view_module_version": "0.1.0",
       "_view_name": "UIDLd7b031efe5544781ba4a75046987e545View",
       "children": [
        "IPY_MODEL_ad8ea1c0eb614d6b8e4f39a7e712ab27"
       ],
       "class1": "ui bottom attached tab segment active",
       "class2": "ui bottom attached tab segment",
       "class3": "ui bottom attached tab segment",
       "first": "item active",
       "layout": "IPY_MODEL_eb68529dc455490a9a7651dd3cc839a9",
       "second": "item",
       "tab": "first",
       "third": "item",
       "value": 10
      }
     },
     "a136812eb6694ff4ae7c0b836da2a77b": {
      "model_module": "@jupyter-widgets/output",
      "model_module_version": "1.0.0",
      "model_name": "OutputModel",
      "state": {
       "layout": "IPY_MODEL_0b7328af23df4b55a13e21bc55b6ebab",
       "outputs": [
        {
         "name": "stdout",
         "output_type": "stream",
         "text": "DEBUG\n"
        }
       ]
      }
     },
     "a9306f544c4340d38855d5afcc455a19": {
      "model_module": "UIDLd4c1f48047714ce49709cfbb58b07038",
      "model_module_version": "1.1.0",
      "model_name": "UIDLd4c1f48047714ce49709cfbb58b07038Model",
      "state": {
       "_dom_classes": [],
       "_model_module": "UIDLd4c1f48047714ce49709cfbb58b07038",
       "_model_name": "UIDLd4c1f48047714ce49709cfbb58b07038Model",
       "_view_module": "UIDLd4c1f48047714ce49709cfbb58b07038",
       "_view_module_version": "0.1.0",
       "_view_name": "UIDLd4c1f48047714ce49709cfbb58b07038View",
       "children": [
        "IPY_MODEL_56a39612b984424eacb5021d17c015e4"
       ],
       "class1": "ui bottom attached tab segment active",
       "class2": "ui bottom attached tab segment",
       "class3": "ui bottom attached tab segment",
       "first": "item active",
       "layout": "IPY_MODEL_0b751f67cb73492cabe3137a661969ab",
       "second": "item",
       "tab": "first",
       "third": "item",
       "value": 10
      }
     },
     "ad8ea1c0eb614d6b8e4f39a7e712ab27": {
      "model_module": "@jupyter-widgets/controls",
      "model_module_version": "1.4.0",
      "model_name": "IntSliderModel",
      "state": {
       "layout": "IPY_MODEL_e7798922587e42c3a7bd2c5bccd3c5e7",
       "style": "IPY_MODEL_068a358be5fa48a8aace97e563f7e952",
       "value": 10
      }
     },
     "b74823f6bed54a888ab65a5770bdea25": {
      "model_module": "@jupyter-widgets/controls",
      "model_module_version": "1.4.0",
      "model_name": "IntSliderModel",
      "state": {
       "layout": "IPY_MODEL_4fb92779858040d4ac92a8d9c1b77da8",
       "style": "IPY_MODEL_1b76d0b1aa614c07a72cedb7c422ceae",
       "value": 10
      }
     },
     "c1749abf0f2a40819b9ea0916d369c4c": {
      "model_module": "@jupyter-widgets/controls",
      "model_module_version": "1.4.0",
      "model_name": "IntSliderModel",
      "state": {
       "layout": "IPY_MODEL_70c120d419c4473cab8c97611693d467",
       "style": "IPY_MODEL_592602ec6be64d10aed1c10c70285ca0"
      }
     },
     "c2c5b6f80c9d4c5c83f095bf24deb21c": {
      "model_module": "@jupyter-widgets/controls",
      "model_module_version": "1.4.0",
      "model_name": "SliderStyleModel",
      "state": {
       "description_width": ""
      }
     },
     "c562356e50014c61bfbcaad99884c409": {
      "model_module": "@jupyter-widgets/controls",
      "model_module_version": "1.4.0",
      "model_name": "IntSliderModel",
      "state": {
       "layout": "IPY_MODEL_74e8c2af0eb34024b70613a08cadf64a",
       "style": "IPY_MODEL_1b49266207c249ed9166a6726293c040",
       "value": 10
      }
     },
     "c8de7a581831471eaaae671d3844473d": {
      "model_module": "@jupyter-widgets/base",
      "model_module_version": "1.1.0",
      "model_name": "LayoutModel",
      "state": {}
     },
     "cb597b4b2dfa43bca6ea6cd19fbff26d": {
      "model_module": "@jupyter-widgets/base",
      "model_module_version": "1.1.0",
      "model_name": "LayoutModel",
      "state": {}
     },
     "cfa78379bb424c8e926db78041c4b666": {
      "model_module": "@jupyter-widgets/base",
      "model_module_version": "1.1.0",
      "model_name": "LayoutModel",
      "state": {}
     },
     "d1ee9015734d4db39a886859be671f2c": {
      "model_module": "@jupyter-widgets/controls",
      "model_module_version": "1.4.0",
      "model_name": "VBoxModel",
      "state": {
       "children": [
        "IPY_MODEL_3e85c49e11a44e819b200a14d4e38488"
       ],
       "layout": "IPY_MODEL_32e4bb5fc439407f986f21a2b2ebc2f9"
      }
     },
     "e209bc19b88843d4a9b804a460b31b43": {
      "model_module": "@jupyter-widgets/output",
      "model_module_version": "1.0.0",
      "model_name": "OutputModel",
      "state": {
       "layout": "IPY_MODEL_819b055afdb84380ae492ceb46e5e69a",
       "outputs": [
        {
         "name": "stdout",
         "output_type": "stream",
         "text": "DEBUG\n"
        }
       ]
      }
     },
     "e2f844c834c3419ebfa31b712bd8316c": {
      "model_module": "@jupyter-widgets/controls",
      "model_module_version": "1.4.0",
      "model_name": "SliderStyleModel",
      "state": {
       "description_width": ""
      }
     },
     "e7798922587e42c3a7bd2c5bccd3c5e7": {
      "model_module": "@jupyter-widgets/base",
      "model_module_version": "1.1.0",
      "model_name": "LayoutModel",
      "state": {}
     },
     "eb68529dc455490a9a7651dd3cc839a9": {
      "model_module": "@jupyter-widgets/base",
      "model_module_version": "1.1.0",
      "model_name": "LayoutModel",
      "state": {}
     },
     "f38a1107ae444656b392dacfb8d5117d": {
      "model_module": "@jupyter-widgets/controls",
      "model_module_version": "1.4.0",
      "model_name": "VBoxModel",
      "state": {
       "children": [
        "IPY_MODEL_7e2de0a2f55348d7a9ae3e47921928f4"
       ],
       "layout": "IPY_MODEL_0d51f042c4b84e5983a2a0879eed32d9"
      }
     },
     "f4853ab8cd9745bbbfee2b3c3802427a": {
      "model_module": "@jupyter-widgets/base",
      "model_module_version": "1.1.0",
      "model_name": "LayoutModel",
      "state": {}
     },
     "f4e412d84dca482e8322fe0baa8aa903": {
      "model_module": "@jupyter-widgets/base",
      "model_module_version": "1.1.0",
      "model_name": "LayoutModel",
      "state": {}
     }
    },
    "version_major": 2,
    "version_minor": 0
   }
  }
 },
 "nbformat": 4,
 "nbformat_minor": 2
}
