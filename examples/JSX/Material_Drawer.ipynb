{
 "cells": [
  {
   "cell_type": "code",
   "execution_count": 1,
   "metadata": {},
   "outputs": [
    {
     "data": {
      "text/html": [
       "<style>.p-Widget * {font-size: unset;box-sizing:border-box}</style>"
      ],
      "text/plain": [
       "<IPython.core.display.HTML object>"
      ]
     },
     "metadata": {},
     "output_type": "display_data"
    },
    {
     "data": {
      "text/html": [
       "<link rel='stylesheet' href='https://fonts.googleapis.com/icon?family=Material+Icons'/>"
      ],
      "text/plain": [
       "<IPython.core.display.HTML object>"
      ]
     },
     "metadata": {},
     "output_type": "display_data"
    },
    {
     "data": {
      "application/javascript": [
       "require.config({\n",
       "  paths: {\n",
       "    'react': 'https://unpkg.com/react@16.8.6/umd/react.development',\n",
       "    'react-dom': 'https://unpkg.com/react-dom@16.8.6/umd/react-dom.development',\n",
       "    'material-ui': 'https://unpkg.com/@material-ui/core@latest/umd/material-ui.development',\n",
       "    'plotlycomponent': 'https://unpkg.com/react-plotly.js@2.3/dist/create-plotly-component',\n",
       "    'plotly': 'https://cdn.plot.ly/plotly-latest.min',\n",
       "    'math': 'https://cdnjs.cloudflare.com/ajax/libs/mathjs/6.6.1/math.min',\n",
       "    'axios': 'https://unpkg.com/axios/dist/axios.min',\n",
       "    'localforage' : 'https://www.unpkg.com/localforage@1.7.3/dist/localforage.min',\n",
       "    'number-format': 'https://unpkg.com/react-number-format@4.3.1/dist/react-number-format',\n",
       "    'prop-types': 'https://unpkg.com/prop-types@15.6/prop-types.min',\n",
       "  }\n",
       "});\n",
       "require.undef('UIDL15eefc79e55940968ca2279600d6bd56')\n",
       "  define('UIDL15eefc79e55940968ca2279600d6bd56', [\n",
       "    '@jupyter-widgets/base',\n",
       "    'react', \n",
       "    'react-dom',\n",
       "    'material-ui',\n",
       "    'number-format',\n",
       "    'axios',\n",
       "    'localforage',\n",
       "    'prop-types',\n",
       "    'plotlycomponent',\n",
       "    'plotly',\n",
       "    'math'\n",
       "  ], function(\n",
       "    widgets, \n",
       "    React, \n",
       "    ReactDOM,\n",
       "    Material,\n",
       "    Format,\n",
       "    Axios,\n",
       "    LocalForage,\n",
       "    PropTypes,\n",
       "    PlotlyComponent,\n",
       "    Plotly,\n",
       "    math\n",
       "  ) {\n",
       "    const UIDL15eefc79e55940968ca2279600d6bd56View = widgets.DOMWidgetView.extend({\n",
       "      initialize() {\n",
       "      const backbone = this;\n",
       "      backbone.options = {};\n",
       "class UIDL15eefc79e55940968ca2279600d6bd56 extends React.Component {\n",
       "constructor(props) {\n",
       "super(props);\n",
       "let self=this;\n",
       "this.state = {\n",
       "'title' : backbone.model.get('title'), \n",
       "};\n",
       "}; \n",
       "render(){\n",
       "let self=this;\n",
       "return React.createElement(Material.Paper, {key:'cda36f81-3020-466e-aadb-9007c81f28b0'},\n",
       "React.createElement(Material.AppBar, {key:'d90978d1-96d1-4ca8-a1db-2c9aabe0b647' ,'position': \"relative\"},\n",
       "React.createElement(Material.Toolbar, {key:'37329070-8501-49a8-aa23-719931e71125'},[\n",
       "React.createElement(Material.IconButton, {key:'0a03527b-ea12-473d-9cd3-625113917d7a' ,'color': \"inherit\" ,'aria-label': \"open drawer\" ,'edge': \"start\" ,'onClick': function(e){  self.props.onClick('');\n",
       "}},\n",
       "React.createElement(Material.Icon, {key:'842257ef-6b0f-4eb2-8b1e-bfe8946628af'},\n",
       " 'menu' )\n",
       ")\n",
       " ,React.createElement(Material.Typography, {key:'eeebd26c-0591-479e-9200-96b68d234f1d' ,'variant': \"h6\" ,'noWrap': \"true\"},\n",
       " self.state.title )\n",
       "])\n",
       ")\n",
       ")\n",
       ";\n",
       "}\n",
       "}\n",
       "UIDL15eefc79e55940968ca2279600d6bd56.defaultProps = {\n",
       "'onClick' : (e)=>{ event.preventDefault(); backbone.send({ event: 'onClick', 'params' : ((e)=>{return e; })(e) });}, \n",
       "}\n",
       "      const orig = UIDL15eefc79e55940968ca2279600d6bd56.prototype.setState;\n",
       "      UIDL15eefc79e55940968ca2279600d6bd56.prototype.onChange = function (model){\n",
       "        orig.apply(this, [Object.assign({},model.changed)]);\n",
       "      }\n",
       "      UIDL15eefc79e55940968ca2279600d6bd56.prototype.componentDidMount = function(){\n",
       "        backbone.listenTo(backbone.model, 'change', this.onChange.bind(this));\n",
       "      }\n",
       "      UIDL15eefc79e55940968ca2279600d6bd56.prototype.setState = function(state, callback){\n",
       "        if('title' in state){\n",
       "          state['title'] = String(state['title']);\n",
       "        }\n",
       "        for (let [key, value] of Object.entries(state)) {\n",
       "          backbone.model.set(key, value);\n",
       "        }\n",
       "        backbone.model.save_changes();\n",
       "        orig.apply(this, [state, callback]);\n",
       "      }\n",
       "      const $app = document.createElement('div');\n",
       "      $app.style.padding = '10px';\n",
       "      const App = React.createElement(UIDL15eefc79e55940968ca2279600d6bd56);\n",
       "      ReactDOM.render(App, $app);\n",
       "      backbone.el.append($app);\n",
       "      }\n",
       "    });\n",
       "    return {\n",
       "      UIDL15eefc79e55940968ca2279600d6bd56View\n",
       "    };\n",
       "});\n"
      ],
      "text/plain": [
       "<IPython.core.display.Javascript object>"
      ]
     },
     "metadata": {},
     "output_type": "display_data"
    },
    {
     "data": {
      "text/html": [
       "<style>.p-Widget * {font-size: unset;box-sizing:border-box}</style>"
      ],
      "text/plain": [
       "<IPython.core.display.HTML object>"
      ]
     },
     "metadata": {},
     "output_type": "display_data"
    },
    {
     "data": {
      "text/html": [
       "<link rel='stylesheet' href='https://fonts.googleapis.com/icon?family=Material+Icons'/>"
      ],
      "text/plain": [
       "<IPython.core.display.HTML object>"
      ]
     },
     "metadata": {},
     "output_type": "display_data"
    },
    {
     "data": {
      "application/javascript": [
       "require.config({\n",
       "  paths: {\n",
       "    'react': 'https://unpkg.com/react@16.8.6/umd/react.development',\n",
       "    'react-dom': 'https://unpkg.com/react-dom@16.8.6/umd/react-dom.development',\n",
       "    'material-ui': 'https://unpkg.com/@material-ui/core@latest/umd/material-ui.development',\n",
       "    'plotlycomponent': 'https://unpkg.com/react-plotly.js@2.3/dist/create-plotly-component',\n",
       "    'plotly': 'https://cdn.plot.ly/plotly-latest.min',\n",
       "    'math': 'https://cdnjs.cloudflare.com/ajax/libs/mathjs/6.6.1/math.min',\n",
       "    'axios': 'https://unpkg.com/axios/dist/axios.min',\n",
       "    'localforage' : 'https://www.unpkg.com/localforage@1.7.3/dist/localforage.min',\n",
       "    'number-format': 'https://unpkg.com/react-number-format@4.3.1/dist/react-number-format',\n",
       "    'prop-types': 'https://unpkg.com/prop-types@15.6/prop-types.min',\n",
       "  }\n",
       "});\n",
       "require.undef('UIDLb15997e50d8c47adafa8213be9ab312d')\n",
       "  define('UIDLb15997e50d8c47adafa8213be9ab312d', [\n",
       "    '@jupyter-widgets/base',\n",
       "    'react', \n",
       "    'react-dom',\n",
       "    'material-ui',\n",
       "    'number-format',\n",
       "    'axios',\n",
       "    'localforage',\n",
       "    'prop-types',\n",
       "    'plotlycomponent',\n",
       "    'plotly',\n",
       "    'math'\n",
       "  ], function(\n",
       "    widgets, \n",
       "    React, \n",
       "    ReactDOM,\n",
       "    Material,\n",
       "    Format,\n",
       "    Axios,\n",
       "    LocalForage,\n",
       "    PropTypes,\n",
       "    PlotlyComponent,\n",
       "    Plotly,\n",
       "    math\n",
       "  ) {\n",
       "    const UIDLb15997e50d8c47adafa8213be9ab312dView = widgets.DOMWidgetView.extend({\n",
       "      initialize() {\n",
       "      const backbone = this;\n",
       "      backbone.options = {};\n",
       "class UIDLb15997e50d8c47adafa8213be9ab312d extends React.Component {\n",
       "constructor(props) {\n",
       "super(props);\n",
       "let self=this;\n",
       "this.state = {\n",
       "'anchor' : backbone.model.get('anchor'), \n",
       "'is_open' : backbone.model.get('is_open'), \n",
       "};\n",
       "}; \n",
       "render(){\n",
       "let self=this;\n",
       "return React.createElement(Material.Paper, {key:'42216977-44b1-4fb5-930d-e9f8ea17b6ca'},\n",
       "React.createElement(Material.Drawer, {key:'a49105e1-34a2-4cad-8829-32b8eb6d7799' ,'variant': \"persistent\" ,'anchor': self.state.anchor ,'open': self.state.is_open},\n",
       "React.createElement('div', {key:'24f3d6b0-5997-4314-8145-235df837fbc7' ,'style': {\"top\": \"120px\", \"position\": \"relative\"}},[\n",
       "React.createElement(Material.IconButton, {key:'d687b683-c72f-4b0c-94f5-81008d225d90' ,'onClick': function(e){  self.setState({'is_open':false}); self.props.onChange({'id':'is_open', 'value':false});\n",
       "}},\n",
       "React.createElement(Material.Icon, {key:'b007f98f-eded-45d5-89ea-ad2a9e6035ea'},\n",
       " 'menu' )\n",
       ")\n",
       " ,React.createElement(Material.Divider, {key:'c2cc2e5e-abec-463c-9ed0-c8a24eb2d176'})\n",
       " ,React.createElement(Material.List, {key:'08ead584-435c-423f-aa8b-f9d3c4fa2879'},[\n",
       "React.createElement(Material.ListItem, {key:'0b6ea626-b1d6-40e4-a216-3d56b64fd85c' ,'button': \"true\" ,'key': \"Pets\" ,'onClick': function(e){  self.props.onClick('Pets');\n",
       "}},\n",
       "React.createElement(Material.ListItemIcon, {key:'d176cf52-f62f-44e1-a428-7a782331a514'},[\n",
       "React.createElement(Material.Icon, {key:'22e7a27f-d4c6-4ea7-9336-ef1cfc8a6df4'},\n",
       " 'pets' )\n",
       " ,React.createElement(Material.ListItemText, {key:'830c3aac-7aad-4855-ac5e-6551baaa91d4' ,'primary': \"Pets\"})\n",
       "])\n",
       ")\n",
       " ,React.createElement(Material.ListItem, {key:'03ae2e33-a980-47f9-9c5b-b6b681eb89c3' ,'button': \"true\" ,'key': \"Work\" ,'onClick': function(e){  self.props.onClick('Work');\n",
       "}},\n",
       "React.createElement(Material.ListItemIcon, {key:'d2c5e74f-c2dd-46e8-be9c-a392120ff2ad'},[\n",
       "React.createElement(Material.Icon, {key:'c3649b0e-4ade-42dc-b292-4dfba5c53e93'},\n",
       " 'work' )\n",
       " ,React.createElement(Material.ListItemText, {key:'27a9c5cb-6d73-4653-811a-6524d6883550' ,'primary': \"Work\"})\n",
       "])\n",
       ")\n",
       " ,React.createElement(Material.ListItem, {key:'85334bc5-2d4c-4c8d-9cb7-092df1ee590f' ,'button': \"true\" ,'key': \"Face\" ,'onClick': function(e){  self.props.onClick('Face');\n",
       "}},\n",
       "React.createElement(Material.ListItemIcon, {key:'a9288b38-79d1-4960-ab61-3bafd39c2192'},[\n",
       "React.createElement(Material.Icon, {key:'cbab26cd-4f78-41ab-92ce-14f1d61f2279'},\n",
       " 'face' )\n",
       " ,React.createElement(Material.ListItemText, {key:'7ef2bb04-2c3b-48e4-9415-9566a142f639' ,'primary': \"Face\"})\n",
       "])\n",
       ")\n",
       "])\n",
       " ,React.createElement(Material.Divider, {key:'e28211b8-aab8-4016-aeff-8f04e232fb66'})\n",
       "])\n",
       ")\n",
       ")\n",
       ";\n",
       "}\n",
       "}\n",
       "UIDLb15997e50d8c47adafa8213be9ab312d.defaultProps = {\n",
       "'onClick' : (e)=>{ event.preventDefault(); backbone.send({ event: 'onClick', 'params' : ((e)=>{return e; })(e) });}, \n",
       "'onChange' : (e)=>{ event.preventDefault(); backbone.send({ event: 'onChange', 'params' : ((e)=>{return e; })(e) });}, \n",
       "}\n",
       "      const orig = UIDLb15997e50d8c47adafa8213be9ab312d.prototype.setState;\n",
       "      UIDLb15997e50d8c47adafa8213be9ab312d.prototype.onChange = function (model){\n",
       "        orig.apply(this, [Object.assign({},model.changed)]);\n",
       "      }\n",
       "      UIDLb15997e50d8c47adafa8213be9ab312d.prototype.componentDidMount = function(){\n",
       "        backbone.listenTo(backbone.model, 'change', this.onChange.bind(this));\n",
       "      }\n",
       "      UIDLb15997e50d8c47adafa8213be9ab312d.prototype.setState = function(state, callback){\n",
       "        if('anchor' in state){\n",
       "          state['anchor'] = String(state['anchor']);\n",
       "        }\n",
       "        if('is_open' in state){\n",
       "          state['is_open'] = [true, 'true', 'True', 'on', 'yes', 'Yes', 'TRUE', 1, 'ON'].includes(state['is_open']);\n",
       "        }\n",
       "        for (let [key, value] of Object.entries(state)) {\n",
       "          backbone.model.set(key, value);\n",
       "        }\n",
       "        backbone.model.save_changes();\n",
       "        orig.apply(this, [state, callback]);\n",
       "      }\n",
       "      const $app = document.createElement('div');\n",
       "      $app.style.padding = '10px';\n",
       "      const App = React.createElement(UIDLb15997e50d8c47adafa8213be9ab312d);\n",
       "      ReactDOM.render(App, $app);\n",
       "      backbone.el.append($app);\n",
       "      }\n",
       "    });\n",
       "    return {\n",
       "      UIDLb15997e50d8c47adafa8213be9ab312dView\n",
       "    };\n",
       "});\n"
      ],
      "text/plain": [
       "<IPython.core.display.Javascript object>"
      ]
     },
     "metadata": {},
     "output_type": "display_data"
    }
   ],
   "source": [
    "from nanohub.uidl.ipywidgets import buildJSX\n",
    "\n",
    "AppBar = buildJSX('''\n",
    "  <Material.AppBar position=\"relative\">\n",
    "    <Material.Toolbar>\n",
    "      <Material.IconButton color=\"inherit\"\n",
    "            aria-label=\"open drawer\"\n",
    "            onClick=\"[propCall(onClick,'')]\"\n",
    "            edge=\"start\">\n",
    "        <Material.Icon>menu</Material.Icon>            \n",
    "      </Material.IconButton>\n",
    "      <Material.Typography variant=\"h6\" noWrap=\"true\">\n",
    "        {title:string(This Toolbar)}\n",
    "      </Material.Typography>\n",
    "    </Material.Toolbar>\n",
    "  </Material.AppBar> \n",
    "''')\n",
    "\n",
    "Drawer = buildJSX('''\n",
    "  <Material.Drawer\n",
    "    variant=\"persistent\"\n",
    "    anchor=\"{anchor:string(left)}\"\n",
    "    open=\"{is_open:boolean(false)}\" \n",
    "    >\n",
    "    <div style=\"top:120px;position:relative\">\n",
    "      <Material.IconButton onClick=\"[stateChange(is_open,false)]\">\n",
    "        <Material.Icon>menu</Material.Icon>                  \n",
    "      </Material.IconButton>\n",
    "        <Material.Divider />\n",
    "        <Material.List>\n",
    "            <Material.ListItem button=\"true\" key=\"Pets\" onClick=\"[propCall(onClick,'Pets')]\">\n",
    "              <Material.ListItemIcon>\n",
    "                  <Material.Icon>pets</Material.Icon>\n",
    "                  <Material.ListItemText primary=\"Pets\" />\n",
    "              </Material.ListItemIcon>\n",
    "            </Material.ListItem>\n",
    "            <Material.ListItem button=\"true\" key=\"Work\" onClick=\"[propCall(onClick,'Work')]\">\n",
    "              <Material.ListItemIcon>\n",
    "                  <Material.Icon>work</Material.Icon>\n",
    "                  <Material.ListItemText primary=\"Work\" />\n",
    "              </Material.ListItemIcon>\n",
    "            </Material.ListItem>\n",
    "            <Material.ListItem button=\"true\" key=\"Face\" onClick=\"[propCall(onClick,'Face')]\">\n",
    "              <Material.ListItemIcon>\n",
    "                  <Material.Icon>face</Material.Icon>\n",
    "                  <Material.ListItemText primary=\"Face\" />\n",
    "              </Material.ListItemIcon>\n",
    "            </Material.ListItem>\n",
    "        </Material.List>\n",
    "        <Material.Divider />    \n",
    "    </div>\n",
    "  </Material.Drawer>\n",
    "''', verbose=False);\n"
   ]
  },
  {
   "cell_type": "code",
   "execution_count": 2,
   "metadata": {},
   "outputs": [
    {
     "data": {
      "application/vnd.jupyter.widget-view+json": {
       "model_id": "ea5e0426470448d9b4993280b557c7e2",
       "version_major": 2,
       "version_minor": 0
      },
      "text/plain": [
       "VBox(children=(UIDL15eefc79e55940968ca2279600d6bd56Widget(), UIDLb15997e50d8c47adafa8213be9ab312dWidget(), Out…"
      ]
     },
     "metadata": {},
     "output_type": "display_data"
    }
   ],
   "source": [
    "import ipywidgets as widgets\n",
    "out = widgets.Output()\n",
    "def openDrawer (**kwargs):\n",
    "    obj = kwargs.get(\"drawer\", None)\n",
    "    if obj.is_open == True:\n",
    "        obj.is_open = False\n",
    "    else :\n",
    "        obj.is_open = True\n",
    "  \n",
    "def test(**kwargs):\n",
    "    global out\n",
    "    with out:\n",
    "        print (kwargs.get('buf',''))\n",
    "        \n",
    "d1 = Drawer(onClick=test)\n",
    "a1 = AppBar(onClick = lambda **k : openDrawer(drawer=d1,**k))\n",
    "widgets.VBox([a1, d1, out])\n"
   ]
  },
  {
   "cell_type": "code",
   "execution_count": 3,
   "metadata": {},
   "outputs": [],
   "source": [
    "d1.is_open = True\n",
    "a1.title = \"Left Toolbar\""
   ]
  },
  {
   "cell_type": "code",
   "execution_count": 4,
   "metadata": {},
   "outputs": [
    {
     "data": {
      "application/vnd.jupyter.widget-view+json": {
       "model_id": "722d7b2e66de481a879c563493bf121e",
       "version_major": 2,
       "version_minor": 0
      },
      "text/plain": [
       "VBox(children=(UIDL15eefc79e55940968ca2279600d6bd56Widget(title='Right Toolbar'), UIDLb15997e50d8c47adafa8213b…"
      ]
     },
     "metadata": {},
     "output_type": "display_data"
    }
   ],
   "source": [
    "d2 = Drawer(anchor=\"right\", onClick=test, is_open=True, )\n",
    "a2 = AppBar(title=\"Right Toolbar\", onClick = lambda **k : openDrawer(drawer=d2,**k))\n",
    "widgets.VBox([a2, d2])\n"
   ]
  },
  {
   "cell_type": "code",
   "execution_count": null,
   "metadata": {},
   "outputs": [],
   "source": []
  },
  {
   "cell_type": "code",
   "execution_count": null,
   "metadata": {},
   "outputs": [],
   "source": []
  }
 ],
 "metadata": {
  "kernelspec": {
   "display_name": "Python 3",
   "language": "python",
   "name": "python3"
  },
  "language_info": {
   "codemirror_mode": {
    "name": "ipython",
    "version": 3
   },
   "file_extension": ".py",
   "mimetype": "text/x-python",
   "name": "python",
   "nbconvert_exporter": "python",
   "pygments_lexer": "ipython3",
   "version": "3.7.3"
  }
 },
 "nbformat": 4,
 "nbformat_minor": 2
}
