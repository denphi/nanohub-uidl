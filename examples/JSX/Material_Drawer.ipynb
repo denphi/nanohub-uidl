{
 "cells": [
  {
   "cell_type": "code",
   "execution_count": 1,
   "metadata": {},
   "outputs": [
    {
     "data": {
      "text/html": [
       "<style>.p-Widget * {font-size: unset;box-sizing:border-box}</style>"
      ],
      "text/plain": [
       "<IPython.core.display.HTML object>"
      ]
     },
     "metadata": {},
     "output_type": "display_data"
    },
    {
     "data": {
      "text/html": [
       "<link rel='stylesheet' href='https://fonts.googleapis.com/icon?family=Material+Icons'/>"
      ],
      "text/plain": [
       "<IPython.core.display.HTML object>"
      ]
     },
     "metadata": {},
     "output_type": "display_data"
    },
    {
     "data": {
      "application/javascript": [
       "require.config({\n",
       "  paths: {\n",
       "    'react': 'https://unpkg.com/react@16.8.6/umd/react.development',\n",
       "    'react-dom': 'https://unpkg.com/react-dom@16.8.6/umd/react-dom.development',\n",
       "    'material-ui': 'https://unpkg.com/@material-ui/core@latest/umd/material-ui.development',\n",
       "    'plotlycomponent': 'https://unpkg.com/react-plotly.js@2.3/dist/create-plotly-component',\n",
       "    'plotly': 'https://cdn.plot.ly/plotly-latest.min',\n",
       "    'math': 'https://cdnjs.cloudflare.com/ajax/libs/mathjs/6.6.1/math.min',\n",
       "    'axios': 'https://unpkg.com/axios/dist/axios.min',\n",
       "    'localforage' : 'https://www.unpkg.com/localforage@1.7.3/dist/localforage.min',\n",
       "    'number-format': 'https://unpkg.com/react-number-format@4.3.1/dist/react-number-format',\n",
       "    'prop-types': 'https://unpkg.com/prop-types@15.6/prop-types.min',\n",
       "  }\n",
       "});\n",
       "require.undef('UIDL04f3dd76c9014b4d8ff80d4a4a735a84')\n",
       "  define('UIDL04f3dd76c9014b4d8ff80d4a4a735a84', [\n",
       "    '@jupyter-widgets/base',\n",
       "    'react', \n",
       "    'react-dom',\n",
       "    'material-ui',\n",
       "    'number-format',\n",
       "    'axios',\n",
       "    'localforage',\n",
       "    'prop-types',\n",
       "    'plotlycomponent',\n",
       "    'plotly',\n",
       "    'math'\n",
       "  ], function(\n",
       "    widgets, \n",
       "    React, \n",
       "    ReactDOM,\n",
       "    Material,\n",
       "    Format,\n",
       "    Axios,\n",
       "    LocalForage,\n",
       "    PropTypes,\n",
       "    PlotlyComponent,\n",
       "    Plotly,\n",
       "    math\n",
       "  ) {\n",
       "    const UIDL04f3dd76c9014b4d8ff80d4a4a735a84View = widgets.DOMWidgetView.extend({\n",
       "      initialize() {\n",
       "      const backbone = this;\n",
       "      backbone.options = {};\n",
       "class UIDL04f3dd76c9014b4d8ff80d4a4a735a84 extends React.Component {\n",
       "constructor(props) {\n",
       "super(props);\n",
       "let self=this;\n",
       "this.state = {\n",
       "'myopen' : backbone.model.get('myopen'), \n",
       "};\n",
       "}; \n",
       "render(){\n",
       "let self=this;\n",
       "return React.createElement('div', {key:'6b94bc4c-4efb-42f8-afb5-aac7291e8c29'},\n",
       "React.createElement('uidl', {key:'1fc25caa-bae6-4686-832c-add0d98d00d3'},\n",
       "React.createElement('div', {key:'2dec6dd4-5f3f-40ac-9e0a-31794b56dc1d' ,'style': {\"position\": \"relative\"}},[\n",
       "React.createElement(Material.AppBar, {key:'deeebe49-061e-4a36-8c88-7356fd3f9fb7' ,'position': \"relative\"},\n",
       "React.createElement(Material.Toolbar, {key:'8a3bc9bf-06ec-402a-90a1-aba80c9b5e5d'},[\n",
       "React.createElement(Material.IconButton, {key:'1abf5944-7764-46dd-aec9-8ea8c9cc805a' ,'color': \"inherit\" ,'aria-label': \"open drawer\" ,'edge': \"start\" ,'onClick': function(e){  self.props.onClick({'id':'myopen', 'value':true});self.setState({'myopen':true}); \n",
       "}},\n",
       "React.createElement(Material.Icon, {key:'35e079af-7f25-43b1-9cd5-6ba7f48d14e6'},\n",
       " 'menu' )\n",
       ")\n",
       " ,React.createElement(Material.Typography, {key:'e8441b43-83da-4bc2-9e6b-2a83e000c043' ,'variant': \"h6\" ,'noWrap': \"true\"},\n",
       " 'Persistent drawer' )\n",
       "])\n",
       ")\n",
       " ,React.createElement(Material.Drawer, {key:'377779dc-901a-4359-b4c5-1c23744ca38f' ,'variant': \"persistent\" ,'anchor': \"left\" ,'open': self.state.myopen ,'style': {\"position\": \"absolute\"}},[\n",
       "React.createElement('div', {key:'e94cf517-03fc-45d5-b572-64eaed5668e0'},\n",
       "React.createElement(Material.IconButton, {key:'d297995f-e2a5-4555-b4c2-1469beaa5e9c' ,'onClick': function(e){  self.props.onClick({'id':'myopen', 'value':false});self.setState({'myopen':false}); \n",
       "}},\n",
       "React.createElement(Material.Icon, {key:'0501bdb3-c253-4246-bb81-5d9e39687de8'},\n",
       " 'menu' )\n",
       ")\n",
       ")\n",
       " ,React.createElement(Material.Divider, {key:'5f6ecaa6-99e9-4221-ae96-4e1c4b978f48'})\n",
       " ,React.createElement(Material.List, {key:'7284962e-50d3-4f46-ad13-37156f0f4efc'},\n",
       "React.createElement(Material.ListItem, {key:'74a57e0b-d593-49e3-b4b2-201f26c5beb2' ,'button': \"true\" ,'key': \"Inbox\"},[\n",
       "React.createElement(Material.ListItemIcon, {key:'44607306-4407-4e5c-8f34-71d425c35af6'})\n",
       " ,React.createElement(Material.Icon, {key:'425094a2-607a-4b09-9722-aacbe56153e0'},\n",
       " 'mail' )\n",
       " ,React.createElement(Material.ListItemText, {key:'cedc8a41-4fd0-42ef-9a10-4566bc252853' ,'primary': \"Inbox\"})\n",
       "])\n",
       ")\n",
       " ,React.createElement(Material.Divider, {key:'55e6e098-0d78-4510-9400-70b30cdfe59f'})\n",
       "])\n",
       " ,React.createElement('div', {key:'543eeeee-399f-4349-906d-3a0f8a195050'},\n",
       "React.createElement(Material.Typography, {key:'fca70273-8a93-4621-a00c-f7627e5eeaeb' ,'paragraph': \"true\"},\n",
       " 'Lorem ipsum dolor sit amet, consectetur adipiscing elit, sed do eiusmod tempor incididunt\\n        Lorem ipsum dolor sit amet, consectetur adipiscing elit, sed do eiusmod tempor incididunt\\n        Lorem ipsum dolor sit amet, asd asdasdd consectetur adipiscing elit, sed do eiusmod tempor incididunt\\n        Lorem ipsum dolor sit amet, consectetur adipiscing elit, sed do eiusmod tempor incididunt' )\n",
       ")\n",
       "])\n",
       ")\n",
       ")\n",
       ";\n",
       "}\n",
       "}\n",
       "UIDL04f3dd76c9014b4d8ff80d4a4a735a84.defaultProps = {\n",
       "'onClick' : (e)=>{ event.preventDefault(); backbone.send({ event: 'onClick', 'params' : ((e)=>{return e; })(e) });}, \n",
       "}\n",
       "      const orig = UIDL04f3dd76c9014b4d8ff80d4a4a735a84.prototype.setState;\n",
       "      UIDL04f3dd76c9014b4d8ff80d4a4a735a84.prototype.onChange = function (model){\n",
       "        orig.apply(this, [Object.assign({},model.changed)]);\n",
       "      }\n",
       "      UIDL04f3dd76c9014b4d8ff80d4a4a735a84.prototype.componentDidMount = function(){\n",
       "        backbone.listenTo(backbone.model, 'change', this.onChange.bind(this));\n",
       "      }\n",
       "      UIDL04f3dd76c9014b4d8ff80d4a4a735a84.prototype.setState = function(state, callback){\n",
       "        if('myopen' in state){\n",
       "          state['myopen'] = [true, 'true', 'True', 'on', 'yes', 'Yes', 'TRUE', 1, 'ON'].includes(state['myopen']);\n",
       "        }\n",
       "        for (let [key, value] of Object.entries(state)) {\n",
       "          backbone.model.set(key, value);\n",
       "        }\n",
       "        backbone.model.save_changes();\n",
       "        orig.apply(this, [state, callback]);\n",
       "      }\n",
       "      const $app = document.createElement('div');\n",
       "      const App = React.createElement(UIDL04f3dd76c9014b4d8ff80d4a4a735a84);\n",
       "      ReactDOM.render(App, $app);\n",
       "      backbone.el.append($app);\n",
       "      }\n",
       "    });\n",
       "    return {\n",
       "      UIDL04f3dd76c9014b4d8ff80d4a4a735a84View\n",
       "    };\n",
       "});\n"
      ],
      "text/plain": [
       "<IPython.core.display.Javascript object>"
      ]
     },
     "metadata": {},
     "output_type": "display_data"
    }
   ],
   "source": [
    "from nanohub.uidl.ipywidgets import buildJSX\n",
    "\n",
    "Drawer = buildJSX('''\n",
    " <div>\n",
    "  <Material.AppBar position=\"relative\">\n",
    "    <Material.Toolbar>\n",
    "      <Material.IconButton color=\"inherit\"\n",
    "            aria-label=\"open drawer\"\n",
    "            onClick=\"[stateChange(myopen,true)]\"\n",
    "            edge=\"start\">\n",
    "        <Material.Icon>menu</Material.Icon>            \n",
    "      </Material.IconButton>\n",
    "      <Material.Typography variant=\"h6\" noWrap=\"true\">\n",
    "        Persistent drawer\n",
    "      </Material.Typography>\n",
    "    </Material.Toolbar>\n",
    "  </Material.AppBar> \n",
    "  <Material.Drawer\n",
    "    variant=\"persistent\"\n",
    "    anchor=\"left\"\n",
    "    open=\"{myopen:boolean(true)}\" \n",
    "    style=\"position:absolute\">\n",
    "    <div>\n",
    "      <Material.IconButton onClick=\"[stateChange(myopen,false)]\">\n",
    "        <Material.Icon>menu</Material.Icon>                  \n",
    "      </Material.IconButton>\n",
    "    </div>\n",
    "    <Material.Divider />\n",
    "    <Material.List>\n",
    "        <Material.ListItem button=\"true\" key=\"Inbox\">\n",
    "          <Material.ListItemIcon>\n",
    "          </Material.ListItemIcon>\n",
    "              <Material.Icon>mail</Material.Icon>\n",
    "          <Material.ListItemText primary=\"Inbox\" />\n",
    "        </Material.ListItem>\n",
    "    </Material.List>\n",
    "    <Material.Divider />    \n",
    "  </Material.Drawer>\n",
    "  <div>\n",
    "    <Material.Typography paragraph=\"true\">\n",
    "        Lorem ipsum dolor sit amet, consectetur adipiscing elit, sed do eiusmod tempor incididunt\n",
    "        Lorem ipsum dolor sit amet, consectetur adipiscing elit, sed do eiusmod tempor incididunt\n",
    "        Lorem ipsum dolor sit amet, asd asdasdd consectetur adipiscing elit, sed do eiusmod tempor incididunt\n",
    "        Lorem ipsum dolor sit amet, consectetur adipiscing elit, sed do eiusmod tempor incididunt\n",
    "    </Material.Typography>\n",
    "  </div>\n",
    "</div>\n",
    "''', verbose=False);\n"
   ]
  },
  {
   "cell_type": "code",
   "execution_count": 2,
   "metadata": {},
   "outputs": [
    {
     "data": {
      "application/vnd.jupyter.widget-view+json": {
       "model_id": "5859265a55ca4a38995c9ec05067b7d0",
       "version_major": 2,
       "version_minor": 0
      },
      "text/plain": [
       "UIDL04f3dd76c9014b4d8ff80d4a4a735a84Widget()"
      ]
     },
     "metadata": {},
     "output_type": "display_data"
    }
   ],
   "source": [
    "d = Drawer()\n",
    "d"
   ]
  },
  {
   "cell_type": "code",
   "execution_count": 3,
   "metadata": {},
   "outputs": [
    {
     "data": {
      "text/plain": [
       "True"
      ]
     },
     "execution_count": 3,
     "metadata": {},
     "output_type": "execute_result"
    }
   ],
   "source": [
    "d.myopen"
   ]
  },
  {
   "cell_type": "code",
   "execution_count": null,
   "metadata": {},
   "outputs": [],
   "source": []
  },
  {
   "cell_type": "code",
   "execution_count": null,
   "metadata": {},
   "outputs": [],
   "source": []
  }
 ],
 "metadata": {
  "kernelspec": {
   "display_name": "Python 3",
   "language": "python",
   "name": "python3"
  },
  "language_info": {
   "codemirror_mode": {
    "name": "ipython",
    "version": 3
   },
   "file_extension": ".py",
   "mimetype": "text/x-python",
   "name": "python",
   "nbconvert_exporter": "python",
   "pygments_lexer": "ipython3",
   "version": "3.7.3"
  }
 },
 "nbformat": 4,
 "nbformat_minor": 2
}
