{
 "cells": [
  {
   "cell_type": "code",
   "execution_count": null,
   "metadata": {
    "ExecuteTime": {
     "end_time": "2022-04-13T14:07:48.880002Z",
     "start_time": "2022-04-13T14:07:48.592203Z"
    }
   },
   "outputs": [],
   "source": [
    "from nanohub.uidl.ipywidgets import buildJSX\n",
    "\n",
    "AppBar = buildJSX('''\n",
    "  <Material.AppBar position=\"relative\">\n",
    "    <Material.Toolbar>\n",
    "      <Material.IconButton color=\"inherit\"\n",
    "            aria-label=\"open drawer\"\n",
    "            onClick=\"[propCall(onClick,'')]\"\n",
    "            edge=\"start\">\n",
    "        <Material.Icon>menu</Material.Icon>            \n",
    "      </Material.IconButton>\n",
    "      <Material.Typography variant=\"h6\" noWrap=\"true\">\n",
    "        {title:string(This Toolbar)}\n",
    "      </Material.Typography>\n",
    "    </Material.Toolbar>\n",
    "  </Material.AppBar> \n",
    "''')\n",
    "\n",
    "Drawer = buildJSX('''\n",
    "  <Material.Drawer\n",
    "    variant=\"persistent\"\n",
    "    anchor=\"{anchor:string(left)}\"\n",
    "    open=\"{is_open:boolean(false)}\" \n",
    "    >\n",
    "    <div style=\"top:120px;position:relative\">\n",
    "      <Material.IconButton onClick=\"[stateChange(is_open,false)]\">\n",
    "        <Material.Icon>menu</Material.Icon>                  \n",
    "      </Material.IconButton>\n",
    "        <Material.Divider />\n",
    "        <Material.List>\n",
    "            <Material.ListItem button=\"true\" key=\"Pets\" onClick=\"[propCall(onClick,'Pets')]\">\n",
    "              <Material.ListItemIcon>\n",
    "                  <Material.Icon>pets</Material.Icon>\n",
    "                  <Material.ListItemText primary=\"Pets\" />\n",
    "              </Material.ListItemIcon>\n",
    "            </Material.ListItem>\n",
    "            <Material.ListItem button=\"true\" key=\"Work\" onClick=\"[propCall(onClick,'Work')]\">\n",
    "              <Material.ListItemIcon>\n",
    "                  <Material.Icon>work</Material.Icon>\n",
    "                  <Material.ListItemText primary=\"Work\" />\n",
    "              </Material.ListItemIcon>\n",
    "            </Material.ListItem>\n",
    "            <Material.ListItem button=\"true\" key=\"Face\" onClick=\"[propCall(onClick,'Face')]\">\n",
    "              <Material.ListItemIcon>\n",
    "                  <Material.Icon>face</Material.Icon>\n",
    "                  <Material.ListItemText primary=\"Face\" />\n",
    "              </Material.ListItemIcon>\n",
    "            </Material.ListItem>\n",
    "        </Material.List>\n",
    "        <Material.Divider />    \n",
    "    </div>\n",
    "  </Material.Drawer>\n",
    "''', verbose=False, debugger=False);\n"
   ]
  },
  {
   "cell_type": "code",
   "execution_count": null,
   "metadata": {
    "ExecuteTime": {
     "end_time": "2022-04-13T14:07:48.946739Z",
     "start_time": "2022-04-13T14:07:48.887674Z"
    }
   },
   "outputs": [],
   "source": [
    "import ipywidgets as widgets\n",
    "out = widgets.Output()\n",
    "def openDrawer (**kwargs):\n",
    "    obj = kwargs.get(\"drawer\", None)\n",
    "    if obj.is_open == True:\n",
    "        obj.is_open = False\n",
    "    else :\n",
    "        obj.is_open = True\n",
    "  \n",
    "def test(**kwargs):\n",
    "    global out\n",
    "    with out:\n",
    "        print (kwargs.get('buf',''))\n",
    "        \n",
    "d1 = Drawer()\n",
    "d1.onClick(test)\n",
    "a1 = AppBar()\n",
    "a1.onClick(lambda **k : openDrawer(drawer=d1,**k))\n",
    "widgets.VBox([a1, d1, out])\n"
   ]
  },
  {
   "cell_type": "code",
   "execution_count": null,
   "metadata": {
    "ExecuteTime": {
     "end_time": "2022-04-13T14:07:48.953011Z",
     "start_time": "2022-04-13T14:07:48.949117Z"
    }
   },
   "outputs": [],
   "source": [
    "d1.is_open = True\n",
    "a1.title = \"Left Toolbar\""
   ]
  },
  {
   "cell_type": "code",
   "execution_count": null,
   "metadata": {
    "ExecuteTime": {
     "end_time": "2022-04-13T14:07:48.998790Z",
     "start_time": "2022-04-13T14:07:48.956198Z"
    }
   },
   "outputs": [],
   "source": [
    "d2 = Drawer(anchor=\"right\", is_open=True, )\n",
    "d1.onClick(test)\n",
    "a2 = AppBar(title=\"Right Toolbar\")\n",
    "a2.onClick(lambda **k : openDrawer(drawer=d2,**k))\n",
    "\n",
    "widgets.VBox([a2, d2])\n"
   ]
  },
  {
   "cell_type": "code",
   "execution_count": null,
   "metadata": {
    "ExecuteTime": {
     "end_time": "2022-04-13T14:07:49.107428Z",
     "start_time": "2022-04-13T14:07:49.104910Z"
    }
   },
   "outputs": [],
   "source": [
    "d1.is_open = True\n"
   ]
  },
  {
   "cell_type": "code",
   "execution_count": null,
   "metadata": {},
   "outputs": [],
   "source": []
  },
  {
   "cell_type": "code",
   "execution_count": null,
   "metadata": {},
   "outputs": [],
   "source": []
  }
 ],
 "metadata": {
  "kernelspec": {
   "display_name": "Python 3",
   "language": "python",
   "name": "python3"
  },
  "language_info": {
   "codemirror_mode": {
    "name": "ipython",
    "version": 3
   },
   "file_extension": ".py",
   "mimetype": "text/x-python",
   "name": "python",
   "nbconvert_exporter": "python",
   "pygments_lexer": "ipython3",
   "version": "3.7.7"
  },
  "toc": {
   "base_numbering": 1,
   "nav_menu": {},
   "number_sections": true,
   "sideBar": true,
   "skip_h1_title": false,
   "title_cell": "Table of Contents",
   "title_sidebar": "Contents",
   "toc_cell": false,
   "toc_position": {},
   "toc_section_display": true,
   "toc_window_display": false
  },
  "varInspector": {
   "cols": {
    "lenName": 16,
    "lenType": 16,
    "lenVar": 40
   },
   "kernels_config": {
    "python": {
     "delete_cmd_postfix": "",
     "delete_cmd_prefix": "del ",
     "library": "var_list.py",
     "varRefreshCmd": "print(var_dic_list())"
    },
    "r": {
     "delete_cmd_postfix": ") ",
     "delete_cmd_prefix": "rm(",
     "library": "var_list.r",
     "varRefreshCmd": "cat(var_dic_list()) "
    }
   },
   "types_to_exclude": [
    "module",
    "function",
    "builtin_function_or_method",
    "instance",
    "_Feature"
   ],
   "window_display": false
  }
 },
 "nbformat": 4,
 "nbformat_minor": 2
}
