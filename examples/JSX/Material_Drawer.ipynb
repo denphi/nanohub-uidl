{
 "cells": [
  {
   "cell_type": "code",
   "execution_count": null,
   "metadata": {},
   "outputs": [],
   "source": [
    "from nanohub.uidl.ipywidgets import buildJSX\n",
    "\n",
    "AppBar = buildJSX('''\n",
    "  <Material.AppBar position=\"relative\">\n",
    "    <Material.Toolbar>\n",
    "      <Material.IconButton color=\"inherit\"\n",
    "            aria-label=\"open drawer\"\n",
    "            onClick=\"[propCall(onClick,'')]\"\n",
    "            edge=\"start\">\n",
    "        <Material.Icon>menu</Material.Icon>            \n",
    "      </Material.IconButton>\n",
    "      <Material.Typography variant=\"h6\" noWrap=\"true\">\n",
    "        {title:string(This Toolbar)}\n",
    "      </Material.Typography>\n",
    "    </Material.Toolbar>\n",
    "  </Material.AppBar> \n",
    "''')\n",
    "\n",
    "Drawer = buildJSX('''\n",
    "  <Material.Drawer\n",
    "    variant=\"persistent\"\n",
    "    anchor=\"{anchor:string(left)}\"\n",
    "    open=\"{is_open:boolean(false)}\" \n",
    "    >\n",
    "    <div style=\"top:120px;position:relative\">\n",
    "      <Material.IconButton onClick=\"[stateChange(is_open,false)]\">\n",
    "        <Material.Icon>menu</Material.Icon>                  \n",
    "      </Material.IconButton>\n",
    "        <Material.Divider />\n",
    "        <Material.List>\n",
    "            <Material.ListItem button=\"true\" key=\"Pets\" onClick=\"[propCall(onClick,'Pets')]\">\n",
    "              <Material.ListItemIcon>\n",
    "                  <Material.Icon>pets</Material.Icon>\n",
    "                  <Material.ListItemText primary=\"Pets\" />\n",
    "              </Material.ListItemIcon>\n",
    "            </Material.ListItem>\n",
    "            <Material.ListItem button=\"true\" key=\"Work\" onClick=\"[propCall(onClick,'Work')]\">\n",
    "              <Material.ListItemIcon>\n",
    "                  <Material.Icon>work</Material.Icon>\n",
    "                  <Material.ListItemText primary=\"Work\" />\n",
    "              </Material.ListItemIcon>\n",
    "            </Material.ListItem>\n",
    "            <Material.ListItem button=\"true\" key=\"Face\" onClick=\"[propCall(onClick,'Face')]\">\n",
    "              <Material.ListItemIcon>\n",
    "                  <Material.Icon>face</Material.Icon>\n",
    "                  <Material.ListItemText primary=\"Face\" />\n",
    "              </Material.ListItemIcon>\n",
    "            </Material.ListItem>\n",
    "        </Material.List>\n",
    "        <Material.Divider />    \n",
    "    </div>\n",
    "  </Material.Drawer>\n",
    "''', verbose=False);\n"
   ]
  },
  {
   "cell_type": "code",
   "execution_count": null,
   "metadata": {},
   "outputs": [],
   "source": [
    "import ipywidgets as widgets\n",
    "out = widgets.Output()\n",
    "def openDrawer (**kwargs):\n",
    "    obj = kwargs.get(\"drawer\", None)\n",
    "    if obj.is_open == True:\n",
    "        obj.is_open = False\n",
    "    else :\n",
    "        obj.is_open = True\n",
    "  \n",
    "def test(**kwargs):\n",
    "    global out\n",
    "    with out:\n",
    "        print (kwargs.get('buf',''))\n",
    "        \n",
    "d1 = Drawer(onClick=test)\n",
    "a1 = AppBar(onClick = lambda **k : openDrawer(drawer=d1,**k))\n",
    "widgets.VBox([a1, d1, out])\n"
   ]
  },
  {
   "cell_type": "code",
   "execution_count": null,
   "metadata": {},
   "outputs": [],
   "source": [
    "d1.is_open = True\n",
    "a1.title = \"Left Toolbar\""
   ]
  },
  {
   "cell_type": "code",
   "execution_count": null,
   "metadata": {},
   "outputs": [],
   "source": [
    "d2 = Drawer(anchor=\"right\", onClick=test, is_open=True, )\n",
    "a2 = AppBar(title=\"Right Toolbar\", onClick = lambda **k : openDrawer(drawer=d2,**k))\n",
    "widgets.VBox([a2, d2])\n"
   ]
  },
  {
   "cell_type": "code",
   "execution_count": null,
   "metadata": {},
   "outputs": [],
   "source": []
  },
  {
   "cell_type": "code",
   "execution_count": null,
   "metadata": {},
   "outputs": [],
   "source": []
  }
 ],
 "metadata": {
  "kernelspec": {
   "display_name": "Python 3",
   "language": "python",
   "name": "python3"
  },
  "language_info": {
   "codemirror_mode": {
    "name": "ipython",
    "version": 3
   },
   "file_extension": ".py",
   "mimetype": "text/x-python",
   "name": "python",
   "nbconvert_exporter": "python",
   "pygments_lexer": "ipython3",
   "version": "3.7.3"
  }
 },
 "nbformat": 4,
 "nbformat_minor": 2
}
