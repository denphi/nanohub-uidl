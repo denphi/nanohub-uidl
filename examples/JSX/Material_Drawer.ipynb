{
 "cells": [
  {
   "cell_type": "code",
   "execution_count": 1,
   "metadata": {},
   "outputs": [
    {
     "data": {
      "text/html": [
       "<style>.p-Widget * {font-size: unset;}</style>"
      ],
      "text/plain": [
       "<IPython.core.display.HTML object>"
      ]
     },
     "metadata": {},
     "output_type": "display_data"
    },
    {
     "data": {
      "text/html": [
       "<link rel='stylesheet' href='https://fonts.googleapis.com/icon?family=Material+Icons'/>"
      ],
      "text/plain": [
       "<IPython.core.display.HTML object>"
      ]
     },
     "metadata": {},
     "output_type": "display_data"
    },
    {
     "data": {
      "application/javascript": [
       "require.config({\n",
       "  paths: {\n",
       "    'react': 'https://unpkg.com/react@16.8.6/umd/react.development',\n",
       "    'react-dom': 'https://unpkg.com/react-dom@16.8.6/umd/react-dom.development',\n",
       "    'material-ui': 'https://unpkg.com/@material-ui/core@latest/umd/material-ui.development',\n",
       "    'plotlycomponent': 'https://unpkg.com/react-plotly.js@2.3/dist/create-plotly-component',\n",
       "    'plotly': 'https://cdn.plot.ly/plotly-latest.min',\n",
       "    'math': 'https://cdnjs.cloudflare.com/ajax/libs/mathjs/6.6.1/math.min',\n",
       "    'axios': 'https://unpkg.com/axios/dist/axios.min',\n",
       "    'localforage' : 'https://www.unpkg.com/localforage@1.7.3/dist/localforage.min',\n",
       "    'number-format': 'https://unpkg.com/react-number-format@4.3.1/dist/react-number-format',\n",
       "    'prop-types': 'https://unpkg.com/prop-types@15.6/prop-types.min',\n",
       "    'webcomponents': 'https://cdn.rawgit.com/download/polymer-cdn/2.6.0/lib/webcomponentsjs/webcomponents-loader',\n",
       "  }\n",
       "});\n",
       "require.undef('UIDLdb2c950049284832a22f78ef3009c672')\n",
       "  define('UIDLdb2c950049284832a22f78ef3009c672', [\n",
       "    '@jupyter-widgets/base',\n",
       "    'react', \n",
       "    'react-dom',\n",
       "    'material-ui',\n",
       "    'number-format',\n",
       "    'axios',\n",
       "    'localforage',\n",
       "    'prop-types',\n",
       "    'plotlycomponent',\n",
       "    'plotly',\n",
       "    'math',\n",
       "    'webcomponents'\n",
       "  ], function(\n",
       "    widgets, \n",
       "    React, \n",
       "    ReactDOM,\n",
       "    Material,\n",
       "    Format,\n",
       "    Axios,\n",
       "    LocalForage,\n",
       "    PropTypes,\n",
       "    PlotlyComponent,\n",
       "    Plotly,\n",
       "    math,\n",
       "    Webcomponents\n",
       "  ) {\n",
       "    console.log(math, Webcomponents)\n",
       "    const UIDLdb2c950049284832a22f78ef3009c672View = widgets.DOMWidgetView.extend({\n",
       "      initialize() {\n",
       "      const backbone = this;\n",
       "      backbone.options = {};\n",
       "class UIDLdb2c950049284832a22f78ef3009c672 extends React.Component {\n",
       "constructor(props) {\n",
       "super(props);\n",
       "let self=this;\n",
       "this.state = {\n",
       "'title' : backbone.model.get('title'), \n",
       "};\n",
       "}; \n",
       "render(){\n",
       "let self=this;\n",
       "return React.createElement(Material.Paper, {key:'73484a6e-03db-4a77-b494-03a624c03e9b'},\n",
       "React.createElement(Material.AppBar, {key:'8cbaa059-af64-475d-886b-7bac141040d7' ,'position': \"relative\"},\n",
       "React.createElement(Material.Toolbar, {key:'267213ad-1c92-4cb0-8daf-428c9fe7d641'},[\n",
       "React.createElement(Material.IconButton, {key:'8b0fa461-ecb5-4a5e-9296-b736490a7ef6' ,'color': \"inherit\" ,'aria-label': \"open drawer\" ,'edge': \"start\" ,'onClick': function(e){  self.props.onClick('');\n",
       "}},\n",
       "React.createElement(Material.Icon, {key:'b167aa6e-dccd-4198-8912-97f08ad513ff'},\n",
       " 'menu' )\n",
       ")\n",
       " ,React.createElement(Material.Typography, {key:'1a4e7476-60ff-4100-a2f5-7d0f2525938a' ,'variant': \"h6\" ,'noWrap': \"true\"},\n",
       " self.state.title )\n",
       "])\n",
       ")\n",
       ")\n",
       ";\n",
       "}\n",
       "}\n",
       "UIDLdb2c950049284832a22f78ef3009c672.defaultProps = {\n",
       "'onClick' : (e)=>{ if (event) event.preventDefault(); backbone.send({ event: 'onClick', 'params' : ((e)=>{return e; })(e) });}, \n",
       "}\n",
       "      const orig = UIDLdb2c950049284832a22f78ef3009c672.prototype.setState;\n",
       "      UIDLdb2c950049284832a22f78ef3009c672.prototype.onChange = function (model){\n",
       "        orig.apply(this, [Object.assign({},model.changed)]);\n",
       "      }\n",
       "      UIDLdb2c950049284832a22f78ef3009c672.prototype.componentDidMount = function(){\n",
       "        backbone.listenTo(backbone.model, 'change', this.onChange.bind(this));\n",
       "      }\n",
       "      UIDLdb2c950049284832a22f78ef3009c672.prototype.setState = function(state, callback){\n",
       "        if('title' in state){\n",
       "          state['title'] = String(state['title']);\n",
       "        }\n",
       "        for (let [key, value] of Object.entries(state)) {\n",
       "          backbone.model.set(key, value);\n",
       "        }\n",
       "        backbone.model.save_changes();\n",
       "        orig.apply(this, [state, callback]);\n",
       "      }\n",
       "      const $app = document.createElement('div');\n",
       "      $app.style.padding = '10px';\n",
       "      const App = React.createElement(UIDLdb2c950049284832a22f78ef3009c672);\n",
       "      ReactDOM.render(App, $app);\n",
       "      backbone.el.append($app);\n",
       "      }\n",
       "    });\n",
       "    return {\n",
       "      UIDLdb2c950049284832a22f78ef3009c672View\n",
       "    };\n",
       "});\n"
      ],
      "text/plain": [
       "<IPython.core.display.Javascript object>"
      ]
     },
     "metadata": {},
     "output_type": "display_data"
    },
    {
     "data": {
      "text/html": [
       "<style>.p-Widget * {font-size: unset;}</style>"
      ],
      "text/plain": [
       "<IPython.core.display.HTML object>"
      ]
     },
     "metadata": {},
     "output_type": "display_data"
    },
    {
     "data": {
      "text/html": [
       "<link rel='stylesheet' href='https://fonts.googleapis.com/icon?family=Material+Icons'/>"
      ],
      "text/plain": [
       "<IPython.core.display.HTML object>"
      ]
     },
     "metadata": {},
     "output_type": "display_data"
    },
    {
     "data": {
      "application/javascript": [
       "require.config({\n",
       "  paths: {\n",
       "    'react': 'https://unpkg.com/react@16.8.6/umd/react.development',\n",
       "    'react-dom': 'https://unpkg.com/react-dom@16.8.6/umd/react-dom.development',\n",
       "    'material-ui': 'https://unpkg.com/@material-ui/core@latest/umd/material-ui.development',\n",
       "    'plotlycomponent': 'https://unpkg.com/react-plotly.js@2.3/dist/create-plotly-component',\n",
       "    'plotly': 'https://cdn.plot.ly/plotly-latest.min',\n",
       "    'math': 'https://cdnjs.cloudflare.com/ajax/libs/mathjs/6.6.1/math.min',\n",
       "    'axios': 'https://unpkg.com/axios/dist/axios.min',\n",
       "    'localforage' : 'https://www.unpkg.com/localforage@1.7.3/dist/localforage.min',\n",
       "    'number-format': 'https://unpkg.com/react-number-format@4.3.1/dist/react-number-format',\n",
       "    'prop-types': 'https://unpkg.com/prop-types@15.6/prop-types.min',\n",
       "    'webcomponents': 'https://cdn.rawgit.com/download/polymer-cdn/2.6.0/lib/webcomponentsjs/webcomponents-loader',\n",
       "  }\n",
       "});\n",
       "require.undef('UIDLffc7757ad926494793a26f791d603e6e')\n",
       "  define('UIDLffc7757ad926494793a26f791d603e6e', [\n",
       "    '@jupyter-widgets/base',\n",
       "    'react', \n",
       "    'react-dom',\n",
       "    'material-ui',\n",
       "    'number-format',\n",
       "    'axios',\n",
       "    'localforage',\n",
       "    'prop-types',\n",
       "    'plotlycomponent',\n",
       "    'plotly',\n",
       "    'math',\n",
       "    'webcomponents'\n",
       "  ], function(\n",
       "    widgets, \n",
       "    React, \n",
       "    ReactDOM,\n",
       "    Material,\n",
       "    Format,\n",
       "    Axios,\n",
       "    LocalForage,\n",
       "    PropTypes,\n",
       "    PlotlyComponent,\n",
       "    Plotly,\n",
       "    math,\n",
       "    Webcomponents\n",
       "  ) {\n",
       "    console.log(math, Webcomponents)\n",
       "    const UIDLffc7757ad926494793a26f791d603e6eView = widgets.DOMWidgetView.extend({\n",
       "      initialize() {\n",
       "      const backbone = this;\n",
       "      backbone.options = {};\n",
       "class UIDLffc7757ad926494793a26f791d603e6e extends React.Component {\n",
       "constructor(props) {\n",
       "super(props);\n",
       "let self=this;\n",
       "this.state = {\n",
       "'anchor' : backbone.model.get('anchor'), \n",
       "'is_open' : backbone.model.get('is_open'), \n",
       "};\n",
       "}; \n",
       "render(){\n",
       "let self=this;\n",
       "return React.createElement(Material.Paper, {key:'2f736457-56a2-4cad-86ab-17ae751925d0'},\n",
       "React.createElement(Material.Drawer, {key:'231fe951-bb6f-42d8-bfc2-bae87cd8f67b' ,'variant': \"persistent\" ,'anchor': self.state.anchor ,'open': self.state.is_open},\n",
       "React.createElement('div', {key:'a2297921-7720-4e33-af2d-cb841593eb5c' ,'style': {\"top\": \"120px\", \"position\": \"relative\"}},[\n",
       "React.createElement(Material.IconButton, {key:'f2237073-70f4-4699-b5ee-ed79c8dd5769' ,'onClick': function(e){  self.setState({'is_open':false}); self.props.onChange({'id':'is_open', 'value':false});\n",
       "}},\n",
       "React.createElement(Material.Icon, {key:'fb4f0a40-ff79-4afd-9dbd-5ee7f4d559a8'},\n",
       " 'menu' )\n",
       ")\n",
       " ,React.createElement(Material.Divider, {key:'f4e2ec41-e36d-479a-8331-7d8e1e60ff20'})\n",
       " ,React.createElement(Material.List, {key:'b276bfb8-2155-4f59-b3d8-77380aba6ce2'},[\n",
       "React.createElement(Material.ListItem, {key:'fbe4986f-f60e-4b6f-905a-a4ef520f3379' ,'button': \"true\" ,'key': \"Pets\" ,'onClick': function(e){  self.props.onClick('Pets');\n",
       "}},\n",
       "React.createElement(Material.ListItemIcon, {key:'f082a0ef-6635-43f4-ae1d-54b3ad487b69'},[\n",
       "React.createElement(Material.Icon, {key:'29531d0c-c686-4118-9554-d61554f30823'},\n",
       " 'pets' )\n",
       " ,React.createElement(Material.ListItemText, {key:'5298833e-64be-432d-bd76-716de74b9dd4' ,'primary': \"Pets\"})\n",
       "])\n",
       ")\n",
       " ,React.createElement(Material.ListItem, {key:'70b658e8-7c15-4302-aefa-a6f164861b07' ,'button': \"true\" ,'key': \"Work\" ,'onClick': function(e){  self.props.onClick('Work');\n",
       "}},\n",
       "React.createElement(Material.ListItemIcon, {key:'5848b950-1946-4771-a8af-24de060acce2'},[\n",
       "React.createElement(Material.Icon, {key:'43bc46a5-644a-47f8-8b53-27ee55cd39bf'},\n",
       " 'work' )\n",
       " ,React.createElement(Material.ListItemText, {key:'98020f10-df37-443b-a875-2bb885a832bd' ,'primary': \"Work\"})\n",
       "])\n",
       ")\n",
       " ,React.createElement(Material.ListItem, {key:'6f44e3cb-2e3a-41c4-aa8e-344af4f68ce1' ,'button': \"true\" ,'key': \"Face\" ,'onClick': function(e){  self.props.onClick('Face');\n",
       "}},\n",
       "React.createElement(Material.ListItemIcon, {key:'d3b16689-d9fe-4f98-8098-b853780e04fc'},[\n",
       "React.createElement(Material.Icon, {key:'3bd85863-134a-44dc-bb3a-daa9e5bc4eb5'},\n",
       " 'face' )\n",
       " ,React.createElement(Material.ListItemText, {key:'8e295054-8bde-4330-921f-441273532cf0' ,'primary': \"Face\"})\n",
       "])\n",
       ")\n",
       "])\n",
       " ,React.createElement(Material.Divider, {key:'a3c437d2-0e98-43f1-a93c-c2535f479b91'})\n",
       "])\n",
       ")\n",
       ")\n",
       ";\n",
       "}\n",
       "}\n",
       "UIDLffc7757ad926494793a26f791d603e6e.defaultProps = {\n",
       "'onClick' : (e)=>{ if (event) event.preventDefault(); backbone.send({ event: 'onClick', 'params' : ((e)=>{return e; })(e) });}, \n",
       "'onChange' : (e)=>{ if (event) event.preventDefault(); backbone.send({ event: 'onChange', 'params' : ((e)=>{return e; })(e) });}, \n",
       "}\n",
       "      const orig = UIDLffc7757ad926494793a26f791d603e6e.prototype.setState;\n",
       "      UIDLffc7757ad926494793a26f791d603e6e.prototype.onChange = function (model){\n",
       "        orig.apply(this, [Object.assign({},model.changed)]);\n",
       "      }\n",
       "      UIDLffc7757ad926494793a26f791d603e6e.prototype.componentDidMount = function(){\n",
       "        backbone.listenTo(backbone.model, 'change', this.onChange.bind(this));\n",
       "      }\n",
       "      UIDLffc7757ad926494793a26f791d603e6e.prototype.setState = function(state, callback){\n",
       "        if('anchor' in state){\n",
       "          state['anchor'] = String(state['anchor']);\n",
       "        }\n",
       "        if('is_open' in state){\n",
       "          state['is_open'] = [true, 'true', 'True', 'on', 'yes', 'Yes', 'TRUE', 1, 'ON'].includes(state['is_open']);\n",
       "        }\n",
       "        for (let [key, value] of Object.entries(state)) {\n",
       "          backbone.model.set(key, value);\n",
       "        }\n",
       "        backbone.model.save_changes();\n",
       "        orig.apply(this, [state, callback]);\n",
       "      }\n",
       "      const $app = document.createElement('div');\n",
       "      $app.style.padding = '10px';\n",
       "      const App = React.createElement(UIDLffc7757ad926494793a26f791d603e6e);\n",
       "      ReactDOM.render(App, $app);\n",
       "      backbone.el.append($app);\n",
       "      }\n",
       "    });\n",
       "    return {\n",
       "      UIDLffc7757ad926494793a26f791d603e6eView\n",
       "    };\n",
       "});\n"
      ],
      "text/plain": [
       "<IPython.core.display.Javascript object>"
      ]
     },
     "metadata": {},
     "output_type": "display_data"
    }
   ],
   "source": [
    "from nanohub.uidl.ipywidgets import buildJSX\n",
    "\n",
    "AppBar = buildJSX('''\n",
    "  <Material.AppBar position=\"relative\">\n",
    "    <Material.Toolbar>\n",
    "      <Material.IconButton color=\"inherit\"\n",
    "            aria-label=\"open drawer\"\n",
    "            onClick=\"[propCall(onClick,'')]\"\n",
    "            edge=\"start\">\n",
    "        <Material.Icon>menu</Material.Icon>            \n",
    "      </Material.IconButton>\n",
    "      <Material.Typography variant=\"h6\" noWrap=\"true\">\n",
    "        {title:string(This Toolbar)}\n",
    "      </Material.Typography>\n",
    "    </Material.Toolbar>\n",
    "  </Material.AppBar> \n",
    "''')\n",
    "\n",
    "Drawer = buildJSX('''\n",
    "  <Material.Drawer\n",
    "    variant=\"persistent\"\n",
    "    anchor=\"{anchor:string(left)}\"\n",
    "    open=\"{is_open:boolean(false)}\" \n",
    "    >\n",
    "    <div style=\"top:120px;position:relative\">\n",
    "      <Material.IconButton onClick=\"[stateChange(is_open,false)]\">\n",
    "        <Material.Icon>menu</Material.Icon>                  \n",
    "      </Material.IconButton>\n",
    "        <Material.Divider />\n",
    "        <Material.List>\n",
    "            <Material.ListItem button=\"true\" key=\"Pets\" onClick=\"[propCall(onClick,'Pets')]\">\n",
    "              <Material.ListItemIcon>\n",
    "                  <Material.Icon>pets</Material.Icon>\n",
    "                  <Material.ListItemText primary=\"Pets\" />\n",
    "              </Material.ListItemIcon>\n",
    "            </Material.ListItem>\n",
    "            <Material.ListItem button=\"true\" key=\"Work\" onClick=\"[propCall(onClick,'Work')]\">\n",
    "              <Material.ListItemIcon>\n",
    "                  <Material.Icon>work</Material.Icon>\n",
    "                  <Material.ListItemText primary=\"Work\" />\n",
    "              </Material.ListItemIcon>\n",
    "            </Material.ListItem>\n",
    "            <Material.ListItem button=\"true\" key=\"Face\" onClick=\"[propCall(onClick,'Face')]\">\n",
    "              <Material.ListItemIcon>\n",
    "                  <Material.Icon>face</Material.Icon>\n",
    "                  <Material.ListItemText primary=\"Face\" />\n",
    "              </Material.ListItemIcon>\n",
    "            </Material.ListItem>\n",
    "        </Material.List>\n",
    "        <Material.Divider />    \n",
    "    </div>\n",
    "  </Material.Drawer>\n",
    "''', verbose=False);\n"
   ]
  },
  {
   "cell_type": "code",
   "execution_count": 2,
   "metadata": {},
   "outputs": [
    {
     "data": {
      "application/vnd.jupyter.widget-view+json": {
       "model_id": "4a40011e0ee64e31a2299283e0f8ae24",
       "version_major": 2,
       "version_minor": 0
      },
      "text/plain": [
       "VBox(children=(UIDLdb2c950049284832a22f78ef3009c672Widget(), UIDLffc7757ad926494793a26f791d603e6eWidget(), Out…"
      ]
     },
     "metadata": {},
     "output_type": "display_data"
    }
   ],
   "source": [
    "import ipywidgets as widgets\n",
    "out = widgets.Output()\n",
    "def openDrawer (**kwargs):\n",
    "    obj = kwargs.get(\"drawer\", None)\n",
    "    if obj.is_open == True:\n",
    "        obj.is_open = False\n",
    "    else :\n",
    "        obj.is_open = True\n",
    "  \n",
    "def test(**kwargs):\n",
    "    global out\n",
    "    with out:\n",
    "        print (kwargs.get('buf',''))\n",
    "        \n",
    "d1 = Drawer(onClick=test)\n",
    "a1 = AppBar(onClick = lambda **k : openDrawer(drawer=d1,**k))\n",
    "widgets.VBox([a1, d1, out])\n"
   ]
  },
  {
   "cell_type": "code",
   "execution_count": 3,
   "metadata": {},
   "outputs": [],
   "source": [
    "d1.is_open = True\n",
    "a1.title = \"Left Toolbar\""
   ]
  },
  {
   "cell_type": "code",
   "execution_count": 4,
   "metadata": {},
   "outputs": [
    {
     "data": {
      "application/vnd.jupyter.widget-view+json": {
       "model_id": "6c149341c2734e268be64435708ba623",
       "version_major": 2,
       "version_minor": 0
      },
      "text/plain": [
       "VBox(children=(UIDLdb2c950049284832a22f78ef3009c672Widget(title='Right Toolbar'), UIDLffc7757ad926494793a26f79…"
      ]
     },
     "metadata": {},
     "output_type": "display_data"
    }
   ],
   "source": [
    "d2 = Drawer(anchor=\"right\", onClick=test, is_open=True, )\n",
    "a2 = AppBar(title=\"Right Toolbar\", onClick = lambda **k : openDrawer(drawer=d2,**k))\n",
    "widgets.VBox([a2, d2])\n"
   ]
  },
  {
   "cell_type": "code",
   "execution_count": null,
   "metadata": {},
   "outputs": [],
   "source": []
  },
  {
   "cell_type": "code",
   "execution_count": null,
   "metadata": {},
   "outputs": [],
   "source": []
  }
 ],
 "metadata": {
  "kernelspec": {
   "display_name": "Python 3",
   "language": "python",
   "name": "python3"
  },
  "language_info": {
   "codemirror_mode": {
    "name": "ipython",
    "version": 3
   },
   "file_extension": ".py",
   "mimetype": "text/x-python",
   "name": "python",
   "nbconvert_exporter": "python",
   "pygments_lexer": "ipython3",
   "version": "3.7.3"
  }
 },
 "nbformat": 4,
 "nbformat_minor": 2
}
