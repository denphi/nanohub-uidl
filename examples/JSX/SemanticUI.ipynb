{
 "cells": [
  {
   "cell_type": "code",
   "execution_count": 1,
   "metadata": {},
   "outputs": [
    {
     "data": {
      "text/html": [
       "\n",
       "<script src=\"https://cdn.rawgit.com/download/polymer-cdn/2.6.0/lib/webcomponentsjs/webcomponents-loader.js\"></script>\n",
       "<link rel=\"import\" href=\"https://cdn.rawgit.com/download/polymer-cdn/2.6.0/lib/iron-ajax/iron-ajax.html\">\n",
       "<link rel=\"import\" href=\"https://cdn.rawgit.com/download/polymer-cdn/2.6.0/lib/iron-autogrow-textarea/iron-autogrow-textarea.html\">\n",
       "<link rel=\"import\" href=\"https://cdn.rawgit.com/download/polymer-cdn/2.6.0/lib/iron-collapse/iron-collapse.html\">\n",
       "<link rel=\"import\" href=\"https://cdn.rawgit.com/download/polymer-cdn/2.6.0/lib/iron-list/iron-list.html\">\n",
       "<link rel=\"import\" href=\"https://cdn.rawgit.com/download/polymer-cdn/2.6.0/lib/iron-icon/iron-icon.html\">\n",
       "<link rel=\"import\" href=\"https://cdn.rawgit.com/download/polymer-cdn/2.6.0/lib/iron-icons/iron-icons.html\">\n",
       "<link rel=\"import\" href=\"https://cdn.rawgit.com/download/polymer-cdn/2.6.0/lib/iron-image/iron-image.html\">\n",
       "<link rel=\"import\" href=\"https://cdn.rawgit.com/download/polymer-cdn/2.6.0/lib/iron-flex-layout/iron-flex-layout.html\">\n",
       "\n",
       "<link rel=\"import\" href=\"https://cdn.rawgit.com/download/polymer-cdn/2.6.0/lib/paper-button/paper-button.html\">\n",
       "<link rel=\"import\" href=\"https://cdn.rawgit.com/download/polymer-cdn/2.6.0/lib/paper-checkbox/paper-checkbox.html\">\n",
       "<link rel=\"import\" href=\"https://cdn.rawgit.com/download/polymer-cdn/2.6.0/lib/paper-card/paper-card.html\">\n",
       "<link rel=\"import\" href=\"https://cdn.rawgit.com/download/polymer-cdn/2.6.0/lib/paper-dialog/paper-dialog.html\">\n",
       "<link rel=\"import\" href=\"https://cdn.rawgit.com/download/polymer-cdn/2.6.0/lib/paper-material/paper-material.html\">\n",
       "<link rel=\"import\" href=\"https://cdn.rawgit.com/download/polymer-cdn/2.6.0/lib/paper-styles/paper-styles.html\">\n",
       "<link rel=\"import\" href=\"https://cdn.rawgit.com/download/polymer-cdn/2.6.0/lib/paper-styles/classes/global.html\">\n",
       "<link rel=\"import\" href=\"https://cdn.rawgit.com/download/polymer-cdn/2.6.0/lib/paper-tabs/paper-tabs.html\">\n",
       "<link rel=\"import\" href=\"https://cdn.rawgit.com/download/polymer-cdn/2.6.0/lib/paper-toggle-button/paper-toggle-button.html\">\n",
       "<style is=\"custom-style\">\n",
       "  :root {\n",
       "    --paper-tabs-selection-bar-color: var(--paper-light-blue-900);\n",
       "    --paper-tab-ink: var(--paper-light-blue-100);\n",
       "  \n",
       "    --paper-tabs: {\n",
       "      color: white;\n",
       "      background-color: var(--paper-light-blue-500);\n",
       "    };\n",
       "  }\n",
       "</style>\n"
      ],
      "text/plain": [
       "<IPython.core.display.HTML object>"
      ]
     },
     "metadata": {},
     "output_type": "display_data"
    },
    {
     "data": {
      "text/html": [
       "<style>.p-Widget * {font-size: unset;}</style>"
      ],
      "text/plain": [
       "<IPython.core.display.HTML object>"
      ]
     },
     "metadata": {},
     "output_type": "display_data"
    },
    {
     "data": {
      "text/html": [
       "<link rel='stylesheet' href='https://fonts.googleapis.com/icon?family=Material+Icons'/>"
      ],
      "text/plain": [
       "<IPython.core.display.HTML object>"
      ]
     },
     "metadata": {},
     "output_type": "display_data"
    },
    {
     "data": {
      "application/javascript": [
       "require.config({\n",
       "  paths: {\n",
       "    'react': 'https://unpkg.com/react@16.8.6/umd/react.development',\n",
       "    'react-dom': 'https://unpkg.com/react-dom@16.8.6/umd/react-dom.development',\n",
       "    'material-ui': 'https://unpkg.com/@material-ui/core@latest/umd/material-ui.development',\n",
       "    'plotlycomponent': 'https://unpkg.com/react-plotly.js@2.3/dist/create-plotly-component',\n",
       "    'plotly': 'https://cdn.plot.ly/plotly-latest.min',\n",
       "    'math': 'https://cdnjs.cloudflare.com/ajax/libs/mathjs/6.6.1/math.min',\n",
       "    'axios': 'https://unpkg.com/axios/dist/axios.min',\n",
       "    'localforage' : 'https://www.unpkg.com/localforage@1.7.3/dist/localforage.min',\n",
       "    'number-format': 'https://unpkg.com/react-number-format@4.3.1/dist/react-number-format',\n",
       "    'prop-types': 'https://unpkg.com/prop-types@15.6/prop-types.min',\n",
       "    'webcomponents': 'https://cdn.rawgit.com/download/polymer-cdn/2.6.0/lib/webcomponentsjs/webcomponents-loader',\n",
       "  }\n",
       "});\n",
       "require.undef('UIDLee65f8695ef3458997abe3ebd4df7c01')\n",
       "  define('UIDLee65f8695ef3458997abe3ebd4df7c01', [\n",
       "    '@jupyter-widgets/base',\n",
       "    'react', \n",
       "    'react-dom',\n",
       "    'material-ui',\n",
       "    'number-format',\n",
       "    'axios',\n",
       "    'localforage',\n",
       "    'prop-types',\n",
       "    'plotlycomponent',\n",
       "    'plotly',\n",
       "    'math',\n",
       "    'webcomponents'\n",
       "  ], function(\n",
       "    widgets, \n",
       "    React, \n",
       "    ReactDOM,\n",
       "    Material,\n",
       "    Format,\n",
       "    Axios,\n",
       "    LocalForage,\n",
       "    PropTypes,\n",
       "    PlotlyComponent,\n",
       "    Plotly,\n",
       "    math,\n",
       "    Webcomponents\n",
       "  ) {\n",
       "    console.log(math, Webcomponents)\n",
       "    const UIDLee65f8695ef3458997abe3ebd4df7c01View = widgets.DOMWidgetView.extend({\n",
       "      initialize() {\n",
       "      const backbone = this;\n",
       "      backbone.options = {};\n",
       "class UIDLee65f8695ef3458997abe3ebd4df7c01 extends React.Component {\n",
       "constructor(props) {\n",
       "super(props);\n",
       "let self=this;\n",
       "this.state = {\n",
       "};\n",
       "}; \n",
       "render(){\n",
       "let self=this;\n",
       "return React.createElement(Material.Paper, {key:'7b2bb69a-a21f-4876-9871-37606c26b0b2'},\n",
       "React.createElement('section', {key:'fb0d9f8d-ca78-4409-83c1-2aeda9f7cc0c'},[\n",
       "React.createElement('paper-button', {key:'2e9e70cc-e3e2-4465-bccb-4fb774712110' ,'raised': \"true\"},[\n",
       "React.createElement('iron-icon', {key:'b97b4469-fbfd-4463-a2e0-69aca79f792f' ,'icon': \"check\"})\n",
       " , 'OK' ])\n",
       " ,React.createElement('paper-button', {key:'bd5235fd-e002-4572-a9bf-3c686e6130c7' ,'raised': \"true\"},[\n",
       "React.createElement('iron-icon', {key:'cd1ef044-9585-434e-8980-b364161c8f26' ,'icon': \"clear\"})\n",
       " , 'Cancel' ])\n",
       "])\n",
       ")\n",
       ";\n",
       "}\n",
       "}\n",
       "UIDLee65f8695ef3458997abe3ebd4df7c01.defaultProps = {\n",
       "}\n",
       "      const orig = UIDLee65f8695ef3458997abe3ebd4df7c01.prototype.setState;\n",
       "      UIDLee65f8695ef3458997abe3ebd4df7c01.prototype.onChange = function (model){\n",
       "        orig.apply(this, [Object.assign({},model.changed)]);\n",
       "      }\n",
       "      UIDLee65f8695ef3458997abe3ebd4df7c01.prototype.componentDidMount = function(){\n",
       "        backbone.listenTo(backbone.model, 'change', this.onChange.bind(this));\n",
       "      }\n",
       "      UIDLee65f8695ef3458997abe3ebd4df7c01.prototype.setState = function(state, callback){\n",
       "        for (let [key, value] of Object.entries(state)) {\n",
       "          backbone.model.set(key, value);\n",
       "        }\n",
       "        backbone.model.save_changes();\n",
       "        orig.apply(this, [state, callback]);\n",
       "      }\n",
       "      const $app = document.createElement('div');\n",
       "      $app.style.padding = '10px';\n",
       "      const App = React.createElement(UIDLee65f8695ef3458997abe3ebd4df7c01);\n",
       "      ReactDOM.render(App, $app);\n",
       "      backbone.el.append($app);\n",
       "      }\n",
       "    });\n",
       "    return {\n",
       "      UIDLee65f8695ef3458997abe3ebd4df7c01View\n",
       "    };\n",
       "});\n"
      ],
      "text/plain": [
       "<IPython.core.display.Javascript object>"
      ]
     },
     "metadata": {},
     "output_type": "display_data"
    }
   ],
   "source": [
    "from nanohub.uidl.ipywidgets import buildJSX\n",
    "import ipywidgets as w\n",
    "from IPython.display import HTML, Javascript, display\n",
    "\n",
    "display(HTML('''\n",
    "<script src=\"https://cdn.rawgit.com/download/polymer-cdn/2.6.0/lib/webcomponentsjs/webcomponents-loader.js\"></script>\n",
    "<link rel=\"import\" href=\"https://cdn.rawgit.com/download/polymer-cdn/2.6.0/lib/iron-ajax/iron-ajax.html\">\n",
    "<link rel=\"import\" href=\"https://cdn.rawgit.com/download/polymer-cdn/2.6.0/lib/iron-autogrow-textarea/iron-autogrow-textarea.html\">\n",
    "<link rel=\"import\" href=\"https://cdn.rawgit.com/download/polymer-cdn/2.6.0/lib/iron-collapse/iron-collapse.html\">\n",
    "<link rel=\"import\" href=\"https://cdn.rawgit.com/download/polymer-cdn/2.6.0/lib/iron-list/iron-list.html\">\n",
    "<link rel=\"import\" href=\"https://cdn.rawgit.com/download/polymer-cdn/2.6.0/lib/iron-icon/iron-icon.html\">\n",
    "<link rel=\"import\" href=\"https://cdn.rawgit.com/download/polymer-cdn/2.6.0/lib/iron-icons/iron-icons.html\">\n",
    "<link rel=\"import\" href=\"https://cdn.rawgit.com/download/polymer-cdn/2.6.0/lib/iron-image/iron-image.html\">\n",
    "<link rel=\"import\" href=\"https://cdn.rawgit.com/download/polymer-cdn/2.6.0/lib/iron-flex-layout/iron-flex-layout.html\">\n",
    "\n",
    "<link rel=\"import\" href=\"https://cdn.rawgit.com/download/polymer-cdn/2.6.0/lib/paper-button/paper-button.html\">\n",
    "<link rel=\"import\" href=\"https://cdn.rawgit.com/download/polymer-cdn/2.6.0/lib/paper-checkbox/paper-checkbox.html\">\n",
    "<link rel=\"import\" href=\"https://cdn.rawgit.com/download/polymer-cdn/2.6.0/lib/paper-card/paper-card.html\">\n",
    "<link rel=\"import\" href=\"https://cdn.rawgit.com/download/polymer-cdn/2.6.0/lib/paper-dialog/paper-dialog.html\">\n",
    "<link rel=\"import\" href=\"https://cdn.rawgit.com/download/polymer-cdn/2.6.0/lib/paper-material/paper-material.html\">\n",
    "<link rel=\"import\" href=\"https://cdn.rawgit.com/download/polymer-cdn/2.6.0/lib/paper-styles/paper-styles.html\">\n",
    "<link rel=\"import\" href=\"https://cdn.rawgit.com/download/polymer-cdn/2.6.0/lib/paper-styles/classes/global.html\">\n",
    "<link rel=\"import\" href=\"https://cdn.rawgit.com/download/polymer-cdn/2.6.0/lib/paper-tabs/paper-tabs.html\">\n",
    "<link rel=\"import\" href=\"https://cdn.rawgit.com/download/polymer-cdn/2.6.0/lib/paper-toggle-button/paper-toggle-button.html\">\n",
    "<style is=\"custom-style\">\n",
    "  :root {\n",
    "    --paper-tabs-selection-bar-color: var(--paper-light-blue-900);\n",
    "    --paper-tab-ink: var(--paper-light-blue-100);\n",
    "  \n",
    "    --paper-tabs: {\n",
    "      color: white;\n",
    "      background-color: var(--paper-light-blue-500);\n",
    "    };\n",
    "  }\n",
    "</style>\n",
    "'''))\n",
    "'''\n",
    "<div>\n",
    "    <paper-button \n",
    "        raised=\"true\"\n",
    "        onClick=\"[stateChange(value,0)]\"\n",
    "    >\n",
    "        <iron-icon icon=\"file-download\"></iron-icon>0\n",
    "    </paper-button>\n",
    "\n",
    "    <input \n",
    "        type=\"text\"\n",
    "        placeholder=\"mysite.com\" \n",
    "        value=\"{value:integer(30)}\"\n",
    "        onChange=\"[stateChange(value,e.target.value)]\"\n",
    "    />\n",
    "    <paper-button \n",
    "        raised=\"true\"\n",
    "        onClick=\"[stateChange(value,100)]\"\n",
    "    >\n",
    "        <iron-icon icon=\"file-upload\"></iron-icon>100\n",
    "    </paper-button>\n",
    "</div>\n",
    "'''\n",
    "Input = buildJSX('''\n",
    "<section>\n",
    "  <paper-button raised=\"true\">\n",
    "    <iron-icon icon=\"check\"></iron-icon>\n",
    "    OK\n",
    "  </paper-button>\n",
    "  \n",
    "  <paper-button raised=\"true\">\n",
    "    <iron-icon icon=\"clear\"></iron-icon>\n",
    "    Cancel\n",
    "  </paper-button>\n",
    "</section>\n",
    "''', debugger=False);"
   ]
  },
  {
   "cell_type": "code",
   "execution_count": 2,
   "metadata": {},
   "outputs": [],
   "source": [
    "out = w.Output()\n",
    "def test (out, **kwargs):\n",
    "    with out:\n",
    "        print (kwargs.get(\"buf\",\"\"))\n",
    "iasw = Input(label=\"IntegerAsSwitch\", description=\"This is a Integer\", onChange=lambda **kwargs : test(out, **kwargs))\n",
    "\n"
   ]
  },
  {
   "cell_type": "code",
   "execution_count": 3,
   "metadata": {},
   "outputs": [
    {
     "data": {
      "application/vnd.jupyter.widget-view+json": {
       "model_id": "da729e864127443a9c338451246e7fcb",
       "version_major": 2,
       "version_minor": 0
      },
      "text/plain": [
       "VBox(children=(UIDLee65f8695ef3458997abe3ebd4df7c01Widget(), Output()))"
      ]
     },
     "metadata": {},
     "output_type": "display_data"
    }
   ],
   "source": [
    "w.VBox([iasw,out])"
   ]
  },
  {
   "cell_type": "code",
   "execution_count": 4,
   "metadata": {},
   "outputs": [],
   "source": [
    "iasw.value = 34"
   ]
  },
  {
   "cell_type": "code",
   "execution_count": null,
   "metadata": {},
   "outputs": [],
   "source": []
  },
  {
   "cell_type": "code",
   "execution_count": null,
   "metadata": {},
   "outputs": [],
   "source": []
  },
  {
   "cell_type": "code",
   "execution_count": null,
   "metadata": {},
   "outputs": [],
   "source": []
  },
  {
   "cell_type": "code",
   "execution_count": null,
   "metadata": {},
   "outputs": [],
   "source": []
  },
  {
   "cell_type": "code",
   "execution_count": null,
   "metadata": {},
   "outputs": [],
   "source": []
  },
  {
   "cell_type": "code",
   "execution_count": null,
   "metadata": {},
   "outputs": [],
   "source": []
  },
  {
   "cell_type": "code",
   "execution_count": null,
   "metadata": {},
   "outputs": [],
   "source": []
  },
  {
   "cell_type": "code",
   "execution_count": null,
   "metadata": {},
   "outputs": [],
   "source": []
  },
  {
   "cell_type": "code",
   "execution_count": null,
   "metadata": {},
   "outputs": [],
   "source": []
  },
  {
   "cell_type": "code",
   "execution_count": null,
   "metadata": {},
   "outputs": [],
   "source": []
  },
  {
   "cell_type": "code",
   "execution_count": null,
   "metadata": {},
   "outputs": [],
   "source": []
  }
 ],
 "metadata": {
  "kernelspec": {
   "display_name": "Python 3",
   "language": "python",
   "name": "python3"
  },
  "language_info": {
   "codemirror_mode": {
    "name": "ipython",
    "version": 3
   },
   "file_extension": ".py",
   "mimetype": "text/x-python",
   "name": "python",
   "nbconvert_exporter": "python",
   "pygments_lexer": "ipython3",
   "version": "3.7.3"
  }
 },
 "nbformat": 4,
 "nbformat_minor": 2
}
