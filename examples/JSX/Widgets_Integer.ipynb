{
 "cells": [
  {
   "cell_type": "code",
   "execution_count": null,
   "metadata": {
    "scrolled": true
   },
   "outputs": [],
   "source": [
    "from nanohubuidl.ipywidgets import buildJSX\n",
    "import ipywidgets as w\n",
    "Integer = buildJSX('''\n",
    "    <Nanohub.FormatCustomNumber \n",
    "      variant=\"{variant:string(outlined)}\"\n",
    "      label = \"{label:string( )}\"\n",
    "      value = \"{value:integer(3)}\"\n",
    "      fullWidth = \"{fullWidth:boolean(true)}\"\n",
    "      helperText = \"{description:string( )}\"\n",
    "      suffix = \"{suffix:string( )}\"\n",
    "      decimalscale = \"{decimalscale:number(0)}\"\n",
    "      onBlur = \"[stateChange(value,e.target.value)]\"\n",
    "      range = \"{range:array([])}\"\n",
    "      size = \"small\"\n",
    "    />\n",
    "''');\n",
    "IntegerAsString = buildJSX('''\n",
    "    <Nanohub.FormatCustomNumber \n",
    "        variant=\"{variant:string(outlined)}\"\n",
    "        label = \"{label:string( )}\"\n",
    "        value = \"{value:string( )}\"\n",
    "        fullWidth = \"{fullWidth:boolean(true)}\"\n",
    "        helperText = \"{description:string( )}\"\n",
    "        suffix = \"{suffix:string( )}\"\n",
    "        decimalscale = \"{decimalscale:number(0)}\"\n",
    "        onBlur = \"[stateChange(value,e.target.value)]\"\n",
    "        range = \"{range:array([])}\"\n",
    "        size = \"small\"\n",
    "    />\n",
    "''');\n",
    "Float = buildJSX('''\n",
    "    <Nanohub.FormatCustomNumber \n",
    "        variant=\"{variant:string(outlined)}\"\n",
    "        label = \"{label:string( )}\"\n",
    "        value = \"{value:number(3.7)}\"\n",
    "        fullWidth = \"{fullWidth:boolean(true)}\"\n",
    "        helperText = \"{description:string( )}\"\n",
    "        suffix = \"{suffix:string( )}\"\n",
    "        onBlur = \"[stateChange(value,e.target.value)]\"\n",
    "        range = \"{range:array([])}\"\n",
    "        size = \"small\"\n",
    "    />\n",
    "''');\n",
    "FloatAsString = buildJSX('''\n",
    "    <Nanohub.FormatCustomNumber \n",
    "        variant=\"{variant:string(outlined)}\"\n",
    "        label = \"{label:string( )}\"\n",
    "        value = \"{value:string( )}\"\n",
    "        fullWidth = \"{fullWidth:boolean(true)}\"\n",
    "        helperText = \"{description:string( )}\"\n",
    "        suffix = \"{suffix:string( )}\"\n",
    "        onBlur = \"[stateChange(value,e.target.value)]\"\n",
    "        range = \"{range:array([])}\"\n",
    "        size = \"small\"\n",
    "    />\n",
    "''');\n",
    "FloatAsString = buildJSX('''\n",
    "    <Nanohub.FormatCustomNumber \n",
    "        variant=\"{variant:string(outlined)}\"\n",
    "        label = \"{label:string( )}\"\n",
    "        value = \"{value:string( )}\"\n",
    "        fullWidth = \"{fullWidth:boolean(true)}\"\n",
    "        helperText = \"{description:string( )}\"\n",
    "        suffix = \"{suffix:string( )}\"\n",
    "        onBlur = \"[stateChange(value,e.target.value)]\"\n",
    "        range = \"{range:array([])}\"\n",
    "        size = \"small\"\n",
    "    />\n",
    "''');\n",
    "  "
   ]
  },
  {
   "cell_type": "code",
   "execution_count": null,
   "metadata": {
    "scrolled": false
   },
   "outputs": [],
   "source": [
    "i = Integer(value=45, label=\"Integer\", description=\"This is an Integer\")\n",
    "f = Float(value=10, label=\"Float\", description=\"This is a Float\")\n",
    "ias = IntegerAsString(value=\"43\", label=\"IntegerAsString\", description=\"This is an Integer\")\n",
    "fas = FloatAsString(value=\"12\", label=\"FloatAsString\", description=\"This is a Float\")\n",
    "w.VBox([i,f, ias, fas])"
   ]
  },
  {
   "cell_type": "code",
   "execution_count": null,
   "metadata": {},
   "outputs": [],
   "source": [
    "i2 = IntegerAsString(value=\"20\", label=\"IntegerAsString\", description=\"This is an Integer asd asdas\")\n",
    "i3 = IntegerAsString(value=\"25\", label=\"IntegerAsString\", description=\"This is an Integer asd asdas\")\n",
    "w.HBox([i2,i3])"
   ]
  },
  {
   "cell_type": "code",
   "execution_count": null,
   "metadata": {},
   "outputs": [],
   "source": [
    "i3.value"
   ]
  },
  {
   "cell_type": "code",
   "execution_count": null,
   "metadata": {},
   "outputs": [],
   "source": [
    "IntegerAsSlider = buildJSX('''\n",
    "    <Material.FormControl\n",
    "        fullWidth = \"{fullWidth:boolean(true)}\"\n",
    "        variant=\"{variant:string(outlined)}\"\n",
    "        style = \"border:1px solid rgba(0, 0, 0, 0.23);borderRadius:4px;flexDirection:row;paddingLeft:30px\"\n",
    "    >\n",
    "        <Material.InputLabel\n",
    "            htmlFor = \"component-filled\"\n",
    "            shrink = \"true\"\n",
    "            style = \"background:white;padding:0px 2px\"\n",
    "        >\n",
    "            {label:string( )}\n",
    "        </Material.InputLabel>\n",
    "        <Material.Slider\n",
    "            onChange = \"[stateChange(value,arguments[1])]\"\n",
    "            value = \"{value:integer(50)}\"\n",
    "            step = \"{step:integer(1)}\"\n",
    "            min = \"{min:integer(0)}\"\n",
    "            max = \"{max:integer(100)}\"\n",
    "            marks = \"{marks:array([{'value':0, 'label':'0'},{'value':50,'label':'half'},{'value':100,'label':'100'}])}\"\n",
    "        />\n",
    "        <Material.FormHelperText>\n",
    "            {description:string( )}\n",
    "        </Material.FormHelperText>\n",
    "    </Material.FormControl>\n",
    "''');  \n",
    "FloatAsSlider = buildJSX('''\n",
    "    <Material.FormControl\n",
    "        fullWidth = \"{fullWidth:boolean(true)}\"\n",
    "        variant=\"{variant:string(outlined)}\"\n",
    "        style = \"border:1px solid rgba(0, 0, 0, 0.23);borderRadius:4px;flexDirection:row;paddingLeft:30px\"\n",
    "    >\n",
    "        <Material.InputLabel\n",
    "            htmlFor = \"component-filled\"\n",
    "            shrink = \"true\"\n",
    "            style = \"background:white;padding:0px 2px\"\n",
    "        >\n",
    "            {label:string( )}\n",
    "        </Material.InputLabel>\n",
    "        <Material.Slider\n",
    "            onChange = \"[stateChange(value,arguments[1])]\"\n",
    "            value = \"{value:number(0.5)}\"\n",
    "            step = \"{step:number(0.1)}\"\n",
    "            min = \"{min:number(0)}\"\n",
    "            max = \"{max:number(1)}\"\n",
    "            marks = \"{marks:array([{'value':0.0, 'label':'0'},{'value':0.5,'label':'half'},{'value':1.0,'label':'1'}])}\"\n",
    "        />\n",
    "        <Material.FormHelperText>\n",
    "            {description:string( )}\n",
    "        </Material.FormHelperText>\n",
    "    </Material.FormControl>\n",
    "''');  "
   ]
  },
  {
   "cell_type": "code",
   "execution_count": null,
   "metadata": {},
   "outputs": [],
   "source": [
    "iasl = IntegerAsSlider(label=\"IntegerAsSlider\", description=\"Integer\")\n",
    "fasl = FloatAsSlider(label=\"FloatAsSlider\", description=\"Float\")\n",
    "w.VBox([iasl,fasl])"
   ]
  },
  {
   "cell_type": "code",
   "execution_count": null,
   "metadata": {},
   "outputs": [],
   "source": [
    "iasl.value, fasl.value"
   ]
  },
  {
   "cell_type": "code",
   "execution_count": null,
   "metadata": {},
   "outputs": [],
   "source": [
    "iasl.value = 50"
   ]
  },
  {
   "cell_type": "code",
   "execution_count": null,
   "metadata": {},
   "outputs": [],
   "source": [
    "BooleanAsSwitch = buildJSX('''\n",
    "    <Material.FormControl\n",
    "        fullWidth = \"{fullWidth:boolean(true)}\"\n",
    "        variant=\"{variant:string(outlined)}\"\n",
    "        style = \"border:1px solid rgba(0, 0, 0, 0.23);borderRadius:4px;flexDirection:row;paddingLeft:30px\"\n",
    "    >\n",
    "        <Material.InputLabel\n",
    "            htmlFor = \"component-filled\"\n",
    "            shrink = \"true\"\n",
    "            style = \"background:white;padding:0px 2px\"\n",
    "        >\n",
    "            {label:string( )}\n",
    "        </Material.InputLabel>\n",
    "        <Material.Switch\n",
    "            onChange = \"[stateChange(value,e.target.checked)]\"\n",
    "            checked = \"{value:boolean(true)}\"\n",
    "        />\n",
    "        <Material.FormHelperText>\n",
    "            {description:string( )}\n",
    "        </Material.FormHelperText>\n",
    "    </Material.FormControl>\n",
    "''');\n",
    "IntegerAsSwitch = buildJSX('''\n",
    "        <IntSwitch\n",
    "            onChange = \"[stateChange(value,e.target.value)]\"\n",
    "            default_value = \"{value:integer(5)}\"\n",
    "            ids = \"{ids:array([5, 10])}\"\n",
    "            options = \"{options:array(['Five','Ten'])}\"\n",
    "            label = \"{label:string( )}\"\n",
    "            description = \"{description:string( )}\"\n",
    "        />\n",
    "''');"
   ]
  },
  {
   "cell_type": "code",
   "execution_count": null,
   "metadata": {},
   "outputs": [],
   "source": [
    "bas = BooleanAsSwitch(label=\"BooleanAsSwitch\", description=\"This is a Boolean\")\n",
    "iasw = IntegerAsSwitch(label=\"IntegerAsSwitch\", description=\"This is a Integer\")\n",
    "w.VBox([bas, iasw])"
   ]
  },
  {
   "cell_type": "code",
   "execution_count": null,
   "metadata": {},
   "outputs": [],
   "source": [
    "bas.value = True"
   ]
  },
  {
   "cell_type": "code",
   "execution_count": null,
   "metadata": {},
   "outputs": [],
   "source": [
    "iasw.value = 10"
   ]
  },
  {
   "cell_type": "code",
   "execution_count": null,
   "metadata": {},
   "outputs": [],
   "source": []
  },
  {
   "cell_type": "code",
   "execution_count": null,
   "metadata": {},
   "outputs": [],
   "source": []
  },
  {
   "cell_type": "code",
   "execution_count": null,
   "metadata": {},
   "outputs": [],
   "source": []
  },
  {
   "cell_type": "code",
   "execution_count": null,
   "metadata": {},
   "outputs": [],
   "source": []
  },
  {
   "cell_type": "code",
   "execution_count": null,
   "metadata": {},
   "outputs": [],
   "source": []
  }
 ],
 "metadata": {
  "kernelspec": {
   "display_name": "Python 3 (ipykernel)",
   "language": "python",
   "name": "python3"
  },
  "language_info": {
   "codemirror_mode": {
    "name": "ipython",
    "version": 3
   },
   "file_extension": ".py",
   "mimetype": "text/x-python",
   "name": "python",
   "nbconvert_exporter": "python",
   "pygments_lexer": "ipython3",
   "version": "3.8.10"
  }
 },
 "nbformat": 4,
 "nbformat_minor": 2
}
