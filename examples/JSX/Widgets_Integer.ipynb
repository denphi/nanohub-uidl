{
 "cells": [
  {
   "cell_type": "code",
   "execution_count": 1,
   "metadata": {
    "scrolled": true
   },
   "outputs": [
    {
     "data": {
      "text/html": [
       "<style>.p-Widget * {font-size: unset;}</style>"
      ],
      "text/plain": [
       "<IPython.core.display.HTML object>"
      ]
     },
     "metadata": {},
     "output_type": "display_data"
    },
    {
     "data": {
      "text/html": [
       "<link rel='stylesheet' href='https://fonts.googleapis.com/icon?family=Material+Icons'/>"
      ],
      "text/plain": [
       "<IPython.core.display.HTML object>"
      ]
     },
     "metadata": {},
     "output_type": "display_data"
    },
    {
     "data": {
      "application/javascript": "require.config({\n  paths: {\n    'react': 'https://unpkg.com/react@16.8.6/umd/react.development',\n    'react-dom': 'https://unpkg.com/react-dom@16.8.6/umd/react-dom.development',\n    'material-ui': 'https://unpkg.com/@material-ui/core@latest/umd/material-ui.development',\n    'plotlycomponent': 'https://unpkg.com/react-plotly.js@2.3/dist/create-plotly-component',\n    'plotly': 'https://cdn.plot.ly/plotly-1.52.0.min',\n    'math': 'https://cdnjs.cloudflare.com/ajax/libs/mathjs/6.6.1/math.min',\n    'axios': 'https://unpkg.com/axios/dist/axios.min',\n    'localforage' : 'https://www.unpkg.com/localforage@1.7.3/dist/localforage.min',\n    'number-format': 'https://unpkg.com/react-number-format@4.3.1/dist/react-number-format',\n    'prop-types': 'https://unpkg.com/prop-types@15.6/prop-types.min'\n  }\n});\nrequire.undef('UIDL65d07e5e6166423e9868d1125361e5e8')\n  define('UIDL65d07e5e6166423e9868d1125361e5e8', [\n    '@jupyter-widgets/base',\n    'underscore', \n    'react', \n    'react-dom',\n    'material-ui',\n    'number-format',\n    'axios',\n    'localforage',\n    'prop-types',\n    'plotlycomponent',\n    'plotly',\n    'math'\n  ], function(\n    widgets, \n    _, \n    React, \n    ReactDOM,\n    Material,\n    Format,\n    Axios,\n    LocalForage,\n    PropTypes,\n    PlotlyComponent,\n    Plotly,\n    math\n  ) {\n    const UIDL65d07e5e6166423e9868d1125361e5e8Model = widgets.WidgetModel.extend({}, {\n        serializers: _.extend({\n        }, widgets.DOMWidgetModel.serializers)\n    });\n    const UIDL65d07e5e6166423e9868d1125361e5e8View = widgets.DOMWidgetView.extend({\n      initialize() {\n        const backbone = this;\n        widgets.DOMWidgetView.prototype.initialize.call(this, arguments);\n        backbone.options = {};\nclass FormatCustomNumber extends React.Component {\nconstructor(props) {\nsuper(props);\nlet self=this;\nthis.state = {\n};\n}; \nrender(){\nlet self=this;\nreturn React.createElement(Material.Paper, {key:'a09fbbcd-f50a-4cbe-9ed0-89571e284286' ,'elevation': 0 ,'style': {\"width\": \"100%\"}},\nReact.createElement(Material.TextField, {key:'e6b597c2-7ccf-46f7-b881-85858f9c4ae8' ,'onBlur': self.props.onBlur ,'InputProps': self.props.property(this.props) ,'className': self.props.className ,'InputLabelProps': self.props.shrink ,'variant': self.props.variant ,'label': self.props.label ,'fullWidth': self.props.fullWidth ,'helperText': self.props.helperText ,'style': self.props.style ,'value': self.props.value ,'decimalscale': self.props.decimalscale ,'size': \"small\" ,'type': \"number\"})\n)\n;\n}\n}\nFormatCustomNumber.defaultProps = {\n'formatter' : (props)=>{\n        return (value => {\n            let nprops = {\n                'style':props.style,\n                'className':value.className,\n                'onValueChange': (v)=> {\n                    value.onChange( {'target':{'value':Number.isInteger(props.decimalscale) ? parseInt(v.value) : parseFloat(v.value)} } );\n                },\n                'onBlur' : (v)=> {\n                    props.onBlur( {'target':{'value':Number.isInteger(props.decimalscale) ? parseInt(v.target.value) : parseFloat(v.target.value) } } );\n                },\n                'value' : Number.isInteger(props.decimalscale) ? parseInt(value.value) : parseFloat(value.value),\n                'isAllowed': (v)=> {\n                    if (props.range && props.range.length == 2)\n                        return v.value >= props.range[0] && v.value <= props.range[1];\n                    return true;\n                },\n                'decimalScale':Number.isInteger(props.decimalscale) ? props.decimalscale : undefined,\n                'suffix':\"\",\n            };\n            return React.createElement(Format,nprops);\n        });\n    }, \n'property' : (props)=>{\n        return {\n            'inputComponent': props.formatter(props), \n            'endAdornment': props.suffix\n        };\n    }, \n'shrink' : {\"shrink\": true},\n'range' : [],\n'decimalscale' : \"none\",\n}\n  FormatCustomNumber.getDerivedStateFromProps = function(props, state){\n  let self = {'props':props,'state':state};\n  return {\n  };\n}\nclass UIDL65d07e5e6166423e9868d1125361e5e8 extends React.Component {\nconstructor(props) {\nsuper(props);\nlet self=this;\nthis.state = {\n'variant' : backbone.model.get('variant'), \n'label' : backbone.model.get('label'), \n'value' : backbone.model.get('value'), \n'fullWidth' : backbone.model.get('fullWidth'), \n'description' : backbone.model.get('description'), \n'suffix' : backbone.model.get('suffix'), \n'decimalscale' : backbone.model.get('decimalscale'), \n'range' : backbone.model.get('range'), \n};\n}; \nrender(){\nlet self=this;\nreturn React.createElement(Material.Paper, {key:'98513b37-6580-4d23-a143-230a771ecb36'},\nReact.createElement(FormatCustomNumber, {key:'33eb34bd-f3f0-4184-9420-fd0b6f99f936' ,'variant': self.state.variant ,'label': self.state.label ,'value': self.state.value ,'fullWidth': self.state.fullWidth ,'helperText': self.state.description ,'suffix': self.state.suffix ,'decimalscale': self.state.decimalscale ,'range': self.state.range ,'size': \"small\" ,'onBlur': function(e){  self.setState({'value':e.target.value}); self.props.onChange({'id':'value', 'value':e.target.value});\n}})\n)\n;\n}\n}\nUIDL65d07e5e6166423e9868d1125361e5e8.defaultProps = {\n'onBlur' : (e)=>{ if (event) event.preventDefault(); backbone.send({ event: 'onBlur', 'params' : ((e)=>{return e; })(e) });}, \n'onChange' : (e)=>{ if (event) event.preventDefault(); backbone.send({ event: 'onChange', 'params' : ((e)=>{return e; })(e) });}, \n}\n        const orig = UIDL65d07e5e6166423e9868d1125361e5e8.prototype.setState;\n        UIDL65d07e5e6166423e9868d1125361e5e8.prototype.onChange = function (model){\n          orig.apply(this, [Object.assign({},model.changed)]);\n        }\n        UIDL65d07e5e6166423e9868d1125361e5e8.prototype.componentDidUpdate = function(){\n        }\n        UIDL65d07e5e6166423e9868d1125361e5e8.getDerivedStateFromProps = function(props, state){\n          return state;\n        }\n        UIDL65d07e5e6166423e9868d1125361e5e8.prototype.componentDidMount = function(){\n          backbone.listenTo(backbone.model, 'change', this.onChange.bind(this));\n        }\n        UIDL65d07e5e6166423e9868d1125361e5e8.prototype.setState = function(state, callback){\n        if('variant' in state){\n          state['variant'] = String(state['variant']);\n        }\n        if('label' in state){\n          state['label'] = String(state['label']);\n        }\n        if('value' in state){\n          state['value'] = parseInt(state['value']);\n        }\n        if('fullWidth' in state){\n          state['fullWidth'] = [true, 'true', 'True', 'on', 'yes', 'Yes', 'TRUE', 1, 'ON'].includes(state['fullWidth']);\n        }\n        if('description' in state){\n          state['description'] = String(state['description']);\n        }\n        if('suffix' in state){\n          state['suffix'] = String(state['suffix']);\n        }\n        if('decimalscale' in state){\n          state['decimalscale'] = parseFloat(state['decimalscale']);\n        }\n        if('range' in state){\n          state['range'] = (state['range']);\n        }\n          for (let [key, value] of Object.entries(state)) {\n            backbone.model.set(key, value);\n          }\n          backbone.model.save_changes();\n          orig.apply(this, [state, callback]);\n        }\n        backbone.app = document.createElement('div');\n        backbone.app.style.padding = '10px';\n        const App = React.createElement(UIDL65d07e5e6166423e9868d1125361e5e8);\n        ReactDOM.render(App, backbone.app);\n        backbone.el.append(backbone.app);\n      },\n      add_child_model: function(model) {\n        return this.create_child_view(model).then((view) => {\n          view.setLayout(view.model.get('layout'));\n          let lview=view;\n          lview.listenTo(lview.model,'change:layout',(m, v) => {\n            this.update_children()\n          });\n          return view;\n        });\n      }, \n      update_children: function () {\n          this.children_views.update(this.model.get('children')).then(function (views) {\n              views.forEach(function (view) {\n                  messaging_1.MessageLoop.postMessage(view.pWidget, widgets_1.Widget.ResizeMessage.UnknownSize);\n              });\n          });\n      }, \n    });\n    return {\n      UIDL65d07e5e6166423e9868d1125361e5e8View,\n      UIDL65d07e5e6166423e9868d1125361e5e8Model\n    };\n});\n",
      "text/plain": [
       "<IPython.core.display.Javascript object>"
      ]
     },
     "metadata": {},
     "output_type": "display_data"
    },
    {
     "data": {
      "text/html": [
       "<style>.p-Widget * {font-size: unset;}</style>"
      ],
      "text/plain": [
       "<IPython.core.display.HTML object>"
      ]
     },
     "metadata": {},
     "output_type": "display_data"
    },
    {
     "data": {
      "text/html": [
       "<link rel='stylesheet' href='https://fonts.googleapis.com/icon?family=Material+Icons'/>"
      ],
      "text/plain": [
       "<IPython.core.display.HTML object>"
      ]
     },
     "metadata": {},
     "output_type": "display_data"
    },
    {
     "data": {
      "application/javascript": "require.config({\n  paths: {\n    'react': 'https://unpkg.com/react@16.8.6/umd/react.development',\n    'react-dom': 'https://unpkg.com/react-dom@16.8.6/umd/react-dom.development',\n    'material-ui': 'https://unpkg.com/@material-ui/core@latest/umd/material-ui.development',\n    'plotlycomponent': 'https://unpkg.com/react-plotly.js@2.3/dist/create-plotly-component',\n    'plotly': 'https://cdn.plot.ly/plotly-1.52.0.min',\n    'math': 'https://cdnjs.cloudflare.com/ajax/libs/mathjs/6.6.1/math.min',\n    'axios': 'https://unpkg.com/axios/dist/axios.min',\n    'localforage' : 'https://www.unpkg.com/localforage@1.7.3/dist/localforage.min',\n    'number-format': 'https://unpkg.com/react-number-format@4.3.1/dist/react-number-format',\n    'prop-types': 'https://unpkg.com/prop-types@15.6/prop-types.min'\n  }\n});\nrequire.undef('UIDL7d164439ce104543b6ca828b842e16a9')\n  define('UIDL7d164439ce104543b6ca828b842e16a9', [\n    '@jupyter-widgets/base',\n    'underscore', \n    'react', \n    'react-dom',\n    'material-ui',\n    'number-format',\n    'axios',\n    'localforage',\n    'prop-types',\n    'plotlycomponent',\n    'plotly',\n    'math'\n  ], function(\n    widgets, \n    _, \n    React, \n    ReactDOM,\n    Material,\n    Format,\n    Axios,\n    LocalForage,\n    PropTypes,\n    PlotlyComponent,\n    Plotly,\n    math\n  ) {\n    const UIDL7d164439ce104543b6ca828b842e16a9Model = widgets.WidgetModel.extend({}, {\n        serializers: _.extend({\n        }, widgets.DOMWidgetModel.serializers)\n    });\n    const UIDL7d164439ce104543b6ca828b842e16a9View = widgets.DOMWidgetView.extend({\n      initialize() {\n        const backbone = this;\n        widgets.DOMWidgetView.prototype.initialize.call(this, arguments);\n        backbone.options = {};\nclass FormatCustomNumber extends React.Component {\nconstructor(props) {\nsuper(props);\nlet self=this;\nthis.state = {\n};\n}; \nrender(){\nlet self=this;\nreturn React.createElement(Material.Paper, {key:'3761e8a8-e471-4c4f-bb2a-1e2ee2f73887' ,'elevation': 0 ,'style': {\"width\": \"100%\"}},\nReact.createElement(Material.TextField, {key:'722212d0-a8b7-4905-833d-071c00e690fe' ,'onBlur': self.props.onBlur ,'InputProps': self.props.property(this.props) ,'className': self.props.className ,'InputLabelProps': self.props.shrink ,'variant': self.props.variant ,'label': self.props.label ,'fullWidth': self.props.fullWidth ,'helperText': self.props.helperText ,'style': self.props.style ,'value': self.props.value ,'decimalscale': self.props.decimalscale ,'size': \"small\" ,'type': \"number\"})\n)\n;\n}\n}\nFormatCustomNumber.defaultProps = {\n'formatter' : (props)=>{\n        return (value => {\n            let nprops = {\n                'style':props.style,\n                'className':value.className,\n                'onValueChange': (v)=> {\n                    value.onChange( {'target':{'value':Number.isInteger(props.decimalscale) ? parseInt(v.value) : parseFloat(v.value)} } );\n                },\n                'onBlur' : (v)=> {\n                    props.onBlur( {'target':{'value':Number.isInteger(props.decimalscale) ? parseInt(v.target.value) : parseFloat(v.target.value) } } );\n                },\n                'value' : Number.isInteger(props.decimalscale) ? parseInt(value.value) : parseFloat(value.value),\n                'isAllowed': (v)=> {\n                    if (props.range && props.range.length == 2)\n                        return v.value >= props.range[0] && v.value <= props.range[1];\n                    return true;\n                },\n                'decimalScale':Number.isInteger(props.decimalscale) ? props.decimalscale : undefined,\n                'suffix':\"\",\n            };\n            return React.createElement(Format,nprops);\n        });\n    }, \n'property' : (props)=>{\n        return {\n            'inputComponent': props.formatter(props), \n            'endAdornment': props.suffix\n        };\n    }, \n'shrink' : {\"shrink\": true},\n'range' : [],\n'decimalscale' : \"none\",\n}\n  FormatCustomNumber.getDerivedStateFromProps = function(props, state){\n  let self = {'props':props,'state':state};\n  return {\n  };\n}\nclass UIDL7d164439ce104543b6ca828b842e16a9 extends React.Component {\nconstructor(props) {\nsuper(props);\nlet self=this;\nthis.state = {\n'variant' : backbone.model.get('variant'), \n'label' : backbone.model.get('label'), \n'value' : backbone.model.get('value'), \n'fullWidth' : backbone.model.get('fullWidth'), \n'description' : backbone.model.get('description'), \n'suffix' : backbone.model.get('suffix'), \n'decimalscale' : backbone.model.get('decimalscale'), \n'range' : backbone.model.get('range'), \n};\n}; \nrender(){\nlet self=this;\nreturn React.createElement(Material.Paper, {key:'0d9fa336-a1bd-49be-b736-6343362fd63f'},\nReact.createElement(FormatCustomNumber, {key:'d0b38e59-2415-4fce-8bc7-cb0a7dad3350' ,'variant': self.state.variant ,'label': self.state.label ,'value': self.state.value ,'fullWidth': self.state.fullWidth ,'helperText': self.state.description ,'suffix': self.state.suffix ,'decimalscale': self.state.decimalscale ,'range': self.state.range ,'size': \"small\" ,'onBlur': function(e){  self.setState({'value':e.target.value}); self.props.onChange({'id':'value', 'value':e.target.value});\n}})\n)\n;\n}\n}\nUIDL7d164439ce104543b6ca828b842e16a9.defaultProps = {\n'onBlur' : (e)=>{ if (event) event.preventDefault(); backbone.send({ event: 'onBlur', 'params' : ((e)=>{return e; })(e) });}, \n'onChange' : (e)=>{ if (event) event.preventDefault(); backbone.send({ event: 'onChange', 'params' : ((e)=>{return e; })(e) });}, \n}\n        const orig = UIDL7d164439ce104543b6ca828b842e16a9.prototype.setState;\n        UIDL7d164439ce104543b6ca828b842e16a9.prototype.onChange = function (model){\n          orig.apply(this, [Object.assign({},model.changed)]);\n        }\n        UIDL7d164439ce104543b6ca828b842e16a9.prototype.componentDidUpdate = function(){\n        }\n        UIDL7d164439ce104543b6ca828b842e16a9.getDerivedStateFromProps = function(props, state){\n          return state;\n        }\n        UIDL7d164439ce104543b6ca828b842e16a9.prototype.componentDidMount = function(){\n          backbone.listenTo(backbone.model, 'change', this.onChange.bind(this));\n        }\n        UIDL7d164439ce104543b6ca828b842e16a9.prototype.setState = function(state, callback){\n        if('variant' in state){\n          state['variant'] = String(state['variant']);\n        }\n        if('label' in state){\n          state['label'] = String(state['label']);\n        }\n        if('value' in state){\n          state['value'] = String(state['value']);\n        }\n        if('fullWidth' in state){\n          state['fullWidth'] = [true, 'true', 'True', 'on', 'yes', 'Yes', 'TRUE', 1, 'ON'].includes(state['fullWidth']);\n        }\n        if('description' in state){\n          state['description'] = String(state['description']);\n        }\n        if('suffix' in state){\n          state['suffix'] = String(state['suffix']);\n        }\n        if('decimalscale' in state){\n          state['decimalscale'] = parseFloat(state['decimalscale']);\n        }\n        if('range' in state){\n          state['range'] = (state['range']);\n        }\n          for (let [key, value] of Object.entries(state)) {\n            backbone.model.set(key, value);\n          }\n          backbone.model.save_changes();\n          orig.apply(this, [state, callback]);\n        }\n        backbone.app = document.createElement('div');\n        backbone.app.style.padding = '10px';\n        const App = React.createElement(UIDL7d164439ce104543b6ca828b842e16a9);\n        ReactDOM.render(App, backbone.app);\n        backbone.el.append(backbone.app);\n      },\n      add_child_model: function(model) {\n        return this.create_child_view(model).then((view) => {\n          view.setLayout(view.model.get('layout'));\n          let lview=view;\n          lview.listenTo(lview.model,'change:layout',(m, v) => {\n            this.update_children()\n          });\n          return view;\n        });\n      }, \n      update_children: function () {\n          this.children_views.update(this.model.get('children')).then(function (views) {\n              views.forEach(function (view) {\n                  messaging_1.MessageLoop.postMessage(view.pWidget, widgets_1.Widget.ResizeMessage.UnknownSize);\n              });\n          });\n      }, \n    });\n    return {\n      UIDL7d164439ce104543b6ca828b842e16a9View,\n      UIDL7d164439ce104543b6ca828b842e16a9Model\n    };\n});\n",
      "text/plain": [
       "<IPython.core.display.Javascript object>"
      ]
     },
     "metadata": {},
     "output_type": "display_data"
    },
    {
     "data": {
      "text/html": [
       "<style>.p-Widget * {font-size: unset;}</style>"
      ],
      "text/plain": [
       "<IPython.core.display.HTML object>"
      ]
     },
     "metadata": {},
     "output_type": "display_data"
    },
    {
     "data": {
      "text/html": [
       "<link rel='stylesheet' href='https://fonts.googleapis.com/icon?family=Material+Icons'/>"
      ],
      "text/plain": [
       "<IPython.core.display.HTML object>"
      ]
     },
     "metadata": {},
     "output_type": "display_data"
    },
    {
     "data": {
      "application/javascript": "require.config({\n  paths: {\n    'react': 'https://unpkg.com/react@16.8.6/umd/react.development',\n    'react-dom': 'https://unpkg.com/react-dom@16.8.6/umd/react-dom.development',\n    'material-ui': 'https://unpkg.com/@material-ui/core@latest/umd/material-ui.development',\n    'plotlycomponent': 'https://unpkg.com/react-plotly.js@2.3/dist/create-plotly-component',\n    'plotly': 'https://cdn.plot.ly/plotly-1.52.0.min',\n    'math': 'https://cdnjs.cloudflare.com/ajax/libs/mathjs/6.6.1/math.min',\n    'axios': 'https://unpkg.com/axios/dist/axios.min',\n    'localforage' : 'https://www.unpkg.com/localforage@1.7.3/dist/localforage.min',\n    'number-format': 'https://unpkg.com/react-number-format@4.3.1/dist/react-number-format',\n    'prop-types': 'https://unpkg.com/prop-types@15.6/prop-types.min'\n  }\n});\nrequire.undef('UIDL9ab4969fd7dd4304b45954c9e8f378dd')\n  define('UIDL9ab4969fd7dd4304b45954c9e8f378dd', [\n    '@jupyter-widgets/base',\n    'underscore', \n    'react', \n    'react-dom',\n    'material-ui',\n    'number-format',\n    'axios',\n    'localforage',\n    'prop-types',\n    'plotlycomponent',\n    'plotly',\n    'math'\n  ], function(\n    widgets, \n    _, \n    React, \n    ReactDOM,\n    Material,\n    Format,\n    Axios,\n    LocalForage,\n    PropTypes,\n    PlotlyComponent,\n    Plotly,\n    math\n  ) {\n    const UIDL9ab4969fd7dd4304b45954c9e8f378ddModel = widgets.WidgetModel.extend({}, {\n        serializers: _.extend({\n        }, widgets.DOMWidgetModel.serializers)\n    });\n    const UIDL9ab4969fd7dd4304b45954c9e8f378ddView = widgets.DOMWidgetView.extend({\n      initialize() {\n        const backbone = this;\n        widgets.DOMWidgetView.prototype.initialize.call(this, arguments);\n        backbone.options = {};\nclass FormatCustomNumber extends React.Component {\nconstructor(props) {\nsuper(props);\nlet self=this;\nthis.state = {\n};\n}; \nrender(){\nlet self=this;\nreturn React.createElement(Material.Paper, {key:'d19684d0-9bef-4a6c-a2d9-e7fb17a3f9ce' ,'elevation': 0 ,'style': {\"width\": \"100%\"}},\nReact.createElement(Material.TextField, {key:'e5d8fa9c-09e6-4ff8-a873-894871f90e05' ,'onBlur': self.props.onBlur ,'InputProps': self.props.property(this.props) ,'className': self.props.className ,'InputLabelProps': self.props.shrink ,'variant': self.props.variant ,'label': self.props.label ,'fullWidth': self.props.fullWidth ,'helperText': self.props.helperText ,'style': self.props.style ,'value': self.props.value ,'decimalscale': self.props.decimalscale ,'size': \"small\" ,'type': \"number\"})\n)\n;\n}\n}\nFormatCustomNumber.defaultProps = {\n'formatter' : (props)=>{\n        return (value => {\n            let nprops = {\n                'style':props.style,\n                'className':value.className,\n                'onValueChange': (v)=> {\n                    value.onChange( {'target':{'value':Number.isInteger(props.decimalscale) ? parseInt(v.value) : parseFloat(v.value)} } );\n                },\n                'onBlur' : (v)=> {\n                    props.onBlur( {'target':{'value':Number.isInteger(props.decimalscale) ? parseInt(v.target.value) : parseFloat(v.target.value) } } );\n                },\n                'value' : Number.isInteger(props.decimalscale) ? parseInt(value.value) : parseFloat(value.value),\n                'isAllowed': (v)=> {\n                    if (props.range && props.range.length == 2)\n                        return v.value >= props.range[0] && v.value <= props.range[1];\n                    return true;\n                },\n                'decimalScale':Number.isInteger(props.decimalscale) ? props.decimalscale : undefined,\n                'suffix':\"\",\n            };\n            return React.createElement(Format,nprops);\n        });\n    }, \n'property' : (props)=>{\n        return {\n            'inputComponent': props.formatter(props), \n            'endAdornment': props.suffix\n        };\n    }, \n'shrink' : {\"shrink\": true},\n'range' : [],\n'decimalscale' : \"none\",\n}\n  FormatCustomNumber.getDerivedStateFromProps = function(props, state){\n  let self = {'props':props,'state':state};\n  return {\n  };\n}\nclass UIDL9ab4969fd7dd4304b45954c9e8f378dd extends React.Component {\nconstructor(props) {\nsuper(props);\nlet self=this;\nthis.state = {\n'variant' : backbone.model.get('variant'), \n'label' : backbone.model.get('label'), \n'value' : backbone.model.get('value'), \n'fullWidth' : backbone.model.get('fullWidth'), \n'description' : backbone.model.get('description'), \n'suffix' : backbone.model.get('suffix'), \n'range' : backbone.model.get('range'), \n};\n}; \nrender(){\nlet self=this;\nreturn React.createElement(Material.Paper, {key:'51fa3522-feea-4b5c-ba99-95857593c118'},\nReact.createElement(FormatCustomNumber, {key:'fd53048e-111f-4ed9-8d8b-cb93f29bacdd' ,'variant': self.state.variant ,'label': self.state.label ,'value': self.state.value ,'fullWidth': self.state.fullWidth ,'helperText': self.state.description ,'suffix': self.state.suffix ,'range': self.state.range ,'size': \"small\" ,'onBlur': function(e){  self.setState({'value':e.target.value}); self.props.onChange({'id':'value', 'value':e.target.value});\n}})\n)\n;\n}\n}\nUIDL9ab4969fd7dd4304b45954c9e8f378dd.defaultProps = {\n'onBlur' : (e)=>{ if (event) event.preventDefault(); backbone.send({ event: 'onBlur', 'params' : ((e)=>{return e; })(e) });}, \n'onChange' : (e)=>{ if (event) event.preventDefault(); backbone.send({ event: 'onChange', 'params' : ((e)=>{return e; })(e) });}, \n}\n        const orig = UIDL9ab4969fd7dd4304b45954c9e8f378dd.prototype.setState;\n        UIDL9ab4969fd7dd4304b45954c9e8f378dd.prototype.onChange = function (model){\n          orig.apply(this, [Object.assign({},model.changed)]);\n        }\n        UIDL9ab4969fd7dd4304b45954c9e8f378dd.prototype.componentDidUpdate = function(){\n        }\n        UIDL9ab4969fd7dd4304b45954c9e8f378dd.getDerivedStateFromProps = function(props, state){\n          return state;\n        }\n        UIDL9ab4969fd7dd4304b45954c9e8f378dd.prototype.componentDidMount = function(){\n          backbone.listenTo(backbone.model, 'change', this.onChange.bind(this));\n        }\n        UIDL9ab4969fd7dd4304b45954c9e8f378dd.prototype.setState = function(state, callback){\n        if('variant' in state){\n          state['variant'] = String(state['variant']);\n        }\n        if('label' in state){\n          state['label'] = String(state['label']);\n        }\n        if('value' in state){\n          state['value'] = parseFloat(state['value']);\n        }\n        if('fullWidth' in state){\n          state['fullWidth'] = [true, 'true', 'True', 'on', 'yes', 'Yes', 'TRUE', 1, 'ON'].includes(state['fullWidth']);\n        }\n        if('description' in state){\n          state['description'] = String(state['description']);\n        }\n        if('suffix' in state){\n          state['suffix'] = String(state['suffix']);\n        }\n        if('range' in state){\n          state['range'] = (state['range']);\n        }\n          for (let [key, value] of Object.entries(state)) {\n            backbone.model.set(key, value);\n          }\n          backbone.model.save_changes();\n          orig.apply(this, [state, callback]);\n        }\n        backbone.app = document.createElement('div');\n        backbone.app.style.padding = '10px';\n        const App = React.createElement(UIDL9ab4969fd7dd4304b45954c9e8f378dd);\n        ReactDOM.render(App, backbone.app);\n        backbone.el.append(backbone.app);\n      },\n      add_child_model: function(model) {\n        return this.create_child_view(model).then((view) => {\n          view.setLayout(view.model.get('layout'));\n          let lview=view;\n          lview.listenTo(lview.model,'change:layout',(m, v) => {\n            this.update_children()\n          });\n          return view;\n        });\n      }, \n      update_children: function () {\n          this.children_views.update(this.model.get('children')).then(function (views) {\n              views.forEach(function (view) {\n                  messaging_1.MessageLoop.postMessage(view.pWidget, widgets_1.Widget.ResizeMessage.UnknownSize);\n              });\n          });\n      }, \n    });\n    return {\n      UIDL9ab4969fd7dd4304b45954c9e8f378ddView,\n      UIDL9ab4969fd7dd4304b45954c9e8f378ddModel\n    };\n});\n",
      "text/plain": [
       "<IPython.core.display.Javascript object>"
      ]
     },
     "metadata": {},
     "output_type": "display_data"
    },
    {
     "data": {
      "text/html": [
       "<style>.p-Widget * {font-size: unset;}</style>"
      ],
      "text/plain": [
       "<IPython.core.display.HTML object>"
      ]
     },
     "metadata": {},
     "output_type": "display_data"
    },
    {
     "data": {
      "text/html": [
       "<link rel='stylesheet' href='https://fonts.googleapis.com/icon?family=Material+Icons'/>"
      ],
      "text/plain": [
       "<IPython.core.display.HTML object>"
      ]
     },
     "metadata": {},
     "output_type": "display_data"
    },
    {
     "data": {
      "application/javascript": "require.config({\n  paths: {\n    'react': 'https://unpkg.com/react@16.8.6/umd/react.development',\n    'react-dom': 'https://unpkg.com/react-dom@16.8.6/umd/react-dom.development',\n    'material-ui': 'https://unpkg.com/@material-ui/core@latest/umd/material-ui.development',\n    'plotlycomponent': 'https://unpkg.com/react-plotly.js@2.3/dist/create-plotly-component',\n    'plotly': 'https://cdn.plot.ly/plotly-1.52.0.min',\n    'math': 'https://cdnjs.cloudflare.com/ajax/libs/mathjs/6.6.1/math.min',\n    'axios': 'https://unpkg.com/axios/dist/axios.min',\n    'localforage' : 'https://www.unpkg.com/localforage@1.7.3/dist/localforage.min',\n    'number-format': 'https://unpkg.com/react-number-format@4.3.1/dist/react-number-format',\n    'prop-types': 'https://unpkg.com/prop-types@15.6/prop-types.min'\n  }\n});\nrequire.undef('UIDLc2b9110f0e1744df8cf573dd06e4dad3')\n  define('UIDLc2b9110f0e1744df8cf573dd06e4dad3', [\n    '@jupyter-widgets/base',\n    'underscore', \n    'react', \n    'react-dom',\n    'material-ui',\n    'number-format',\n    'axios',\n    'localforage',\n    'prop-types',\n    'plotlycomponent',\n    'plotly',\n    'math'\n  ], function(\n    widgets, \n    _, \n    React, \n    ReactDOM,\n    Material,\n    Format,\n    Axios,\n    LocalForage,\n    PropTypes,\n    PlotlyComponent,\n    Plotly,\n    math\n  ) {\n    const UIDLc2b9110f0e1744df8cf573dd06e4dad3Model = widgets.WidgetModel.extend({}, {\n        serializers: _.extend({\n        }, widgets.DOMWidgetModel.serializers)\n    });\n    const UIDLc2b9110f0e1744df8cf573dd06e4dad3View = widgets.DOMWidgetView.extend({\n      initialize() {\n        const backbone = this;\n        widgets.DOMWidgetView.prototype.initialize.call(this, arguments);\n        backbone.options = {};\nclass FormatCustomNumber extends React.Component {\nconstructor(props) {\nsuper(props);\nlet self=this;\nthis.state = {\n};\n}; \nrender(){\nlet self=this;\nreturn React.createElement(Material.Paper, {key:'93a6f34d-cea0-4b70-a1d3-82bbfb552dfd' ,'elevation': 0 ,'style': {\"width\": \"100%\"}},\nReact.createElement(Material.TextField, {key:'794d15a0-a2be-4bf9-8be3-2fc04844a434' ,'onBlur': self.props.onBlur ,'InputProps': self.props.property(this.props) ,'className': self.props.className ,'InputLabelProps': self.props.shrink ,'variant': self.props.variant ,'label': self.props.label ,'fullWidth': self.props.fullWidth ,'helperText': self.props.helperText ,'style': self.props.style ,'value': self.props.value ,'decimalscale': self.props.decimalscale ,'size': \"small\" ,'type': \"number\"})\n)\n;\n}\n}\nFormatCustomNumber.defaultProps = {\n'formatter' : (props)=>{\n        return (value => {\n            let nprops = {\n                'style':props.style,\n                'className':value.className,\n                'onValueChange': (v)=> {\n                    value.onChange( {'target':{'value':Number.isInteger(props.decimalscale) ? parseInt(v.value) : parseFloat(v.value)} } );\n                },\n                'onBlur' : (v)=> {\n                    props.onBlur( {'target':{'value':Number.isInteger(props.decimalscale) ? parseInt(v.target.value) : parseFloat(v.target.value) } } );\n                },\n                'value' : Number.isInteger(props.decimalscale) ? parseInt(value.value) : parseFloat(value.value),\n                'isAllowed': (v)=> {\n                    if (props.range && props.range.length == 2)\n                        return v.value >= props.range[0] && v.value <= props.range[1];\n                    return true;\n                },\n                'decimalScale':Number.isInteger(props.decimalscale) ? props.decimalscale : undefined,\n                'suffix':\"\",\n            };\n            return React.createElement(Format,nprops);\n        });\n    }, \n'property' : (props)=>{\n        return {\n            'inputComponent': props.formatter(props), \n            'endAdornment': props.suffix\n        };\n    }, \n'shrink' : {\"shrink\": true},\n'range' : [],\n'decimalscale' : \"none\",\n}\n  FormatCustomNumber.getDerivedStateFromProps = function(props, state){\n  let self = {'props':props,'state':state};\n  return {\n  };\n}\nclass UIDLc2b9110f0e1744df8cf573dd06e4dad3 extends React.Component {\nconstructor(props) {\nsuper(props);\nlet self=this;\nthis.state = {\n'variant' : backbone.model.get('variant'), \n'label' : backbone.model.get('label'), \n'value' : backbone.model.get('value'), \n'fullWidth' : backbone.model.get('fullWidth'), \n'description' : backbone.model.get('description'), \n'suffix' : backbone.model.get('suffix'), \n'range' : backbone.model.get('range'), \n};\n}; \nrender(){\nlet self=this;\nreturn React.createElement(Material.Paper, {key:'bba51d01-f57d-4391-b45c-a5b6d48ed366'},\nReact.createElement(FormatCustomNumber, {key:'00de4d5e-2a9c-41bb-ba8e-060761216da5' ,'variant': self.state.variant ,'label': self.state.label ,'value': self.state.value ,'fullWidth': self.state.fullWidth ,'helperText': self.state.description ,'suffix': self.state.suffix ,'range': self.state.range ,'size': \"small\" ,'onBlur': function(e){  self.setState({'value':e.target.value}); self.props.onChange({'id':'value', 'value':e.target.value});\n}})\n)\n;\n}\n}\nUIDLc2b9110f0e1744df8cf573dd06e4dad3.defaultProps = {\n'onBlur' : (e)=>{ if (event) event.preventDefault(); backbone.send({ event: 'onBlur', 'params' : ((e)=>{return e; })(e) });}, \n'onChange' : (e)=>{ if (event) event.preventDefault(); backbone.send({ event: 'onChange', 'params' : ((e)=>{return e; })(e) });}, \n}\n        const orig = UIDLc2b9110f0e1744df8cf573dd06e4dad3.prototype.setState;\n        UIDLc2b9110f0e1744df8cf573dd06e4dad3.prototype.onChange = function (model){\n          orig.apply(this, [Object.assign({},model.changed)]);\n        }\n        UIDLc2b9110f0e1744df8cf573dd06e4dad3.prototype.componentDidUpdate = function(){\n        }\n        UIDLc2b9110f0e1744df8cf573dd06e4dad3.getDerivedStateFromProps = function(props, state){\n          return state;\n        }\n        UIDLc2b9110f0e1744df8cf573dd06e4dad3.prototype.componentDidMount = function(){\n          backbone.listenTo(backbone.model, 'change', this.onChange.bind(this));\n        }\n        UIDLc2b9110f0e1744df8cf573dd06e4dad3.prototype.setState = function(state, callback){\n        if('variant' in state){\n          state['variant'] = String(state['variant']);\n        }\n        if('label' in state){\n          state['label'] = String(state['label']);\n        }\n        if('value' in state){\n          state['value'] = String(state['value']);\n        }\n        if('fullWidth' in state){\n          state['fullWidth'] = [true, 'true', 'True', 'on', 'yes', 'Yes', 'TRUE', 1, 'ON'].includes(state['fullWidth']);\n        }\n        if('description' in state){\n          state['description'] = String(state['description']);\n        }\n        if('suffix' in state){\n          state['suffix'] = String(state['suffix']);\n        }\n        if('range' in state){\n          state['range'] = (state['range']);\n        }\n          for (let [key, value] of Object.entries(state)) {\n            backbone.model.set(key, value);\n          }\n          backbone.model.save_changes();\n          orig.apply(this, [state, callback]);\n        }\n        backbone.app = document.createElement('div');\n        backbone.app.style.padding = '10px';\n        const App = React.createElement(UIDLc2b9110f0e1744df8cf573dd06e4dad3);\n        ReactDOM.render(App, backbone.app);\n        backbone.el.append(backbone.app);\n      },\n      add_child_model: function(model) {\n        return this.create_child_view(model).then((view) => {\n          view.setLayout(view.model.get('layout'));\n          let lview=view;\n          lview.listenTo(lview.model,'change:layout',(m, v) => {\n            this.update_children()\n          });\n          return view;\n        });\n      }, \n      update_children: function () {\n          this.children_views.update(this.model.get('children')).then(function (views) {\n              views.forEach(function (view) {\n                  messaging_1.MessageLoop.postMessage(view.pWidget, widgets_1.Widget.ResizeMessage.UnknownSize);\n              });\n          });\n      }, \n    });\n    return {\n      UIDLc2b9110f0e1744df8cf573dd06e4dad3View,\n      UIDLc2b9110f0e1744df8cf573dd06e4dad3Model\n    };\n});\n",
      "text/plain": [
       "<IPython.core.display.Javascript object>"
      ]
     },
     "metadata": {},
     "output_type": "display_data"
    },
    {
     "data": {
      "text/html": [
       "<style>.p-Widget * {font-size: unset;}</style>"
      ],
      "text/plain": [
       "<IPython.core.display.HTML object>"
      ]
     },
     "metadata": {},
     "output_type": "display_data"
    },
    {
     "data": {
      "text/html": [
       "<link rel='stylesheet' href='https://fonts.googleapis.com/icon?family=Material+Icons'/>"
      ],
      "text/plain": [
       "<IPython.core.display.HTML object>"
      ]
     },
     "metadata": {},
     "output_type": "display_data"
    },
    {
     "data": {
      "application/javascript": "require.config({\n  paths: {\n    'react': 'https://unpkg.com/react@16.8.6/umd/react.development',\n    'react-dom': 'https://unpkg.com/react-dom@16.8.6/umd/react-dom.development',\n    'material-ui': 'https://unpkg.com/@material-ui/core@latest/umd/material-ui.development',\n    'plotlycomponent': 'https://unpkg.com/react-plotly.js@2.3/dist/create-plotly-component',\n    'plotly': 'https://cdn.plot.ly/plotly-1.52.0.min',\n    'math': 'https://cdnjs.cloudflare.com/ajax/libs/mathjs/6.6.1/math.min',\n    'axios': 'https://unpkg.com/axios/dist/axios.min',\n    'localforage' : 'https://www.unpkg.com/localforage@1.7.3/dist/localforage.min',\n    'number-format': 'https://unpkg.com/react-number-format@4.3.1/dist/react-number-format',\n    'prop-types': 'https://unpkg.com/prop-types@15.6/prop-types.min'\n  }\n});\nrequire.undef('UIDLe7eceb6851ba433498e07a5fd876efc7')\n  define('UIDLe7eceb6851ba433498e07a5fd876efc7', [\n    '@jupyter-widgets/base',\n    'underscore', \n    'react', \n    'react-dom',\n    'material-ui',\n    'number-format',\n    'axios',\n    'localforage',\n    'prop-types',\n    'plotlycomponent',\n    'plotly',\n    'math'\n  ], function(\n    widgets, \n    _, \n    React, \n    ReactDOM,\n    Material,\n    Format,\n    Axios,\n    LocalForage,\n    PropTypes,\n    PlotlyComponent,\n    Plotly,\n    math\n  ) {\n    const UIDLe7eceb6851ba433498e07a5fd876efc7Model = widgets.WidgetModel.extend({}, {\n        serializers: _.extend({\n        }, widgets.DOMWidgetModel.serializers)\n    });\n    const UIDLe7eceb6851ba433498e07a5fd876efc7View = widgets.DOMWidgetView.extend({\n      initialize() {\n        const backbone = this;\n        widgets.DOMWidgetView.prototype.initialize.call(this, arguments);\n        backbone.options = {};\nclass FormatCustomNumber extends React.Component {\nconstructor(props) {\nsuper(props);\nlet self=this;\nthis.state = {\n};\n}; \nrender(){\nlet self=this;\nreturn React.createElement(Material.Paper, {key:'0379b602-da13-44a8-9e0c-15cb6e358a39' ,'elevation': 0 ,'style': {\"width\": \"100%\"}},\nReact.createElement(Material.TextField, {key:'23fbcbc0-7670-4900-a9f5-25f53a259e87' ,'onBlur': self.props.onBlur ,'InputProps': self.props.property(this.props) ,'className': self.props.className ,'InputLabelProps': self.props.shrink ,'variant': self.props.variant ,'label': self.props.label ,'fullWidth': self.props.fullWidth ,'helperText': self.props.helperText ,'style': self.props.style ,'value': self.props.value ,'decimalscale': self.props.decimalscale ,'size': \"small\" ,'type': \"number\"})\n)\n;\n}\n}\nFormatCustomNumber.defaultProps = {\n'formatter' : (props)=>{\n        return (value => {\n            let nprops = {\n                'style':props.style,\n                'className':value.className,\n                'onValueChange': (v)=> {\n                    value.onChange( {'target':{'value':Number.isInteger(props.decimalscale) ? parseInt(v.value) : parseFloat(v.value)} } );\n                },\n                'onBlur' : (v)=> {\n                    props.onBlur( {'target':{'value':Number.isInteger(props.decimalscale) ? parseInt(v.target.value) : parseFloat(v.target.value) } } );\n                },\n                'value' : Number.isInteger(props.decimalscale) ? parseInt(value.value) : parseFloat(value.value),\n                'isAllowed': (v)=> {\n                    if (props.range && props.range.length == 2)\n                        return v.value >= props.range[0] && v.value <= props.range[1];\n                    return true;\n                },\n                'decimalScale':Number.isInteger(props.decimalscale) ? props.decimalscale : undefined,\n                'suffix':\"\",\n            };\n            return React.createElement(Format,nprops);\n        });\n    }, \n'property' : (props)=>{\n        return {\n            'inputComponent': props.formatter(props), \n            'endAdornment': props.suffix\n        };\n    }, \n'shrink' : {\"shrink\": true},\n'range' : [],\n'decimalscale' : \"none\",\n}\n  FormatCustomNumber.getDerivedStateFromProps = function(props, state){\n  let self = {'props':props,'state':state};\n  return {\n  };\n}\nclass UIDLe7eceb6851ba433498e07a5fd876efc7 extends React.Component {\nconstructor(props) {\nsuper(props);\nlet self=this;\nthis.state = {\n'variant' : backbone.model.get('variant'), \n'label' : backbone.model.get('label'), \n'value' : backbone.model.get('value'), \n'fullWidth' : backbone.model.get('fullWidth'), \n'description' : backbone.model.get('description'), \n'suffix' : backbone.model.get('suffix'), \n'range' : backbone.model.get('range'), \n};\n}; \nrender(){\nlet self=this;\nreturn React.createElement(Material.Paper, {key:'cd6a1d2a-d10f-4272-a662-0c8c607be3c0'},\nReact.createElement(FormatCustomNumber, {key:'0cc5bba5-cd9f-40ad-bcef-f2621f5e4b1e' ,'variant': self.state.variant ,'label': self.state.label ,'value': self.state.value ,'fullWidth': self.state.fullWidth ,'helperText': self.state.description ,'suffix': self.state.suffix ,'range': self.state.range ,'size': \"small\" ,'onBlur': function(e){  self.setState({'value':e.target.value}); self.props.onChange({'id':'value', 'value':e.target.value});\n}})\n)\n;\n}\n}\nUIDLe7eceb6851ba433498e07a5fd876efc7.defaultProps = {\n'onBlur' : (e)=>{ if (event) event.preventDefault(); backbone.send({ event: 'onBlur', 'params' : ((e)=>{return e; })(e) });}, \n'onChange' : (e)=>{ if (event) event.preventDefault(); backbone.send({ event: 'onChange', 'params' : ((e)=>{return e; })(e) });}, \n}\n        const orig = UIDLe7eceb6851ba433498e07a5fd876efc7.prototype.setState;\n        UIDLe7eceb6851ba433498e07a5fd876efc7.prototype.onChange = function (model){\n          orig.apply(this, [Object.assign({},model.changed)]);\n        }\n        UIDLe7eceb6851ba433498e07a5fd876efc7.prototype.componentDidUpdate = function(){\n        }\n        UIDLe7eceb6851ba433498e07a5fd876efc7.getDerivedStateFromProps = function(props, state){\n          return state;\n        }\n        UIDLe7eceb6851ba433498e07a5fd876efc7.prototype.componentDidMount = function(){\n          backbone.listenTo(backbone.model, 'change', this.onChange.bind(this));\n        }\n        UIDLe7eceb6851ba433498e07a5fd876efc7.prototype.setState = function(state, callback){\n        if('variant' in state){\n          state['variant'] = String(state['variant']);\n        }\n        if('label' in state){\n          state['label'] = String(state['label']);\n        }\n        if('value' in state){\n          state['value'] = String(state['value']);\n        }\n        if('fullWidth' in state){\n          state['fullWidth'] = [true, 'true', 'True', 'on', 'yes', 'Yes', 'TRUE', 1, 'ON'].includes(state['fullWidth']);\n        }\n        if('description' in state){\n          state['description'] = String(state['description']);\n        }\n        if('suffix' in state){\n          state['suffix'] = String(state['suffix']);\n        }\n        if('range' in state){\n          state['range'] = (state['range']);\n        }\n          for (let [key, value] of Object.entries(state)) {\n            backbone.model.set(key, value);\n          }\n          backbone.model.save_changes();\n          orig.apply(this, [state, callback]);\n        }\n        backbone.app = document.createElement('div');\n        backbone.app.style.padding = '10px';\n        const App = React.createElement(UIDLe7eceb6851ba433498e07a5fd876efc7);\n        ReactDOM.render(App, backbone.app);\n        backbone.el.append(backbone.app);\n      },\n      add_child_model: function(model) {\n        return this.create_child_view(model).then((view) => {\n          view.setLayout(view.model.get('layout'));\n          let lview=view;\n          lview.listenTo(lview.model,'change:layout',(m, v) => {\n            this.update_children()\n          });\n          return view;\n        });\n      }, \n      update_children: function () {\n          this.children_views.update(this.model.get('children')).then(function (views) {\n              views.forEach(function (view) {\n                  messaging_1.MessageLoop.postMessage(view.pWidget, widgets_1.Widget.ResizeMessage.UnknownSize);\n              });\n          });\n      }, \n    });\n    return {\n      UIDLe7eceb6851ba433498e07a5fd876efc7View,\n      UIDLe7eceb6851ba433498e07a5fd876efc7Model\n    };\n});\n",
      "text/plain": [
       "<IPython.core.display.Javascript object>"
      ]
     },
     "metadata": {},
     "output_type": "display_data"
    }
   ],
   "source": [
    "from nanohubuidl.ipywidgets import buildJSX\n",
    "import ipywidgets as w\n",
    "Integer = buildJSX('''\n",
    "    <Nanohub.FormatCustomNumber \n",
    "      variant=\"{variant:string(outlined)}\"\n",
    "      label = \"{label:string( )}\"\n",
    "      value = \"{value:integer(3)}\"\n",
    "      fullWidth = \"{fullWidth:boolean(true)}\"\n",
    "      helperText = \"{description:string( )}\"\n",
    "      suffix = \"{suffix:string( )}\"\n",
    "      decimalscale = \"{decimalscale:number(0)}\"\n",
    "      onBlur = \"[stateChange(value,e.target.value)]\"\n",
    "      range = \"{range:array([])}\"\n",
    "      size = \"small\"\n",
    "    />\n",
    "''');\n",
    "IntegerAsString = buildJSX('''\n",
    "    <Nanohub.FormatCustomNumber \n",
    "        variant=\"{variant:string(outlined)}\"\n",
    "        label = \"{label:string( )}\"\n",
    "        value = \"{value:string( )}\"\n",
    "        fullWidth = \"{fullWidth:boolean(true)}\"\n",
    "        helperText = \"{description:string( )}\"\n",
    "        suffix = \"{suffix:string( )}\"\n",
    "        decimalscale = \"{decimalscale:number(0)}\"\n",
    "        onBlur = \"[stateChange(value,e.target.value)]\"\n",
    "        range = \"{range:array([])}\"\n",
    "        size = \"small\"\n",
    "    />\n",
    "''');\n",
    "Float = buildJSX('''\n",
    "    <Nanohub.FormatCustomNumber \n",
    "        variant=\"{variant:string(outlined)}\"\n",
    "        label = \"{label:string( )}\"\n",
    "        value = \"{value:number(3.7)}\"\n",
    "        fullWidth = \"{fullWidth:boolean(true)}\"\n",
    "        helperText = \"{description:string( )}\"\n",
    "        suffix = \"{suffix:string( )}\"\n",
    "        onBlur = \"[stateChange(value,e.target.value)]\"\n",
    "        range = \"{range:array([])}\"\n",
    "        size = \"small\"\n",
    "    />\n",
    "''');\n",
    "FloatAsString = buildJSX('''\n",
    "    <Nanohub.FormatCustomNumber \n",
    "        variant=\"{variant:string(outlined)}\"\n",
    "        label = \"{label:string( )}\"\n",
    "        value = \"{value:string( )}\"\n",
    "        fullWidth = \"{fullWidth:boolean(true)}\"\n",
    "        helperText = \"{description:string( )}\"\n",
    "        suffix = \"{suffix:string( )}\"\n",
    "        onBlur = \"[stateChange(value,e.target.value)]\"\n",
    "        range = \"{range:array([])}\"\n",
    "        size = \"small\"\n",
    "    />\n",
    "''');\n",
    "FloatAsString = buildJSX('''\n",
    "    <Nanohub.FormatCustomNumber \n",
    "        variant=\"{variant:string(outlined)}\"\n",
    "        label = \"{label:string( )}\"\n",
    "        value = \"{value:string( )}\"\n",
    "        fullWidth = \"{fullWidth:boolean(true)}\"\n",
    "        helperText = \"{description:string( )}\"\n",
    "        suffix = \"{suffix:string( )}\"\n",
    "        onBlur = \"[stateChange(value,e.target.value)]\"\n",
    "        range = \"{range:array([])}\"\n",
    "        size = \"small\"\n",
    "    />\n",
    "''');\n",
    "  "
   ]
  },
  {
   "cell_type": "code",
   "execution_count": 2,
   "metadata": {
    "scrolled": false
   },
   "outputs": [
    {
     "data": {
      "application/vnd.jupyter.widget-view+json": {
       "model_id": "2b1de4e25d424108a46d29feea91bd7e",
       "version_major": 2,
       "version_minor": 0
      },
      "text/plain": [
       "VBox(children=(UIDL65d07e5e6166423e9868d1125361e5e8Widget(description='This is an Integer', label='Integer', v…"
      ]
     },
     "metadata": {},
     "output_type": "display_data"
    }
   ],
   "source": [
    "i = Integer(value=45, label=\"Integer\", description=\"This is an Integer\")\n",
    "f = Float(value=10, label=\"Float\", description=\"This is a Float\")\n",
    "ias = IntegerAsString(value=\"43\", label=\"IntegerAsString\", description=\"This is an Integer\")\n",
    "fas = FloatAsString(value=\"12\", label=\"FloatAsString\", description=\"This is a Float\")\n",
    "w.VBox([i,f, ias, fas])"
   ]
  },
  {
   "cell_type": "code",
   "execution_count": 3,
   "metadata": {},
   "outputs": [
    {
     "data": {
      "application/vnd.jupyter.widget-view+json": {
       "model_id": "98c0850bfd20471f8a938541e37c3878",
       "version_major": 2,
       "version_minor": 0
      },
      "text/plain": [
       "HBox(children=(UIDL7d164439ce104543b6ca828b842e16a9Widget(description='This is an Integer asd asdas', label='I…"
      ]
     },
     "metadata": {},
     "output_type": "display_data"
    }
   ],
   "source": [
    "i2 = IntegerAsString(value=\"20\", label=\"IntegerAsString\", description=\"This is an Integer asd asdas\")\n",
    "i3 = IntegerAsString(value=\"25\", label=\"IntegerAsString\", description=\"This is an Integer asd asdas\")\n",
    "w.HBox([i2,i3])"
   ]
  },
  {
   "cell_type": "code",
   "execution_count": 4,
   "metadata": {},
   "outputs": [
    {
     "data": {
      "text/plain": [
       "'25'"
      ]
     },
     "execution_count": 4,
     "metadata": {},
     "output_type": "execute_result"
    }
   ],
   "source": [
    "i3.value"
   ]
  },
  {
   "cell_type": "code",
   "execution_count": 5,
   "metadata": {},
   "outputs": [
    {
     "data": {
      "text/html": [
       "<style>.p-Widget * {font-size: unset;}</style>"
      ],
      "text/plain": [
       "<IPython.core.display.HTML object>"
      ]
     },
     "metadata": {},
     "output_type": "display_data"
    },
    {
     "data": {
      "text/html": [
       "<link rel='stylesheet' href='https://fonts.googleapis.com/icon?family=Material+Icons'/>"
      ],
      "text/plain": [
       "<IPython.core.display.HTML object>"
      ]
     },
     "metadata": {},
     "output_type": "display_data"
    },
    {
     "data": {
      "application/javascript": "require.config({\n  paths: {\n    'react': 'https://unpkg.com/react@16.8.6/umd/react.development',\n    'react-dom': 'https://unpkg.com/react-dom@16.8.6/umd/react-dom.development',\n    'material-ui': 'https://unpkg.com/@material-ui/core@latest/umd/material-ui.development',\n    'plotlycomponent': 'https://unpkg.com/react-plotly.js@2.3/dist/create-plotly-component',\n    'plotly': 'https://cdn.plot.ly/plotly-1.52.0.min',\n    'math': 'https://cdnjs.cloudflare.com/ajax/libs/mathjs/6.6.1/math.min',\n    'axios': 'https://unpkg.com/axios/dist/axios.min',\n    'localforage' : 'https://www.unpkg.com/localforage@1.7.3/dist/localforage.min',\n    'number-format': 'https://unpkg.com/react-number-format@4.3.1/dist/react-number-format',\n    'prop-types': 'https://unpkg.com/prop-types@15.6/prop-types.min'\n  }\n});\nrequire.undef('UIDLdc6f3a7d04194177a23859a481cf9412')\n  define('UIDLdc6f3a7d04194177a23859a481cf9412', [\n    '@jupyter-widgets/base',\n    'underscore', \n    'react', \n    'react-dom',\n    'material-ui',\n    'number-format',\n    'axios',\n    'localforage',\n    'prop-types',\n    'plotlycomponent',\n    'plotly',\n    'math'\n  ], function(\n    widgets, \n    _, \n    React, \n    ReactDOM,\n    Material,\n    Format,\n    Axios,\n    LocalForage,\n    PropTypes,\n    PlotlyComponent,\n    Plotly,\n    math\n  ) {\n    const UIDLdc6f3a7d04194177a23859a481cf9412Model = widgets.WidgetModel.extend({}, {\n        serializers: _.extend({\n        }, widgets.DOMWidgetModel.serializers)\n    });\n    const UIDLdc6f3a7d04194177a23859a481cf9412View = widgets.DOMWidgetView.extend({\n      initialize() {\n        const backbone = this;\n        widgets.DOMWidgetView.prototype.initialize.call(this, arguments);\n        backbone.options = {};\nclass UIDLdc6f3a7d04194177a23859a481cf9412 extends React.Component {\nconstructor(props) {\nsuper(props);\nlet self=this;\nthis.state = {\n'label' : backbone.model.get('label'), \n'value' : backbone.model.get('value'), \n'step' : backbone.model.get('step'), \n'min' : backbone.model.get('min'), \n'max' : backbone.model.get('max'), \n'marks' : backbone.model.get('marks'), \n'description' : backbone.model.get('description'), \n'fullWidth' : backbone.model.get('fullWidth'), \n'variant' : backbone.model.get('variant'), \n};\n}; \nrender(){\nlet self=this;\nreturn React.createElement(Material.Paper, {key:'f135db4d-fcee-40bb-8162-df10e21681ae'},\nReact.createElement(Material.FormControl, {key:'00d3a573-be06-45c0-9099-0c486d6af046' ,'fullWidth': self.state.fullWidth ,'variant': self.state.variant ,'style': {\"border\": \"1px solid rgba(0, 0, 0, 0.23)\", \"borderRadius\": \"4px\", \"flexDirection\": \"row\", \"paddingLeft\": \"30px\"}},[\nReact.createElement(Material.InputLabel, {key:'63a93358-1950-4535-90f8-2b3d1f6af64e' ,'htmlFor': \"component-filled\" ,'shrink': \"true\" ,'style': {\"background\": \"white\", \"padding\": \"0px 2px\"}},\n self.state.label )\n ,React.createElement(Material.Slider, {key:'6e42d0a2-520c-4695-b7da-64f20152b806' ,'value': self.state.value ,'step': self.state.step ,'min': self.state.min ,'max': self.state.max ,'marks': self.state.marks ,'onChange': function(e){  self.setState({'value':arguments[1]}); self.props.onChange({'id':'value', 'value':arguments[1]});\n}})\n ,React.createElement(Material.FormHelperText, {key:'d6feba49-ba6c-4227-8dc2-39597b88b1ac'},\n self.state.description )\n])\n)\n;\n}\n}\nUIDLdc6f3a7d04194177a23859a481cf9412.defaultProps = {\n'onChange' : (e)=>{ if (event) event.preventDefault(); backbone.send({ event: 'onChange', 'params' : ((e)=>{return e; })(e) });}, \n}\n        const orig = UIDLdc6f3a7d04194177a23859a481cf9412.prototype.setState;\n        UIDLdc6f3a7d04194177a23859a481cf9412.prototype.onChange = function (model){\n          orig.apply(this, [Object.assign({},model.changed)]);\n        }\n        UIDLdc6f3a7d04194177a23859a481cf9412.prototype.componentDidUpdate = function(){\n        }\n        UIDLdc6f3a7d04194177a23859a481cf9412.getDerivedStateFromProps = function(props, state){\n          return state;\n        }\n        UIDLdc6f3a7d04194177a23859a481cf9412.prototype.componentDidMount = function(){\n          backbone.listenTo(backbone.model, 'change', this.onChange.bind(this));\n        }\n        UIDLdc6f3a7d04194177a23859a481cf9412.prototype.setState = function(state, callback){\n        if('label' in state){\n          state['label'] = String(state['label']);\n        }\n        if('value' in state){\n          state['value'] = parseInt(state['value']);\n        }\n        if('step' in state){\n          state['step'] = parseInt(state['step']);\n        }\n        if('min' in state){\n          state['min'] = parseInt(state['min']);\n        }\n        if('max' in state){\n          state['max'] = parseInt(state['max']);\n        }\n        if('marks' in state){\n          state['marks'] = (state['marks']);\n        }\n        if('description' in state){\n          state['description'] = String(state['description']);\n        }\n        if('fullWidth' in state){\n          state['fullWidth'] = [true, 'true', 'True', 'on', 'yes', 'Yes', 'TRUE', 1, 'ON'].includes(state['fullWidth']);\n        }\n        if('variant' in state){\n          state['variant'] = String(state['variant']);\n        }\n          for (let [key, value] of Object.entries(state)) {\n            backbone.model.set(key, value);\n          }\n          backbone.model.save_changes();\n          orig.apply(this, [state, callback]);\n        }\n        backbone.app = document.createElement('div');\n        backbone.app.style.padding = '10px';\n        const App = React.createElement(UIDLdc6f3a7d04194177a23859a481cf9412);\n        ReactDOM.render(App, backbone.app);\n        backbone.el.append(backbone.app);\n      },\n      add_child_model: function(model) {\n        return this.create_child_view(model).then((view) => {\n          view.setLayout(view.model.get('layout'));\n          let lview=view;\n          lview.listenTo(lview.model,'change:layout',(m, v) => {\n            this.update_children()\n          });\n          return view;\n        });\n      }, \n      update_children: function () {\n          this.children_views.update(this.model.get('children')).then(function (views) {\n              views.forEach(function (view) {\n                  messaging_1.MessageLoop.postMessage(view.pWidget, widgets_1.Widget.ResizeMessage.UnknownSize);\n              });\n          });\n      }, \n    });\n    return {\n      UIDLdc6f3a7d04194177a23859a481cf9412View,\n      UIDLdc6f3a7d04194177a23859a481cf9412Model\n    };\n});\n",
      "text/plain": [
       "<IPython.core.display.Javascript object>"
      ]
     },
     "metadata": {},
     "output_type": "display_data"
    },
    {
     "data": {
      "text/html": [
       "<style>.p-Widget * {font-size: unset;}</style>"
      ],
      "text/plain": [
       "<IPython.core.display.HTML object>"
      ]
     },
     "metadata": {},
     "output_type": "display_data"
    },
    {
     "data": {
      "text/html": [
       "<link rel='stylesheet' href='https://fonts.googleapis.com/icon?family=Material+Icons'/>"
      ],
      "text/plain": [
       "<IPython.core.display.HTML object>"
      ]
     },
     "metadata": {},
     "output_type": "display_data"
    },
    {
     "data": {
      "application/javascript": "require.config({\n  paths: {\n    'react': 'https://unpkg.com/react@16.8.6/umd/react.development',\n    'react-dom': 'https://unpkg.com/react-dom@16.8.6/umd/react-dom.development',\n    'material-ui': 'https://unpkg.com/@material-ui/core@latest/umd/material-ui.development',\n    'plotlycomponent': 'https://unpkg.com/react-plotly.js@2.3/dist/create-plotly-component',\n    'plotly': 'https://cdn.plot.ly/plotly-1.52.0.min',\n    'math': 'https://cdnjs.cloudflare.com/ajax/libs/mathjs/6.6.1/math.min',\n    'axios': 'https://unpkg.com/axios/dist/axios.min',\n    'localforage' : 'https://www.unpkg.com/localforage@1.7.3/dist/localforage.min',\n    'number-format': 'https://unpkg.com/react-number-format@4.3.1/dist/react-number-format',\n    'prop-types': 'https://unpkg.com/prop-types@15.6/prop-types.min'\n  }\n});\nrequire.undef('UIDL1323e83536bb425f96d66cd737e23f05')\n  define('UIDL1323e83536bb425f96d66cd737e23f05', [\n    '@jupyter-widgets/base',\n    'underscore', \n    'react', \n    'react-dom',\n    'material-ui',\n    'number-format',\n    'axios',\n    'localforage',\n    'prop-types',\n    'plotlycomponent',\n    'plotly',\n    'math'\n  ], function(\n    widgets, \n    _, \n    React, \n    ReactDOM,\n    Material,\n    Format,\n    Axios,\n    LocalForage,\n    PropTypes,\n    PlotlyComponent,\n    Plotly,\n    math\n  ) {\n    const UIDL1323e83536bb425f96d66cd737e23f05Model = widgets.WidgetModel.extend({}, {\n        serializers: _.extend({\n        }, widgets.DOMWidgetModel.serializers)\n    });\n    const UIDL1323e83536bb425f96d66cd737e23f05View = widgets.DOMWidgetView.extend({\n      initialize() {\n        const backbone = this;\n        widgets.DOMWidgetView.prototype.initialize.call(this, arguments);\n        backbone.options = {};\nclass UIDL1323e83536bb425f96d66cd737e23f05 extends React.Component {\nconstructor(props) {\nsuper(props);\nlet self=this;\nthis.state = {\n'label' : backbone.model.get('label'), \n'value' : backbone.model.get('value'), \n'step' : backbone.model.get('step'), \n'min' : backbone.model.get('min'), \n'max' : backbone.model.get('max'), \n'marks' : backbone.model.get('marks'), \n'description' : backbone.model.get('description'), \n'fullWidth' : backbone.model.get('fullWidth'), \n'variant' : backbone.model.get('variant'), \n};\n}; \nrender(){\nlet self=this;\nreturn React.createElement(Material.Paper, {key:'d1574cbc-5dd6-404e-bc40-467a59f0fac7'},\nReact.createElement(Material.FormControl, {key:'22d6bba2-b582-4808-bfe6-be41b489cc45' ,'fullWidth': self.state.fullWidth ,'variant': self.state.variant ,'style': {\"border\": \"1px solid rgba(0, 0, 0, 0.23)\", \"borderRadius\": \"4px\", \"flexDirection\": \"row\", \"paddingLeft\": \"30px\"}},[\nReact.createElement(Material.InputLabel, {key:'5baeabfa-1aec-492e-93fd-f813f3b19dec' ,'htmlFor': \"component-filled\" ,'shrink': \"true\" ,'style': {\"background\": \"white\", \"padding\": \"0px 2px\"}},\n self.state.label )\n ,React.createElement(Material.Slider, {key:'e084c781-d865-4e6d-8f9f-9101cf396166' ,'value': self.state.value ,'step': self.state.step ,'min': self.state.min ,'max': self.state.max ,'marks': self.state.marks ,'onChange': function(e){  self.setState({'value':arguments[1]}); self.props.onChange({'id':'value', 'value':arguments[1]});\n}})\n ,React.createElement(Material.FormHelperText, {key:'e33e5142-3b92-45cc-9e88-47c8a4928002'},\n self.state.description )\n])\n)\n;\n}\n}\nUIDL1323e83536bb425f96d66cd737e23f05.defaultProps = {\n'onChange' : (e)=>{ if (event) event.preventDefault(); backbone.send({ event: 'onChange', 'params' : ((e)=>{return e; })(e) });}, \n}\n        const orig = UIDL1323e83536bb425f96d66cd737e23f05.prototype.setState;\n        UIDL1323e83536bb425f96d66cd737e23f05.prototype.onChange = function (model){\n          orig.apply(this, [Object.assign({},model.changed)]);\n        }\n        UIDL1323e83536bb425f96d66cd737e23f05.prototype.componentDidUpdate = function(){\n        }\n        UIDL1323e83536bb425f96d66cd737e23f05.getDerivedStateFromProps = function(props, state){\n          return state;\n        }\n        UIDL1323e83536bb425f96d66cd737e23f05.prototype.componentDidMount = function(){\n          backbone.listenTo(backbone.model, 'change', this.onChange.bind(this));\n        }\n        UIDL1323e83536bb425f96d66cd737e23f05.prototype.setState = function(state, callback){\n        if('label' in state){\n          state['label'] = String(state['label']);\n        }\n        if('value' in state){\n          state['value'] = parseFloat(state['value']);\n        }\n        if('step' in state){\n          state['step'] = parseFloat(state['step']);\n        }\n        if('min' in state){\n          state['min'] = parseFloat(state['min']);\n        }\n        if('max' in state){\n          state['max'] = parseFloat(state['max']);\n        }\n        if('marks' in state){\n          state['marks'] = (state['marks']);\n        }\n        if('description' in state){\n          state['description'] = String(state['description']);\n        }\n        if('fullWidth' in state){\n          state['fullWidth'] = [true, 'true', 'True', 'on', 'yes', 'Yes', 'TRUE', 1, 'ON'].includes(state['fullWidth']);\n        }\n        if('variant' in state){\n          state['variant'] = String(state['variant']);\n        }\n          for (let [key, value] of Object.entries(state)) {\n            backbone.model.set(key, value);\n          }\n          backbone.model.save_changes();\n          orig.apply(this, [state, callback]);\n        }\n        backbone.app = document.createElement('div');\n        backbone.app.style.padding = '10px';\n        const App = React.createElement(UIDL1323e83536bb425f96d66cd737e23f05);\n        ReactDOM.render(App, backbone.app);\n        backbone.el.append(backbone.app);\n      },\n      add_child_model: function(model) {\n        return this.create_child_view(model).then((view) => {\n          view.setLayout(view.model.get('layout'));\n          let lview=view;\n          lview.listenTo(lview.model,'change:layout',(m, v) => {\n            this.update_children()\n          });\n          return view;\n        });\n      }, \n      update_children: function () {\n          this.children_views.update(this.model.get('children')).then(function (views) {\n              views.forEach(function (view) {\n                  messaging_1.MessageLoop.postMessage(view.pWidget, widgets_1.Widget.ResizeMessage.UnknownSize);\n              });\n          });\n      }, \n    });\n    return {\n      UIDL1323e83536bb425f96d66cd737e23f05View,\n      UIDL1323e83536bb425f96d66cd737e23f05Model\n    };\n});\n",
      "text/plain": [
       "<IPython.core.display.Javascript object>"
      ]
     },
     "metadata": {},
     "output_type": "display_data"
    }
   ],
   "source": [
    "IntegerAsSlider = buildJSX('''\n",
    "    <Material.FormControl\n",
    "        fullWidth = \"{fullWidth:boolean(true)}\"\n",
    "        variant=\"{variant:string(outlined)}\"\n",
    "        style = \"border:1px solid rgba(0, 0, 0, 0.23);borderRadius:4px;flexDirection:row;paddingLeft:30px\"\n",
    "    >\n",
    "        <Material.InputLabel\n",
    "            htmlFor = \"component-filled\"\n",
    "            shrink = \"true\"\n",
    "            style = \"background:white;padding:0px 2px\"\n",
    "        >\n",
    "            {label:string( )}\n",
    "        </Material.InputLabel>\n",
    "        <Material.Slider\n",
    "            onChange = \"[stateChange(value,arguments[1])]\"\n",
    "            value = \"{value:integer(50)}\"\n",
    "            step = \"{step:integer(1)}\"\n",
    "            min = \"{min:integer(0)}\"\n",
    "            max = \"{max:integer(100)}\"\n",
    "            marks = \"{marks:array([{'value':0, 'label':'0'},{'value':50,'label':'half'},{'value':100,'label':'100'}])}\"\n",
    "        />\n",
    "        <Material.FormHelperText>\n",
    "            {description:string( )}\n",
    "        </Material.FormHelperText>\n",
    "    </Material.FormControl>\n",
    "''');  \n",
    "FloatAsSlider = buildJSX('''\n",
    "    <Material.FormControl\n",
    "        fullWidth = \"{fullWidth:boolean(true)}\"\n",
    "        variant=\"{variant:string(outlined)}\"\n",
    "        style = \"border:1px solid rgba(0, 0, 0, 0.23);borderRadius:4px;flexDirection:row;paddingLeft:30px\"\n",
    "    >\n",
    "        <Material.InputLabel\n",
    "            htmlFor = \"component-filled\"\n",
    "            shrink = \"true\"\n",
    "            style = \"background:white;padding:0px 2px\"\n",
    "        >\n",
    "            {label:string( )}\n",
    "        </Material.InputLabel>\n",
    "        <Material.Slider\n",
    "            onChange = \"[stateChange(value,arguments[1])]\"\n",
    "            value = \"{value:number(0.5)}\"\n",
    "            step = \"{step:number(0.1)}\"\n",
    "            min = \"{min:number(0)}\"\n",
    "            max = \"{max:number(1)}\"\n",
    "            marks = \"{marks:array([{'value':0.0, 'label':'0'},{'value':0.5,'label':'half'},{'value':1.0,'label':'1'}])}\"\n",
    "        />\n",
    "        <Material.FormHelperText>\n",
    "            {description:string( )}\n",
    "        </Material.FormHelperText>\n",
    "    </Material.FormControl>\n",
    "''');  "
   ]
  },
  {
   "cell_type": "code",
   "execution_count": 6,
   "metadata": {},
   "outputs": [
    {
     "data": {
      "application/vnd.jupyter.widget-view+json": {
       "model_id": "948d608296b741cfb3339d46c8c0bc72",
       "version_major": 2,
       "version_minor": 0
      },
      "text/plain": [
       "VBox(children=(UIDLdc6f3a7d04194177a23859a481cf9412Widget(description='Integer', label='IntegerAsSlider', mark…"
      ]
     },
     "metadata": {},
     "output_type": "display_data"
    }
   ],
   "source": [
    "iasl = IntegerAsSlider(label=\"IntegerAsSlider\", description=\"Integer\")\n",
    "fasl = FloatAsSlider(label=\"FloatAsSlider\", description=\"Float\")\n",
    "w.VBox([iasl,fasl])"
   ]
  },
  {
   "cell_type": "code",
   "execution_count": 7,
   "metadata": {},
   "outputs": [
    {
     "data": {
      "text/plain": [
       "(50, 0.5)"
      ]
     },
     "execution_count": 7,
     "metadata": {},
     "output_type": "execute_result"
    }
   ],
   "source": [
    "iasl.value, fasl.value"
   ]
  },
  {
   "cell_type": "code",
   "execution_count": 8,
   "metadata": {},
   "outputs": [],
   "source": [
    "iasl.value = 50"
   ]
  },
  {
   "cell_type": "code",
   "execution_count": 9,
   "metadata": {},
   "outputs": [
    {
     "data": {
      "text/html": [
       "<style>.p-Widget * {font-size: unset;}</style>"
      ],
      "text/plain": [
       "<IPython.core.display.HTML object>"
      ]
     },
     "metadata": {},
     "output_type": "display_data"
    },
    {
     "data": {
      "text/html": [
       "<link rel='stylesheet' href='https://fonts.googleapis.com/icon?family=Material+Icons'/>"
      ],
      "text/plain": [
       "<IPython.core.display.HTML object>"
      ]
     },
     "metadata": {},
     "output_type": "display_data"
    },
    {
     "data": {
      "application/javascript": "require.config({\n  paths: {\n    'react': 'https://unpkg.com/react@16.8.6/umd/react.development',\n    'react-dom': 'https://unpkg.com/react-dom@16.8.6/umd/react-dom.development',\n    'material-ui': 'https://unpkg.com/@material-ui/core@latest/umd/material-ui.development',\n    'plotlycomponent': 'https://unpkg.com/react-plotly.js@2.3/dist/create-plotly-component',\n    'plotly': 'https://cdn.plot.ly/plotly-1.52.0.min',\n    'math': 'https://cdnjs.cloudflare.com/ajax/libs/mathjs/6.6.1/math.min',\n    'axios': 'https://unpkg.com/axios/dist/axios.min',\n    'localforage' : 'https://www.unpkg.com/localforage@1.7.3/dist/localforage.min',\n    'number-format': 'https://unpkg.com/react-number-format@4.3.1/dist/react-number-format',\n    'prop-types': 'https://unpkg.com/prop-types@15.6/prop-types.min'\n  }\n});\nrequire.undef('UIDL7878f011ab1140b4b33d6de75a05b17e')\n  define('UIDL7878f011ab1140b4b33d6de75a05b17e', [\n    '@jupyter-widgets/base',\n    'underscore', \n    'react', \n    'react-dom',\n    'material-ui',\n    'number-format',\n    'axios',\n    'localforage',\n    'prop-types',\n    'plotlycomponent',\n    'plotly',\n    'math'\n  ], function(\n    widgets, \n    _, \n    React, \n    ReactDOM,\n    Material,\n    Format,\n    Axios,\n    LocalForage,\n    PropTypes,\n    PlotlyComponent,\n    Plotly,\n    math\n  ) {\n    const UIDL7878f011ab1140b4b33d6de75a05b17eModel = widgets.WidgetModel.extend({}, {\n        serializers: _.extend({\n        }, widgets.DOMWidgetModel.serializers)\n    });\n    const UIDL7878f011ab1140b4b33d6de75a05b17eView = widgets.DOMWidgetView.extend({\n      initialize() {\n        const backbone = this;\n        widgets.DOMWidgetView.prototype.initialize.call(this, arguments);\n        backbone.options = {};\nclass UIDL7878f011ab1140b4b33d6de75a05b17e extends React.Component {\nconstructor(props) {\nsuper(props);\nlet self=this;\nthis.state = {\n'label' : backbone.model.get('label'), \n'value' : backbone.model.get('value'), \n'description' : backbone.model.get('description'), \n'fullWidth' : backbone.model.get('fullWidth'), \n'variant' : backbone.model.get('variant'), \n};\n}; \nrender(){\nlet self=this;\nreturn React.createElement(Material.Paper, {key:'fbe3c2f6-45ad-438c-8644-d5b3b972b5fb'},\nReact.createElement(Material.FormControl, {key:'3608f1ad-f2c2-412f-8f10-d3f3cc4ba051' ,'fullWidth': self.state.fullWidth ,'variant': self.state.variant ,'style': {\"border\": \"1px solid rgba(0, 0, 0, 0.23)\", \"borderRadius\": \"4px\", \"flexDirection\": \"row\", \"paddingLeft\": \"30px\"}},[\nReact.createElement(Material.InputLabel, {key:'3dff2371-1ccd-449e-9c8d-b8c9d5361826' ,'htmlFor': \"component-filled\" ,'shrink': \"true\" ,'style': {\"background\": \"white\", \"padding\": \"0px 2px\"}},\n self.state.label )\n ,React.createElement(Material.Switch, {key:'1c283ff9-6b13-460b-9e10-2655673d672d' ,'checked': self.state.value ,'onChange': function(e){  self.setState({'value':e.target.checked}); self.props.onChange({'id':'value', 'value':e.target.checked});\n}})\n ,React.createElement(Material.FormHelperText, {key:'5b794b99-c502-45ff-8a86-d90fdaffa3a0'},\n self.state.description )\n])\n)\n;\n}\n}\nUIDL7878f011ab1140b4b33d6de75a05b17e.defaultProps = {\n'onChange' : (e)=>{ if (event) event.preventDefault(); backbone.send({ event: 'onChange', 'params' : ((e)=>{return e; })(e) });}, \n}\n        const orig = UIDL7878f011ab1140b4b33d6de75a05b17e.prototype.setState;\n        UIDL7878f011ab1140b4b33d6de75a05b17e.prototype.onChange = function (model){\n          orig.apply(this, [Object.assign({},model.changed)]);\n        }\n        UIDL7878f011ab1140b4b33d6de75a05b17e.prototype.componentDidUpdate = function(){\n        }\n        UIDL7878f011ab1140b4b33d6de75a05b17e.getDerivedStateFromProps = function(props, state){\n          return state;\n        }\n        UIDL7878f011ab1140b4b33d6de75a05b17e.prototype.componentDidMount = function(){\n          backbone.listenTo(backbone.model, 'change', this.onChange.bind(this));\n        }\n        UIDL7878f011ab1140b4b33d6de75a05b17e.prototype.setState = function(state, callback){\n        if('label' in state){\n          state['label'] = String(state['label']);\n        }\n        if('value' in state){\n          state['value'] = [true, 'true', 'True', 'on', 'yes', 'Yes', 'TRUE', 1, 'ON'].includes(state['value']);\n        }\n        if('description' in state){\n          state['description'] = String(state['description']);\n        }\n        if('fullWidth' in state){\n          state['fullWidth'] = [true, 'true', 'True', 'on', 'yes', 'Yes', 'TRUE', 1, 'ON'].includes(state['fullWidth']);\n        }\n        if('variant' in state){\n          state['variant'] = String(state['variant']);\n        }\n          for (let [key, value] of Object.entries(state)) {\n            backbone.model.set(key, value);\n          }\n          backbone.model.save_changes();\n          orig.apply(this, [state, callback]);\n        }\n        backbone.app = document.createElement('div');\n        backbone.app.style.padding = '10px';\n        const App = React.createElement(UIDL7878f011ab1140b4b33d6de75a05b17e);\n        ReactDOM.render(App, backbone.app);\n        backbone.el.append(backbone.app);\n      },\n      add_child_model: function(model) {\n        return this.create_child_view(model).then((view) => {\n          view.setLayout(view.model.get('layout'));\n          let lview=view;\n          lview.listenTo(lview.model,'change:layout',(m, v) => {\n            this.update_children()\n          });\n          return view;\n        });\n      }, \n      update_children: function () {\n          this.children_views.update(this.model.get('children')).then(function (views) {\n              views.forEach(function (view) {\n                  messaging_1.MessageLoop.postMessage(view.pWidget, widgets_1.Widget.ResizeMessage.UnknownSize);\n              });\n          });\n      }, \n    });\n    return {\n      UIDL7878f011ab1140b4b33d6de75a05b17eView,\n      UIDL7878f011ab1140b4b33d6de75a05b17eModel\n    };\n});\n",
      "text/plain": [
       "<IPython.core.display.Javascript object>"
      ]
     },
     "metadata": {},
     "output_type": "display_data"
    },
    {
     "data": {
      "text/html": [
       "<style>.p-Widget * {font-size: unset;}</style>"
      ],
      "text/plain": [
       "<IPython.core.display.HTML object>"
      ]
     },
     "metadata": {},
     "output_type": "display_data"
    },
    {
     "data": {
      "text/html": [
       "<link rel='stylesheet' href='https://fonts.googleapis.com/icon?family=Material+Icons'/>"
      ],
      "text/plain": [
       "<IPython.core.display.HTML object>"
      ]
     },
     "metadata": {},
     "output_type": "display_data"
    },
    {
     "data": {
      "application/javascript": "require.config({\n  paths: {\n    'react': 'https://unpkg.com/react@16.8.6/umd/react.development',\n    'react-dom': 'https://unpkg.com/react-dom@16.8.6/umd/react-dom.development',\n    'material-ui': 'https://unpkg.com/@material-ui/core@latest/umd/material-ui.development',\n    'plotlycomponent': 'https://unpkg.com/react-plotly.js@2.3/dist/create-plotly-component',\n    'plotly': 'https://cdn.plot.ly/plotly-1.52.0.min',\n    'math': 'https://cdnjs.cloudflare.com/ajax/libs/mathjs/6.6.1/math.min',\n    'axios': 'https://unpkg.com/axios/dist/axios.min',\n    'localforage' : 'https://www.unpkg.com/localforage@1.7.3/dist/localforage.min',\n    'number-format': 'https://unpkg.com/react-number-format@4.3.1/dist/react-number-format',\n    'prop-types': 'https://unpkg.com/prop-types@15.6/prop-types.min'\n  }\n});\nrequire.undef('UIDLd402025da3ee49eaaca34b2c9dbfec2b')\n  define('UIDLd402025da3ee49eaaca34b2c9dbfec2b', [\n    '@jupyter-widgets/base',\n    'underscore', \n    'react', \n    'react-dom',\n    'material-ui',\n    'number-format',\n    'axios',\n    'localforage',\n    'prop-types',\n    'plotlycomponent',\n    'plotly',\n    'math'\n  ], function(\n    widgets, \n    _, \n    React, \n    ReactDOM,\n    Material,\n    Format,\n    Axios,\n    LocalForage,\n    PropTypes,\n    PlotlyComponent,\n    Plotly,\n    math\n  ) {\n    const UIDLd402025da3ee49eaaca34b2c9dbfec2bModel = widgets.WidgetModel.extend({}, {\n        serializers: _.extend({\n        }, widgets.DOMWidgetModel.serializers)\n    });\n    const UIDLd402025da3ee49eaaca34b2c9dbfec2bView = widgets.DOMWidgetView.extend({\n      initialize() {\n        const backbone = this;\n        widgets.DOMWidgetView.prototype.initialize.call(this, arguments);\n        backbone.options = {};\nclass IntSwitch extends React.Component {\nconstructor(props) {\nsuper(props);\nlet self=this;\nthis.state = {\n'checked' : self.props.default_value==self.props.ids[1], \n'onColor' : self.props.default_value==self.props.ids[0]? 'primary' : 'secondary', \n'offColor' : self.props.default_value!=self.props.ids[0]? 'primary' : 'secondary', \n};\n}; \nrender(){\nlet self=this;\nreturn React.createElement(Material.Paper, {key:'eabb5ba3-1290-4861-a822-9cb1a3052b43' ,'elevation': 0 ,'style': {\"width\": \"100%\"}},[\nReact.createElement(Material.FormControl, {key:'052adbe6-f9f0-4af8-9a62-040b05c83621' ,'variant': \"outlined\" ,'style': {\"border\": \"1px solid rgba(0, 0, 0, 0.23)\", \"borderRadius\": \"4px\", \"flexDirection\": \"row\", \"width\": \"100%\"}},[\nReact.createElement(Material.InputLabel, {key:'fc52bce4-e5d6-4bb9-a2ad-61e300235efd' ,'htmlFor': \"component-filled\" ,'shrink': true ,'style': {\"background\": \"white\", \"padding\": \"0px 2px\"}},\n self.props.label )\n ,React.createElement(Material.Grid, {key:'cc4afad7-2f68-4f45-96d7-13c0fd594e40' ,'container': true ,'direction': \"row\" ,'justify': \"space-evenly\" ,'alignItems': \"flex-start\" ,'style': {\"width\": \"100%\"}},[\nReact.createElement(Material.Grid, {key:'4bfa9446-4442-4844-8884-61aa028e8233' ,'item': true ,'style': {\"padding\": \"5px 5px 5px 0px\"}},\nReact.createElement(Material.Typography, {key:'ad46268c-46df-40e0-84c1-c4f0028287be' ,'variant': \"body1\" ,'color': self.state.onColor ,'style': {\"maxWidth\": \"80px\", \"lineHeight\": \"1.2\"}},\n self.props.options[0] )\n)\n ,React.createElement(Material.Grid, {key:'9140c1bd-c237-4463-a986-44819d3f6976' ,'item': true},\nReact.createElement(Material.Switch, {key:'efbadb7e-9d13-4648-b9b8-eac633cd8680' ,'htmlFor': \"component-filled\" ,'color': \"primary\" ,'checked': self.state.checked ,'onChange': function(e){  self.setState({'checked':e.target.checked}); self.setState({'onColor':e.target.checked?'secondary':'primary'}); self.setState({'offColor':e.target.checked?'primary':'secondary'}); self.props.onChange({'target':{'value':self.props.ids[e.target.checked?1:0]}});\n}})\n)\n ,React.createElement(Material.Grid, {key:'140f82c3-e137-4f07-872e-d112d7d2b0d6' ,'item': true ,'style': {\"padding\": \"5px 5px 5px 0px\"}},\nReact.createElement(Material.Typography, {key:'9bd2832d-86a7-4b2b-b434-08b4f393518c' ,'variant': \"body1\" ,'color': self.state.offColor ,'style': {\"maxWidth\": \"80px\", \"lineHeight\": \"1.2\"}},\n self.props.options[1] )\n)\n])\n])\n ,React.createElement(Material.FormHelperText, {key:'917981e0-3230-4ffc-8c45-ff6fb0a37c52'},\n self.props.description )\n])\n;\n}\n}\nIntSwitch.defaultProps = {\n'default_value' : \"1\",\n'ids' : [0, 1],\n'options' : [\"Off\", \"On\"],\n'label' : \"\",\n'descripption' : \"\",\n'onChange' : (e)=>{}, \n}\n  IntSwitch.getDerivedStateFromProps = function(props, state){\n  let self = {'props':props,'state':state};\n  return {\n  'checked' : props.default_value==self.props.ids[1], \n  'onColor' : props.default_value==self.props.ids[0]? 'primary' : 'secondary', \n  'offColor' : props.default_value!=self.props.ids[0]? 'primary' : 'secondary', \n  };\n}\nclass UIDLd402025da3ee49eaaca34b2c9dbfec2b extends React.Component {\nconstructor(props) {\nsuper(props);\nlet self=this;\nthis.state = {\n'value' : backbone.model.get('value'), \n'ids' : backbone.model.get('ids'), \n'options' : backbone.model.get('options'), \n'label' : backbone.model.get('label'), \n'description' : backbone.model.get('description'), \n};\n}; \nrender(){\nlet self=this;\nreturn React.createElement(Material.Paper, {key:'732ba805-0696-468d-9f0c-01c7a2faa9fc'},\nReact.createElement(IntSwitch, {key:'dd3d5519-a894-4b5c-8bd1-ef7d4afb63bc' ,'default_value': self.state.value ,'ids': self.state.ids ,'options': self.state.options ,'label': self.state.label ,'description': self.state.description ,'onChange': function(e){  self.setState({'value':e.target.value}); self.props.onChange({'id':'value', 'value':e.target.value});\n}})\n)\n;\n}\n}\nUIDLd402025da3ee49eaaca34b2c9dbfec2b.defaultProps = {\n'onChange' : (e)=>{ if (event) event.preventDefault(); backbone.send({ event: 'onChange', 'params' : ((e)=>{return e; })(e) });}, \n}\n        const orig = UIDLd402025da3ee49eaaca34b2c9dbfec2b.prototype.setState;\n        UIDLd402025da3ee49eaaca34b2c9dbfec2b.prototype.onChange = function (model){\n          orig.apply(this, [Object.assign({},model.changed)]);\n        }\n        UIDLd402025da3ee49eaaca34b2c9dbfec2b.prototype.componentDidUpdate = function(){\n        }\n        UIDLd402025da3ee49eaaca34b2c9dbfec2b.getDerivedStateFromProps = function(props, state){\n          return state;\n        }\n        UIDLd402025da3ee49eaaca34b2c9dbfec2b.prototype.componentDidMount = function(){\n          backbone.listenTo(backbone.model, 'change', this.onChange.bind(this));\n        }\n        UIDLd402025da3ee49eaaca34b2c9dbfec2b.prototype.setState = function(state, callback){\n        if('value' in state){\n          state['value'] = parseInt(state['value']);\n        }\n        if('ids' in state){\n          state['ids'] = (state['ids']);\n        }\n        if('options' in state){\n          state['options'] = (state['options']);\n        }\n        if('label' in state){\n          state['label'] = String(state['label']);\n        }\n        if('description' in state){\n          state['description'] = String(state['description']);\n        }\n          for (let [key, value] of Object.entries(state)) {\n            backbone.model.set(key, value);\n          }\n          backbone.model.save_changes();\n          orig.apply(this, [state, callback]);\n        }\n        backbone.app = document.createElement('div');\n        backbone.app.style.padding = '10px';\n        const App = React.createElement(UIDLd402025da3ee49eaaca34b2c9dbfec2b);\n        ReactDOM.render(App, backbone.app);\n        backbone.el.append(backbone.app);\n      },\n      add_child_model: function(model) {\n        return this.create_child_view(model).then((view) => {\n          view.setLayout(view.model.get('layout'));\n          let lview=view;\n          lview.listenTo(lview.model,'change:layout',(m, v) => {\n            this.update_children()\n          });\n          return view;\n        });\n      }, \n      update_children: function () {\n          this.children_views.update(this.model.get('children')).then(function (views) {\n              views.forEach(function (view) {\n                  messaging_1.MessageLoop.postMessage(view.pWidget, widgets_1.Widget.ResizeMessage.UnknownSize);\n              });\n          });\n      }, \n    });\n    return {\n      UIDLd402025da3ee49eaaca34b2c9dbfec2bView,\n      UIDLd402025da3ee49eaaca34b2c9dbfec2bModel\n    };\n});\n",
      "text/plain": [
       "<IPython.core.display.Javascript object>"
      ]
     },
     "metadata": {},
     "output_type": "display_data"
    }
   ],
   "source": [
    "BooleanAsSwitch = buildJSX('''\n",
    "    <Material.FormControl\n",
    "        fullWidth = \"{fullWidth:boolean(true)}\"\n",
    "        variant=\"{variant:string(outlined)}\"\n",
    "        style = \"border:1px solid rgba(0, 0, 0, 0.23);borderRadius:4px;flexDirection:row;paddingLeft:30px\"\n",
    "    >\n",
    "        <Material.InputLabel\n",
    "            htmlFor = \"component-filled\"\n",
    "            shrink = \"true\"\n",
    "            style = \"background:white;padding:0px 2px\"\n",
    "        >\n",
    "            {label:string( )}\n",
    "        </Material.InputLabel>\n",
    "        <Material.Switch\n",
    "            onChange = \"[stateChange(value,e.target.checked)]\"\n",
    "            checked = \"{value:boolean(true)}\"\n",
    "        />\n",
    "        <Material.FormHelperText>\n",
    "            {description:string( )}\n",
    "        </Material.FormHelperText>\n",
    "    </Material.FormControl>\n",
    "''');\n",
    "IntegerAsSwitch = buildJSX('''\n",
    "        <IntSwitch\n",
    "            onChange = \"[stateChange(value,e.target.value)]\"\n",
    "            default_value = \"{value:integer(5)}\"\n",
    "            ids = \"{ids:array([5, 10])}\"\n",
    "            options = \"{options:array(['Five','Ten'])}\"\n",
    "            label = \"{label:string( )}\"\n",
    "            description = \"{description:string( )}\"\n",
    "        />\n",
    "''');"
   ]
  },
  {
   "cell_type": "code",
   "execution_count": 10,
   "metadata": {},
   "outputs": [
    {
     "data": {
      "application/vnd.jupyter.widget-view+json": {
       "model_id": "8c80fac95e8f4b248a36d96178a22875",
       "version_major": 2,
       "version_minor": 0
      },
      "text/plain": [
       "VBox(children=(UIDL7878f011ab1140b4b33d6de75a05b17eWidget(description='This is a Boolean', label='BooleanAsSwi…"
      ]
     },
     "metadata": {},
     "output_type": "display_data"
    }
   ],
   "source": [
    "bas = BooleanAsSwitch(label=\"BooleanAsSwitch\", description=\"This is a Boolean\")\n",
    "iasw = IntegerAsSwitch(label=\"IntegerAsSwitch\", description=\"This is a Integer\")\n",
    "w.VBox([bas, iasw])"
   ]
  },
  {
   "cell_type": "code",
   "execution_count": 11,
   "metadata": {},
   "outputs": [],
   "source": [
    "bas.value = True"
   ]
  },
  {
   "cell_type": "code",
   "execution_count": 12,
   "metadata": {},
   "outputs": [],
   "source": [
    "iasw.value = 10"
   ]
  },
  {
   "cell_type": "code",
   "execution_count": null,
   "metadata": {},
   "outputs": [],
   "source": []
  },
  {
   "cell_type": "code",
   "execution_count": null,
   "metadata": {},
   "outputs": [],
   "source": []
  },
  {
   "cell_type": "code",
   "execution_count": null,
   "metadata": {},
   "outputs": [],
   "source": []
  },
  {
   "cell_type": "code",
   "execution_count": null,
   "metadata": {},
   "outputs": [],
   "source": []
  },
  {
   "cell_type": "code",
   "execution_count": null,
   "metadata": {},
   "outputs": [],
   "source": []
  }
 ],
 "metadata": {
  "kernelspec": {
   "display_name": "Python 3",
   "language": "python",
   "name": "python3"
  },
  "language_info": {
   "codemirror_mode": {
    "name": "ipython",
    "version": 3
   },
   "file_extension": ".py",
   "mimetype": "text/x-python",
   "name": "python",
   "nbconvert_exporter": "python",
   "pygments_lexer": "ipython3",
   "version": "3.7.7"
  }
 },
 "nbformat": 4,
 "nbformat_minor": 2
}
