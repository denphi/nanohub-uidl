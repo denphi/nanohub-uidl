{
 "cells": [
  {
   "cell_type": "code",
   "execution_count": 1,
   "metadata": {},
   "outputs": [
    {
     "data": {
      "text/html": [
       "<style>.p-Widget * {font-size: unset;}</style>"
      ],
      "text/plain": [
       "<IPython.core.display.HTML object>"
      ]
     },
     "metadata": {},
     "output_type": "display_data"
    },
    {
     "data": {
      "text/html": [
       "<link rel='stylesheet' href='https://fonts.googleapis.com/icon?family=Material+Icons'/>"
      ],
      "text/plain": [
       "<IPython.core.display.HTML object>"
      ]
     },
     "metadata": {},
     "output_type": "display_data"
    },
    {
     "data": {
      "application/javascript": [
       "require.config({\n",
       "  paths: {\n",
       "    'react': 'https://unpkg.com/react@16.8.6/umd/react.development',\n",
       "    'react-dom': 'https://unpkg.com/react-dom@16.8.6/umd/react-dom.development',\n",
       "    'material-ui': 'https://unpkg.com/@material-ui/core@latest/umd/material-ui.development',\n",
       "    'plotlycomponent': 'https://unpkg.com/react-plotly.js@2.3/dist/create-plotly-component',\n",
       "    'plotly': 'https://cdn.plot.ly/plotly-latest.min',\n",
       "    'math': 'https://cdnjs.cloudflare.com/ajax/libs/mathjs/6.6.1/math.min',\n",
       "    'axios': 'https://unpkg.com/axios/dist/axios.min',\n",
       "    'localforage' : 'https://www.unpkg.com/localforage@1.7.3/dist/localforage.min',\n",
       "    'number-format': 'https://unpkg.com/react-number-format@4.3.1/dist/react-number-format',\n",
       "    'prop-types': 'https://unpkg.com/prop-types@15.6/prop-types.min',\n",
       "  }\n",
       "});\n",
       "require.undef('UIDL92b7e45508c54b17b789f8849441552c')\n",
       "  define('UIDL92b7e45508c54b17b789f8849441552c', [\n",
       "    '@jupyter-widgets/base',\n",
       "    'react', \n",
       "    'react-dom',\n",
       "    'material-ui',\n",
       "    'number-format',\n",
       "    'axios',\n",
       "    'localforage',\n",
       "    'prop-types',\n",
       "    'plotlycomponent',\n",
       "    'plotly',\n",
       "    'math'\n",
       "  ], function(\n",
       "    widgets, \n",
       "    React, \n",
       "    ReactDOM,\n",
       "    Material,\n",
       "    Format,\n",
       "    Axios,\n",
       "    LocalForage,\n",
       "    PropTypes,\n",
       "    PlotlyComponent,\n",
       "    Plotly,\n",
       "    math\n",
       "  ) {\n",
       "    const UIDL92b7e45508c54b17b789f8849441552cView = widgets.DOMWidgetView.extend({\n",
       "      initialize() {\n",
       "      const backbone = this;\n",
       "      backbone.options = {};\n",
       "class UIDL92b7e45508c54b17b789f8849441552c extends React.Component {\n",
       "constructor(props) {\n",
       "super(props);\n",
       "let self=this;\n",
       "this.state = {\n",
       "'disabled' : backbone.model.get('disabled'), \n",
       "'myvalue' : backbone.model.get('myvalue'), \n",
       "};\n",
       "}; \n",
       "render(){\n",
       "let self=this;\n",
       "return React.createElement(Material.Paper, {key:'9311a14a-9afd-442b-81f0-0686e195a280'},[\n",
       "React.createElement(Material.Typography, {key:'476a09fb-64c2-4f03-8497-124f242da9ce' ,'id': \"continuous-slider\" ,'gutterBottom': \"true\" ,'align': \"center\"},\n",
       " 'Volume' )\n",
       " ,React.createElement(Material.Grid, {key:'a93dbd36-a534-4f38-ba09-66e1ad89a0d8' ,'container': \"true\" ,'spacing': \"2\" ,'style': {\"width\": \"100%\"}},[\n",
       "React.createElement(Material.Grid, {key:'66930c99-6622-476e-88a9-1ce86623b987' ,'item': \"true\"},\n",
       "React.createElement(Material.IconButton, {key:'d593f342-16b5-4a7c-ab14-c6cffca4340c' ,'onClick': function(e){  self.setState({'myvalue':0}); self.props.onChange({'id':'myvalue', 'value':0});\n",
       "}},\n",
       "React.createElement(Material.Icon, {key:'37c7af76-87af-4925-85be-7459335ad1cd'},\n",
       " 'volume_down' )\n",
       ")\n",
       ")\n",
       " ,React.createElement(Material.Grid, {key:'cab6f74d-4fef-4355-a6c4-b4e0af90004a' ,'item': \"true\" ,'style': {\"flex\": \"1\"}},\n",
       "React.createElement(Material.Slider, {key:'454d97b9-1147-4768-ba13-be43af571d04' ,'disabled': self.state.disabled ,'value': self.state.myvalue ,'aria-labelledby': \"enabled-slider\" ,'onChange': function(e){  self.setState({'myvalue':arguments[1]}); self.props.onChange({'id':'myvalue', 'value':arguments[1]});\n",
       "}})\n",
       ")\n",
       " ,React.createElement(Material.Grid, {key:'3f1b13ce-c1e1-4772-92fa-b322904556f0' ,'item': \"true\"},\n",
       "React.createElement(Material.IconButton, {key:'8a9b44e6-e925-4570-ab64-acc4ef0d5f41' ,'onClick': function(e){  self.setState({'myvalue':100}); self.props.onChange({'id':'myvalue', 'value':100});\n",
       "}},\n",
       "React.createElement(Material.Icon, {key:'04777d71-5e8c-4ba8-b210-1fa2969d3324'},\n",
       " 'volume_up' )\n",
       ")\n",
       ")\n",
       "])\n",
       "])\n",
       ";\n",
       "}\n",
       "}\n",
       "UIDL92b7e45508c54b17b789f8849441552c.defaultProps = {\n",
       "'onClick' : (e)=>{ event.preventDefault(); backbone.send({ event: 'onClick', 'params' : ((e)=>{return e; })(e) });}, \n",
       "'onChange' : (e)=>{ event.preventDefault(); backbone.send({ event: 'onChange', 'params' : ((e)=>{return e; })(e) });}, \n",
       "}\n",
       "      const orig = UIDL92b7e45508c54b17b789f8849441552c.prototype.setState;\n",
       "      UIDL92b7e45508c54b17b789f8849441552c.prototype.onChange = function (model){\n",
       "        orig.apply(this, [Object.assign({},model.changed)]);\n",
       "      }\n",
       "      UIDL92b7e45508c54b17b789f8849441552c.prototype.componentDidMount = function(){\n",
       "        backbone.listenTo(backbone.model, 'change', this.onChange.bind(this));\n",
       "      }\n",
       "      UIDL92b7e45508c54b17b789f8849441552c.prototype.setState = function(state, callback){\n",
       "        if('disabled' in state){\n",
       "          state['disabled'] = [true, 'true', 'True', 'on', 'yes', 'Yes', 'TRUE', 1, 'ON'].includes(state['disabled']);\n",
       "        }\n",
       "        if('myvalue' in state){\n",
       "          state['myvalue'] = parseFloat(state['myvalue']);\n",
       "        }\n",
       "        for (let [key, value] of Object.entries(state)) {\n",
       "          backbone.model.set(key, value);\n",
       "        }\n",
       "        backbone.model.save_changes();\n",
       "        orig.apply(this, [state, callback]);\n",
       "      }\n",
       "      const $app = document.createElement('div');\n",
       "      $app.style.padding = '10px';\n",
       "      const App = React.createElement(UIDL92b7e45508c54b17b789f8849441552c);\n",
       "      ReactDOM.render(App, $app);\n",
       "      backbone.el.append($app);\n",
       "      }\n",
       "    });\n",
       "    return {\n",
       "      UIDL92b7e45508c54b17b789f8849441552cView\n",
       "    };\n",
       "});\n"
      ],
      "text/plain": [
       "<IPython.core.display.Javascript object>"
      ]
     },
     "metadata": {},
     "output_type": "display_data"
    }
   ],
   "source": [
    "from nanohub.uidl.ipywidgets import buildJSX\n",
    "\n",
    "Slider = buildJSX('''\n",
    "  <Material.Typography id=\"continuous-slider\" gutterBottom=\"true\" align=\"center\">\n",
    "    Volume\n",
    "  </Material.Typography>\n",
    "  <Material.Grid container=\"true\" spacing=\"2\" style=\"width:100%\">\n",
    "    <Material.Grid item=\"true\">\n",
    "        <Material.IconButton onClick='[stateChange(myvalue,0)]'>\n",
    "            <Material.Icon>volume_down</Material.Icon>\n",
    "        </Material.IconButton>\n",
    "    </Material.Grid>\n",
    "    <Material.Grid item=\"true\" style=\"flex:1\">\n",
    "      <Material.Slider disabled='{disabled:boolean(false)}' value='{myvalue:number(40)}' onChange='[stateChange(myvalue,arguments[1])]' aria-labelledby=\"enabled-slider\"/>\n",
    "    </Material.Grid>\n",
    "    <Material.Grid item=\"true\">\n",
    "        <Material.IconButton  onClick='[stateChange(myvalue,100)]'>\n",
    "            <Material.Icon>volume_up</Material.Icon>\n",
    "        </Material.IconButton>\n",
    "    </Material.Grid>\n",
    "  </Material.Grid>\n",
    "''', verbose=False);\n"
   ]
  },
  {
   "cell_type": "code",
   "execution_count": 2,
   "metadata": {},
   "outputs": [
    {
     "data": {
      "application/vnd.jupyter.widget-view+json": {
       "model_id": "fc8d8d3096d74dad888a7e5869369e70",
       "version_major": 2,
       "version_minor": 0
      },
      "text/plain": [
       "UIDL92b7e45508c54b17b789f8849441552cWidget(myvalue=10.0)"
      ]
     },
     "metadata": {},
     "output_type": "display_data"
    }
   ],
   "source": [
    "s = Slider(myvalue=10)\n",
    "s"
   ]
  },
  {
   "cell_type": "code",
   "execution_count": 3,
   "metadata": {},
   "outputs": [
    {
     "data": {
      "text/plain": [
       "10.0"
      ]
     },
     "execution_count": 3,
     "metadata": {},
     "output_type": "execute_result"
    }
   ],
   "source": [
    "s.myvalue"
   ]
  },
  {
   "cell_type": "code",
   "execution_count": 4,
   "metadata": {},
   "outputs": [],
   "source": [
    "s.disabled = False"
   ]
  },
  {
   "cell_type": "code",
   "execution_count": null,
   "metadata": {},
   "outputs": [],
   "source": []
  }
 ],
 "metadata": {
  "kernelspec": {
   "display_name": "Python 3",
   "language": "python",
   "name": "python3"
  },
  "language_info": {
   "codemirror_mode": {
    "name": "ipython",
    "version": 3
   },
   "file_extension": ".py",
   "mimetype": "text/x-python",
   "name": "python",
   "nbconvert_exporter": "python",
   "pygments_lexer": "ipython3",
   "version": "3.7.3"
  }
 },
 "nbformat": 4,
 "nbformat_minor": 2
}
