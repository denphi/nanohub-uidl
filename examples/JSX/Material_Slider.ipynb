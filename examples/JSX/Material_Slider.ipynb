{
 "cells": [
  {
   "cell_type": "code",
   "execution_count": 1,
   "metadata": {},
   "outputs": [
    {
     "data": {
      "text/html": [
       "<style>.p-Widget * {font-size: unset;}</style>"
      ],
      "text/plain": [
       "<IPython.core.display.HTML object>"
      ]
     },
     "metadata": {},
     "output_type": "display_data"
    },
    {
     "data": {
      "text/html": [
       "<link rel='stylesheet' href='https://fonts.googleapis.com/icon?family=Material+Icons'/>"
      ],
      "text/plain": [
       "<IPython.core.display.HTML object>"
      ]
     },
     "metadata": {},
     "output_type": "display_data"
    },
    {
     "data": {
      "application/javascript": [
       "require.config({\n",
       "  paths: {\n",
       "    'react': 'https://unpkg.com/react@16.8.6/umd/react.development',\n",
       "    'react-dom': 'https://unpkg.com/react-dom@16.8.6/umd/react-dom.development',\n",
       "    'material-ui': 'https://unpkg.com/@material-ui/core@latest/umd/material-ui.development',\n",
       "    'plotlycomponent': 'https://unpkg.com/react-plotly.js@2.3/dist/create-plotly-component',\n",
       "    'plotly': 'https://cdn.plot.ly/plotly-latest.min',\n",
       "    'math': 'https://cdnjs.cloudflare.com/ajax/libs/mathjs/6.6.1/math.min',\n",
       "    'axios': 'https://unpkg.com/axios/dist/axios.min',\n",
       "    'localforage' : 'https://www.unpkg.com/localforage@1.7.3/dist/localforage.min',\n",
       "    'number-format': 'https://unpkg.com/react-number-format@4.3.1/dist/react-number-format',\n",
       "    'prop-types': 'https://unpkg.com/prop-types@15.6/prop-types.min',\n",
       "    'webcomponents': 'https://cdn.rawgit.com/download/polymer-cdn/2.6.0/lib/webcomponentsjs/webcomponents-loader',\n",
       "  }\n",
       "});\n",
       "require.undef('UIDL039aa183982b49a2a099f28d2a781f1e')\n",
       "  define('UIDL039aa183982b49a2a099f28d2a781f1e', [\n",
       "    '@jupyter-widgets/base',\n",
       "    'react', \n",
       "    'react-dom',\n",
       "    'material-ui',\n",
       "    'number-format',\n",
       "    'axios',\n",
       "    'localforage',\n",
       "    'prop-types',\n",
       "    'plotlycomponent',\n",
       "    'plotly',\n",
       "    'math',\n",
       "    'webcomponents'\n",
       "  ], function(\n",
       "    widgets, \n",
       "    React, \n",
       "    ReactDOM,\n",
       "    Material,\n",
       "    Format,\n",
       "    Axios,\n",
       "    LocalForage,\n",
       "    PropTypes,\n",
       "    PlotlyComponent,\n",
       "    Plotly,\n",
       "    math,\n",
       "    Webcomponents\n",
       "  ) {\n",
       "    console.log(math, Webcomponents)\n",
       "    const UIDL039aa183982b49a2a099f28d2a781f1eView = widgets.DOMWidgetView.extend({\n",
       "      initialize() {\n",
       "      const backbone = this;\n",
       "      backbone.options = {};\n",
       "class UIDL039aa183982b49a2a099f28d2a781f1e extends React.Component {\n",
       "constructor(props) {\n",
       "super(props);\n",
       "let self=this;\n",
       "this.state = {\n",
       "'disabled' : backbone.model.get('disabled'), \n",
       "'myvalue' : backbone.model.get('myvalue'), \n",
       "};\n",
       "}; \n",
       "render(){\n",
       "let self=this;\n",
       "return React.createElement(Material.Paper, {key:'b79d2262-327f-4ff4-aec0-1a6e64e49a5a'},[\n",
       "React.createElement(Material.Typography, {key:'6d4fde3e-26a2-4829-a4a2-83159021ca9a' ,'id': \"continuous-slider\" ,'gutterBottom': \"true\" ,'align': \"center\"},\n",
       " 'Volume' )\n",
       " ,React.createElement(Material.Grid, {key:'54ce0254-ea72-471f-8c33-44c36db486b3' ,'container': \"true\" ,'spacing': \"2\" ,'style': {\"width\": \"100%\"}},[\n",
       "React.createElement(Material.Grid, {key:'234cbe8f-12a5-4ec8-a12b-5d78bb2da304' ,'item': \"true\"},\n",
       "React.createElement(Material.IconButton, {key:'147b1754-ce52-4fb9-9007-574172fc880a' ,'onClick': function(e){  self.setState({'myvalue':0}); self.props.onChange({'id':'myvalue', 'value':0});\n",
       "}},\n",
       "React.createElement(Material.Icon, {key:'caa0457f-c91e-4628-9609-2bc7eb93e578'},\n",
       " 'volume_down' )\n",
       ")\n",
       ")\n",
       " ,React.createElement(Material.Grid, {key:'b5607270-a5eb-48b6-97e9-24060a85d101' ,'item': \"true\" ,'style': {\"flex\": \"1\"}},\n",
       "React.createElement(Material.Slider, {key:'5ed575e9-6d19-410c-a416-d9d48ece4ce2' ,'disabled': self.state.disabled ,'value': self.state.myvalue ,'aria-labelledby': \"enabled-slider\" ,'onChange': function(e){  self.setState({'myvalue':arguments[1]}); self.props.onChange({'id':'myvalue', 'value':arguments[1]});\n",
       "}})\n",
       ")\n",
       " ,React.createElement(Material.Grid, {key:'f4cc40df-569d-44af-a2c7-7b3d070eb4ee' ,'item': \"true\"},\n",
       "React.createElement(Material.IconButton, {key:'4fed7113-0c00-45a4-8550-4323eb90129d' ,'onClick': function(e){  self.setState({'myvalue':100}); self.props.onChange({'id':'myvalue', 'value':100});\n",
       "}},\n",
       "React.createElement(Material.Icon, {key:'f44cd1bd-c2af-483a-bf07-f7b8f002fd40'},\n",
       " 'volume_up' )\n",
       ")\n",
       ")\n",
       "])\n",
       "])\n",
       ";\n",
       "}\n",
       "}\n",
       "UIDL039aa183982b49a2a099f28d2a781f1e.defaultProps = {\n",
       "'onClick' : (e)=>{ if (event) event.preventDefault(); backbone.send({ event: 'onClick', 'params' : ((e)=>{return e; })(e) });}, \n",
       "'onChange' : (e)=>{ if (event) event.preventDefault(); backbone.send({ event: 'onChange', 'params' : ((e)=>{return e; })(e) });}, \n",
       "}\n",
       "      const orig = UIDL039aa183982b49a2a099f28d2a781f1e.prototype.setState;\n",
       "      UIDL039aa183982b49a2a099f28d2a781f1e.prototype.onChange = function (model){\n",
       "        orig.apply(this, [Object.assign({},model.changed)]);\n",
       "      }\n",
       "      UIDL039aa183982b49a2a099f28d2a781f1e.prototype.componentDidMount = function(){\n",
       "        backbone.listenTo(backbone.model, 'change', this.onChange.bind(this));\n",
       "      }\n",
       "      UIDL039aa183982b49a2a099f28d2a781f1e.prototype.setState = function(state, callback){\n",
       "        if('disabled' in state){\n",
       "          state['disabled'] = [true, 'true', 'True', 'on', 'yes', 'Yes', 'TRUE', 1, 'ON'].includes(state['disabled']);\n",
       "        }\n",
       "        if('myvalue' in state){\n",
       "          state['myvalue'] = parseFloat(state['myvalue']);\n",
       "        }\n",
       "        for (let [key, value] of Object.entries(state)) {\n",
       "          backbone.model.set(key, value);\n",
       "        }\n",
       "        backbone.model.save_changes();\n",
       "        orig.apply(this, [state, callback]);\n",
       "      }\n",
       "      const $app = document.createElement('div');\n",
       "      $app.style.padding = '10px';\n",
       "      const App = React.createElement(UIDL039aa183982b49a2a099f28d2a781f1e);\n",
       "      ReactDOM.render(App, $app);\n",
       "      backbone.el.append($app);\n",
       "      }\n",
       "    });\n",
       "    return {\n",
       "      UIDL039aa183982b49a2a099f28d2a781f1eView\n",
       "    };\n",
       "});\n"
      ],
      "text/plain": [
       "<IPython.core.display.Javascript object>"
      ]
     },
     "metadata": {},
     "output_type": "display_data"
    }
   ],
   "source": [
    "from nanohub.uidl.ipywidgets import buildJSX\n",
    "\n",
    "Slider = buildJSX('''\n",
    "  <Material.Typography id=\"continuous-slider\" gutterBottom=\"true\" align=\"center\">\n",
    "    Volume\n",
    "  </Material.Typography>\n",
    "  <Material.Grid container=\"true\" spacing=\"2\" style=\"width:100%\">\n",
    "    <Material.Grid item=\"true\">\n",
    "        <Material.IconButton onClick='[stateChange(myvalue,0)]'>\n",
    "            <Material.Icon>volume_down</Material.Icon>\n",
    "        </Material.IconButton>\n",
    "    </Material.Grid>\n",
    "    <Material.Grid item=\"true\" style=\"flex:1\">\n",
    "      <Material.Slider disabled='{disabled:boolean(false)}' value='{myvalue:number(40)}' onChange='[stateChange(myvalue,arguments[1])]' aria-labelledby=\"enabled-slider\"/>\n",
    "    </Material.Grid>\n",
    "    <Material.Grid item=\"true\">\n",
    "        <Material.IconButton  onClick='[stateChange(myvalue,100)]'>\n",
    "            <Material.Icon>volume_up</Material.Icon>\n",
    "        </Material.IconButton>\n",
    "    </Material.Grid>\n",
    "  </Material.Grid>\n",
    "''', verbose=False);\n"
   ]
  },
  {
   "cell_type": "code",
   "execution_count": 2,
   "metadata": {},
   "outputs": [
    {
     "data": {
      "application/vnd.jupyter.widget-view+json": {
       "model_id": "7e7b918ac4ff4c8fbab67584e6d90131",
       "version_major": 2,
       "version_minor": 0
      },
      "text/plain": [
       "UIDL039aa183982b49a2a099f28d2a781f1eWidget(myvalue=10.0)"
      ]
     },
     "metadata": {},
     "output_type": "display_data"
    }
   ],
   "source": [
    "s = Slider(myvalue=10)\n",
    "s"
   ]
  },
  {
   "cell_type": "code",
   "execution_count": 6,
   "metadata": {},
   "outputs": [
    {
     "data": {
      "text/plain": [
       "45.0"
      ]
     },
     "execution_count": 6,
     "metadata": {},
     "output_type": "execute_result"
    }
   ],
   "source": [
    "s.myvalue"
   ]
  },
  {
   "cell_type": "code",
   "execution_count": 4,
   "metadata": {},
   "outputs": [],
   "source": [
    "s.disabled = False"
   ]
  },
  {
   "cell_type": "code",
   "execution_count": null,
   "metadata": {},
   "outputs": [],
   "source": []
  }
 ],
 "metadata": {
  "kernelspec": {
   "display_name": "Python 3",
   "language": "python",
   "name": "python3"
  },
  "language_info": {
   "codemirror_mode": {
    "name": "ipython",
    "version": 3
   },
   "file_extension": ".py",
   "mimetype": "text/x-python",
   "name": "python",
   "nbconvert_exporter": "python",
   "pygments_lexer": "ipython3",
   "version": "3.7.3"
  }
 },
 "nbformat": 4,
 "nbformat_minor": 2
}
