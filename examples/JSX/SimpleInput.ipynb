{
 "cells": [
  {
   "cell_type": "code",
   "execution_count": 1,
   "metadata": {},
   "outputs": [
    {
     "data": {
      "application/vnd.jupyter.widget-view+json": {
       "model_id": "49fc6f5bee394f9ab6e64d3af0be6318",
       "version_major": 2,
       "version_minor": 0
      },
      "text/plain": [
       "HTML(value=\"<link rel='stylesheet' href='https://fonts.googleapis.com/icon?family=Material+Icons'/><style>.p-W…"
      ]
     },
     "metadata": {},
     "output_type": "display_data"
    },
    {
     "data": {
      "application/javascript": "require.config({\n  paths: {\n    'react': 'https://unpkg.com/react@16.8.6/umd/react.production.min',\n    'react-dom': 'https://unpkg.com/react-dom@16.8.6/umd/react-dom.production.min',\n    'material-ui': 'https://unpkg.com/@material-ui/core@latest/umd/material-ui.production.min',\n    'materiallab-ui': 'https://cdn.jsdelivr.net/npm/material-ui-lab-umd@latest/material-ui-lab.production.min',\n    'plotlycomponent': 'https://unpkg.com/react-plotly.js@2.3/dist/create-plotly-component',\n    'plotly': 'https://cdn.plot.ly/plotly-latest.min',\n    'math': 'https://cdnjs.cloudflare.com/ajax/libs/mathjs/6.6.1/math.min',\n    'axios': 'https://unpkg.com/axios/dist/axios.min',\n    'localforage': 'https://www.unpkg.com/localforage@1.7.3/dist/localforage.min',\n    'number-format': 'https://unpkg.com/react-number-format@4.3.1/dist/react-number-format',\n    'prop-types': 'https://unpkg.com/prop-types@15.6/prop-types.min',\n  }\n});\nrequire.undef('UIDLef688437359945de8c3bdfdf84500a9c')\n  define('UIDLef688437359945de8c3bdfdf84500a9c', [\n    '@jupyter-widgets/base',\n    'underscore', \n    'react', \n    'react-dom',\n    'material-ui',\n    'materiallab-ui',\n    'number-format',\n    'axios',\n    'localforage',\n    'prop-types',\n    'plotlycomponent',\n    'plotly',\n    'math'\n  ], function(\n    widgets, \n    _, \n    React, \n    ReactDOM,\n    Material,\n    MaterialLab,\n    Format,\n    Axios,\n    LocalForage,\n    PropTypes,\n    PlotlyComponent,\n    Plotly,\n    math\n  ) {\n    const UIDLef688437359945de8c3bdfdf84500a9cModel = widgets.WidgetModel.extend({}, {\n        serializers: _.extend({\n        }, widgets.DOMWidgetModel.serializers)\n    });\n    const UIDLef688437359945de8c3bdfdf84500a9cView = widgets.DOMWidgetView.extend({\n      initialize() {\n        const backbone = this;\n        widgets.DOMWidgetView.prototype.initialize.call(this, arguments);\n        backbone.options = {};\nclass UIDLef688437359945de8c3bdfdf84500a9c extends React.Component {\nconstructor(props) {\nsuper(props);\nlet self=this;\nthis.state = {\n};\n}; \ncomponentDidMount(){\n  let self=this;\n  if (this.props.onLoad){\n    this.props.onLoad(self);\n  }\n}\ncomponentDidUpdate(){\n  let self=this;\n  if (this.props.onUpdate){\n    this.props.onUpdate(self);\n  }\n}\nrender(){\n  let self=this;\n  return React.createElement(Material.Paper, {key:'ffff526d-d1ea-4ad3-a7bb-23b835b2adc7'},\nReact.createElement('input', {key:'406d41e1-cfa5-4750-b42c-fedbbddc8d40' ,'type': \"text\" ,'value': \"23\"})\n)\n;\n}\n}\nUIDLef688437359945de8c3bdfdf84500a9c.defaultProps = {\n}\n        const orig = UIDLef688437359945de8c3bdfdf84500a9c.prototype.setState;\n        UIDLef688437359945de8c3bdfdf84500a9c.prototype.onChange = function (model){\n          orig.apply(this, [Object.assign({},model.changed)]);\n        }\n        UIDLef688437359945de8c3bdfdf84500a9c.prototype.componentDidUpdate = function(){\n        }\n        UIDLef688437359945de8c3bdfdf84500a9c.getDerivedStateFromProps = function(props, state){\n          return state;\n        }\n        UIDLef688437359945de8c3bdfdf84500a9c.prototype.componentDidMount = function(){\n          backbone.listenTo(backbone.model, 'change', this.onChange.bind(this));\n        }\n        UIDLef688437359945de8c3bdfdf84500a9c.prototype.setState = function(state, callback){\n          for (let [key, value] of Object.entries(state)) {\n            backbone.model.set(key, value);\n          }\n          try {;\n            backbone.model.save_changes();\n          } catch (error) { console.log(error); }\n          orig.apply(this, [state, callback]);\n        }\n        backbone.app = document.createElement('div');\n        backbone.app.style.padding = '10px';\n        const App = React.createElement(UIDLef688437359945de8c3bdfdf84500a9c);\n        ReactDOM.render(App, backbone.app);\n        backbone.el.append(backbone.app);\n      },\n      add_child_model: function(model) {\n        return this.create_child_view(model).then((view) => {\n          view.setLayout(view.model.get('layout'));\n          let lview=view;\n          lview.listenTo(lview.model,'change:layout',(m, v) => {\n            this.update_children()\n          });\n          return view;\n        });\n      }, \n      update_children: function () {\n          this.children_views.update(this.model.get('children')).then(function (views) {\n              views.forEach(function (view) {\n                  messaging_1.MessageLoop.postMessage(view.pWidget, widgets_1.Widget.ResizeMessage.UnknownSize);\n              });\n          });\n      }, \n    });\n    return {\n      UIDLef688437359945de8c3bdfdf84500a9cView,\n      UIDLef688437359945de8c3bdfdf84500a9cModel\n    };\n});\n",
      "text/plain": [
       "<IPython.core.display.Javascript object>"
      ]
     },
     "metadata": {},
     "output_type": "display_data"
    },
    {
     "data": {
      "application/vnd.jupyter.widget-view+json": {
       "model_id": "9ac2cdc883634087996383bfb74ebf20",
       "version_major": 2,
       "version_minor": 0
      },
      "text/plain": [
       "UIDLef688437359945de8c3bdfdf84500a9cWidget()"
      ]
     },
     "metadata": {},
     "output_type": "display_data"
    }
   ],
   "source": [
    "from nanohubuidl.ipywidgets import buildJSX\n",
    "\n",
    "Input = buildJSX('''\n",
    "  <input type=\"text\" value=\"23\"/>\n",
    "''');\n",
    "a = Input()\n",
    "a"
   ]
  },
  {
   "cell_type": "code",
   "execution_count": null,
   "metadata": {
    "scrolled": false
   },
   "outputs": [],
   "source": []
  },
  {
   "cell_type": "code",
   "execution_count": 2,
   "metadata": {
    "scrolled": false
   },
   "outputs": [
    {
     "data": {
      "application/vnd.jupyter.widget-view+json": {
       "model_id": "b58771d687d94afca27019f158fa312c",
       "version_major": 2,
       "version_minor": 0
      },
      "text/plain": [
       "HTML(value=\"<link rel='stylesheet' href='https://fonts.googleapis.com/icon?family=Material+Icons'/><style>.p-W…"
      ]
     },
     "metadata": {},
     "output_type": "display_data"
    },
    {
     "data": {
      "application/javascript": "require.config({\n  paths: {\n    'react': 'https://unpkg.com/react@16.8.6/umd/react.production.min',\n    'react-dom': 'https://unpkg.com/react-dom@16.8.6/umd/react-dom.production.min',\n    'material-ui': 'https://unpkg.com/@material-ui/core@latest/umd/material-ui.production.min',\n    'materiallab-ui': 'https://cdn.jsdelivr.net/npm/material-ui-lab-umd@latest/material-ui-lab.production.min',\n    'plotlycomponent': 'https://unpkg.com/react-plotly.js@2.3/dist/create-plotly-component',\n    'plotly': 'https://cdn.plot.ly/plotly-latest.min',\n    'math': 'https://cdnjs.cloudflare.com/ajax/libs/mathjs/6.6.1/math.min',\n    'axios': 'https://unpkg.com/axios/dist/axios.min',\n    'localforage': 'https://www.unpkg.com/localforage@1.7.3/dist/localforage.min',\n    'number-format': 'https://unpkg.com/react-number-format@4.3.1/dist/react-number-format',\n    'prop-types': 'https://unpkg.com/prop-types@15.6/prop-types.min',\n  }\n});\nrequire.undef('UIDL21a908ecac554103a377d2f0d2e35c48')\n  define('UIDL21a908ecac554103a377d2f0d2e35c48', [\n    '@jupyter-widgets/base',\n    'underscore', \n    'react', \n    'react-dom',\n    'material-ui',\n    'materiallab-ui',\n    'number-format',\n    'axios',\n    'localforage',\n    'prop-types',\n    'plotlycomponent',\n    'plotly',\n    'math'\n  ], function(\n    widgets, \n    _, \n    React, \n    ReactDOM,\n    Material,\n    MaterialLab,\n    Format,\n    Axios,\n    LocalForage,\n    PropTypes,\n    PlotlyComponent,\n    Plotly,\n    math\n  ) {\n    const UIDL21a908ecac554103a377d2f0d2e35c48Model = widgets.WidgetModel.extend({}, {\n        serializers: _.extend({\n        }, widgets.DOMWidgetModel.serializers)\n    });\n    const UIDL21a908ecac554103a377d2f0d2e35c48View = widgets.DOMWidgetView.extend({\n      initialize() {\n        const backbone = this;\n        widgets.DOMWidgetView.prototype.initialize.call(this, arguments);\n        backbone.options = {};\nclass UIDL21a908ecac554103a377d2f0d2e35c48 extends React.Component {\nconstructor(props) {\nsuper(props);\nlet self=this;\nthis.state = {\n'value' : backbone.model.get('value'), \n};\n}; \ncomponentDidMount(){\n  let self=this;\n  if (this.props.onLoad){\n    this.props.onLoad(self);\n  }\n}\ncomponentDidUpdate(){\n  let self=this;\n  if (this.props.onUpdate){\n    this.props.onUpdate(self);\n  }\n}\nrender(){\n  let self=this;\n  return React.createElement(Material.Paper, {key:'92c9aeaf-36a9-4321-a24a-2bfa4069ed0f'},\nReact.createElement('input', {key:'7e580014-57a9-4fb9-a020-c140d30635e1' ,'type': \"text\" ,'value': self.state.value})\n)\n;\n}\n}\nUIDL21a908ecac554103a377d2f0d2e35c48.defaultProps = {\n}\n        const orig = UIDL21a908ecac554103a377d2f0d2e35c48.prototype.setState;\n        UIDL21a908ecac554103a377d2f0d2e35c48.prototype.onChange = function (model){\n          orig.apply(this, [Object.assign({},model.changed)]);\n        }\n        UIDL21a908ecac554103a377d2f0d2e35c48.prototype.componentDidUpdate = function(){\n        }\n        UIDL21a908ecac554103a377d2f0d2e35c48.getDerivedStateFromProps = function(props, state){\n          return state;\n        }\n        UIDL21a908ecac554103a377d2f0d2e35c48.prototype.componentDidMount = function(){\n          backbone.listenTo(backbone.model, 'change', this.onChange.bind(this));\n        }\n        UIDL21a908ecac554103a377d2f0d2e35c48.prototype.setState = function(state, callback){\n        if('value' in state){\n          state['value'] = String(state['value']);\n        }\n          for (let [key, value] of Object.entries(state)) {\n            backbone.model.set(key, value);\n          }\n          try {;\n            backbone.model.save_changes();\n          } catch (error) { console.log(error); }\n          orig.apply(this, [state, callback]);\n        }\n        backbone.app = document.createElement('div');\n        backbone.app.style.padding = '10px';\n        const App = React.createElement(UIDL21a908ecac554103a377d2f0d2e35c48);\n        ReactDOM.render(App, backbone.app);\n        backbone.el.append(backbone.app);\n      },\n      add_child_model: function(model) {\n        return this.create_child_view(model).then((view) => {\n          view.setLayout(view.model.get('layout'));\n          let lview=view;\n          lview.listenTo(lview.model,'change:layout',(m, v) => {\n            this.update_children()\n          });\n          return view;\n        });\n      }, \n      update_children: function () {\n          this.children_views.update(this.model.get('children')).then(function (views) {\n              views.forEach(function (view) {\n                  messaging_1.MessageLoop.postMessage(view.pWidget, widgets_1.Widget.ResizeMessage.UnknownSize);\n              });\n          });\n      }, \n    });\n    return {\n      UIDL21a908ecac554103a377d2f0d2e35c48View,\n      UIDL21a908ecac554103a377d2f0d2e35c48Model\n    };\n});\n",
      "text/plain": [
       "<IPython.core.display.Javascript object>"
      ]
     },
     "metadata": {},
     "output_type": "display_data"
    },
    {
     "data": {
      "application/vnd.jupyter.widget-view+json": {
       "model_id": "85b9f2ffbc084a19a8d329224a4320dc",
       "version_major": 2,
       "version_minor": 0
      },
      "text/plain": [
       "UIDL21a908ecac554103a377d2f0d2e35c48Widget()"
      ]
     },
     "metadata": {},
     "output_type": "display_data"
    }
   ],
   "source": [
    "Input2 = buildJSX('''\n",
    "  <input type=\"text\" value=\"{value:string(test)}\"/>\n",
    "''');\n",
    "b = Input2()\n",
    "b"
   ]
  },
  {
   "cell_type": "code",
   "execution_count": 3,
   "metadata": {},
   "outputs": [
    {
     "data": {
      "text/plain": [
       "'test'"
      ]
     },
     "execution_count": 3,
     "metadata": {},
     "output_type": "execute_result"
    }
   ],
   "source": [
    "b.value"
   ]
  },
  {
   "cell_type": "code",
   "execution_count": 4,
   "metadata": {},
   "outputs": [],
   "source": [
    "b.value = \"Mi new value\""
   ]
  },
  {
   "cell_type": "code",
   "execution_count": null,
   "metadata": {},
   "outputs": [],
   "source": []
  },
  {
   "cell_type": "code",
   "execution_count": 5,
   "metadata": {},
   "outputs": [
    {
     "data": {
      "application/vnd.jupyter.widget-view+json": {
       "model_id": "05db2473a29d4e339c92ba993d96bc39",
       "version_major": 2,
       "version_minor": 0
      },
      "text/plain": [
       "HTML(value=\"<link rel='stylesheet' href='https://fonts.googleapis.com/icon?family=Material+Icons'/><style>.p-W…"
      ]
     },
     "metadata": {},
     "output_type": "display_data"
    },
    {
     "data": {
      "application/javascript": "require.config({\n  paths: {\n    'react': 'https://unpkg.com/react@16.8.6/umd/react.production.min',\n    'react-dom': 'https://unpkg.com/react-dom@16.8.6/umd/react-dom.production.min',\n    'material-ui': 'https://unpkg.com/@material-ui/core@latest/umd/material-ui.production.min',\n    'materiallab-ui': 'https://cdn.jsdelivr.net/npm/material-ui-lab-umd@latest/material-ui-lab.production.min',\n    'plotlycomponent': 'https://unpkg.com/react-plotly.js@2.3/dist/create-plotly-component',\n    'plotly': 'https://cdn.plot.ly/plotly-latest.min',\n    'math': 'https://cdnjs.cloudflare.com/ajax/libs/mathjs/6.6.1/math.min',\n    'axios': 'https://unpkg.com/axios/dist/axios.min',\n    'localforage': 'https://www.unpkg.com/localforage@1.7.3/dist/localforage.min',\n    'number-format': 'https://unpkg.com/react-number-format@4.3.1/dist/react-number-format',\n    'prop-types': 'https://unpkg.com/prop-types@15.6/prop-types.min',\n  }\n});\nrequire.undef('UIDLc6e3529eb41845a3a9b8eca494e5224d')\n  define('UIDLc6e3529eb41845a3a9b8eca494e5224d', [\n    '@jupyter-widgets/base',\n    'underscore', \n    'react', \n    'react-dom',\n    'material-ui',\n    'materiallab-ui',\n    'number-format',\n    'axios',\n    'localforage',\n    'prop-types',\n    'plotlycomponent',\n    'plotly',\n    'math'\n  ], function(\n    widgets, \n    _, \n    React, \n    ReactDOM,\n    Material,\n    MaterialLab,\n    Format,\n    Axios,\n    LocalForage,\n    PropTypes,\n    PlotlyComponent,\n    Plotly,\n    math\n  ) {\n    const UIDLc6e3529eb41845a3a9b8eca494e5224dModel = widgets.WidgetModel.extend({}, {\n        serializers: _.extend({\n        }, widgets.DOMWidgetModel.serializers)\n    });\n    const UIDLc6e3529eb41845a3a9b8eca494e5224dView = widgets.DOMWidgetView.extend({\n      initialize() {\n        const backbone = this;\n        widgets.DOMWidgetView.prototype.initialize.call(this, arguments);\n        backbone.options = {};\nclass UIDLc6e3529eb41845a3a9b8eca494e5224d extends React.Component {\nconstructor(props) {\nsuper(props);\nlet self=this;\nthis.state = {\n'value' : backbone.model.get('value'), \n};\n}; \ncomponentDidMount(){\n  let self=this;\n  if (this.props.onLoad){\n    this.props.onLoad(self);\n  }\n}\ncomponentDidUpdate(){\n  let self=this;\n  if (this.props.onUpdate){\n    this.props.onUpdate(self);\n  }\n}\nrender(){\n  let self=this;\n  return React.createElement(Material.Paper, {key:'4094ef03-14ec-4db2-9bfa-ce9cc7374f0b'},\nReact.createElement('input', {key:'4952479a-1f69-424c-943a-6c8d8f42b55e' ,'type': \"text\" ,'value': self.state.value})\n)\n;\n}\n}\nUIDLc6e3529eb41845a3a9b8eca494e5224d.defaultProps = {\n}\n        const orig = UIDLc6e3529eb41845a3a9b8eca494e5224d.prototype.setState;\n        UIDLc6e3529eb41845a3a9b8eca494e5224d.prototype.onChange = function (model){\n          orig.apply(this, [Object.assign({},model.changed)]);\n        }\n        UIDLc6e3529eb41845a3a9b8eca494e5224d.prototype.componentDidUpdate = function(){\n        }\n        UIDLc6e3529eb41845a3a9b8eca494e5224d.getDerivedStateFromProps = function(props, state){\n          return state;\n        }\n        UIDLc6e3529eb41845a3a9b8eca494e5224d.prototype.componentDidMount = function(){\n          backbone.listenTo(backbone.model, 'change', this.onChange.bind(this));\n        }\n        UIDLc6e3529eb41845a3a9b8eca494e5224d.prototype.setState = function(state, callback){\n        if('value' in state){\n          state['value'] = parseInt(state['value']);\n        }\n          for (let [key, value] of Object.entries(state)) {\n            backbone.model.set(key, value);\n          }\n          try {;\n            backbone.model.save_changes();\n          } catch (error) { console.log(error); }\n          orig.apply(this, [state, callback]);\n        }\n        backbone.app = document.createElement('div');\n        backbone.app.style.padding = '10px';\n        const App = React.createElement(UIDLc6e3529eb41845a3a9b8eca494e5224d);\n        ReactDOM.render(App, backbone.app);\n        backbone.el.append(backbone.app);\n      },\n      add_child_model: function(model) {\n        return this.create_child_view(model).then((view) => {\n          view.setLayout(view.model.get('layout'));\n          let lview=view;\n          lview.listenTo(lview.model,'change:layout',(m, v) => {\n            this.update_children()\n          });\n          return view;\n        });\n      }, \n      update_children: function () {\n          this.children_views.update(this.model.get('children')).then(function (views) {\n              views.forEach(function (view) {\n                  messaging_1.MessageLoop.postMessage(view.pWidget, widgets_1.Widget.ResizeMessage.UnknownSize);\n              });\n          });\n      }, \n    });\n    return {\n      UIDLc6e3529eb41845a3a9b8eca494e5224dView,\n      UIDLc6e3529eb41845a3a9b8eca494e5224dModel\n    };\n});\n",
      "text/plain": [
       "<IPython.core.display.Javascript object>"
      ]
     },
     "metadata": {},
     "output_type": "display_data"
    },
    {
     "data": {
      "application/vnd.jupyter.widget-view+json": {
       "model_id": "726bf95259be4015aaae31bc6a7d7b06",
       "version_major": 2,
       "version_minor": 0
      },
      "text/plain": [
       "UIDLc6e3529eb41845a3a9b8eca494e5224dWidget()"
      ]
     },
     "metadata": {},
     "output_type": "display_data"
    }
   ],
   "source": [
    "Input3 = buildJSX('''\n",
    "  <input type=\"text\" value=\"{value:integer(20)}\"/>\n",
    "''');\n",
    "c = Input3()\n",
    "c"
   ]
  },
  {
   "cell_type": "code",
   "execution_count": 6,
   "metadata": {},
   "outputs": [
    {
     "ename": "ValueError",
     "evalue": "invalid literal for int() with base 10: 'asd'",
     "output_type": "error",
     "traceback": [
      "\u001b[0;31m---------------------------------------------------------------------------\u001b[0m",
      "\u001b[0;31mValueError\u001b[0m                                Traceback (most recent call last)",
      "\u001b[0;32m<ipython-input-6-f3c09c067d8a>\u001b[0m in \u001b[0;36m<module>\u001b[0;34m\u001b[0m\n\u001b[0;32m----> 1\u001b[0;31m \u001b[0mc\u001b[0m\u001b[0;34m.\u001b[0m\u001b[0mvalue\u001b[0m \u001b[0;34m=\u001b[0m \u001b[0;34m\"asd\"\u001b[0m\u001b[0;34m\u001b[0m\u001b[0;34m\u001b[0m\u001b[0m\n\u001b[0m",
      "\u001b[0;32m~/.local/lib/python3.7/site-packages/nanohub/uidl/ipywidgets.py\u001b[0m in \u001b[0;36m<lambda>\u001b[0;34m(s, n, v, d)\u001b[0m\n\u001b[1;32m    324\u001b[0m     \u001b[0mattrs\u001b[0m\u001b[0;34m[\u001b[0m\u001b[0;34m'__init__'\u001b[0m\u001b[0;34m]\u001b[0m \u001b[0;34m=\u001b[0m  \u001b[0;32mlambda\u001b[0m \u001b[0ms\u001b[0m\u001b[0;34m,\u001b[0m \u001b[0;34m**\u001b[0m\u001b[0mk\u001b[0m \u001b[0;34m:\u001b[0m \u001b[0mdo_init\u001b[0m\u001b[0;34m(\u001b[0m\u001b[0ms\u001b[0m\u001b[0;34m,\u001b[0m \u001b[0mdefault\u001b[0m\u001b[0;34m,\u001b[0m \u001b[0mfunctions\u001b[0m\u001b[0;34m,\u001b[0m \u001b[0;34m**\u001b[0m\u001b[0mk\u001b[0m\u001b[0;34m)\u001b[0m\u001b[0;34m\u001b[0m\u001b[0;34m\u001b[0m\u001b[0m\n\u001b[1;32m    325\u001b[0m     \u001b[0mattrs\u001b[0m\u001b[0;34m[\u001b[0m\u001b[0;34m'_handle_uidl_msg'\u001b[0m\u001b[0;34m]\u001b[0m \u001b[0;34m=\u001b[0m  \u001b[0;32mlambda\u001b[0m \u001b[0ms\u001b[0m\u001b[0;34m,\u001b[0m\u001b[0mc\u001b[0m\u001b[0;34m,\u001b[0m\u001b[0mb\u001b[0m\u001b[0;34m,\u001b[0m \u001b[0;34m:\u001b[0m \u001b[0mdo_handle_msg\u001b[0m\u001b[0;34m(\u001b[0m\u001b[0ms\u001b[0m\u001b[0;34m,\u001b[0m \u001b[0mdefault\u001b[0m\u001b[0;34m,\u001b[0m \u001b[0mfunctions\u001b[0m\u001b[0;34m,\u001b[0m \u001b[0mc\u001b[0m\u001b[0;34m,\u001b[0m \u001b[0mb\u001b[0m\u001b[0;34m)\u001b[0m\u001b[0;34m\u001b[0m\u001b[0;34m\u001b[0m\u001b[0m\n\u001b[0;32m--> 326\u001b[0;31m     \u001b[0mattrs\u001b[0m\u001b[0;34m[\u001b[0m\u001b[0;34m'__setattr__'\u001b[0m\u001b[0;34m]\u001b[0m \u001b[0;34m=\u001b[0m  \u001b[0;32mlambda\u001b[0m \u001b[0ms\u001b[0m\u001b[0;34m,\u001b[0m\u001b[0mn\u001b[0m\u001b[0;34m,\u001b[0m\u001b[0mv\u001b[0m\u001b[0;34m,\u001b[0m \u001b[0md\u001b[0m\u001b[0;34m=\u001b[0m\u001b[0mdefault\u001b[0m \u001b[0;34m:\u001b[0m \u001b[0mdo__setattr\u001b[0m \u001b[0;34m(\u001b[0m\u001b[0ms\u001b[0m\u001b[0;34m,\u001b[0m\u001b[0mn\u001b[0m\u001b[0;34m,\u001b[0m\u001b[0mv\u001b[0m\u001b[0;34m,\u001b[0m\u001b[0md\u001b[0m\u001b[0;34m)\u001b[0m\u001b[0;34m\u001b[0m\u001b[0;34m\u001b[0m\u001b[0m\n\u001b[0m\u001b[1;32m    327\u001b[0m \u001b[0;34m\u001b[0m\u001b[0m\n\u001b[1;32m    328\u001b[0m \u001b[0;34m\u001b[0m\u001b[0m\n",
      "\u001b[0;32m~/.local/lib/python3.7/site-packages/nanohub/uidl/ipywidgets.py\u001b[0m in \u001b[0;36mdo__setattr\u001b[0;34m(s, n, v, d)\u001b[0m\n\u001b[1;32m    307\u001b[0m                     \u001b[0mwidgets\u001b[0m\u001b[0;34m.\u001b[0m\u001b[0mDOMWidget\u001b[0m\u001b[0;34m.\u001b[0m\u001b[0m__setattr__\u001b[0m\u001b[0;34m(\u001b[0m\u001b[0ms\u001b[0m\u001b[0;34m,\u001b[0m\u001b[0mn\u001b[0m\u001b[0;34m,\u001b[0m\u001b[0mvc\u001b[0m\u001b[0;34m)\u001b[0m\u001b[0;34m\u001b[0m\u001b[0;34m\u001b[0m\u001b[0m\n\u001b[1;32m    308\u001b[0m                 \u001b[0;32melif\u001b[0m \u001b[0misinstance\u001b[0m\u001b[0;34m(\u001b[0m\u001b[0md\u001b[0m\u001b[0;34m[\u001b[0m\u001b[0mn\u001b[0m\u001b[0;34m]\u001b[0m\u001b[0;34m,\u001b[0m \u001b[0mint\u001b[0m\u001b[0;34m)\u001b[0m\u001b[0;34m:\u001b[0m\u001b[0;34m\u001b[0m\u001b[0;34m\u001b[0m\u001b[0m\n\u001b[0;32m--> 309\u001b[0;31m                     \u001b[0mwidgets\u001b[0m\u001b[0;34m.\u001b[0m\u001b[0mDOMWidget\u001b[0m\u001b[0;34m.\u001b[0m\u001b[0m__setattr__\u001b[0m\u001b[0;34m(\u001b[0m\u001b[0ms\u001b[0m\u001b[0;34m,\u001b[0m\u001b[0mn\u001b[0m\u001b[0;34m,\u001b[0m\u001b[0mint\u001b[0m\u001b[0;34m(\u001b[0m\u001b[0mv\u001b[0m\u001b[0;34m)\u001b[0m\u001b[0;34m)\u001b[0m\u001b[0;34m\u001b[0m\u001b[0;34m\u001b[0m\u001b[0m\n\u001b[0m\u001b[1;32m    310\u001b[0m                 \u001b[0;32melif\u001b[0m \u001b[0misinstance\u001b[0m\u001b[0;34m(\u001b[0m\u001b[0md\u001b[0m\u001b[0;34m[\u001b[0m\u001b[0mn\u001b[0m\u001b[0;34m]\u001b[0m\u001b[0;34m,\u001b[0m \u001b[0mfloat\u001b[0m\u001b[0;34m)\u001b[0m\u001b[0;34m:\u001b[0m\u001b[0;34m\u001b[0m\u001b[0;34m\u001b[0m\u001b[0m\n\u001b[1;32m    311\u001b[0m                     \u001b[0mwidgets\u001b[0m\u001b[0;34m.\u001b[0m\u001b[0mDOMWidget\u001b[0m\u001b[0;34m.\u001b[0m\u001b[0m__setattr__\u001b[0m\u001b[0;34m(\u001b[0m\u001b[0ms\u001b[0m\u001b[0;34m,\u001b[0m\u001b[0mn\u001b[0m\u001b[0;34m,\u001b[0m\u001b[0mfloat\u001b[0m\u001b[0;34m(\u001b[0m\u001b[0mv\u001b[0m\u001b[0;34m)\u001b[0m\u001b[0;34m)\u001b[0m\u001b[0;34m\u001b[0m\u001b[0;34m\u001b[0m\u001b[0m\n",
      "\u001b[0;31mValueError\u001b[0m: invalid literal for int() with base 10: 'asd'"
     ]
    }
   ],
   "source": [
    "c.value = \"asd\""
   ]
  },
  {
   "cell_type": "code",
   "execution_count": 7,
   "metadata": {},
   "outputs": [
    {
     "data": {
      "application/vnd.jupyter.widget-view+json": {
       "model_id": "b6f1bec5daa54d6fae8fd8b51d459000",
       "version_major": 2,
       "version_minor": 0
      },
      "text/plain": [
       "HTML(value=\"<link rel='stylesheet' href='https://fonts.googleapis.com/icon?family=Material+Icons'/><style>.p-W…"
      ]
     },
     "metadata": {},
     "output_type": "display_data"
    },
    {
     "data": {
      "application/javascript": "require.config({\n  paths: {\n    'react': 'https://unpkg.com/react@16.8.6/umd/react.production.min',\n    'react-dom': 'https://unpkg.com/react-dom@16.8.6/umd/react-dom.production.min',\n    'material-ui': 'https://unpkg.com/@material-ui/core@latest/umd/material-ui.production.min',\n    'materiallab-ui': 'https://cdn.jsdelivr.net/npm/material-ui-lab-umd@latest/material-ui-lab.production.min',\n    'plotlycomponent': 'https://unpkg.com/react-plotly.js@2.3/dist/create-plotly-component',\n    'plotly': 'https://cdn.plot.ly/plotly-latest.min',\n    'math': 'https://cdnjs.cloudflare.com/ajax/libs/mathjs/6.6.1/math.min',\n    'axios': 'https://unpkg.com/axios/dist/axios.min',\n    'localforage': 'https://www.unpkg.com/localforage@1.7.3/dist/localforage.min',\n    'number-format': 'https://unpkg.com/react-number-format@4.3.1/dist/react-number-format',\n    'prop-types': 'https://unpkg.com/prop-types@15.6/prop-types.min',\n  }\n});\nrequire.undef('UIDL3e0256ddc45e432d940293bc7738f852')\n  define('UIDL3e0256ddc45e432d940293bc7738f852', [\n    '@jupyter-widgets/base',\n    'underscore', \n    'react', \n    'react-dom',\n    'material-ui',\n    'materiallab-ui',\n    'number-format',\n    'axios',\n    'localforage',\n    'prop-types',\n    'plotlycomponent',\n    'plotly',\n    'math'\n  ], function(\n    widgets, \n    _, \n    React, \n    ReactDOM,\n    Material,\n    MaterialLab,\n    Format,\n    Axios,\n    LocalForage,\n    PropTypes,\n    PlotlyComponent,\n    Plotly,\n    math\n  ) {\n    const UIDL3e0256ddc45e432d940293bc7738f852Model = widgets.WidgetModel.extend({}, {\n        serializers: _.extend({\n        }, widgets.DOMWidgetModel.serializers)\n    });\n    const UIDL3e0256ddc45e432d940293bc7738f852View = widgets.DOMWidgetView.extend({\n      initialize() {\n        const backbone = this;\n        widgets.DOMWidgetView.prototype.initialize.call(this, arguments);\n        backbone.options = {};\nclass UIDL3e0256ddc45e432d940293bc7738f852 extends React.Component {\nconstructor(props) {\nsuper(props);\nlet self=this;\nthis.state = {\n'value' : backbone.model.get('value'), \n};\n}; \ncomponentDidMount(){\n  let self=this;\n  if (this.props.onLoad){\n    this.props.onLoad(self);\n  }\n}\ncomponentDidUpdate(){\n  let self=this;\n  if (this.props.onUpdate){\n    this.props.onUpdate(self);\n  }\n}\nrender(){\n  let self=this;\n  return React.createElement(Material.Paper, {key:'a690aebb-26b0-4534-8e5d-bab6d89cab7a'},[\nReact.createElement('input', {key:'4cb51640-1d73-46e2-8197-ba618d1194fa' ,'type': \"text\" ,'value': self.state.value ,'onChange': function(e){  self.setState({'value':e.target.value},(e)=>{} );self.props.onChange({'id':'value', 'value':e.target.value});\n}})\n ,React.createElement('button', {key:'564e7947-3ac4-40a5-9cc3-f4e7d6dd069d' ,'onClick': function(e){  self.setState({'value':40},(e)=>{} );self.props.onChange({'id':'value', 'value':40});\n}},\n \"40\" )\n ,React.createElement('button', {key:'840e3463-0143-4b56-a7ae-9fba9d194415' ,'onClick': function(e){  self.props.onClick( 'Hello World');\n}},\n \"Click\" )\n])\n;\n}\n}\nUIDL3e0256ddc45e432d940293bc7738f852.defaultProps = {\n'onChange' : (e)=>{ if (event) event.preventDefault(); backbone.send({ event: 'onChange', 'params' : ((e)=>{return e; })(e) });}, \n'onClick' : (e)=>{ if (event) event.preventDefault(); backbone.send({ event: 'onClick', 'params' : ((e)=>{return e; })(e) });}, \n}\n        const orig = UIDL3e0256ddc45e432d940293bc7738f852.prototype.setState;\n        UIDL3e0256ddc45e432d940293bc7738f852.prototype.onChange = function (model){\n          orig.apply(this, [Object.assign({},model.changed)]);\n        }\n        UIDL3e0256ddc45e432d940293bc7738f852.prototype.componentDidUpdate = function(){\n        }\n        UIDL3e0256ddc45e432d940293bc7738f852.getDerivedStateFromProps = function(props, state){\n          return state;\n        }\n        UIDL3e0256ddc45e432d940293bc7738f852.prototype.componentDidMount = function(){\n          backbone.listenTo(backbone.model, 'change', this.onChange.bind(this));\n        }\n        UIDL3e0256ddc45e432d940293bc7738f852.prototype.setState = function(state, callback){\n        if('value' in state){\n          state['value'] = parseInt(state['value']);\n        }\n          for (let [key, value] of Object.entries(state)) {\n            backbone.model.set(key, value);\n          }\n          try {;\n            backbone.model.save_changes();\n          } catch (error) { console.log(error); }\n          orig.apply(this, [state, callback]);\n        }\n        backbone.app = document.createElement('div');\n        backbone.app.style.padding = '10px';\n        const App = React.createElement(UIDL3e0256ddc45e432d940293bc7738f852);\n        ReactDOM.render(App, backbone.app);\n        backbone.el.append(backbone.app);\n      },\n      add_child_model: function(model) {\n        return this.create_child_view(model).then((view) => {\n          view.setLayout(view.model.get('layout'));\n          let lview=view;\n          lview.listenTo(lview.model,'change:layout',(m, v) => {\n            this.update_children()\n          });\n          return view;\n        });\n      }, \n      update_children: function () {\n          this.children_views.update(this.model.get('children')).then(function (views) {\n              views.forEach(function (view) {\n                  messaging_1.MessageLoop.postMessage(view.pWidget, widgets_1.Widget.ResizeMessage.UnknownSize);\n              });\n          });\n      }, \n    });\n    return {\n      UIDL3e0256ddc45e432d940293bc7738f852View,\n      UIDL3e0256ddc45e432d940293bc7738f852Model\n    };\n});\n",
      "text/plain": [
       "<IPython.core.display.Javascript object>"
      ]
     },
     "metadata": {},
     "output_type": "display_data"
    },
    {
     "data": {
      "application/vnd.jupyter.widget-view+json": {
       "model_id": "8c9cac63e967414abd7e99e373667218",
       "version_major": 2,
       "version_minor": 0
      },
      "text/plain": [
       "UIDL3e0256ddc45e432d940293bc7738f852Widget()"
      ]
     },
     "metadata": {},
     "output_type": "display_data"
    }
   ],
   "source": [
    "Input4 = buildJSX('''\n",
    "  <input type=\"text\" value=\"{value:integer(20)}\" onChange=\"[stateChange(value,e.target.value)]\" />\n",
    "  <button onClick=\"[stateChange(value,40)]\">40</button>\n",
    "  <button onClick=\"[propCall(onClick, 'Hello World')]\">Click</button>\n",
    "''');\n",
    "d = Input4()\n",
    "d"
   ]
  },
  {
   "cell_type": "code",
   "execution_count": 8,
   "metadata": {},
   "outputs": [
    {
     "data": {
      "text/plain": [
       "40"
      ]
     },
     "execution_count": 8,
     "metadata": {},
     "output_type": "execute_result"
    }
   ],
   "source": [
    "d.value"
   ]
  },
  {
   "cell_type": "code",
   "execution_count": 9,
   "metadata": {},
   "outputs": [
    {
     "data": {
      "application/vnd.jupyter.widget-view+json": {
       "model_id": "592df85f4d154584ba3bdea3e9882f81",
       "version_major": 2,
       "version_minor": 0
      },
      "text/plain": [
       "Output()"
      ]
     },
     "metadata": {},
     "output_type": "display_data"
    }
   ],
   "source": [
    "from ipywidgets import Output\n",
    "out = Output()\n",
    "def MyFun (**kwargs):\n",
    "    with out:\n",
    "        print (kwargs)\n",
    "d.onClick(MyFun)\n",
    "out"
   ]
  },
  {
   "cell_type": "code",
   "execution_count": null,
   "metadata": {},
   "outputs": [],
   "source": []
  },
  {
   "cell_type": "code",
   "execution_count": 10,
   "metadata": {},
   "outputs": [
    {
     "data": {
      "text/plain": [
       "{'name': 'UIDL975682f35623491da483d257208a160b',\n",
       " 'propDefinitions': {'onChange': {'type': 'func',\n",
       "   'defaultValue': '(e)=>{return e; }'},\n",
       "  'onClick': {'type': 'func', 'defaultValue': '(e)=>{return e; }'}},\n",
       " 'stateDefinitions': {'value': {'type': 'integer', 'defaultValue': 20}},\n",
       " 'node': {'type': 'element',\n",
       "  'content': {'elementType': 'Paper',\n",
       "   'children': [{'type': 'element',\n",
       "     'content': {'elementType': 'input',\n",
       "      'attrs': {'type': 'text',\n",
       "       'value': {'type': 'dynamic',\n",
       "        'content': {'referenceType': 'state', 'id': 'value'}}},\n",
       "      'events': {'onChange': [{'type': 'stateChange',\n",
       "         'modifies': 'value',\n",
       "         'newState': '$e.target.value'},\n",
       "        {'type': 'propCall2',\n",
       "         'calls': 'onChange',\n",
       "         'args': [\"{'id':'value', 'value':e.target.value}\"]}]}}},\n",
       "    {'type': 'element',\n",
       "     'content': {'elementType': 'button',\n",
       "      'events': {'onClick': [{'type': 'stateChange',\n",
       "         'modifies': 'value',\n",
       "         'newState': '$40'},\n",
       "        {'type': 'propCall2',\n",
       "         'calls': 'onChange',\n",
       "         'args': [\"{'id':'value', 'value':40}\"]}]},\n",
       "      'children': [{'type': 'static', 'content': '40'}]}},\n",
       "    {'type': 'element',\n",
       "     'content': {'elementType': 'button',\n",
       "      'events': {'onClick': [{'type': 'propCall2',\n",
       "         'calls': 'onClick',\n",
       "         'args': [\" 'Hello World'\"]}]},\n",
       "      'children': [{'type': 'static', 'content': 'Click'}]}}]}}}"
      ]
     },
     "execution_count": 10,
     "metadata": {},
     "output_type": "execute_result"
    }
   ],
   "source": [
    "from nanohub.uidl.ipywidgets import parseJSX\n",
    "document = '''\n",
    "  <input type=\"text\" value=\"{value:integer(20)}\" onChange=\"[stateChange(value,e.target.value)]\" />\n",
    "  <button onClick=\"[stateChange(value,40)]\">40</button>\n",
    "  <button onClick=\"[propCall(onClick, 'Hello World')]\">Click</button>\n",
    "'''\n",
    "Component = parseJSX(document)\n",
    "Component.__json__()"
   ]
  },
  {
   "cell_type": "code",
   "execution_count": null,
   "metadata": {},
   "outputs": [],
   "source": []
  }
 ],
 "metadata": {
  "kernelspec": {
   "display_name": "Python 3",
   "language": "python",
   "name": "python3"
  },
  "language_info": {
   "codemirror_mode": {
    "name": "ipython",
    "version": 3
   },
   "file_extension": ".py",
   "mimetype": "text/x-python",
   "name": "python",
   "nbconvert_exporter": "python",
   "pygments_lexer": "ipython3",
   "version": "3.9.7 (default, Nov  2 2021, 15:16:27) \n[Clang 12.0.5 (clang-1205.0.22.11)]"
  },
  "vscode": {
   "interpreter": {
    "hash": "aee8b7b246df8f9039afb4144a1f6fd8d2ca17a180786b69acc140d282b71a49"
   }
  }
 },
 "nbformat": 4,
 "nbformat_minor": 2
}
