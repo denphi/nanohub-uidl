{
 "cells": [
  {
   "cell_type": "code",
   "execution_count": 3,
   "metadata": {
    "ExecuteTime": {
     "end_time": "2023-03-06T18:46:22.518108Z",
     "start_time": "2023-03-06T18:46:22.503416Z"
    }
   },
   "outputs": [
    {
     "data": {
      "application/vnd.jupyter.widget-view+json": {
       "model_id": "c7eb8def96cc4ee385785e77b76339ae",
       "version_major": 2,
       "version_minor": 0
      },
      "text/plain": [
       "HTML(value=\"<link rel='stylesheet' href='https://fonts.googleapis.com/icon?family=Material+Icons'/><style>.p-W…"
      ]
     },
     "metadata": {},
     "output_type": "display_data"
    },
    {
     "data": {
      "application/javascript": [
       "require.config({\n",
       "  paths: {\n",
       "    'react': 'https://unpkg.com/react@16.8.6/umd/react.production.min',\n",
       "    'react-dom': 'https://unpkg.com/react-dom@16.8.6/umd/react-dom.production.min',\n",
       "    'material-ui': 'https://unpkg.com/@material-ui/core@4.12.3/umd/material-ui.production.min',\n",
       "    'materiallab-ui': 'https://unpkg.com/material-ui-lab-umd@4.0.0-alpha.32/material-ui-lab.development',\n",
       "    'plotlycomponent': 'https://unpkg.com/react-plotly.js@2.6.0/dist/create-plotly-component',\n",
       "    'plotly': 'https://cdn.plot.ly/plotly-latest.min',\n",
       "    'math': 'https://cdnjs.cloudflare.com/ajax/libs/mathjs/6.6.1/math.min',\n",
       "    'axios': 'https://unpkg.com/axios/dist/axios.min',\n",
       "    'localforage': 'https://www.unpkg.com/localforage@1.7.3/dist/localforage.min',\n",
       "    'number-format': 'https://unpkg.com/react-number-format@4.3.1/dist/react-number-format',\n",
       "    'prop-types': 'https://unpkg.com/prop-types@15.6/prop-types.min',\n",
       "    'require': 'https://cdnjs.cloudflare.com/ajax/libs/require.js/2.3.6/require.min',\n",
       "  }\n",
       "});\n",
       "require.undef('UIDLeeebaededbdcbc');\n",
       "define('patchreact', [\n",
       "    'react'\n",
       "  ], function(\n",
       "    React\n",
       "  ){\n",
       "      window.React = React;\n",
       "      return React;\n",
       "  }\n",
       ");\n",
       "define('UIDLeeebaededbdcbc', [\n",
       "    '@jupyter-widgets/base',\n",
       "    'underscore', \n",
       "    'patchreact', \n",
       "    'react-dom',\n",
       "    'materiallab-ui',\n",
       "    'material-ui',\n",
       "    'number-format',\n",
       "    'axios',\n",
       "    'localforage',\n",
       "    'prop-types',\n",
       "    'plotlycomponent',\n",
       "    'plotly',\n",
       "    'math'\n",
       "  ], function(\n",
       "    widgets, \n",
       "    _, \n",
       "    React, \n",
       "    ReactDOM,\n",
       "    MaterialLab,\n",
       "    Material,\n",
       "    Format,\n",
       "    Axios,\n",
       "    LocalForage,\n",
       "    PropTypes,\n",
       "    PlotlyComponent,\n",
       "    Plotly,\n",
       "    math\n",
       "  ) {\n",
       "    const Plot = PlotlyComponent.default(Plotly);\n",
       "    const UIDLeeebaededbdcbcModel = widgets.WidgetModel.extend({}, {\n",
       "        serializers: _.extend({\n",
       "        }, widgets.DOMWidgetModel.serializers)\n",
       "    });\n",
       "    const UIDLeeebaededbdcbcView = widgets.DOMWidgetView.extend({\n",
       "      initialize() {\n",
       "        const backbone = this;\n",
       "        backbone.options = {};\n",
       "class UIDLeeebaededbdcbc extends React.Component {\n",
       "constructor(props) {\n",
       "super(props);\n",
       "let self=this;\n",
       "this.state = {\n",
       "};\n",
       "} \n",
       "componentDidMount(){\n",
       "  let self=this;\n",
       "  if (this.props.onLoad){\n",
       "    this.props.onLoad(self);\n",
       "  }\n",
       "}\n",
       "componentDidUpdate(){\n",
       "  let self=this;\n",
       "  if (this.props.onUpdate){\n",
       "    this.props.onUpdate(self);\n",
       "  }\n",
       "}\n",
       "render(){\n",
       "  let self=this;\n",
       "  return React.createElement(Material.Paper, {key:'e4d31477-ffbc-4cf0-bfb5-31dc7ff15bd8'},\n",
       "React.createElement('input', {key:'2a372f6e-fb41-4b9c-8460-a0feee2aabcd','type': \"text\",'value': \"23\"}))\n",
       ";\n",
       "}\n",
       "}\n",
       "UIDLeeebaededbdcbc.defaultProps = {\n",
       "}\n",
       "        const orig = UIDLeeebaededbdcbc.prototype.setState;\n",
       "        UIDLeeebaededbdcbc.prototype.onChange = function (model){\n",
       "          orig.apply(this, [Object.assign({},model.changed)]);\n",
       "        }\n",
       "        UIDLeeebaededbdcbc.prototype.componentDidUpdate = function(){\n",
       "        }\n",
       "        UIDLeeebaededbdcbc.getDerivedStateFromProps = function(props, state){\n",
       "          return state;\n",
       "        }\n",
       "        UIDLeeebaededbdcbc.prototype.componentDidMount = function(){\n",
       "          backbone.listenTo(backbone.model, 'change', this.onChange.bind(this));\n",
       "        }\n",
       "        UIDLeeebaededbdcbc.prototype.setState = function(state, callback){\n",
       "          for (let [key, value] of Object.entries(state)) {\n",
       "            backbone.model.set(key, value);\n",
       "          }\n",
       "          try {;\n",
       "            backbone.model.save_changes();\n",
       "          } catch (error) {\n",
       "          }\n",
       "          orig.apply(this, [state, callback]);\n",
       "        }\n",
       "        backbone.app = document.createElement('div');\n",
       "        backbone.app.style.padding = '10px';\n",
       "        const App = React.createElement(UIDLeeebaededbdcbc);\n",
       "        ReactDOM.render(App, backbone.app);\n",
       "        backbone.el.append(backbone.app);\n",
       "      },\n",
       "      add_child_model: function(model) {\n",
       "        return this.create_child_view(model).then((view) => {\n",
       "          view.setLayout(view.model.get('layout'));\n",
       "          let lview=view;\n",
       "          lview.listenTo(lview.model,'change:layout',(m, v) => {\n",
       "            this.update_children()\n",
       "          });\n",
       "          return view;\n",
       "        });\n",
       "      }, \n",
       "      update_children: function () {\n",
       "          this.children_views.update(this.model.get('children')).then(function (views) {\n",
       "              views.forEach(function (view) {\n",
       "                  messaging_1.MessageLoop.postMessage(view.pWidget, widgets_1.Widget.ResizeMessage.UnknownSize);\n",
       "              });\n",
       "          });\n",
       "      }, \n",
       "    });\n",
       "    return {\n",
       "      UIDLeeebaededbdcbcView,\n",
       "      UIDLeeebaededbdcbcModel\n",
       "    };\n",
       "});\n"
      ],
      "text/plain": [
       "<IPython.core.display.Javascript object>"
      ]
     },
     "metadata": {},
     "output_type": "display_data"
    },
    {
     "data": {
      "application/vnd.jupyter.widget-view+json": {
       "model_id": "0a54f2e04f0f4ad282b200d833fe1be5",
       "version_major": 2,
       "version_minor": 0
      },
      "text/plain": [
       "UIDLeeebaededbdcbcWidget()"
      ]
     },
     "metadata": {},
     "output_type": "display_data"
    }
   ],
   "source": [
    "from nanohubuidl.ipywidgets import buildJSX\n",
    "\n",
    "Input = buildJSX('''\n",
    "  <input type=\"text\" value=\"23\"/>\n",
    "''');\n",
    "a = Input()\n",
    "a"
   ]
  },
  {
   "cell_type": "code",
   "execution_count": null,
   "metadata": {
    "scrolled": false
   },
   "outputs": [],
   "source": []
  },
  {
   "cell_type": "code",
   "execution_count": 4,
   "metadata": {
    "ExecuteTime": {
     "end_time": "2023-03-06T18:46:23.562283Z",
     "start_time": "2023-03-06T18:46:23.548002Z"
    },
    "scrolled": false
   },
   "outputs": [
    {
     "data": {
      "application/vnd.jupyter.widget-view+json": {
       "model_id": "40ac7de5a6da4d9ab25f10d5c326474e",
       "version_major": 2,
       "version_minor": 0
      },
      "text/plain": [
       "HTML(value=\"<link rel='stylesheet' href='https://fonts.googleapis.com/icon?family=Material+Icons'/><style>.p-W…"
      ]
     },
     "metadata": {},
     "output_type": "display_data"
    },
    {
     "data": {
      "application/javascript": [
       "require.config({\n",
       "  paths: {\n",
       "    'react': 'https://unpkg.com/react@16.8.6/umd/react.production.min',\n",
       "    'react-dom': 'https://unpkg.com/react-dom@16.8.6/umd/react-dom.production.min',\n",
       "    'material-ui': 'https://unpkg.com/@material-ui/core@4.12.3/umd/material-ui.production.min',\n",
       "    'materiallab-ui': 'https://unpkg.com/material-ui-lab-umd@4.0.0-alpha.32/material-ui-lab.development',\n",
       "    'plotlycomponent': 'https://unpkg.com/react-plotly.js@2.6.0/dist/create-plotly-component',\n",
       "    'plotly': 'https://cdn.plot.ly/plotly-latest.min',\n",
       "    'math': 'https://cdnjs.cloudflare.com/ajax/libs/mathjs/6.6.1/math.min',\n",
       "    'axios': 'https://unpkg.com/axios/dist/axios.min',\n",
       "    'localforage': 'https://www.unpkg.com/localforage@1.7.3/dist/localforage.min',\n",
       "    'number-format': 'https://unpkg.com/react-number-format@4.3.1/dist/react-number-format',\n",
       "    'prop-types': 'https://unpkg.com/prop-types@15.6/prop-types.min',\n",
       "    'require': 'https://cdnjs.cloudflare.com/ajax/libs/require.js/2.3.6/require.min',\n",
       "  }\n",
       "});\n",
       "require.undef('UIDLecfeebdefeafce');\n",
       "define('patchreact', [\n",
       "    'react'\n",
       "  ], function(\n",
       "    React\n",
       "  ){\n",
       "      window.React = React;\n",
       "      return React;\n",
       "  }\n",
       ");\n",
       "define('UIDLecfeebdefeafce', [\n",
       "    '@jupyter-widgets/base',\n",
       "    'underscore', \n",
       "    'patchreact', \n",
       "    'react-dom',\n",
       "    'materiallab-ui',\n",
       "    'material-ui',\n",
       "    'number-format',\n",
       "    'axios',\n",
       "    'localforage',\n",
       "    'prop-types',\n",
       "    'plotlycomponent',\n",
       "    'plotly',\n",
       "    'math'\n",
       "  ], function(\n",
       "    widgets, \n",
       "    _, \n",
       "    React, \n",
       "    ReactDOM,\n",
       "    MaterialLab,\n",
       "    Material,\n",
       "    Format,\n",
       "    Axios,\n",
       "    LocalForage,\n",
       "    PropTypes,\n",
       "    PlotlyComponent,\n",
       "    Plotly,\n",
       "    math\n",
       "  ) {\n",
       "    const Plot = PlotlyComponent.default(Plotly);\n",
       "    const UIDLecfeebdefeafceModel = widgets.WidgetModel.extend({}, {\n",
       "        serializers: _.extend({\n",
       "        }, widgets.DOMWidgetModel.serializers)\n",
       "    });\n",
       "    const UIDLecfeebdefeafceView = widgets.DOMWidgetView.extend({\n",
       "      initialize() {\n",
       "        const backbone = this;\n",
       "        backbone.options = {};\n",
       "class UIDLecfeebdefeafce extends React.Component {\n",
       "constructor(props) {\n",
       "super(props);\n",
       "let self=this;\n",
       "this.state = {\n",
       "'value' : backbone.model.get('value'), \n",
       "};\n",
       "} \n",
       "componentDidMount(){\n",
       "  let self=this;\n",
       "  if (this.props.onLoad){\n",
       "    this.props.onLoad(self);\n",
       "  }\n",
       "}\n",
       "componentDidUpdate(){\n",
       "  let self=this;\n",
       "  if (this.props.onUpdate){\n",
       "    this.props.onUpdate(self);\n",
       "  }\n",
       "}\n",
       "render(){\n",
       "  let self=this;\n",
       "  return React.createElement(Material.Paper, {key:'00f77800-310f-4d06-8cc2-184862fd3cca'},\n",
       "React.createElement('input', {key:'544a4544-0895-4bf6-92dc-2d41f33a8398','type': \"text\",'value': self.state.value}))\n",
       ";\n",
       "}\n",
       "}\n",
       "UIDLecfeebdefeafce.defaultProps = {\n",
       "}\n",
       "        const orig = UIDLecfeebdefeafce.prototype.setState;\n",
       "        UIDLecfeebdefeafce.prototype.onChange = function (model){\n",
       "          orig.apply(this, [Object.assign({},model.changed)]);\n",
       "        }\n",
       "        UIDLecfeebdefeafce.prototype.componentDidUpdate = function(){\n",
       "        }\n",
       "        UIDLecfeebdefeafce.getDerivedStateFromProps = function(props, state){\n",
       "          return state;\n",
       "        }\n",
       "        UIDLecfeebdefeafce.prototype.componentDidMount = function(){\n",
       "          backbone.listenTo(backbone.model, 'change', this.onChange.bind(this));\n",
       "        }\n",
       "        UIDLecfeebdefeafce.prototype.setState = function(state, callback){\n",
       "        if('value' in state){\n",
       "          state['value'] = String(state['value']);\n",
       "        }\n",
       "          for (let [key, value] of Object.entries(state)) {\n",
       "            backbone.model.set(key, value);\n",
       "          }\n",
       "          try {;\n",
       "            backbone.model.save_changes();\n",
       "          } catch (error) {\n",
       "          }\n",
       "          orig.apply(this, [state, callback]);\n",
       "        }\n",
       "        backbone.app = document.createElement('div');\n",
       "        backbone.app.style.padding = '10px';\n",
       "        const App = React.createElement(UIDLecfeebdefeafce);\n",
       "        ReactDOM.render(App, backbone.app);\n",
       "        backbone.el.append(backbone.app);\n",
       "      },\n",
       "      add_child_model: function(model) {\n",
       "        return this.create_child_view(model).then((view) => {\n",
       "          view.setLayout(view.model.get('layout'));\n",
       "          let lview=view;\n",
       "          lview.listenTo(lview.model,'change:layout',(m, v) => {\n",
       "            this.update_children()\n",
       "          });\n",
       "          return view;\n",
       "        });\n",
       "      }, \n",
       "      update_children: function () {\n",
       "          this.children_views.update(this.model.get('children')).then(function (views) {\n",
       "              views.forEach(function (view) {\n",
       "                  messaging_1.MessageLoop.postMessage(view.pWidget, widgets_1.Widget.ResizeMessage.UnknownSize);\n",
       "              });\n",
       "          });\n",
       "      }, \n",
       "    });\n",
       "    return {\n",
       "      UIDLecfeebdefeafceView,\n",
       "      UIDLecfeebdefeafceModel\n",
       "    };\n",
       "});\n"
      ],
      "text/plain": [
       "<IPython.core.display.Javascript object>"
      ]
     },
     "metadata": {},
     "output_type": "display_data"
    },
    {
     "data": {
      "application/vnd.jupyter.widget-view+json": {
       "model_id": "2438eb2574714ae9bf2505e12aa28615",
       "version_major": 2,
       "version_minor": 0
      },
      "text/plain": [
       "UIDLecfeebdefeafceWidget()"
      ]
     },
     "metadata": {},
     "output_type": "display_data"
    }
   ],
   "source": [
    "Input2 = buildJSX('''\n",
    "  <input type=\"text\" value=\"{value:string(test)}\"/>\n",
    "''');\n",
    "b = Input2()\n",
    "b"
   ]
  },
  {
   "cell_type": "code",
   "execution_count": null,
   "metadata": {},
   "outputs": [],
   "source": [
    "b.value"
   ]
  },
  {
   "cell_type": "code",
   "execution_count": null,
   "metadata": {},
   "outputs": [],
   "source": [
    "b.value = \"Mi new value\""
   ]
  },
  {
   "cell_type": "code",
   "execution_count": null,
   "metadata": {},
   "outputs": [],
   "source": []
  },
  {
   "cell_type": "code",
   "execution_count": null,
   "metadata": {},
   "outputs": [],
   "source": [
    "Input3 = buildJSX('''\n",
    "  <input type=\"text\" value=\"{value:integer(20)}\"/>\n",
    "''');\n",
    "c = Input3()\n",
    "c"
   ]
  },
  {
   "cell_type": "code",
   "execution_count": null,
   "metadata": {},
   "outputs": [],
   "source": [
    "c.value = \"asd\""
   ]
  },
  {
   "cell_type": "code",
   "execution_count": null,
   "metadata": {},
   "outputs": [],
   "source": [
    "Input4 = buildJSX('''\n",
    "  <input type=\"text\" value=\"{value:integer(20)}\" onChange=\"[stateChange(value,e.target.value)]\" />\n",
    "  <button onClick=\"[stateChange(value,40)]\">40</button>\n",
    "  <button onClick=\"[propCall(onClick, 'Hello World')]\">Click</button>\n",
    "''');\n",
    "d = Input4()\n",
    "d"
   ]
  },
  {
   "cell_type": "code",
   "execution_count": null,
   "metadata": {},
   "outputs": [],
   "source": [
    "d.value"
   ]
  },
  {
   "cell_type": "code",
   "execution_count": null,
   "metadata": {},
   "outputs": [],
   "source": [
    "from ipywidgets import Output\n",
    "out = Output()\n",
    "def MyFun (**kwargs):\n",
    "    with out:\n",
    "        print (kwargs)\n",
    "d.onClick(MyFun)\n",
    "out"
   ]
  },
  {
   "cell_type": "code",
   "execution_count": null,
   "metadata": {},
   "outputs": [],
   "source": []
  },
  {
   "cell_type": "code",
   "execution_count": null,
   "metadata": {},
   "outputs": [],
   "source": [
    "from nanohubuidl.ipywidgets import parseJSX\n",
    "document = '''\n",
    "  <input type=\"text\" value=\"{value:integer(20)}\" onChange=\"[stateChange(value,e.target.value)]\" />\n",
    "  <button onClick=\"[stateChange(value,40)]\">40</button>\n",
    "  <button onClick=\"[propCall(onClick, 'Hello World')]\">Click</button>\n",
    "'''\n",
    "Component = parseJSX(document)\n",
    "Component.__json__()"
   ]
  },
  {
   "cell_type": "code",
   "execution_count": null,
   "metadata": {},
   "outputs": [],
   "source": []
  }
 ],
 "metadata": {
  "kernelspec": {
   "display_name": "Python 3 (ipykernel)",
   "language": "python",
   "name": "python3"
  },
  "language_info": {
   "codemirror_mode": {
    "name": "ipython",
    "version": 3
   },
   "file_extension": ".py",
   "mimetype": "text/x-python",
   "name": "python",
   "nbconvert_exporter": "python",
   "pygments_lexer": "ipython3",
   "version": "3.8.10"
  },
  "toc": {
   "base_numbering": 1,
   "nav_menu": {},
   "number_sections": true,
   "sideBar": true,
   "skip_h1_title": false,
   "title_cell": "Table of Contents",
   "title_sidebar": "Contents",
   "toc_cell": false,
   "toc_position": {},
   "toc_section_display": true,
   "toc_window_display": false
  },
  "varInspector": {
   "cols": {
    "lenName": 16,
    "lenType": 16,
    "lenVar": 40
   },
   "kernels_config": {
    "python": {
     "delete_cmd_postfix": "",
     "delete_cmd_prefix": "del ",
     "library": "var_list.py",
     "varRefreshCmd": "print(var_dic_list())"
    },
    "r": {
     "delete_cmd_postfix": ") ",
     "delete_cmd_prefix": "rm(",
     "library": "var_list.r",
     "varRefreshCmd": "cat(var_dic_list()) "
    }
   },
   "types_to_exclude": [
    "module",
    "function",
    "builtin_function_or_method",
    "instance",
    "_Feature"
   ],
   "window_display": false
  },
  "vscode": {
   "interpreter": {
    "hash": "aee8b7b246df8f9039afb4144a1f6fd8d2ca17a180786b69acc140d282b71a49"
   }
  }
 },
 "nbformat": 4,
 "nbformat_minor": 2
}
