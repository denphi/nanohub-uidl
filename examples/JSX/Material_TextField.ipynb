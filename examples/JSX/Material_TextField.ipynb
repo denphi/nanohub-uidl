{
 "cells": [
  {
   "cell_type": "code",
   "execution_count": 1,
   "metadata": {},
   "outputs": [
    {
     "data": {
      "text/html": [
       "<style>.p-Widget * {font-size: unset;}</style>"
      ],
      "text/plain": [
       "<IPython.core.display.HTML object>"
      ]
     },
     "metadata": {},
     "output_type": "display_data"
    },
    {
     "data": {
      "text/html": [
       "<link rel='stylesheet' href='https://fonts.googleapis.com/icon?family=Material+Icons'/>"
      ],
      "text/plain": [
       "<IPython.core.display.HTML object>"
      ]
     },
     "metadata": {},
     "output_type": "display_data"
    },
    {
     "data": {
      "application/javascript": [
       "require.config({\n",
       "  paths: {\n",
       "    'react': 'https://unpkg.com/react@16.8.6/umd/react.development',\n",
       "    'react-dom': 'https://unpkg.com/react-dom@16.8.6/umd/react-dom.development',\n",
       "    'material-ui': 'https://unpkg.com/@material-ui/core@latest/umd/material-ui.development',\n",
       "    'plotlycomponent': 'https://unpkg.com/react-plotly.js@2.3/dist/create-plotly-component',\n",
       "    'plotly': 'https://cdn.plot.ly/plotly-latest.min',\n",
       "    'math': 'https://cdnjs.cloudflare.com/ajax/libs/mathjs/6.6.1/math.min',\n",
       "    'axios': 'https://unpkg.com/axios/dist/axios.min',\n",
       "    'localforage' : 'https://www.unpkg.com/localforage@1.7.3/dist/localforage.min',\n",
       "    'number-format': 'https://unpkg.com/react-number-format@4.3.1/dist/react-number-format',\n",
       "    'prop-types': 'https://unpkg.com/prop-types@15.6/prop-types.min',\n",
       "    'webcomponents': 'https://cdn.rawgit.com/download/polymer-cdn/2.6.0/lib/webcomponentsjs/webcomponents-loader',\n",
       "  }\n",
       "});\n",
       "require.undef('UIDL3b1dba8ad2534902852098cf0d18ed93')\n",
       "  define('UIDL3b1dba8ad2534902852098cf0d18ed93', [\n",
       "    '@jupyter-widgets/base',\n",
       "    'react', \n",
       "    'react-dom',\n",
       "    'material-ui',\n",
       "    'number-format',\n",
       "    'axios',\n",
       "    'localforage',\n",
       "    'prop-types',\n",
       "    'plotlycomponent',\n",
       "    'plotly',\n",
       "    'math',\n",
       "    'webcomponents'\n",
       "  ], function(\n",
       "    widgets, \n",
       "    React, \n",
       "    ReactDOM,\n",
       "    Material,\n",
       "    Format,\n",
       "    Axios,\n",
       "    LocalForage,\n",
       "    PropTypes,\n",
       "    PlotlyComponent,\n",
       "    Plotly,\n",
       "    math,\n",
       "    Webcomponents\n",
       "  ) {\n",
       "    console.log(math, Webcomponents)\n",
       "    const UIDL3b1dba8ad2534902852098cf0d18ed93View = widgets.DOMWidgetView.extend({\n",
       "      initialize() {\n",
       "      const backbone = this;\n",
       "      backbone.options = {};\n",
       "class UIDL3b1dba8ad2534902852098cf0d18ed93 extends React.Component {\n",
       "constructor(props) {\n",
       "super(props);\n",
       "let self=this;\n",
       "this.state = {\n",
       "'label' : backbone.model.get('label'), \n",
       "'value1' : backbone.model.get('value1'), \n",
       "'variant' : backbone.model.get('variant'), \n",
       "'help1' : backbone.model.get('help1'), \n",
       "'value2' : backbone.model.get('value2'), \n",
       "'help2' : backbone.model.get('help2'), \n",
       "};\n",
       "}; \n",
       "render(){\n",
       "let self=this;\n",
       "return React.createElement(Material.Paper, {key:'4e8fc9f9-c464-4ae1-a6ae-e07e866d0aa8'},[\n",
       "React.createElement(Material.TextField, {key:'8d281e50-0eaa-45fa-bced-704f9d4c882e' ,'label': self.state.label ,'value': self.state.value1 ,'fullWidth': \"true\" ,'variant': self.state.variant ,'helperText': self.state.help1 ,'onChange': function(e){  self.setState({'value1':e.target.value}); self.props.onChange({'id':'value1', 'value':e.target.value});\n",
       "}})\n",
       " ,React.createElement(Material.TextField, {key:'86887ac1-7c92-43b0-b042-96350f3c25cc' ,'label': \"static label\" ,'value': self.state.value2 ,'fullWidth': \"true\" ,'variant': self.state.variant ,'helperText': self.state.help2 ,'onChange': function(e){  self.setState({'value2':e.target.value}); self.props.onChange({'id':'value2', 'value':e.target.value});\n",
       "}})\n",
       "])\n",
       ";\n",
       "}\n",
       "}\n",
       "UIDL3b1dba8ad2534902852098cf0d18ed93.defaultProps = {\n",
       "'onChange' : (e)=>{ if (event) event.preventDefault(); backbone.send({ event: 'onChange', 'params' : ((e)=>{return e; })(e) });}, \n",
       "}\n",
       "      const orig = UIDL3b1dba8ad2534902852098cf0d18ed93.prototype.setState;\n",
       "      UIDL3b1dba8ad2534902852098cf0d18ed93.prototype.onChange = function (model){\n",
       "        orig.apply(this, [Object.assign({},model.changed)]);\n",
       "      }\n",
       "      UIDL3b1dba8ad2534902852098cf0d18ed93.prototype.componentDidMount = function(){\n",
       "        backbone.listenTo(backbone.model, 'change', this.onChange.bind(this));\n",
       "      }\n",
       "      UIDL3b1dba8ad2534902852098cf0d18ed93.prototype.setState = function(state, callback){\n",
       "        if('label' in state){\n",
       "          state['label'] = String(state['label']);\n",
       "        }\n",
       "        if('value1' in state){\n",
       "          state['value1'] = parseFloat(state['value1']);\n",
       "        }\n",
       "        if('variant' in state){\n",
       "          state['variant'] = String(state['variant']);\n",
       "        }\n",
       "        if('help1' in state){\n",
       "          state['help1'] = String(state['help1']);\n",
       "        }\n",
       "        if('value2' in state){\n",
       "          state['value2'] = String(state['value2']);\n",
       "        }\n",
       "        if('help2' in state){\n",
       "          state['help2'] = String(state['help2']);\n",
       "        }\n",
       "        for (let [key, value] of Object.entries(state)) {\n",
       "          backbone.model.set(key, value);\n",
       "        }\n",
       "        backbone.model.save_changes();\n",
       "        orig.apply(this, [state, callback]);\n",
       "      }\n",
       "      const $app = document.createElement('div');\n",
       "      $app.style.padding = '10px';\n",
       "      const App = React.createElement(UIDL3b1dba8ad2534902852098cf0d18ed93);\n",
       "      ReactDOM.render(App, $app);\n",
       "      backbone.el.append($app);\n",
       "      }\n",
       "    });\n",
       "    return {\n",
       "      UIDL3b1dba8ad2534902852098cf0d18ed93View\n",
       "    };\n",
       "});\n"
      ],
      "text/plain": [
       "<IPython.core.display.Javascript object>"
      ]
     },
     "metadata": {},
     "output_type": "display_data"
    }
   ],
   "source": [
    "from nanohub.uidl.ipywidgets import buildJSX\n",
    "\n",
    "MyComponentWidget = buildJSX('''\n",
    "    <Material.TextField \n",
    "        label=\"{label:string(dynamic label)}\" \n",
    "        value=\"{value1:number(1.0)}\"\n",
    "        fullWidth=\"true\"\n",
    "        variant=\"{variant:string(outlined)}\" \n",
    "        onChange=\"[stateChange(value1,e.target.value)]\"\n",
    "        helperText=\"{help1:string( )}\"\n",
    "    />\n",
    "    <Material.TextField \n",
    "        label=\"static label\" \n",
    "        value=\"{value2:string(6)}\" \n",
    "        fullWidth=\"true\"\n",
    "        onChange=\"[stateChange(value2,e.target.value)]\" \n",
    "        variant=\"{variant:string(outlined)}\"\n",
    "        helperText=\"{help2:string( )}\"\n",
    "    />\n",
    "''', verbose=False);\n"
   ]
  },
  {
   "cell_type": "code",
   "execution_count": 2,
   "metadata": {},
   "outputs": [
    {
     "data": {
      "application/vnd.jupyter.widget-view+json": {
       "model_id": "93ebc98ccf1b48e68a291efe89df09f6",
       "version_major": 2,
       "version_minor": 0
      },
      "text/plain": [
       "UIDL3b1dba8ad2534902852098cf0d18ed93Widget(value1=2.0, value2='4')"
      ]
     },
     "metadata": {},
     "output_type": "display_data"
    }
   ],
   "source": [
    "w1 = MyComponentWidget(value1=2, value2=\"4\", variant=\"outlined\")\n",
    "w1"
   ]
  },
  {
   "cell_type": "code",
   "execution_count": 9,
   "metadata": {},
   "outputs": [
    {
     "data": {
      "text/plain": [
       "25.0"
      ]
     },
     "execution_count": 9,
     "metadata": {},
     "output_type": "execute_result"
    }
   ],
   "source": [
    "w1.value1"
   ]
  },
  {
   "cell_type": "code",
   "execution_count": 4,
   "metadata": {},
   "outputs": [
    {
     "data": {
      "application/vnd.jupyter.widget-view+json": {
       "model_id": "3a1438132cb745e18a4624dd82f5b7e5",
       "version_major": 2,
       "version_minor": 0
      },
      "text/plain": [
       "UIDL3b1dba8ad2534902852098cf0d18ed93Widget(help1='My help', help2='My help2', variant='filled')"
      ]
     },
     "metadata": {},
     "output_type": "display_data"
    }
   ],
   "source": [
    "w2 = MyComponentWidget(variant=\"filled\", help1=\"My help\", help2=\"My help2\")\n",
    "w2"
   ]
  },
  {
   "cell_type": "code",
   "execution_count": 5,
   "metadata": {
    "scrolled": true
   },
   "outputs": [
    {
     "data": {
      "application/vnd.jupyter.widget-view+json": {
       "model_id": "2ab297f8882548feb30c329c86e92418",
       "version_major": 2,
       "version_minor": 0
      },
      "text/plain": [
       "UIDL3b1dba8ad2534902852098cf0d18ed93Widget(variant='standard')"
      ]
     },
     "metadata": {},
     "output_type": "display_data"
    }
   ],
   "source": [
    "w3 = MyComponentWidget(variant=\"standard\")\n",
    "w3"
   ]
  },
  {
   "cell_type": "code",
   "execution_count": 6,
   "metadata": {},
   "outputs": [],
   "source": [
    "w3.label = \"new Label\""
   ]
  },
  {
   "cell_type": "code",
   "execution_count": null,
   "metadata": {},
   "outputs": [],
   "source": []
  },
  {
   "cell_type": "code",
   "execution_count": null,
   "metadata": {},
   "outputs": [],
   "source": []
  }
 ],
 "metadata": {
  "kernelspec": {
   "display_name": "Python 3",
   "language": "python",
   "name": "python3"
  },
  "language_info": {
   "codemirror_mode": {
    "name": "ipython",
    "version": 3
   },
   "file_extension": ".py",
   "mimetype": "text/x-python",
   "name": "python",
   "nbconvert_exporter": "python",
   "pygments_lexer": "ipython3",
   "version": "3.7.3"
  }
 },
 "nbformat": 4,
 "nbformat_minor": 2
}
