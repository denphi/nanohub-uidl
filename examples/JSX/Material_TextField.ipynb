{
 "cells": [
  {
   "cell_type": "code",
   "execution_count": 1,
   "metadata": {},
   "outputs": [
    {
     "data": {
      "text/html": [
       "<style>.p-Widget * {font-size: unset;}</style>"
      ],
      "text/plain": [
       "<IPython.core.display.HTML object>"
      ]
     },
     "metadata": {},
     "output_type": "display_data"
    },
    {
     "data": {
      "text/html": [
       "<link rel='stylesheet' href='https://fonts.googleapis.com/icon?family=Material+Icons'/>"
      ],
      "text/plain": [
       "<IPython.core.display.HTML object>"
      ]
     },
     "metadata": {},
     "output_type": "display_data"
    },
    {
     "data": {
      "application/javascript": [
       "require.config({\n",
       "  paths: {\n",
       "    'react': 'https://unpkg.com/react@16.8.6/umd/react.development',\n",
       "    'react-dom': 'https://unpkg.com/react-dom@16.8.6/umd/react-dom.development',\n",
       "    'material-ui': 'https://unpkg.com/@material-ui/core@latest/umd/material-ui.development',\n",
       "    'plotlycomponent': 'https://unpkg.com/react-plotly.js@2.3/dist/create-plotly-component',\n",
       "    'plotly': 'https://cdn.plot.ly/plotly-latest.min',\n",
       "    'math': 'https://cdnjs.cloudflare.com/ajax/libs/mathjs/6.6.1/math.min',\n",
       "    'axios': 'https://unpkg.com/axios/dist/axios.min',\n",
       "    'localforage' : 'https://www.unpkg.com/localforage@1.7.3/dist/localforage.min',\n",
       "    'number-format': 'https://unpkg.com/react-number-format@4.3.1/dist/react-number-format',\n",
       "    'prop-types': 'https://unpkg.com/prop-types@15.6/prop-types.min',\n",
       "  }\n",
       "});\n",
       "require.undef('UIDL47958e7ea4114f278b6685bd1536f99e')\n",
       "  define('UIDL47958e7ea4114f278b6685bd1536f99e', [\n",
       "    '@jupyter-widgets/base',\n",
       "    'react', \n",
       "    'react-dom',\n",
       "    'material-ui',\n",
       "    'number-format',\n",
       "    'axios',\n",
       "    'localforage',\n",
       "    'prop-types',\n",
       "    'plotlycomponent',\n",
       "    'plotly',\n",
       "    'math'\n",
       "  ], function(\n",
       "    widgets, \n",
       "    React, \n",
       "    ReactDOM,\n",
       "    Material,\n",
       "    Format,\n",
       "    Axios,\n",
       "    LocalForage,\n",
       "    PropTypes,\n",
       "    PlotlyComponent,\n",
       "    Plotly,\n",
       "    math\n",
       "  ) {\n",
       "    const UIDL47958e7ea4114f278b6685bd1536f99eView = widgets.DOMWidgetView.extend({\n",
       "      initialize() {\n",
       "      const backbone = this;\n",
       "      backbone.options = {};\n",
       "class UIDL47958e7ea4114f278b6685bd1536f99e extends React.Component {\n",
       "constructor(props) {\n",
       "super(props);\n",
       "let self=this;\n",
       "this.state = {\n",
       "'label' : backbone.model.get('label'), \n",
       "'value1' : backbone.model.get('value1'), \n",
       "'variant' : backbone.model.get('variant'), \n",
       "'help1' : backbone.model.get('help1'), \n",
       "'value2' : backbone.model.get('value2'), \n",
       "'help2' : backbone.model.get('help2'), \n",
       "};\n",
       "}; \n",
       "render(){\n",
       "let self=this;\n",
       "return React.createElement(Material.Paper, {key:'4cd3dbf8-792e-4692-b11d-adc9075b9261'},[\n",
       "React.createElement(Material.TextField, {key:'39fb0377-9db6-4be3-9aae-6a46d2d300f4' ,'label': self.state.label ,'value': self.state.value1 ,'fullWidth': \"true\" ,'variant': self.state.variant ,'helperText': self.state.help1 ,'onChange': function(e){  self.setState({'value1':e.target.value}); self.props.onChange({'id':'value1', 'value':e.target.value});\n",
       "}})\n",
       " ,React.createElement(Material.TextField, {key:'8573a1f8-aafa-4362-8eb9-b9ab93af0451' ,'label': \"static label\" ,'value': self.state.value2 ,'fullWidth': \"true\" ,'variant': self.state.variant ,'helperText': self.state.help2 ,'onChange': function(e){  self.setState({'value2':e.target.value}); self.props.onChange({'id':'value2', 'value':e.target.value});\n",
       "}})\n",
       "])\n",
       ";\n",
       "}\n",
       "}\n",
       "UIDL47958e7ea4114f278b6685bd1536f99e.defaultProps = {\n",
       "'onChange' : (e)=>{ event.preventDefault(); backbone.send({ event: 'onChange', 'params' : ((e)=>{return e; })(e) });}, \n",
       "}\n",
       "      const orig = UIDL47958e7ea4114f278b6685bd1536f99e.prototype.setState;\n",
       "      UIDL47958e7ea4114f278b6685bd1536f99e.prototype.onChange = function (model){\n",
       "        orig.apply(this, [Object.assign({},model.changed)]);\n",
       "      }\n",
       "      UIDL47958e7ea4114f278b6685bd1536f99e.prototype.componentDidMount = function(){\n",
       "        backbone.listenTo(backbone.model, 'change', this.onChange.bind(this));\n",
       "      }\n",
       "      UIDL47958e7ea4114f278b6685bd1536f99e.prototype.setState = function(state, callback){\n",
       "        if('label' in state){\n",
       "          state['label'] = String(state['label']);\n",
       "        }\n",
       "        if('value1' in state){\n",
       "          state['value1'] = parseFloat(state['value1']);\n",
       "        }\n",
       "        if('variant' in state){\n",
       "          state['variant'] = String(state['variant']);\n",
       "        }\n",
       "        if('help1' in state){\n",
       "          state['help1'] = String(state['help1']);\n",
       "        }\n",
       "        if('value2' in state){\n",
       "          state['value2'] = String(state['value2']);\n",
       "        }\n",
       "        if('help2' in state){\n",
       "          state['help2'] = String(state['help2']);\n",
       "        }\n",
       "        for (let [key, value] of Object.entries(state)) {\n",
       "          backbone.model.set(key, value);\n",
       "        }\n",
       "        backbone.model.save_changes();\n",
       "        orig.apply(this, [state, callback]);\n",
       "      }\n",
       "      const $app = document.createElement('div');\n",
       "      $app.style.padding = '10px';\n",
       "      const App = React.createElement(UIDL47958e7ea4114f278b6685bd1536f99e);\n",
       "      ReactDOM.render(App, $app);\n",
       "      backbone.el.append($app);\n",
       "      }\n",
       "    });\n",
       "    return {\n",
       "      UIDL47958e7ea4114f278b6685bd1536f99eView\n",
       "    };\n",
       "});\n"
      ],
      "text/plain": [
       "<IPython.core.display.Javascript object>"
      ]
     },
     "metadata": {},
     "output_type": "display_data"
    }
   ],
   "source": [
    "from nanohub.uidl.ipywidgets import buildJSX\n",
    "\n",
    "MyComponentWidget = buildJSX('''\n",
    "    <Material.TextField \n",
    "        label=\"{label:string(dynamic label)}\" \n",
    "        value=\"{value1:number(1.0)}\"\n",
    "        fullWidth=\"true\"\n",
    "        variant=\"{variant:string(outlined)}\" \n",
    "        onChange=\"[stateChange(value1,e.target.value)]\"\n",
    "        helperText=\"{help1:string( )}\"\n",
    "    />\n",
    "    <Material.TextField \n",
    "        label=\"static label\" \n",
    "        value=\"{value2:string(6)}\" \n",
    "        fullWidth=\"true\"\n",
    "        onChange=\"[stateChange(value2,e.target.value)]\" \n",
    "        variant=\"{variant:string(outlined)}\"\n",
    "        helperText=\"{help2:string( )}\"\n",
    "    />\n",
    "''', verbose=False);\n"
   ]
  },
  {
   "cell_type": "code",
   "execution_count": 2,
   "metadata": {},
   "outputs": [
    {
     "data": {
      "application/vnd.jupyter.widget-view+json": {
       "model_id": "82e91685941a448599a469a15e6f309e",
       "version_major": 2,
       "version_minor": 0
      },
      "text/plain": [
       "UIDL47958e7ea4114f278b6685bd1536f99eWidget(value1=2.0, value2='4')"
      ]
     },
     "metadata": {},
     "output_type": "display_data"
    }
   ],
   "source": [
    "w1 = MyComponentWidget(value1=2, value2=\"4\", variant=\"outlined\")\n",
    "w1"
   ]
  },
  {
   "cell_type": "code",
   "execution_count": 3,
   "metadata": {},
   "outputs": [
    {
     "data": {
      "text/plain": [
       "(2.0, '4')"
      ]
     },
     "execution_count": 3,
     "metadata": {},
     "output_type": "execute_result"
    }
   ],
   "source": [
    "w1.value1, w1.value2"
   ]
  },
  {
   "cell_type": "code",
   "execution_count": 4,
   "metadata": {},
   "outputs": [
    {
     "data": {
      "application/vnd.jupyter.widget-view+json": {
       "model_id": "28db9ffc32064136956bf389ab8034f5",
       "version_major": 2,
       "version_minor": 0
      },
      "text/plain": [
       "UIDL47958e7ea4114f278b6685bd1536f99eWidget(help1='My help', help2='My help2', variant='filled')"
      ]
     },
     "metadata": {},
     "output_type": "display_data"
    }
   ],
   "source": [
    "w2 = MyComponentWidget(variant=\"filled\", help1=\"My help\", help2=\"My help2\")\n",
    "w2"
   ]
  },
  {
   "cell_type": "code",
   "execution_count": 5,
   "metadata": {},
   "outputs": [
    {
     "data": {
      "application/vnd.jupyter.widget-view+json": {
       "model_id": "d27d1f658c40402c8e325e0452dfc71c",
       "version_major": 2,
       "version_minor": 0
      },
      "text/plain": [
       "UIDL47958e7ea4114f278b6685bd1536f99eWidget(variant='standard')"
      ]
     },
     "metadata": {},
     "output_type": "display_data"
    }
   ],
   "source": [
    "w3 = MyComponentWidget(variant=\"standard\")\n",
    "w3"
   ]
  },
  {
   "cell_type": "code",
   "execution_count": 6,
   "metadata": {},
   "outputs": [],
   "source": [
    "w3.label = \"new Label\""
   ]
  },
  {
   "cell_type": "code",
   "execution_count": null,
   "metadata": {},
   "outputs": [],
   "source": []
  },
  {
   "cell_type": "code",
   "execution_count": null,
   "metadata": {},
   "outputs": [],
   "source": []
  }
 ],
 "metadata": {
  "kernelspec": {
   "display_name": "Python 3",
   "language": "python",
   "name": "python3"
  },
  "language_info": {
   "codemirror_mode": {
    "name": "ipython",
    "version": 3
   },
   "file_extension": ".py",
   "mimetype": "text/x-python",
   "name": "python",
   "nbconvert_exporter": "python",
   "pygments_lexer": "ipython3",
   "version": "3.7.3"
  }
 },
 "nbformat": 4,
 "nbformat_minor": 2
}
