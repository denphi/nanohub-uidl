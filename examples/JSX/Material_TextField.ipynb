{
 "cells": [
  {
   "cell_type": "code",
   "execution_count": null,
   "metadata": {},
   "outputs": [],
   "source": [
    "from nanohubuidl.ipywidgets import buildJSX\n",
    "\n",
    "MyComponentWidget = buildJSX('''\n",
    "    <Material.TextField \n",
    "        label=\"{label:string(dynamic label)}\" \n",
    "        value=\"{value1:number(1.0)}\"\n",
    "        fullWidth=\"True\"\n",
    "        variant=\"{variant:string(outlined)}\" \n",
    "        onChange=\"[stateChange(value1,e.target.value)]\"\n",
    "        helperText=\"{help1:string( )}\"\n",
    "    />\n",
    "    <Material.TextField \n",
    "        label=\"static label\" \n",
    "        value=\"{value2:string(6)}\" \n",
    "        fullWidth=\"True\"\n",
    "        onChange=\"[stateChange(value2,e.target.value)]\" \n",
    "        variant=\"{variant:string(outlined)}\"\n",
    "        helperText=\"{help2:string( )}\"\n",
    "    />\n",
    "''', debugger=False);\n"
   ]
  },
  {
   "cell_type": "code",
   "execution_count": null,
   "metadata": {},
   "outputs": [],
   "source": [
    "w1 = MyComponentWidget(value1=2, value2=\"4\", variant=\"outlined\")\n",
    "w1"
   ]
  },
  {
   "cell_type": "code",
   "execution_count": null,
   "metadata": {},
   "outputs": [],
   "source": [
    "w1.value1=16"
   ]
  },
  {
   "cell_type": "code",
   "execution_count": null,
   "metadata": {},
   "outputs": [],
   "source": [
    "w2 = MyComponentWidget(variant=\"filled\", help1=\"My help\", help2=\"My help2\")\n",
    "w2"
   ]
  },
  {
   "cell_type": "code",
   "execution_count": null,
   "metadata": {},
   "outputs": [],
   "source": [
    "w2.help1=\"asdasdasd\""
   ]
  },
  {
   "cell_type": "code",
   "execution_count": null,
   "metadata": {},
   "outputs": [],
   "source": [
    "w3 = MyComponentWidget(variant=\"standard\")\n",
    "w3"
   ]
  },
  {
   "cell_type": "code",
   "execution_count": null,
   "metadata": {},
   "outputs": [],
   "source": [
    "w3.label = \"new Label\""
   ]
  },
  {
   "cell_type": "code",
   "execution_count": null,
   "metadata": {},
   "outputs": [],
   "source": [
    "w3.value2"
   ]
  },
  {
   "cell_type": "code",
   "execution_count": null,
   "metadata": {},
   "outputs": [],
   "source": []
  },
  {
   "cell_type": "code",
   "execution_count": null,
   "metadata": {},
   "outputs": [],
   "source": []
  }
 ],
 "metadata": {
  "kernelspec": {
   "display_name": "Python 3 (ipykernel)",
   "language": "python",
   "name": "python3"
  },
  "language_info": {
   "codemirror_mode": {
    "name": "ipython",
    "version": 3
   },
   "file_extension": ".py",
   "mimetype": "text/x-python",
   "name": "python",
   "nbconvert_exporter": "python",
   "pygments_lexer": "ipython3",
   "version": "3.8.10"
  },
  "vscode": {
   "interpreter": {
    "hash": "aee8b7b246df8f9039afb4144a1f6fd8d2ca17a180786b69acc140d282b71a49"
   }
  }
 },
 "nbformat": 4,
 "nbformat_minor": 2
}
