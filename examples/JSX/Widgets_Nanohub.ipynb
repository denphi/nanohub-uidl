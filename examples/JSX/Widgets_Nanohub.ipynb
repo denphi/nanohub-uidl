{
 "cells": [
  {
   "cell_type": "code",
   "execution_count": null,
   "metadata": {},
   "outputs": [],
   "source": [
    "from nanohub.uidl.ipywidgets import buildJSX\n",
    "import ipywidgets as w\n",
    "IntegerAsSwitch = buildJSX('''\n",
    "<Nanohub.IntSwitch\n",
    "    onChange = \"[stateChange(value,e.target.value)]\"\n",
    "    default_value = \"{value:integer(5)}\"\n",
    "    ids = \"{ids:array([5, 10])}\"\n",
    "    options = \"{options:array(['Five','Ten'])}\"\n",
    "    label = \"{label:string( )}\"\n",
    "    description = \"{description:string( )}\"\n",
    "/>\n",
    "''');\n",
    "\n",
    "\n",
    "ButtonList = buildJSX('''\n",
    "<Material.Paper\n",
    "    style = \"width:100%;fontFamily:Material Icons\"\n",
    ">\n",
    "    <Material.FormControl\n",
    "        variant = \"variant:string(outlined)\"\n",
    "        style = \"border:1px solid rgba(0, 0, 0, 0.23);borderRadius:4px;flexDirection:row;width:inherit;paddingTop:10px\"\n",
    "    >\n",
    "        <Material.InputLabel\n",
    "            htmlFor = \"component-filled\"\n",
    "            shrink = \"true\"\n",
    "            style = \"background:white;top:-7px;left:20px\"\n",
    "        >\n",
    "            {label:string(asd)}\n",
    "        </Material.InputLabel>\n",
    "        <Nanohub.ButtonListMaterial\n",
    "            always_open = \"{always_open:boolean(false)}\"\n",
    "            hide_header = \"{hide_header:boolean(false)}\"\n",
    "            default_value = \"{value:string(one)}\"\n",
    "            options = \"{options:array([{'key':'one', 'name':'This One'}])}\"\n",
    "            onChange = \"[stateChange(value,e.target.value)]\" \n",
    "        />\n",
    "    </Material.FormControl>\n",
    "    <Material.FormHelperText>\n",
    "        {description:string( )}\n",
    "    </Material.FormHelperText>\n",
    "</Material.Paper>\n",
    "''');\n",
    "\n",
    "\n",
    "\n",
    "IconList = buildJSX('''\n",
    "<Material.Paper\n",
    "    style = \"width:100%;fontFamily:Material Icons\"\n",
    ">\n",
    "    <Material.FormControl\n",
    "        variant = \"variant:string(outlined)\"\n",
    "        style = \"border:1px solid rgba(0, 0, 0, 0.23);borderRadius:4px;flexDirection:row;width:inherit;paddingTop:10px\"\n",
    "    >\n",
    "        <Material.InputLabel\n",
    "            htmlFor = \"component-filled\"\n",
    "            shrink = \"true\"\n",
    "            style = \"background:white;top:-7px;left:20px\"\n",
    "        >\n",
    "            {label:string(asd)}\n",
    "        </Material.InputLabel>\n",
    "        <Nanohub.IconListMaterial\n",
    "            always_open = \"{always_open:boolean(false)}\"\n",
    "            hide_header = \"{hide_header:boolean(false)}\"\n",
    "            default_value = \"{value:string(one)}\"\n",
    "            options = \"{options:array([{'key':'one', 'name':'This One', 'icon':''}])}\"\n",
    "            onChange = \"[stateChange(value,e.target.value)]\" \n",
    "        />\n",
    "    </Material.FormControl>\n",
    "    <Material.FormHelperText>\n",
    "        {description:string( )}\n",
    "    </Material.FormHelperText>\n",
    "</Material.Paper>\n",
    "''');\n"
   ]
  },
  {
   "cell_type": "code",
   "execution_count": null,
   "metadata": {},
   "outputs": [],
   "source": [
    "out = w.Output()\n",
    "def test (**kwargs):\n",
    "    global out\n",
    "    with out:\n",
    "        print (kwargs.get(\"buf\",\"\"))\n",
    "iasw = IntegerAsSwitch(label=\"IntegerAsSwitch\", description=\"This is a Integer\")\n",
    "bl1 = ButtonList(always_open=True, description=\"This is a List of Buttons\", value = 'one', options=[\n",
    "    {'key':'one','name':'NUMBER ONE'},                                                                                    \n",
    "    {'key':'two','name':'NUMBER TWO'},                                                                                    \n",
    "    {'key':'three','name':'NUMBER THREE'},  \n",
    "], onChange=test)\n",
    "bl2 = ButtonList(value = '3', options=[\n",
    "    {'key':'2','name':'asd'},                                                                                    \n",
    "    {'key':'3','name':'asd'},                                                                                    \n",
    "    {'key':'4','name':'asd'},  \n",
    "], onChange=test)\n"
   ]
  },
  {
   "cell_type": "code",
   "execution_count": null,
   "metadata": {},
   "outputs": [],
   "source": [
    "w.VBox([iasw,bl1,bl2,out])"
   ]
  },
  {
   "cell_type": "code",
   "execution_count": null,
   "metadata": {},
   "outputs": [],
   "source": [
    "iasw.value=5"
   ]
  },
  {
   "cell_type": "code",
   "execution_count": null,
   "metadata": {},
   "outputs": [],
   "source": [
    "bl1.value = \"three\""
   ]
  },
  {
   "cell_type": "code",
   "execution_count": null,
   "metadata": {},
   "outputs": [],
   "source": [
    "bl1.always_open = True"
   ]
  },
  {
   "cell_type": "code",
   "execution_count": null,
   "metadata": {},
   "outputs": [],
   "source": [
    "bl1.label = \"This is the Label\""
   ]
  },
  {
   "cell_type": "code",
   "execution_count": null,
   "metadata": {},
   "outputs": [],
   "source": [
    "bl2.value = '2'"
   ]
  },
  {
   "cell_type": "code",
   "execution_count": null,
   "metadata": {},
   "outputs": [],
   "source": [
    "il1 = IconList(always_open=True, value = 'square', options=[\n",
    "    {'key':'square','name':'Square', 'icon': 'M 1 1 v 22 h 22 v -22 h -22'},                                                                                    \n",
    "    {'key':'triangle','name':'Triangle', 'icon': 'M 1 23 l 11 -22 l 11 22 h -22'},                                                                                    \n",
    "    {'key':'circle','name':'Circle', 'icon': 'M 12 0 a 12,12 0 1,0 0.1,0'},  \n",
    "], onChange=test)\n",
    "w.VBox([il1])\n"
   ]
  },
  {
   "cell_type": "code",
   "execution_count": null,
   "metadata": {},
   "outputs": [],
   "source": []
  },
  {
   "cell_type": "code",
   "execution_count": null,
   "metadata": {},
   "outputs": [],
   "source": []
  },
  {
   "cell_type": "code",
   "execution_count": null,
   "metadata": {},
   "outputs": [],
   "source": []
  }
 ],
 "metadata": {
  "kernelspec": {
   "display_name": "Python 3",
   "language": "python",
   "name": "python3"
  },
  "language_info": {
   "codemirror_mode": {
    "name": "ipython",
    "version": 3
   },
   "file_extension": ".py",
   "mimetype": "text/x-python",
   "name": "python",
   "nbconvert_exporter": "python",
   "pygments_lexer": "ipython3",
   "version": "3.7.3"
  }
 },
 "nbformat": 4,
 "nbformat_minor": 2
}
