{
 "cells": [
  {
   "cell_type": "code",
   "execution_count": null,
   "metadata": {},
   "outputs": [],
   "source": [
    "from nanohubuidl.ipywidgets import buildJSX\n",
    "import ipywidgets as w\n",
    "IntegerAsSwitch = buildJSX('''\n",
    "<Nanohub.IntSwitch\n",
    "    onChange = \"[stateChange(value,e.target.value)]\"\n",
    "    default_value = \"{value:integer(5)}\"\n",
    "    ids = \"{ids:array([5, 10])}\"\n",
    "    options = \"{options:array(['Five','Ten'])}\"\n",
    "    label = \"{label:string( )}\"\n",
    "    description = \"{description:string( )}\"\n",
    "/>\n",
    "''');\n",
    "\n",
    "\n",
    "ButtonList = buildJSX('''\n",
    "<Material.Paper\n",
    "    style = \"width:100%;fontFamily:Material Icons\"\n",
    ">\n",
    "    <Material.FormControl\n",
    "        variant = \"variant:string(outlined)\"\n",
    "        style = \"border:1px solid rgba(0, 0, 0, 0.23);borderRadius:4px;flexDirection:row;width:inherit;paddingTop:10px\"\n",
    "    >\n",
    "        <Material.InputLabel\n",
    "            htmlFor = \"component-filled\"\n",
    "            shrink = \"true\"\n",
    "            style = \"background:white;top:-7px;left:20px\"\n",
    "        >\n",
    "            {label:string(asd)}\n",
    "        </Material.InputLabel>\n",
    "        <Nanohub.ButtonListMaterial\n",
    "            always_open = \"{always_open:boolean(false)}\"\n",
    "            hide_header = \"{hide_header:boolean(false)}\"\n",
    "            default_value = \"{value:string(one)}\"\n",
    "            options = \"{options:array([{'key':'one', 'name':'This One'}])}\"\n",
    "            onChange = \"[stateChange(value,e.target.value)]\" \n",
    "        />\n",
    "    </Material.FormControl>\n",
    "    <Material.FormHelperText>\n",
    "        {description:string( )}\n",
    "    </Material.FormHelperText>\n",
    "</Material.Paper>\n",
    "''');\n"
   ]
  },
  {
   "cell_type": "code",
   "execution_count": null,
   "metadata": {},
   "outputs": [],
   "source": [
    "out = w.Output()\n",
    "def test (out, **kwargs):\n",
    "    with out:\n",
    "        print (kwargs.get(\"buf\",\"\"))\n",
    "iasw = IntegerAsSwitch(label=\"IntegerAsSwitch\", description=\"This is a Integer\", onChange=lambda **kwargs : test(out, **kwargs))\n",
    "bl1 = ButtonList(always_open=True, description=\"This is a List of Buttons\", value = 'one', options=[\n",
    "    {'key':'one','name':'NUMBER ONE'},                                                                                    \n",
    "    {'key':'two','name':'NUMBER TWO'},                                                                                    \n",
    "    {'key':'three','name':'NUMBER THREE'},  \n",
    "], onChange=lambda **kwargs : test(out, **kwargs))\n",
    "bl2 = ButtonList(value = '3', options=[\n",
    "    {'key':'2','name':'Number 2'},                                                                                    \n",
    "    {'key':'3','name':'Number 3'},                                                                                    \n",
    "    {'key':'4','name':'Number 4'},  \n",
    "], onChange=lambda **kwargs : test(out, **kwargs))\n"
   ]
  },
  {
   "cell_type": "code",
   "execution_count": null,
   "metadata": {},
   "outputs": [],
   "source": [
    "w.VBox([iasw,bl1,bl2,out])"
   ]
  },
  {
   "cell_type": "code",
   "execution_count": null,
   "metadata": {},
   "outputs": [],
   "source": [
    "iasw.value=5"
   ]
  },
  {
   "cell_type": "code",
   "execution_count": null,
   "metadata": {},
   "outputs": [],
   "source": [
    "bl1.value = \"three\""
   ]
  },
  {
   "cell_type": "code",
   "execution_count": null,
   "metadata": {},
   "outputs": [],
   "source": [
    "bl1.always_open = True"
   ]
  },
  {
   "cell_type": "code",
   "execution_count": null,
   "metadata": {},
   "outputs": [],
   "source": [
    "bl1.label = \"This is the Label\""
   ]
  },
  {
   "cell_type": "code",
   "execution_count": null,
   "metadata": {},
   "outputs": [],
   "source": [
    "bl2.value = '2'"
   ]
  },
  {
   "cell_type": "code",
   "execution_count": null,
   "metadata": {},
   "outputs": [],
   "source": [
    "IconList = buildJSX('''\n",
    "<Material.Paper\n",
    "    style = \"width:100%;fontFamily:Material Icons\"\n",
    ">\n",
    "    <Material.FormControl\n",
    "        variant = \"variant:string(outlined)\"\n",
    "        style = \"border:1px solid rgba(0, 0, 0, 0.23);borderRadius:4px;flexDirection:row;width:inherit;paddingTop:10px\"\n",
    "    >\n",
    "        <Material.InputLabel\n",
    "            htmlFor = \"component-filled\"\n",
    "            shrink = \"true\"\n",
    "            style = \"background:white;top:-7px;left:20px\"\n",
    "        >\n",
    "            {label:string(asd)}\n",
    "        </Material.InputLabel>\n",
    "        <Nanohub.IconListMaterial\n",
    "            always_open = \"{always_open:boolean(false)}\"\n",
    "            hide_header = \"{hide_header:boolean(false)}\"\n",
    "            default_value = \"{value:string(one)}\"\n",
    "            options = \"{options:array([{'key':'one', 'name':'This One', 'icon':''}])}\"\n",
    "            onChange = \"[stateChange(value,e.target.value)]\" \n",
    "        />\n",
    "    </Material.FormControl>\n",
    "    <Material.FormHelperText>\n",
    "        {description:string( )}\n",
    "    </Material.FormHelperText>\n",
    "</Material.Paper>\n",
    "''');\n",
    "\n",
    "out2 = w.Output()\n",
    "\n",
    "il1 = IconList(always_open=True, value = 'square', options=[\n",
    "    {'key':'square','name':'Square', 'icon': 'M 1 1 v 22 h 22 v -22 h -22'},                                                                                    \n",
    "    {'key':'triangle','name':'Triangle', 'icon': 'M 1 23 l 11 -22 l 11 22 h -22'},                                                                                    \n",
    "    {'key':'circle','name':'Circle', 'icon': 'M 12 0 a 12,12 0 1,0 0.1,0'},  \n",
    "], onChange=lambda **kwargs : test(out2, **kwargs))\n",
    "\n",
    "w.VBox([il1, out2])\n"
   ]
  },
  {
   "cell_type": "code",
   "execution_count": null,
   "metadata": {},
   "outputs": [],
   "source": [
    "ColorSliders = buildJSX('''\n",
    "<Material.Grid\n",
    "    container = \"true\"\n",
    "    direction = \"column\"\n",
    ">\n",
    "    <Material.Grid item=\"true\">\n",
    "        <Nanohub.ColorSliders \n",
    "            colors = \"{colors:array([])}\"\n",
    "            onChange = \"[stateChange(colors,e.target.value)]\" \n",
    "        />\n",
    "    </Material.Grid>\n",
    "</Material.Grid>\n",
    "\n",
    "''', debugger=False);\n",
    "'''\n",
    "\n",
    "  'visible':false, \n",
    "  'center':50,\n",
    "  'color':'#ff0',\n",
    "  'label':'The label',\n",
    "\n",
    "  '''\n",
    "cs = ColorSliders(always_open=True, value = 'square', colors=[\n",
    "    {'center':50, 'label': 'eye1', 'visible':False, 'color':'#33a02c'},\n",
    "    {'center':20, 'label': 'eye2', 'visible':True, 'color':'#b2df8a'}\n",
    "], onChange=lambda **kwargs : test(out3, **kwargs))\n",
    "out3 = w.Output()\n",
    "\n",
    "w.VBox([cs, out3])"
   ]
  },
  {
   "cell_type": "code",
   "execution_count": null,
   "metadata": {},
   "outputs": [],
   "source": [
    "cs.colors = [{'center': 60, 'label': 'eye1', 'visible': True, 'color': '#ff000'},\n",
    " {'center': 20, 'label': 'eye2', 'visible': False, 'color': '#fb9a99'}]"
   ]
  },
  {
   "cell_type": "code",
   "execution_count": null,
   "metadata": {},
   "outputs": [],
   "source": []
  },
  {
   "cell_type": "code",
   "execution_count": null,
   "metadata": {},
   "outputs": [],
   "source": []
  },
  {
   "cell_type": "code",
   "execution_count": null,
   "metadata": {},
   "outputs": [],
   "source": []
  },
  {
   "cell_type": "code",
   "execution_count": null,
   "metadata": {},
   "outputs": [],
   "source": []
  }
 ],
 "metadata": {
  "kernelspec": {
   "display_name": "Python 3 (ipykernel)",
   "language": "python",
   "name": "python3"
  },
  "language_info": {
   "codemirror_mode": {
    "name": "ipython",
    "version": 3
   },
   "file_extension": ".py",
   "mimetype": "text/x-python",
   "name": "python",
   "nbconvert_exporter": "python",
   "pygments_lexer": "ipython3",
   "version": "3.8.10"
  }
 },
 "nbformat": 4,
 "nbformat_minor": 2
}
