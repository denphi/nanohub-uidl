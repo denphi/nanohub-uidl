{
 "cells": [
  {
   "cell_type": "code",
   "execution_count": null,
   "metadata": {},
   "outputs": [],
   "source": [
    "from nanohub.uidl.ipywidgets import buildJSX\n",
    "\n",
    "Slider = buildJSX('''\n",
    "  <Material.Typography id=\"continuous-slider\" gutterBottom=\"true\" align=\"center\">\n",
    "    Volume\n",
    "  </Material.Typography>\n",
    "  <Material.Grid container=\"true\" spacing=\"2\" style=\"width:100%\">\n",
    "    <Material.Grid item=\"true\">\n",
    "        <Material.IconButton onClick='[stateChange(myvalue,0)]'>\n",
    "            <Material.Icon>volume_down</Material.Icon>\n",
    "        </Material.IconButton>\n",
    "    </Material.Grid>\n",
    "    <Material.Grid item=\"true\" style=\"flex:1\">\n",
    "      <Material.Slider disabled='{disabled:boolean(false)}' value='{myvalue:number(40)}' onChange='[stateChange(myvalue,arguments[1])]' aria-labelledby=\"enabled-slider\"/>\n",
    "    </Material.Grid>\n",
    "    <Material.Grid item=\"true\">\n",
    "        <Material.IconButton  onClick='[stateChange(myvalue,100)]'>\n",
    "            <Material.Icon>volume_up</Material.Icon>\n",
    "        </Material.IconButton>\n",
    "    </Material.Grid>\n",
    "  </Material.Grid>\n",
    "''', verbose=False);\n"
   ]
  },
  {
   "cell_type": "code",
   "execution_count": null,
   "metadata": {},
   "outputs": [],
   "source": [
    "s = Slider(myvalue=10)\n",
    "s"
   ]
  },
  {
   "cell_type": "code",
   "execution_count": null,
   "metadata": {},
   "outputs": [],
   "source": [
    "s.myvalue"
   ]
  },
  {
   "cell_type": "code",
   "execution_count": null,
   "metadata": {},
   "outputs": [],
   "source": [
    "s.disabled = False"
   ]
  },
  {
   "cell_type": "code",
   "execution_count": null,
   "metadata": {},
   "outputs": [],
   "source": []
  }
 ],
 "metadata": {
  "kernelspec": {
   "display_name": "Python 3",
   "language": "python",
   "name": "python3"
  },
  "language_info": {
   "codemirror_mode": {
    "name": "ipython",
    "version": 3
   },
   "file_extension": ".py",
   "mimetype": "text/x-python",
   "name": "python",
   "nbconvert_exporter": "python",
   "pygments_lexer": "ipython3",
   "version": "3.7.3"
  }
 },
 "nbformat": 4,
 "nbformat_minor": 2
}
