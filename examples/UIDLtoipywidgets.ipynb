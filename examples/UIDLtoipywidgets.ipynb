{
 "cells": [
  {
   "cell_type": "code",
   "execution_count": null,
   "metadata": {
    "scrolled": false
   },
   "outputs": [],
   "source": [
    "import ipywidgets as widgets\n",
    "from traitlets import Unicode, Integer, validate, TraitError\n",
    "import sys\n",
    "from IPython.display import HTML, Javascript, display\n",
    "import nanohub.uidl.teleport as t\n",
    "from nanohub.uidl.rappture import RapptureBuilder\n",
    "from nanohub.uidl.material import MaterialBuilder\n",
    "from nanohub.uidl.material import MaterialContent, MaterialComponents\n",
    "from nanohub.uidl.plotly import PlotlyBuilder\n",
    "from nanohub.uidl.teleport import TeleportElement, TeleportContent, TeleportComponent\n",
    "from nanohub.uidl.app import AppBuilder, FormHelper\n",
    "from nanohub.uidl.ipywidgets import buildWidget\n",
    "\n",
    "component = \"MyComponent\"\n",
    "\n",
    "Project = t.TeleportProject(component)\n",
    "MaterialComponents.FormatCustomNumber(Project)\n",
    "Component = Project.root\n",
    "Component.addStateVariable(\"label\", {\"type\":\"string\", \"defaultValue\": \"\"})\n",
    "Component.addStateVariable(\"description\", {\"type\":\"string\", \"defaultValue\": \"\"})\n",
    "Component.addStateVariable(\"value\", {\"type\":\"number\", \"defaultValue\": 0})\n",
    "Component.addStateVariable(\"units\", {\"type\":\"string\", \"defaultValue\": \"\"})\n",
    "Component.addStateVariable(\"variant\", {\"type\":\"string\", \"defaultValue\": \"outlined\"})\n",
    "Component.addStateVariable(\"range\", {\"type\":\"array\", \"defaultValue\": [0,100]})\n",
    "Component.addPropVariable(\"onChange\", {\"type\":\"func\", \"defaultValue\": \"(e)=>{return e; }\"})\n",
    "param = FormHelper.Number( \n",
    "  Component,\n",
    "  {\n",
    "    \"type\": \"dynamic\",\n",
    "    \"content\": {\n",
    "      \"referenceType\": \"state\",\n",
    "      \"id\": \"label\"\n",
    "    }  \n",
    "  }, \n",
    "  {\n",
    "    \"type\": \"dynamic\",\n",
    "    \"content\": {\n",
    "      \"referenceType\": \"state\",\n",
    "      \"id\": \"description\"\n",
    "    }  \n",
    "  }, \n",
    "  \"value\",\n",
    "  10,\n",
    "  {\n",
    "    \"type\": \"dynamic\",\n",
    "    \"content\": {\n",
    "      \"referenceType\": \"state\",\n",
    "      \"id\": \"units\"\n",
    "    }  \n",
    "  }, \n",
    "  decimalScale=0,\n",
    "  variant = {\n",
    "    \"type\": \"dynamic\",\n",
    "    \"content\": {\n",
    "      \"referenceType\": \"state\",\n",
    "      \"id\": \"variant\"\n",
    "    }  \n",
    "  }, \n",
    "  onChange = {\n",
    "    \"type\": \"propCall2\",\n",
    "    \"calls\": \"onChange\",\n",
    "    \"args\": [\"{'id':'value', 'value':e.target.value}\"]\n",
    "  }\n",
    ")\n",
    "param.content.attrs[\"range\"] = {\n",
    "    \"type\": \"dynamic\",\n",
    "    \"content\": {\n",
    "      \"referenceType\": \"state\",\n",
    "      \"id\": \"range\"\n",
    "    }  \n",
    "  }\n",
    "Component.addNode(param)\n"
   ]
  },
  {
   "cell_type": "code",
   "execution_count": null,
   "metadata": {},
   "outputs": [],
   "source": [
    "MyComponentWidget = buildWidget(Project);"
   ]
  },
  {
   "cell_type": "code",
   "execution_count": null,
   "metadata": {},
   "outputs": [],
   "source": [
    "out = widgets.Output()                \n",
    "def click(**kwargs):\n",
    "    global out\n",
    "    with out:\n",
    "        print(\"Enter\")\n",
    "        \n",
    "\n",
    "v1 = MyComponentWidget(value=10, units=\"nm\", label=\"test1\", onChange=click, variant=\"outlined\" )\n",
    "v2 = MyComponentWidget(value=20, units=\"nm\", label=\"test2\", onChange=click, variant=\"filled\" )\n",
    "v3 = MyComponentWidget(value=20, units=\"nm\", label=\"test3\", onChange=click, variant=\"standard\" )\n",
    "\n",
    "import ipywidgets as w\n",
    "display(w.HBox([v1, v2, v3]))"
   ]
  },
  {
   "cell_type": "code",
   "execution_count": null,
   "metadata": {},
   "outputs": [],
   "source": [
    "display(out)"
   ]
  },
  {
   "cell_type": "code",
   "execution_count": null,
   "metadata": {},
   "outputs": [],
   "source": [
    "v1.value, v2.value"
   ]
  },
  {
   "cell_type": "code",
   "execution_count": null,
   "metadata": {},
   "outputs": [],
   "source": [
    "v1.value = 23"
   ]
  },
  {
   "cell_type": "code",
   "execution_count": null,
   "metadata": {},
   "outputs": [],
   "source": [
    "v1.value, v2.value, v3.value"
   ]
  },
  {
   "cell_type": "code",
   "execution_count": null,
   "metadata": {},
   "outputs": [],
   "source": []
  },
  {
   "cell_type": "code",
   "execution_count": null,
   "metadata": {},
   "outputs": [],
   "source": []
  }
 ],
 "metadata": {
  "kernelspec": {
   "display_name": "Python 3",
   "language": "python",
   "name": "python3"
  },
  "language_info": {
   "codemirror_mode": {
    "name": "ipython",
    "version": 3
   },
   "file_extension": ".py",
   "mimetype": "text/x-python",
   "name": "python",
   "nbconvert_exporter": "python",
   "pygments_lexer": "ipython3",
   "version": "3.7.3"
  }
 },
 "nbformat": 4,
 "nbformat_minor": 2
}
