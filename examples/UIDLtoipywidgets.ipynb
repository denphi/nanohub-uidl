{
 "cells": [
  {
   "cell_type": "code",
   "execution_count": 1,
   "metadata": {
    "scrolled": false
   },
   "outputs": [],
   "source": [
    "import ipywidgets as widgets\n",
    "from traitlets import Unicode, Integer, validate, TraitError\n",
    "import sys\n",
    "from IPython.display import HTML, Javascript, display\n",
    "import nanohub.uidl.teleport as t\n",
    "from nanohub.uidl.rappture import RapptureBuilder\n",
    "from nanohub.uidl.material import MaterialBuilder\n",
    "from nanohub.uidl.material import MaterialContent, MaterialComponents\n",
    "from nanohub.uidl.plotly import PlotlyBuilder\n",
    "from nanohub.uidl.teleport import TeleportElement, TeleportContent, TeleportComponent\n",
    "from nanohub.uidl.app import AppBuilder, FormHelper\n",
    "from nanohub.uidl.ipywidgets import buildWidget\n",
    "\n",
    "component = \"MyComponent\"\n",
    "\n",
    "Project = t.TeleportProject(component)\n",
    "MaterialComponents.FormatCustomNumber(Project)\n",
    "Component = Project.root\n",
    "Component.addStateVariable(\"label\", {\"type\":\"string\", \"defaultValue\": \"\"})\n",
    "Component.addStateVariable(\"description\", {\"type\":\"string\", \"defaultValue\": \"\"})\n",
    "Component.addStateVariable(\"value\", {\"type\":\"number\", \"defaultValue\": 0})\n",
    "Component.addStateVariable(\"units\", {\"type\":\"string\", \"defaultValue\": \"\"})\n",
    "Component.addStateVariable(\"variant\", {\"type\":\"string\", \"defaultValue\": \"outlined\"})\n",
    "Component.addStateVariable(\"range\", {\"type\":\"array\", \"defaultValue\": [0,100]})\n",
    "Component.addPropVariable(\"onChange\", {\"type\":\"func\", \"defaultValue\": \"(e)=>{return e; }\"})\n",
    "param = FormHelper.Number( \n",
    "  Component,\n",
    "  {\n",
    "    \"type\": \"dynamic\",\n",
    "    \"content\": {\n",
    "      \"referenceType\": \"state\",\n",
    "      \"id\": \"label\"\n",
    "    }  \n",
    "  }, \n",
    "  {\n",
    "    \"type\": \"dynamic\",\n",
    "    \"content\": {\n",
    "      \"referenceType\": \"state\",\n",
    "      \"id\": \"description\"\n",
    "    }  \n",
    "  }, \n",
    "  \"value\",\n",
    "  10,\n",
    "  {\n",
    "    \"type\": \"dynamic\",\n",
    "    \"content\": {\n",
    "      \"referenceType\": \"state\",\n",
    "      \"id\": \"units\"\n",
    "    }  \n",
    "  }, \n",
    "  decimalScale=0,\n",
    "  variant = {\n",
    "    \"type\": \"dynamic\",\n",
    "    \"content\": {\n",
    "      \"referenceType\": \"state\",\n",
    "      \"id\": \"variant\"\n",
    "    }  \n",
    "  }, \n",
    "  onChange = {\n",
    "    \"type\": \"propCall2\",\n",
    "    \"calls\": \"onChange\",\n",
    "    \"args\": [\"{'id':'value', 'value':e.target.value}\"]\n",
    "  }\n",
    ")\n",
    "param.content.attrs[\"range\"] = {\n",
    "    \"type\": \"dynamic\",\n",
    "    \"content\": {\n",
    "      \"referenceType\": \"state\",\n",
    "      \"id\": \"range\"\n",
    "    }  \n",
    "  }\n",
    "Component.addNode(param)\n"
   ]
  },
  {
   "cell_type": "code",
   "execution_count": 2,
   "metadata": {},
   "outputs": [
    {
     "data": {
      "text/html": [
       "<style>.p-Widget * {font-size: unset;box-sizing:border-box}</style>"
      ],
      "text/plain": [
       "<IPython.core.display.HTML object>"
      ]
     },
     "metadata": {},
     "output_type": "display_data"
    },
    {
     "data": {
      "text/html": [
       "<link rel='stylesheet' href='https://fonts.googleapis.com/icon?family=Material+Icons'/>"
      ],
      "text/plain": [
       "<IPython.core.display.HTML object>"
      ]
     },
     "metadata": {},
     "output_type": "display_data"
    },
    {
     "data": {
      "application/javascript": [
       "require.config({\n",
       "  paths: {\n",
       "    'react': 'https://unpkg.com/react@16.8.6/umd/react.development',\n",
       "    'react-dom': 'https://unpkg.com/react-dom@16.8.6/umd/react-dom.development',\n",
       "    'material-ui': 'https://unpkg.com/@material-ui/core@latest/umd/material-ui.development',\n",
       "    'plotlycomponent': 'https://unpkg.com/react-plotly.js@2.3/dist/create-plotly-component',\n",
       "    'plotly': 'https://cdn.plot.ly/plotly-latest.min',\n",
       "    'math': 'https://cdnjs.cloudflare.com/ajax/libs/mathjs/6.6.1/math.min',\n",
       "    'axios': 'https://unpkg.com/axios/dist/axios.min',\n",
       "    'localforage' : 'https://www.unpkg.com/localforage@1.7.3/dist/localforage.min',\n",
       "    'number-format': 'https://unpkg.com/react-number-format@4.3.1/dist/react-number-format',\n",
       "    'prop-types': 'https://unpkg.com/prop-types@15.6/prop-types.min',\n",
       "  }\n",
       "});\n",
       "require.undef('MyComponent')\n",
       "  define('MyComponent', [\n",
       "    '@jupyter-widgets/base',\n",
       "    'react', \n",
       "    'react-dom',\n",
       "    'material-ui',\n",
       "    'number-format',\n",
       "    'axios',\n",
       "    'localforage',\n",
       "    'prop-types',\n",
       "    'plotlycomponent',\n",
       "    'plotly',\n",
       "    'math'\n",
       "  ], function(\n",
       "    widgets, \n",
       "    React, \n",
       "    ReactDOM,\n",
       "    Material,\n",
       "    Format,\n",
       "    Axios,\n",
       "    LocalForage,\n",
       "    PropTypes,\n",
       "    PlotlyComponent,\n",
       "    Plotly,\n",
       "    math\n",
       "  ) {\n",
       "    const MyComponentView = widgets.DOMWidgetView.extend({\n",
       "      initialize() {\n",
       "      debugger;\n",
       "      const backbone = this;\n",
       "      backbone.options = {};\n",
       "class FormatCustomNumber extends React.Component {\n",
       "constructor(props) {\n",
       "super(props);\n",
       "let self=this;\n",
       "this.state = {\n",
       "};\n",
       "}; \n",
       "render(){\n",
       "let self=this;\n",
       "return React.createElement(Material.Paper, {key:'4c8fe8ef-6ce0-4d77-ac16-ef4012e74ac9' ,'style': {\"width\": \"100%\"}},\n",
       "React.createElement(Material.TextField, {key:'bf84efcf-dace-4457-a958-75fe76647dad' ,'onBlur': self.props.onBlur ,'InputProps': self.props.property(this.props) ,'className': self.props.className ,'InputLabelProps': self.props.shrink ,'variant': self.props.variant ,'label': self.props.label ,'fullWidth': self.props.fullWidth ,'helperText': self.props.helperText ,'style': self.props.style ,'value': self.props.value ,'decimalscale': self.props.decimalscale ,'size': \"small\" ,'type': \"number\"})\n",
       ")\n",
       ";\n",
       "}\n",
       "}\n",
       "FormatCustomNumber.defaultProps = {\n",
       "'formatter' : (props)=>{\n",
       "        return (value => {\n",
       "            let nprops = {\n",
       "                'style':props.style,\n",
       "                'className':value.className,\n",
       "                'onValueChange': (v)=> {\n",
       "                    value.onChange( {'target':{'value':Number.isInteger(props.decimalscale) ? parseInt(v.value) : parseFloat(v.value)} } );\n",
       "                },\n",
       "                'onBlur' : (v)=> {\n",
       "                    props.onBlur( {'target':{'value':Number.isInteger(props.decimalscale) ? parseInt(v.target.value) : parseFloat(v.target.value) } } );\n",
       "                },\n",
       "                'value' : Number.isInteger(props.decimalscale) ? parseInt(value.value) : parseFloat(value.value),\n",
       "                'isAllowed': (v)=> {\n",
       "                    if (props.range && props.range.length == 2)\n",
       "                        return v.value >= props.range[0] && v.value <= props.range[1];\n",
       "                    return true;\n",
       "                },\n",
       "                'decimalScale':Number.isInteger(props.decimalscale) ? props.decimalscale : undefined,\n",
       "                'suffix':\"\",\n",
       "            };\n",
       "            return React.createElement(Format,nprops);\n",
       "        });\n",
       "    }, \n",
       "'property' : (props)=>{\n",
       "        return {\n",
       "            'inputComponent': props.formatter(props), \n",
       "            'endAdornment': props.suffix\n",
       "        };\n",
       "    }, \n",
       "'shrink' : {\"shrink\": true},\n",
       "'range' : [],\n",
       "'decimalscale' : \"none\",\n",
       "}\n",
       "class MyComponent extends React.Component {\n",
       "constructor(props) {\n",
       "super(props);\n",
       "let self=this;\n",
       "this.state = {\n",
       "'label' : backbone.model.get('label'), \n",
       "'description' : backbone.model.get('description'), \n",
       "'value' : backbone.model.get('value'), \n",
       "'units' : backbone.model.get('units'), \n",
       "'variant' : backbone.model.get('variant'), \n",
       "'range' : backbone.model.get('range'), \n",
       "};\n",
       "}; \n",
       "render(){\n",
       "let self=this;\n",
       "return React.createElement('div', {key:'52c096f6-4b93-4368-9c8b-9583391b4c56'},\n",
       "React.createElement(FormatCustomNumber, {key:'0d532bc2-25cb-46c8-900b-67ce9e18f9fd' ,'variant': self.state.variant ,'label': self.state.label ,'fullWidth': true ,'helperText': self.state.description ,'suffix': self.state.units ,'decimalscale': 0 ,'value': self.state.value ,'range': self.state.range ,'onBlur': function(e){  self.props.onChange({'id':'value', 'value':e.target.value});self.setState({'value':e.target.value}); \n",
       "} ,'style': {\"margin\": \"10px 0px 10px 0px\"}})\n",
       ")\n",
       ";\n",
       "}\n",
       "}\n",
       "MyComponent.defaultProps = {\n",
       "'onChange' : (e)=>{ event.preventDefault(); backbone.send({ event: 'onChange', 'params' : ((e)=>{return e; })(e) });}, \n",
       "}\n",
       "      const orig = MyComponent.prototype.setState;\n",
       "      MyComponent.prototype.onChange = function (model){\n",
       "        orig.apply(this, [model.changed]);\n",
       "      }\n",
       "      MyComponent.prototype.componentDidMount = function(){\n",
       "        backbone.listenTo(backbone.model, 'change', this.onChange.bind(this));\n",
       "      }\n",
       "      MyComponent.prototype.setState = function(state, callback){\n",
       "        if('label' in state){\n",
       "          state['label'] = String(state['label']);\n",
       "        }\n",
       "        if('description' in state){\n",
       "          state['description'] = String(state['description']);\n",
       "        }\n",
       "        if('value' in state){\n",
       "          state['value'] = parseFloat(state['value']);\n",
       "        }\n",
       "        if('units' in state){\n",
       "          state['units'] = String(state['units']);\n",
       "        }\n",
       "        if('variant' in state){\n",
       "          state['variant'] = String(state['variant']);\n",
       "        }\n",
       "        if('range' in state){\n",
       "          state['range'] = (state['range']);\n",
       "        }\n",
       "        for (let [key, value] of Object.entries(state)) {\n",
       "          backbone.model.set(key, value);\n",
       "        }\n",
       "        backbone.model.save_changes();\n",
       "        orig.apply(this, [state, callback]);\n",
       "      }\n",
       "      const $app = document.createElement('div');\n",
       "      const App = React.createElement(MyComponent);\n",
       "      ReactDOM.render(App, $app);\n",
       "      backbone.el.append($app);\n",
       "      }\n",
       "    });\n",
       "    return {\n",
       "      MyComponentView\n",
       "    };\n",
       "});\n"
      ],
      "text/plain": [
       "<IPython.core.display.Javascript object>"
      ]
     },
     "metadata": {},
     "output_type": "display_data"
    }
   ],
   "source": [
    "MyComponentWidget = buildWidget(Project);"
   ]
  },
  {
   "cell_type": "code",
   "execution_count": 3,
   "metadata": {},
   "outputs": [
    {
     "data": {
      "application/vnd.jupyter.widget-view+json": {
       "model_id": "585f0decee0640ddb9538578278e9848",
       "version_major": 2,
       "version_minor": 0
      },
      "text/plain": [
       "MyComponentWidget(range=[0, 100], units='nm', value=30.0)"
      ]
     },
     "metadata": {},
     "output_type": "display_data"
    }
   ],
   "source": [
    "out = widgets.Output()                \n",
    "def click(**kwargs):\n",
    "    global out\n",
    "    with out:\n",
    "        print(\"Enter\")\n",
    "        \n",
    "w = MyComponentWidget(\n",
    "    label=\"My Label\", \n",
    "    value=24, \n",
    "    variant=\"outlined\", \n",
    "    description=\"This is a Description\"\n",
    ")\n",
    "v = MyComponentWidget(value=30, units=\"nm\", onChange=click )\n",
    "\n",
    "display(v)"
   ]
  },
  {
   "cell_type": "code",
   "execution_count": 4,
   "metadata": {},
   "outputs": [
    {
     "data": {
      "application/vnd.jupyter.widget-view+json": {
       "model_id": "3eb32daab36c4fa582c49f0f15b493b4",
       "version_major": 2,
       "version_minor": 0
      },
      "text/plain": [
       "Output()"
      ]
     },
     "metadata": {},
     "output_type": "display_data"
    }
   ],
   "source": [
    "display(out)"
   ]
  },
  {
   "cell_type": "code",
   "execution_count": 5,
   "metadata": {},
   "outputs": [
    {
     "data": {
      "text/plain": [
       "30.0"
      ]
     },
     "execution_count": 5,
     "metadata": {},
     "output_type": "execute_result"
    }
   ],
   "source": [
    "v.value"
   ]
  },
  {
   "cell_type": "code",
   "execution_count": 6,
   "metadata": {},
   "outputs": [],
   "source": [
    "v.value = 23"
   ]
  },
  {
   "cell_type": "code",
   "execution_count": 8,
   "metadata": {},
   "outputs": [
    {
     "data": {
      "text/plain": [
       "45.0"
      ]
     },
     "execution_count": 8,
     "metadata": {},
     "output_type": "execute_result"
    }
   ],
   "source": [
    "v.value"
   ]
  },
  {
   "cell_type": "code",
   "execution_count": null,
   "metadata": {},
   "outputs": [],
   "source": []
  }
 ],
 "metadata": {
  "kernelspec": {
   "display_name": "Python 3",
   "language": "python",
   "name": "python3"
  },
  "language_info": {
   "codemirror_mode": {
    "name": "ipython",
    "version": 3
   },
   "file_extension": ".py",
   "mimetype": "text/x-python",
   "name": "python",
   "nbconvert_exporter": "python",
   "pygments_lexer": "ipython3",
   "version": "3.7.3"
  }
 },
 "nbformat": 4,
 "nbformat_minor": 2
}
