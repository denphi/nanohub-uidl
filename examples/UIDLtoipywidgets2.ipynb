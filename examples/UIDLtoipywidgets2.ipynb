{
 "cells": [
  {
   "cell_type": "code",
   "execution_count": null,
   "metadata": {
    "ExecuteTime": {
     "end_time": "2022-04-13T13:56:35.367305Z",
     "start_time": "2022-04-13T13:56:35.077643Z"
    },
    "scrolled": false
   },
   "outputs": [],
   "source": [
    "import ipywidgets as widgets\n",
    "import nanohubuidl.teleport as t\n",
    "from nanohubuidl.rappture import RapptureBuilder\n",
    "from nanohubuidl.material import MaterialBuilder\n",
    "from nanohubuidl.material import MaterialContent, MaterialComponents\n",
    "from nanohubuidl.plotly import PlotlyBuilder\n",
    "from nanohubuidl.teleport import TeleportElement, TeleportContent, TeleportComponent\n",
    "from nanohubuidl.app import AppBuilder, FormHelper\n",
    "from nanohubuidl.ipywidgets import buildWidget\n",
    "\n",
    "component = \"MyComponent\"\n",
    "\n",
    "Project = t.TeleportProject(component)\n",
    "Component = Project.root\n",
    "\n",
    "Component.addStateVariable(\"open_params\", {\"type\":\"boolean\", \"defaultValue\": True})\n",
    "Component.addPropVariable(\"onChange\", {\"type\":\"func\", \"defaultValue\": \"(e)=>{return e;}\"})\n",
    "Component.addPropVariable(\"onClick\", {\"type\":\"func\", \"defaultValue\": \"(e)=>{return ''}\"})\n",
    "Component.addPropVariable(\"onSubmit\", {\"type\":\"func\", \"defaultValue\": \"(e)=>{return ''; }\"})\n",
    "\n",
    "SETTINGS = {\n",
    "    \"mat\" :    {\n",
    "        \"type\":\"Select\",\n",
    "        \"default_value\": \"Au-Gold\", \n",
    "        \"units\" : \"\", \n",
    "        \"options\" : {\"Au-Gold\":\"Au-Gold\", \"Ag-Silver\":\"Ag-Silver\", \"Constant\":\"Constant\" },\n",
    "        \"label\" : \"Particle Composition\",\n",
    "        \"description\" : '''Choose a material for the particles. The material selection determines the dielectric \n",
    "            properties of the nanoparticle. If 'Constant' is selected the material is assumed to be free of loss \n",
    "            and the dielectric constant is assumed to be independent of wavelength. ''',\n",
    "    },\n",
    "    \"cindex\" : {\n",
    "        \"type\":\"Number\",\n",
    "        \"default_value\": 1.4, \n",
    "        \"units\" : \"\", \n",
    "        \"options\":{},\n",
    "        \"label\" : \"Particle Refractive Index\", \n",
    "        \"description\" : '''Enter the refractive index of the particle.''', \n",
    "        \"restrictions\" : {\"mat\":\"Constant\"}\n",
    "    },\n",
    "    \"refmed\" : {\n",
    "        \"type\":\"Number\",\n",
    "        \"default_value\": 1.0, \n",
    "        \"units\" : \"\", \n",
    "        \"options\":{},\n",
    "        \"label\" : \"Surrounding Medium Refractive Index\",\n",
    "        \"description\" : '''Enter the refractive index of the surrounding medium''',\n",
    "    },\n",
    "    \"radius\" : {\n",
    "        \"type\":\"Number\",\n",
    "        \"default_value\": 20, \n",
    "        \"units\" : \"nm\", \n",
    "        \"options\":{},\n",
    "        \"label\" : \"Radius of particle\",\n",
    "        \"description\" : '''Radius of particle''',\n",
    "    },\n",
    "    \"bwavel\" : {\n",
    "        \"type\":\"Number\",\n",
    "        \"default_value\": 300, \n",
    "        \"units\" : \"nm\", \n",
    "        \"options\":{},\n",
    "        \"label\" : \"Beginning wavelength\",\n",
    "        \"description\" : '''Beginning wavelength''',\n",
    "    },   \n",
    "    \"ewavel\" : {\n",
    "        \"type\":\"Number\",\n",
    "        \"default_value\": 1000, \n",
    "        \"units\" : \"nm\", \n",
    "        \"options\":{},\n",
    "        \"label\" : \"Ending wavelength\",\n",
    "        \"description\" : '''Ending wavelength''',\n",
    "    },\n",
    "}\n",
    "LAYOUT = {\n",
    "    'input': {\n",
    "        'type': 'group',\n",
    "        'id': '',\n",
    "        'label': '',\n",
    "        'layout': '',\n",
    "        'children': [\n",
    "            { 'type': 'choice', 'id': 'mat', 'label': 'Particle Composition'},\n",
    "            { 'type': 'number', 'id': 'cindex', 'label': 'Particle Refractive Index', 'enable': [\n",
    "                {'operand': 'mat', 'operator': '==', 'value': \"Constant\"}\n",
    "            ]},\n",
    "            { 'type': 'number', 'id': 'refmed', 'label': 'Surrounding Medium Refractive Index'},\n",
    "            { 'type': 'number', 'id': 'radius', 'label': 'Radius of particle'},\n",
    "            {'type': 'group', 'label': 'wavelength range', 'layout': 'horizontal', 'children': [\n",
    "                {'type': 'number', 'id': 'bwavel', 'label': 'Beginning wavelength', 'enable': None},\n",
    "                {'type': 'number', 'id': 'ewavel', 'label': 'Ending wavelength', 'enable': None}\n",
    "            ]}\n",
    "        ]\n",
    "    }\n",
    "}\n",
    "Settings = AppBuilder.Settings(\n",
    "    Project,\n",
    "    Component, \n",
    "    SETTINGS,\n",
    "    url=\"\",\n",
    "    toolname = \"\",\n",
    "    layout = LAYOUT['input']\n",
    ")\n",
    "\n",
    "Settings.content.events[\"onError\"]=[\n",
    "]\n",
    "\n",
    "\n",
    "Settings.content.events[\"onChange\"]=[\n",
    "    { \"type\": \"stateChange\", \"modifies\": \"parameters\",\"newState\": '$Object.assign({},self.state.parameters, {[e.id]:e.value})'},\n",
    "    { \"type\": \"propCall2\", \"calls\": \"onChange\",\"args\": [\"e\"] },\n",
    "]\n",
    "\n",
    "Settings.content.events[\"click\"]=[\n",
    "    { \"type\": \"propCall2\", \"calls\": \"onClick\",\"args\": [\"e\"] },\n",
    "]\n",
    "\n",
    "Settings.content.events[\"submit\"] = [\n",
    "    { \"type\": \"propCall2\", \"calls\": \"onSubmit\",\"args\": [\"e\"] },\n",
    "]\n",
    "\n",
    "ParametersPanel = MaterialBuilder.ExpansionPanel(\n",
    "    title=\"Parameters\", \n",
    "    expanded={\n",
    "      \"type\": \"dynamic\",\n",
    "      \"content\": {\n",
    "        \"referenceType\": \"state\",\n",
    "        \"id\": \"open_params\"\n",
    "      }    \n",
    "    }, \n",
    "    content=[Settings]\n",
    ")\n",
    "ParametersPanel.content.events['change'] = [{ \"type\": \"stateChange\", \"modifies\": \"open_params\",\"newState\": \"$toggle\"}]\n",
    "\n",
    "Component.addNode(ParametersPanel)\n"
   ]
  },
  {
   "cell_type": "code",
   "execution_count": null,
   "metadata": {
    "ExecuteTime": {
     "end_time": "2022-04-13T13:56:35.374614Z",
     "start_time": "2022-04-13T13:56:35.369975Z"
    },
    "scrolled": false
   },
   "outputs": [],
   "source": [
    "MyComponentWidget = buildWidget(Project);\n"
   ]
  },
  {
   "cell_type": "code",
   "execution_count": null,
   "metadata": {
    "ExecuteTime": {
     "end_time": "2022-04-13T13:56:35.413587Z",
     "start_time": "2022-04-13T13:56:35.376778Z"
    },
    "scrolled": false
   },
   "outputs": [],
   "source": [
    "out = widgets.Output()                \n",
    "def click(a=None, **kwargs):\n",
    "    global out\n",
    "    with out:\n",
    "        print(a,kwargs)\n",
    "        \n",
    "v = MyComponentWidget(onChange=click, onClick=click, parameters = {'mat': 'Au-Gold',\n",
    " 'cindex': 1.1,\n",
    " 'refmed': 31,\n",
    " 'radius': 11,\n",
    " 'bwavel': 301,\n",
    " 'ewavel': 1001}\n",
    ")\n",
    "v"
   ]
  },
  {
   "cell_type": "code",
   "execution_count": null,
   "metadata": {
    "ExecuteTime": {
     "end_time": "2022-04-13T13:56:35.420417Z",
     "start_time": "2022-04-13T13:56:35.416517Z"
    }
   },
   "outputs": [],
   "source": [
    "display(out)"
   ]
  },
  {
   "cell_type": "code",
   "execution_count": null,
   "metadata": {},
   "outputs": [],
   "source": []
  },
  {
   "cell_type": "code",
   "execution_count": null,
   "metadata": {
    "ExecuteTime": {
     "end_time": "2022-04-13T13:56:35.426089Z",
     "start_time": "2022-04-13T13:56:35.423545Z"
    }
   },
   "outputs": [],
   "source": [
    "v.observe(click)"
   ]
  },
  {
   "cell_type": "code",
   "execution_count": null,
   "metadata": {
    "ExecuteTime": {
     "end_time": "2022-04-13T13:56:35.437558Z",
     "start_time": "2022-04-13T13:56:35.427981Z"
    }
   },
   "outputs": [],
   "source": [
    "v.parameters = {'mat': 'Constant',\n",
    " 'cindex': 1.8,\n",
    " 'refmed': 32,\n",
    " 'radius': 10,\n",
    " 'bwavel': 310,\n",
    " 'ewavel': 1000\n",
    "}"
   ]
  },
  {
   "cell_type": "code",
   "execution_count": null,
   "metadata": {
    "ExecuteTime": {
     "end_time": "2022-04-13T13:56:35.443495Z",
     "start_time": "2022-04-13T13:56:35.439684Z"
    }
   },
   "outputs": [],
   "source": [
    "v.parameters"
   ]
  },
  {
   "cell_type": "code",
   "execution_count": null,
   "metadata": {
    "ExecuteTime": {
     "end_time": "2022-04-13T13:56:35.453061Z",
     "start_time": "2022-04-13T13:56:35.445537Z"
    }
   },
   "outputs": [],
   "source": [
    "v.parameters = {'bwavel': '306'}"
   ]
  },
  {
   "cell_type": "code",
   "execution_count": null,
   "metadata": {
    "ExecuteTime": {
     "end_time": "2022-04-13T13:56:35.458775Z",
     "start_time": "2022-04-13T13:56:35.455256Z"
    }
   },
   "outputs": [],
   "source": [
    "v.parameters"
   ]
  },
  {
   "cell_type": "code",
   "execution_count": null,
   "metadata": {
    "scrolled": false
   },
   "outputs": [],
   "source": []
  },
  {
   "cell_type": "code",
   "execution_count": null,
   "metadata": {},
   "outputs": [],
   "source": []
  },
  {
   "cell_type": "code",
   "execution_count": null,
   "metadata": {},
   "outputs": [],
   "source": []
  },
  {
   "cell_type": "code",
   "execution_count": null,
   "metadata": {},
   "outputs": [],
   "source": []
  }
 ],
 "metadata": {
  "kernelspec": {
   "display_name": "Python 3",
   "language": "python",
   "name": "python3"
  },
  "language_info": {
   "codemirror_mode": {
    "name": "ipython",
    "version": 3
   },
   "file_extension": ".py",
   "mimetype": "text/x-python",
   "name": "python",
   "nbconvert_exporter": "python",
   "pygments_lexer": "ipython3",
   "version": "3.7.7"
  },
  "toc": {
   "base_numbering": 1,
   "nav_menu": {},
   "number_sections": true,
   "sideBar": true,
   "skip_h1_title": false,
   "title_cell": "Table of Contents",
   "title_sidebar": "Contents",
   "toc_cell": false,
   "toc_position": {},
   "toc_section_display": true,
   "toc_window_display": false
  },
  "varInspector": {
   "cols": {
    "lenName": 16,
    "lenType": 16,
    "lenVar": 40
   },
   "kernels_config": {
    "python": {
     "delete_cmd_postfix": "",
     "delete_cmd_prefix": "del ",
     "library": "var_list.py",
     "varRefreshCmd": "print(var_dic_list())"
    },
    "r": {
     "delete_cmd_postfix": ") ",
     "delete_cmd_prefix": "rm(",
     "library": "var_list.r",
     "varRefreshCmd": "cat(var_dic_list()) "
    }
   },
   "types_to_exclude": [
    "module",
    "function",
    "builtin_function_or_method",
    "instance",
    "_Feature"
   ],
   "window_display": false
  }
 },
 "nbformat": 4,
 "nbformat_minor": 2
}
