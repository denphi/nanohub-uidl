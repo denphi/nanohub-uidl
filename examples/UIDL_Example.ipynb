{
 "cells": [
  {
   "cell_type": "markdown",
   "metadata": {},
   "source": [
    "## Importing libraries"
   ]
  },
  {
   "cell_type": "code",
   "execution_count": 1,
   "metadata": {},
   "outputs": [],
   "source": [
    "import sys\n",
    "import nanohub.uidl.teleport as t\n",
    "from nanohub.uidl.plotly import PlotlyBuilder\n",
    "from nanohub.uidl.rappture import RapptureBuilder\n",
    "from nanohub.uidl.material import MaterialBuilder\n",
    "from nanohub.uidl.material import MaterialContent\n",
    "from nanohub.uidl.app import AppBuilder\n",
    "from nanohub.uidl.nanohub import Auth\n",
    "\n",
    "TOOLNAME=\"nsoptics\"\n",
    "STATE_LOADER_STATUS = \"loader_status\"\n",
    "STATE_LOADER_OPEN = \"loader_open\"\n",
    "STATE_ERROR_STATUS = \"error_status\"\n",
    "STATE_ERROR_OPEN = \"error_open\"\n"
   ]
  },
  {
   "cell_type": "markdown",
   "metadata": {},
   "source": [
    "## Creating the project and adding GUI variables "
   ]
  },
  {
   "cell_type": "code",
   "execution_count": 13,
   "metadata": {},
   "outputs": [],
   "source": [
    "Project = t.TeleportProject(\"Example\")\n",
    "Component = Project.root\n",
    "Component.addStateVariable(\"Text1\", {\"type\":\"string\", \"defaultValue\": \"Word of the Day\"})\n",
    "Card = t.TeleportElement(MaterialContent(elementType=\"Card\"))\n",
    "CardContent = t.TeleportElement(MaterialContent(elementType=\"CardContent\"))\n",
    "Typography1 = t.TeleportElement(MaterialContent(elementType=\"Typography\"))\n",
    "Typography1.content.attrs[\"color\"] = \"textSecondary\"\n",
    "Typography1.content.attrs[\"gutterBottom\"] = True\n",
    "Text1 = t.TeleportDynamic(content={\"referenceType\": \"state\",\"id\": \"Text1\"})\n",
    "Typography2 = t.TeleportElement(MaterialContent(elementType=\"Typography\"))\n",
    "Typography2.content.attrs[\"variant\"] = \"h5\"\n",
    "Typography2.content.attrs[\"component\"] = \"h2\"\n",
    "Text2 = t.TeleportStatic(content=\"be-nev-o-lent\")  \n",
    "Typography3 = t.TeleportElement(MaterialContent(elementType=\"Typography\"))\n",
    "Typography3.content.attrs[\"color\"] = \"textSecondary\"\n",
    "Text3 = t.TeleportStatic(content=\"adjective\")\n",
    "Typography4 = t.TeleportElement(MaterialContent(elementType=\"Typography\"))\n",
    "Typography4.content.attrs[\"variant\"] = \"body2\"\n",
    "Typography4.content.attrs[\"component\"] = \"p\"\n",
    "Text4 = t.TeleportStatic(content=\"well meaning and kindly\")\n",
    "\n",
    "CardActions = t.TeleportElement(MaterialContent(elementType=\"CardActions\"))\n",
    "Button = t.TeleportElement(MaterialContent(elementType=\"Button\"))\n",
    "Button.content.attrs[\"size\"] = \"small\"\n",
    "Text5 = t.TeleportStatic(content=\"LEARN MORE\")\n",
    "\n",
    "Card.addContent(CardContent)\n",
    "Typography1.addContent(Text1)\n",
    "CardContent.addContent(Typography1)\n",
    "Typography2.addContent(Text2)\n",
    "CardContent.addContent(Typography2)\n",
    "Typography3.addContent(Text3)\n",
    "CardContent.addContent(Typography3)\n",
    "Typography4.addContent(Text4)\n",
    "CardContent.addContent(Typography4)\n",
    "Button.addContent(Text5)\n",
    "CardActions.addContent(Button)\n",
    "CardContent.addContent(CardActions)\n"
   ]
  },
  {
   "cell_type": "markdown",
   "metadata": {},
   "source": [
    "## Assembling the app"
   ]
  },
  {
   "cell_type": "code",
   "execution_count": 14,
   "metadata": {
    "scrolled": false
   },
   "outputs": [],
   "source": [
    "Component.addNode(Card)\n",
    "Project.buildReact( \"test.html\");"
   ]
  },
  {
   "cell_type": "markdown",
   "metadata": {},
   "source": [
    "## Displaying the app in jupyter"
   ]
  },
  {
   "cell_type": "code",
   "execution_count": 15,
   "metadata": {
    "scrolled": false
   },
   "outputs": [
    {
     "data": {
      "text/html": [
       "\n",
       "        <iframe\n",
       "            width=\"300\"\n",
       "            height=\"200\"\n",
       "            src=\"test.html\"\n",
       "            frameborder=\"0\"\n",
       "            allowfullscreen\n",
       "        ></iframe>\n",
       "        "
      ],
      "text/plain": [
       "<IPython.lib.display.IFrame at 0x7fb1b4e0a090>"
      ]
     },
     "metadata": {},
     "output_type": "display_data"
    }
   ],
   "source": [
    "from IPython.core.display import display\n",
    "from IPython.display import IFrame\n",
    "display(IFrame(src=\"test.html\", width=\"300\", height=\"200\"))"
   ]
  },
  {
   "cell_type": "code",
   "execution_count": 16,
   "metadata": {},
   "outputs": [
    {
     "data": {
      "application/vnd.jupyter.widget-view+json": {
       "model_id": "7317d3bf829e4d44b0a7610747dce174",
       "version_major": 2,
       "version_minor": 0
      },
      "text/plain": [
       "HTML(value=\"<link rel='stylesheet' href='https://fonts.googleapis.com/icon?family=Material+Icons'/><style>.p-W…"
      ]
     },
     "metadata": {},
     "output_type": "display_data"
    },
    {
     "data": {
      "application/javascript": [
       "require.config({\n",
       "  paths: {\n",
       "    'react': 'https://unpkg.com/react@16.8.6/umd/react.production.min',\n",
       "    'react-dom': 'https://unpkg.com/react-dom@16.8.6/umd/react-dom.production.min',\n",
       "    'material-ui': 'https://unpkg.com/@material-ui/core@latest/umd/material-ui.production.min',\n",
       "    'materiallab-ui': 'https://cdn.jsdelivr.net/npm/material-ui-lab-umd@latest/material-ui-lab.production.min',\n",
       "    'plotlycomponent': 'https://unpkg.com/react-plotly.js@2.3/dist/create-plotly-component',\n",
       "    'plotly': 'https://cdn.plot.ly/plotly-latest.min',\n",
       "    'math': 'https://cdnjs.cloudflare.com/ajax/libs/mathjs/6.6.1/math.min',\n",
       "    'axios': 'https://unpkg.com/axios/dist/axios.min',\n",
       "    'localforage': 'https://www.unpkg.com/localforage@1.7.3/dist/localforage.min',\n",
       "    'number-format': 'https://unpkg.com/react-number-format@4.3.1/dist/react-number-format',\n",
       "    'prop-types': 'https://unpkg.com/prop-types@15.6/prop-types.min',\n",
       "  }\n",
       "});\n",
       "require.undef('Example')\n",
       "  define('Example', [\n",
       "    '@jupyter-widgets/base',\n",
       "    'underscore', \n",
       "    'react', \n",
       "    'react-dom',\n",
       "    'material-ui',\n",
       "    'materiallab-ui',\n",
       "    'number-format',\n",
       "    'axios',\n",
       "    'localforage',\n",
       "    'prop-types',\n",
       "    'plotlycomponent',\n",
       "    'plotly',\n",
       "    'math'\n",
       "  ], function(\n",
       "    widgets, \n",
       "    _, \n",
       "    React, \n",
       "    ReactDOM,\n",
       "    Material,\n",
       "    MaterialLab,\n",
       "    Format,\n",
       "    Axios,\n",
       "    LocalForage,\n",
       "    PropTypes,\n",
       "    PlotlyComponent,\n",
       "    Plotly,\n",
       "    math\n",
       "  ) {\n",
       "    const ExampleModel = widgets.WidgetModel.extend({}, {\n",
       "        serializers: _.extend({\n",
       "        }, widgets.DOMWidgetModel.serializers)\n",
       "    });\n",
       "    const ExampleView = widgets.DOMWidgetView.extend({\n",
       "      initialize() {\n",
       "        const backbone = this;\n",
       "        widgets.DOMWidgetView.prototype.initialize.call(this, arguments);\n",
       "        backbone.options = {};\n",
       "class Example extends React.Component {\n",
       "constructor(props) {\n",
       "super(props);\n",
       "let self=this;\n",
       "this.state = {\n",
       "'Text1' : backbone.model.get('Text1'), \n",
       "};\n",
       "}; \n",
       "componentDidMount(){\n",
       "  let self=this;\n",
       "  if (this.props.onLoad){\n",
       "    this.props.onLoad(self);\n",
       "  }\n",
       "}\n",
       "componentDidUpdate(){\n",
       "  let self=this;\n",
       "  if (this.props.onUpdate){\n",
       "    this.props.onUpdate(self);\n",
       "  }\n",
       "}\n",
       "render(){\n",
       "  let self=this;\n",
       "  return React.createElement('div', {key:'17080dfe-e1bb-4525-b0a3-e702ed0f4e90'},\n",
       "React.createElement(Material.Card, {key:'97562548-6ee2-4ada-8de1-e6cd522d18c1'},\n",
       "React.createElement(Material.CardContent, {key:'a3389e5b-0595-4dd0-86b6-1f3bb9d270c0'},[\n",
       "React.createElement(Material.Typography, {key:'18f80012-3614-458e-86cd-81a82947e843' ,'color': \"textSecondary\" ,'gutterBottom': true},\n",
       " self.state.Text1 )\n",
       " ,React.createElement(Material.Typography, {key:'7c7bfee7-1dc3-4745-96f1-313f3aa8232c' ,'variant': \"h5\" ,'component': \"h2\"},\n",
       " \"be-nev-o-lent\" )\n",
       " ,React.createElement(Material.Typography, {key:'be3db07d-bc72-41dc-a97e-d5448df0e8a8' ,'color': \"textSecondary\"},\n",
       " \"adjective\" )\n",
       " ,React.createElement(Material.Typography, {key:'f06f72c4-fdee-48a6-b145-0dd82f9f70e5' ,'variant': \"body2\" ,'component': \"p\"},\n",
       " \"well meaning and kindly\" )\n",
       " ,React.createElement(Material.CardActions, {key:'1ad1c2b3-0eec-42cc-acc2-3c68f329fd42'},\n",
       "React.createElement(Material.Button, {key:'5b68a293-cb9a-489a-bf29-771437f947d7' ,'size': \"small\"},\n",
       " \"LEARN MORE\" )\n",
       ")\n",
       "])\n",
       ")\n",
       ")\n",
       ";\n",
       "}\n",
       "}\n",
       "Example.defaultProps = {\n",
       "}\n",
       "        const orig = Example.prototype.setState;\n",
       "        Example.prototype.onChange = function (model){\n",
       "          orig.apply(this, [Object.assign({},model.changed)]);\n",
       "        }\n",
       "        Example.prototype.componentDidUpdate = function(){\n",
       "        }\n",
       "        Example.getDerivedStateFromProps = function(props, state){\n",
       "          return state;\n",
       "        }\n",
       "        Example.prototype.componentDidMount = function(){\n",
       "          backbone.listenTo(backbone.model, 'change', this.onChange.bind(this));\n",
       "        }\n",
       "        Example.prototype.setState = function(state, callback){\n",
       "        if('Text1' in state){\n",
       "          state['Text1'] = String(state['Text1']);\n",
       "        }\n",
       "          for (let [key, value] of Object.entries(state)) {\n",
       "            backbone.model.set(key, value);\n",
       "          }\n",
       "          try {;\n",
       "            backbone.model.save_changes();\n",
       "          } catch (error) { console.log(error); }\n",
       "          orig.apply(this, [state, callback]);\n",
       "        }\n",
       "        backbone.app = document.createElement('div');\n",
       "        backbone.app.style.padding = '10px';\n",
       "        const App = React.createElement(Example);\n",
       "        ReactDOM.render(App, backbone.app);\n",
       "        backbone.el.append(backbone.app);\n",
       "      },\n",
       "      add_child_model: function(model) {\n",
       "        return this.create_child_view(model).then((view) => {\n",
       "          view.setLayout(view.model.get('layout'));\n",
       "          let lview=view;\n",
       "          lview.listenTo(lview.model,'change:layout',(m, v) => {\n",
       "            this.update_children()\n",
       "          });\n",
       "          return view;\n",
       "        });\n",
       "      }, \n",
       "      update_children: function () {\n",
       "          this.children_views.update(this.model.get('children')).then(function (views) {\n",
       "              views.forEach(function (view) {\n",
       "                  messaging_1.MessageLoop.postMessage(view.pWidget, widgets_1.Widget.ResizeMessage.UnknownSize);\n",
       "              });\n",
       "          });\n",
       "      }, \n",
       "    });\n",
       "    return {\n",
       "      ExampleView,\n",
       "      ExampleModel\n",
       "    };\n",
       "});\n"
      ],
      "text/plain": [
       "<IPython.core.display.Javascript object>"
      ]
     },
     "metadata": {},
     "output_type": "display_data"
    },
    {
     "data": {
      "application/vnd.jupyter.widget-view+json": {
       "model_id": "96630f52ee644bd88d1723a7a55e68fa",
       "version_major": 2,
       "version_minor": 0
      },
      "text/plain": [
       "ExampleWidget()"
      ]
     },
     "metadata": {},
     "output_type": "display_data"
    }
   ],
   "source": [
    "from nanohub.uidl.ipywidgets import buildWidget\n",
    "MyComponentWidget = buildWidget(Project)\n",
    "widget = MyComponentWidget()\n",
    "widget"
   ]
  },
  {
   "cell_type": "code",
   "execution_count": 20,
   "metadata": {},
   "outputs": [],
   "source": [
    "widget.Text1 = \"Title\""
   ]
  },
  {
   "cell_type": "code",
   "execution_count": null,
   "metadata": {},
   "outputs": [],
   "source": []
  },
  {
   "cell_type": "code",
   "execution_count": null,
   "metadata": {},
   "outputs": [],
   "source": []
  }
 ],
 "metadata": {
  "kernelspec": {
   "display_name": "Python 3",
   "language": "python",
   "name": "python3"
  },
  "language_info": {
   "codemirror_mode": {
    "name": "ipython",
    "version": 3
   },
   "file_extension": ".py",
   "mimetype": "text/x-python",
   "name": "python",
   "nbconvert_exporter": "python",
   "pygments_lexer": "ipython3",
   "version": "3.7.7"
  }
 },
 "nbformat": 4,
 "nbformat_minor": 2
}
