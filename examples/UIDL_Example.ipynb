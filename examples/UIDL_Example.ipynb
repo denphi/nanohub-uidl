{
 "cells": [
  {
   "cell_type": "markdown",
   "metadata": {},
   "source": [
    "## Importing libraries"
   ]
  },
  {
   "cell_type": "code",
   "execution_count": null,
   "metadata": {},
   "outputs": [],
   "source": [
    "import sys\n",
    "import nanohubuidl.teleport as t\n",
    "from nanohubuidl.plotly import PlotlyBuilder\n",
    "from nanohubuidl.rappture import RapptureBuilder\n",
    "from nanohubuidl.material import MaterialBuilder\n",
    "from nanohubuidl.material import MaterialContent\n",
    "from nanohubuidl.app import AppBuilder\n",
    "from nanohubuidl.nanohub import Auth\n",
    "\n"
   ]
  },
  {
   "cell_type": "markdown",
   "metadata": {},
   "source": [
    "## Creating the project and adding GUI variables "
   ]
  },
  {
   "cell_type": "code",
   "execution_count": null,
   "metadata": {},
   "outputs": [],
   "source": [
    "Project = t.TeleportProject(\"Example\")\n",
    "Component = Project.root\n",
    "Component.addStateVariable(\"Text1\", {\"type\":\"string\", \"defaultValue\": \"Word of the Day\"})\n",
    "Card = t.TeleportElement(MaterialContent(elementType=\"Card\"))\n",
    "CardContent = t.TeleportElement(MaterialContent(elementType=\"CardContent\"))\n",
    "Typography1 = t.TeleportElement(MaterialContent(elementType=\"Typography\"))\n",
    "Typography1.content.attrs[\"color\"] = \"textSecondary\"\n",
    "Typography1.content.attrs[\"gutterBottom\"] = True\n",
    "Text1 = t.TeleportDynamic(content={\"referenceType\": \"state\",\"id\": \"Text1\"})\n",
    "Typography2 = t.TeleportElement(MaterialContent(elementType=\"Typography\"))\n",
    "Typography2.content.attrs[\"variant\"] = \"h5\"\n",
    "Typography2.content.attrs[\"component\"] = \"h2\"\n",
    "Text2 = t.TeleportStatic(content=\"be-nev-o-lent\")  \n",
    "Typography3 = t.TeleportElement(MaterialContent(elementType=\"Typography\"))\n",
    "Typography3.content.attrs[\"color\"] = \"textSecondary\"\n",
    "Text3 = t.TeleportStatic(content=\"adjective\")\n",
    "Typography4 = t.TeleportElement(MaterialContent(elementType=\"Typography\"))\n",
    "Typography4.content.attrs[\"variant\"] = \"body2\"\n",
    "Typography4.content.attrs[\"component\"] = \"p\"\n",
    "Text4 = t.TeleportStatic(content=\"well meaning and kindly\")\n",
    "\n",
    "CardActions = t.TeleportElement(MaterialContent(elementType=\"CardActions\"))\n",
    "Button = t.TeleportElement(MaterialContent(elementType=\"Button\"))\n",
    "Button.content.attrs[\"size\"] = \"small\"\n",
    "Text5 = t.TeleportStatic(content=\"LEARN MORE\")\n",
    "\n",
    "Card.addContent(CardContent)\n",
    "Typography1.addContent(Text1)\n",
    "CardContent.addContent(Typography1)\n",
    "Typography2.addContent(Text2)\n",
    "CardContent.addContent(Typography2)\n",
    "Typography3.addContent(Text3)\n",
    "CardContent.addContent(Typography3)\n",
    "Typography4.addContent(Text4)\n",
    "CardContent.addContent(Typography4)\n",
    "Button.addContent(Text5)\n",
    "CardActions.addContent(Button)\n",
    "CardContent.addContent(CardActions)\n"
   ]
  },
  {
   "cell_type": "markdown",
   "metadata": {},
   "source": [
    "## Assembling the app"
   ]
  },
  {
   "cell_type": "code",
   "execution_count": null,
   "metadata": {
    "scrolled": false
   },
   "outputs": [],
   "source": [
    "Component.addNode(Card)\n",
    "Project.buildReact( \"test.html\");"
   ]
  },
  {
   "cell_type": "markdown",
   "metadata": {},
   "source": [
    "## Displaying the app in jupyter"
   ]
  },
  {
   "cell_type": "code",
   "execution_count": null,
   "metadata": {
    "scrolled": false
   },
   "outputs": [],
   "source": [
    "from IPython.core.display import display\n",
    "from IPython.display import IFrame\n",
    "display(IFrame(src=\"test.html\", width=\"300\", height=\"200\"))"
   ]
  },
  {
   "cell_type": "code",
   "execution_count": null,
   "metadata": {},
   "outputs": [],
   "source": [
    "from nanohubuidl.ipywidgets import buildWidget\n",
    "MyComponentWidget = buildWidget(Project)\n",
    "widget = MyComponentWidget()\n",
    "widget"
   ]
  },
  {
   "cell_type": "code",
   "execution_count": null,
   "metadata": {},
   "outputs": [],
   "source": [
    "widget.Text1 = \"Title\""
   ]
  },
  {
   "cell_type": "code",
   "execution_count": null,
   "metadata": {},
   "outputs": [],
   "source": []
  }
 ],
 "metadata": {
  "kernelspec": {
   "display_name": "Python 3 (ipykernel)",
   "language": "python",
   "name": "python3"
  },
  "language_info": {
   "codemirror_mode": {
    "name": "ipython",
    "version": 3
   },
   "file_extension": ".py",
   "mimetype": "text/x-python",
   "name": "python",
   "nbconvert_exporter": "python",
   "pygments_lexer": "ipython3",
   "version": "3.8.10"
  },
  "toc": {
   "base_numbering": 1,
   "nav_menu": {},
   "number_sections": true,
   "sideBar": true,
   "skip_h1_title": false,
   "title_cell": "Table of Contents",
   "title_sidebar": "Contents",
   "toc_cell": false,
   "toc_position": {},
   "toc_section_display": true,
   "toc_window_display": false
  },
  "varInspector": {
   "cols": {
    "lenName": 16,
    "lenType": 16,
    "lenVar": 40
   },
   "kernels_config": {
    "python": {
     "delete_cmd_postfix": "",
     "delete_cmd_prefix": "del ",
     "library": "var_list.py",
     "varRefreshCmd": "print(var_dic_list())"
    },
    "r": {
     "delete_cmd_postfix": ") ",
     "delete_cmd_prefix": "rm(",
     "library": "var_list.r",
     "varRefreshCmd": "cat(var_dic_list()) "
    }
   },
   "types_to_exclude": [
    "module",
    "function",
    "builtin_function_or_method",
    "instance",
    "_Feature"
   ],
   "window_display": false
  },
  "vscode": {
   "interpreter": {
    "hash": "aee8b7b246df8f9039afb4144a1f6fd8d2ca17a180786b69acc140d282b71a49"
   }
  }
 },
 "nbformat": 4,
 "nbformat_minor": 2
}
