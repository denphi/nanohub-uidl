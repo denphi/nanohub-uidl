{
 "cells": [
  {
   "cell_type": "code",
   "execution_count": null,
   "id": "4aa9d9a5",
   "metadata": {},
   "outputs": [],
   "source": [
    "import ipywidgets as widgets\n",
    "from traitlets import Unicode, Integer, validate, TraitError\n",
    "import sys\n",
    "from IPython.display import HTML, Javascript, display\n",
    "import nanohubuidl\n",
    "import nanohubuidl.teleport as t\n",
    "from nanohubuidl.rappture import RapptureBuilder\n",
    "from nanohubuidl.material import MaterialBuilder\n",
    "from nanohubuidl.material import MaterialContent, MaterialComponents\n",
    "from nanohubuidl.plotly import PlotlyBuilder\n",
    "from nanohubuidl.teleport import TeleportElement, TeleportContent, TeleportComponent\n",
    "from nanohubuidl.app import AppBuilder, FormHelper\n",
    "from nanohubuidl.ipywidgets import buildWidget\n",
    "\n"
   ]
  },
  {
   "cell_type": "code",
   "execution_count": null,
   "id": "091f8a21",
   "metadata": {},
   "outputs": [],
   "source": [
    "component = \"MyComponent\"\n",
    "Project = t.TeleportProject(component)\n",
    "MaterialComponents.ButtonList(Project)\n",
    "Component = Project.root\n",
    "\n",
    "var = FormHelper.ButtonList(Component, \"asd\",\"asd\",\"var\", \"asd\", {\n",
    "    \"asd\" :{\"name\":\"asd\"},\n",
    "    \"asd1\" :{\"name\":\"asd1\"}\n",
    "})   \n",
    "Component.addNode(var)\n",
    "MyComponentWidget = buildWidget(Project);\n",
    "v=MyComponentWidget()\n",
    "v"
   ]
  },
  {
   "cell_type": "code",
   "execution_count": null,
   "id": "fb39a2bb",
   "metadata": {},
   "outputs": [],
   "source": [
    "component = \"MyComponent\"\n",
    "Project = t.TeleportProject(component)\n",
    "MaterialComponents.IconList(Project)\n",
    "Component = Project.root\n",
    "\n",
    "var = FormHelper.IconList(Component, \"asd\",\"asd\",\"var\", \"asd\", {\n",
    "    \"asd\" :{\"name\":\"asd\", \"icon\":\"m 0 0 l 20 20\"},\n",
    "    \"asd1\" :{\"name\":\"asd1\", \"icon\":\"m 0 0 l 15 12\"}\n",
    "\n",
    "})  \n",
    "Component.addNode(var)\n",
    "MyComponentWidget = buildWidget(Project);\n",
    "v=MyComponentWidget()\n",
    "v"
   ]
  },
  {
   "cell_type": "code",
   "execution_count": null,
   "id": "e8a81b3d",
   "metadata": {},
   "outputs": [],
   "source": [
    "component = \"MyComponent\"\n",
    "Project = t.TeleportProject(component)\n",
    "Component = Project.root\n",
    "MaterialComponents.ButtonList(Project)\n",
    "var = AppBuilder.ColorSliders(Project, Component, sliders = {\n",
    "        \"100\" : {\n",
    "          'color':'#a6cee3',\n",
    "          'label':'Plane YZ',\n",
    "          'plane':[1,0,0],\n",
    "        },\n",
    "        \"010\" : {\n",
    "          'color':'#a6cee3',\n",
    "          'label':'Plane XZ',\n",
    "          'plane':[0,1,0],\n",
    "        },\n",
    "        \"001\" : {\n",
    "          'color':'#a6cee3',\n",
    "          'label':'Plane XY',\n",
    "          'plane':[0,0,1],\n",
    "        },   \n",
    "        \"miller\" : {\n",
    "          'color':'#a6cee3',\n",
    "          'label':'Miller Plane',\n",
    "          'plane':[1,0,0],\n",
    "          'options':{\n",
    "             \"100\":[1,0,0],\n",
    "             \"111\":[1,1,1],\n",
    "             \"121\":[1,2,1],\n",
    "             \"010\":[0,1,0],\n",
    "             \"001\":[0,0,1],\n",
    "             \"011\":[0,1,1],\n",
    "             \"110\":[1,1,0],\n",
    "          },\n",
    "        },\n",
    "    })  \n",
    "Component.addNode(var)\n",
    "MyComponentWidget = buildWidget(Project, debugger=True);\n",
    "v=MyComponentWidget()\n",
    "v"
   ]
  },
  {
   "cell_type": "code",
   "execution_count": null,
   "id": "7081ad63",
   "metadata": {},
   "outputs": [],
   "source": []
  },
  {
   "cell_type": "code",
   "execution_count": null,
   "id": "c3ea6f2e",
   "metadata": {},
   "outputs": [],
   "source": [
    "\n"
   ]
  },
  {
   "cell_type": "code",
   "execution_count": null,
   "id": "6dca5149",
   "metadata": {},
   "outputs": [],
   "source": []
  }
 ],
 "metadata": {
  "kernelspec": {
   "display_name": "Python 3 (ipykernel)",
   "language": "python",
   "name": "python3"
  },
  "language_info": {
   "codemirror_mode": {
    "name": "ipython",
    "version": 3
   },
   "file_extension": ".py",
   "mimetype": "text/x-python",
   "name": "python",
   "nbconvert_exporter": "python",
   "pygments_lexer": "ipython3",
   "version": "3.8.10"
  }
 },
 "nbformat": 4,
 "nbformat_minor": 5
}
